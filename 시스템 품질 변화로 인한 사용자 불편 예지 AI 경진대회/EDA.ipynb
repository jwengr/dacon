{
  "nbformat": 4,
  "nbformat_minor": 0,
  "metadata": {
    "colab": {
      "name": "EDA1.ipynb",
      "provenance": [],
      "collapsed_sections": [],
      "machine_shape": "hm",
      "mount_file_id": "1NGOwPnUh8_uNwtouDgnpb2-1LptHF2qE",
      "authorship_tag": "ABX9TyMTGA3gAcA6tzyW70BKiIm5",
      "include_colab_link": true
    },
    "kernelspec": {
      "name": "python3",
      "display_name": "Python 3"
    }
  },
  "cells": [
    {
      "cell_type": "markdown",
      "metadata": {
        "id": "view-in-github",
        "colab_type": "text"
      },
      "source": [
        "<a href=\"https://colab.research.google.com/github/jwengr/dacon/blob/main/%EC%8B%9C%EC%8A%A4%ED%85%9C%20%ED%92%88%EC%A7%88%20%EB%B3%80%ED%99%94%EB%A1%9C%20%EC%9D%B8%ED%95%9C%20%EC%82%AC%EC%9A%A9%EC%9E%90%20%EB%B6%88%ED%8E%B8%20%EC%98%88%EC%A7%80%20AI%20%EA%B2%BD%EC%A7%84%EB%8C%80%ED%9A%8C/EDA.ipynb\" target=\"_parent\"><img src=\"https://colab.research.google.com/assets/colab-badge.svg\" alt=\"Open In Colab\"/></a>"
      ]
    },
    {
      "cell_type": "code",
      "metadata": {
        "id": "3A_4FcSqy3R5"
      },
      "source": [
        "#!unzip drive/My\\ Drive/dacon/lg/dataset/data.zip -d drive/My\\ Drive/dacon/lg/dataset"
      ],
      "execution_count": null,
      "outputs": []
    },
    {
      "cell_type": "code",
      "metadata": {
        "id": "2nrLxgfazXR6"
      },
      "source": [
        "!pip install pandas_profiling --upgrade"
      ],
      "execution_count": null,
      "outputs": []
    },
    {
      "cell_type": "code",
      "metadata": {
        "id": "oWia4eObzcC1"
      },
      "source": [
        "import pandas as pd\r\n",
        "import numpy as np\r\n",
        "import pandas_profiling as pp\r\n",
        "import matplotlib.pyplot as plt\r\n",
        "import seaborn as sns"
      ],
      "execution_count": null,
      "outputs": []
    },
    {
      "cell_type": "code",
      "metadata": {
        "id": "ldqvMGwbzgdR"
      },
      "source": [
        "#pd.options.mode.chained_assignment = None"
      ],
      "execution_count": null,
      "outputs": []
    },
    {
      "cell_type": "code",
      "metadata": {
        "id": "FJwWjvnZyw7L"
      },
      "source": [
        "defaultpath = 'drive/My Drive/dacon/lg'"
      ],
      "execution_count": null,
      "outputs": []
    },
    {
      "cell_type": "markdown",
      "metadata": {
        "id": "4DYqR9YrMYd7"
      },
      "source": [
        "그냥 csv를 읽을시 데이터 손실이 나기때문에(타입문제) str타입으로 읽어준다."
      ]
    },
    {
      "cell_type": "code",
      "metadata": {
        "id": "obMCaELqzM98"
      },
      "source": [
        "err_df= pd.read_csv(defaultpath+'/dataset/train_err_data.csv',encoding='utf-8',dtype=np.str)\r\n",
        "quality_df= pd.read_csv(defaultpath+'/dataset/train_quality_data.csv',encoding='utf-8',dtype=np.str)\r\n",
        "problem_df= pd.read_csv(defaultpath+'/dataset/train_problem_data.csv',encoding='utf-8',dtype=np.str)\r\n",
        "\r\n",
        "test_err_df= pd.read_csv(defaultpath+'/dataset/test_err_data.csv',encoding='utf-8',dtype=np.str)\r\n",
        "test_quality_df= pd.read_csv(defaultpath+'/dataset/test_quality_data.csv',encoding='utf-8',dtype=np.str)\r\n",
        "sample_submission= pd.read_csv(defaultpath+'/dataset/sample_submission.csv',encoding='utf-8',dtype=np.str)"
      ],
      "execution_count": null,
      "outputs": []
    },
    {
      "cell_type": "markdown",
      "metadata": {
        "id": "MjPXpyQOyvQf"
      },
      "source": [
        "pandas profiling이 메모리문제로 안됨-> 일단 데이터를 직접 확인하자"
      ]
    },
    {
      "cell_type": "code",
      "metadata": {
        "colab": {
          "base_uri": "https://localhost:8080/",
          "height": 204
        },
        "id": "hV5pzoda01pv",
        "outputId": "8b806275-97fb-4e26-caa9-e331627724de"
      },
      "source": [
        "problem_df.head()"
      ],
      "execution_count": null,
      "outputs": [
        {
          "output_type": "execute_result",
          "data": {
            "text/html": [
              "<div>\n",
              "<style scoped>\n",
              "    .dataframe tbody tr th:only-of-type {\n",
              "        vertical-align: middle;\n",
              "    }\n",
              "\n",
              "    .dataframe tbody tr th {\n",
              "        vertical-align: top;\n",
              "    }\n",
              "\n",
              "    .dataframe thead th {\n",
              "        text-align: right;\n",
              "    }\n",
              "</style>\n",
              "<table border=\"1\" class=\"dataframe\">\n",
              "  <thead>\n",
              "    <tr style=\"text-align: right;\">\n",
              "      <th></th>\n",
              "      <th>user_id</th>\n",
              "      <th>time</th>\n",
              "    </tr>\n",
              "  </thead>\n",
              "  <tbody>\n",
              "    <tr>\n",
              "      <th>0</th>\n",
              "      <td>19224</td>\n",
              "      <td>20201102200000</td>\n",
              "    </tr>\n",
              "    <tr>\n",
              "      <th>1</th>\n",
              "      <td>23664</td>\n",
              "      <td>20201116140000</td>\n",
              "    </tr>\n",
              "    <tr>\n",
              "      <th>2</th>\n",
              "      <td>15166</td>\n",
              "      <td>20201114130000</td>\n",
              "    </tr>\n",
              "    <tr>\n",
              "      <th>3</th>\n",
              "      <td>12590</td>\n",
              "      <td>20201108210000</td>\n",
              "    </tr>\n",
              "    <tr>\n",
              "      <th>4</th>\n",
              "      <td>15932</td>\n",
              "      <td>20201103210000</td>\n",
              "    </tr>\n",
              "  </tbody>\n",
              "</table>\n",
              "</div>"
            ],
            "text/plain": [
              "  user_id            time\n",
              "0   19224  20201102200000\n",
              "1   23664  20201116140000\n",
              "2   15166  20201114130000\n",
              "3   12590  20201108210000\n",
              "4   15932  20201103210000"
            ]
          },
          "metadata": {
            "tags": []
          },
          "execution_count": 6
        }
      ]
    },
    {
      "cell_type": "code",
      "metadata": {
        "colab": {
          "base_uri": "https://localhost:8080/",
          "height": 173
        },
        "id": "KdxYVjfk1Qao",
        "outputId": "bb238049-ec71-447d-c52c-e048a3d79795"
      },
      "source": [
        "problem_df.describe()"
      ],
      "execution_count": null,
      "outputs": [
        {
          "output_type": "execute_result",
          "data": {
            "text/html": [
              "<div>\n",
              "<style scoped>\n",
              "    .dataframe tbody tr th:only-of-type {\n",
              "        vertical-align: middle;\n",
              "    }\n",
              "\n",
              "    .dataframe tbody tr th {\n",
              "        vertical-align: top;\n",
              "    }\n",
              "\n",
              "    .dataframe thead th {\n",
              "        text-align: right;\n",
              "    }\n",
              "</style>\n",
              "<table border=\"1\" class=\"dataframe\">\n",
              "  <thead>\n",
              "    <tr style=\"text-align: right;\">\n",
              "      <th></th>\n",
              "      <th>user_id</th>\n",
              "      <th>time</th>\n",
              "    </tr>\n",
              "  </thead>\n",
              "  <tbody>\n",
              "    <tr>\n",
              "      <th>count</th>\n",
              "      <td>5429</td>\n",
              "      <td>5429</td>\n",
              "    </tr>\n",
              "    <tr>\n",
              "      <th>unique</th>\n",
              "      <td>5000</td>\n",
              "      <td>488</td>\n",
              "    </tr>\n",
              "    <tr>\n",
              "      <th>top</th>\n",
              "      <td>24407</td>\n",
              "      <td>20201130120000</td>\n",
              "    </tr>\n",
              "    <tr>\n",
              "      <th>freq</th>\n",
              "      <td>5</td>\n",
              "      <td>42</td>\n",
              "    </tr>\n",
              "  </tbody>\n",
              "</table>\n",
              "</div>"
            ],
            "text/plain": [
              "       user_id            time\n",
              "count     5429            5429\n",
              "unique    5000             488\n",
              "top      24407  20201130120000\n",
              "freq         5              42"
            ]
          },
          "metadata": {
            "tags": []
          },
          "execution_count": 7
        }
      ]
    },
    {
      "cell_type": "code",
      "metadata": {
        "colab": {
          "base_uri": "https://localhost:8080/"
        },
        "id": "d7_gUmobWhCt",
        "outputId": "43423752-b9d1-435e-94ef-aa86d00a7e6f"
      },
      "source": [
        "problem_df.isna().sum()"
      ],
      "execution_count": null,
      "outputs": [
        {
          "output_type": "execute_result",
          "data": {
            "text/plain": [
              "user_id    0\n",
              "time       0\n",
              "dtype: int64"
            ]
          },
          "metadata": {
            "tags": []
          },
          "execution_count": 8
        }
      ]
    },
    {
      "cell_type": "code",
      "metadata": {
        "colab": {
          "base_uri": "https://localhost:8080/",
          "height": 204
        },
        "id": "VCJ_1Pvb1oSU",
        "outputId": "1279c1e4-843f-4aff-b26a-60f4a09d1cf9"
      },
      "source": [
        "sample_submission.head()"
      ],
      "execution_count": null,
      "outputs": [
        {
          "output_type": "execute_result",
          "data": {
            "text/html": [
              "<div>\n",
              "<style scoped>\n",
              "    .dataframe tbody tr th:only-of-type {\n",
              "        vertical-align: middle;\n",
              "    }\n",
              "\n",
              "    .dataframe tbody tr th {\n",
              "        vertical-align: top;\n",
              "    }\n",
              "\n",
              "    .dataframe thead th {\n",
              "        text-align: right;\n",
              "    }\n",
              "</style>\n",
              "<table border=\"1\" class=\"dataframe\">\n",
              "  <thead>\n",
              "    <tr style=\"text-align: right;\">\n",
              "      <th></th>\n",
              "      <th>user_id</th>\n",
              "      <th>problem</th>\n",
              "    </tr>\n",
              "  </thead>\n",
              "  <tbody>\n",
              "    <tr>\n",
              "      <th>0</th>\n",
              "      <td>30000</td>\n",
              "      <td>0</td>\n",
              "    </tr>\n",
              "    <tr>\n",
              "      <th>1</th>\n",
              "      <td>30001</td>\n",
              "      <td>0</td>\n",
              "    </tr>\n",
              "    <tr>\n",
              "      <th>2</th>\n",
              "      <td>30002</td>\n",
              "      <td>0</td>\n",
              "    </tr>\n",
              "    <tr>\n",
              "      <th>3</th>\n",
              "      <td>30003</td>\n",
              "      <td>0</td>\n",
              "    </tr>\n",
              "    <tr>\n",
              "      <th>4</th>\n",
              "      <td>30004</td>\n",
              "      <td>0</td>\n",
              "    </tr>\n",
              "  </tbody>\n",
              "</table>\n",
              "</div>"
            ],
            "text/plain": [
              "  user_id problem\n",
              "0   30000       0\n",
              "1   30001       0\n",
              "2   30002       0\n",
              "3   30003       0\n",
              "4   30004       0"
            ]
          },
          "metadata": {
            "tags": []
          },
          "execution_count": 9
        }
      ]
    },
    {
      "cell_type": "code",
      "metadata": {
        "colab": {
          "base_uri": "https://localhost:8080/",
          "height": 173
        },
        "id": "hwp3Rv151rGa",
        "outputId": "41984693-1c07-4896-ff57-b5b979a913a3"
      },
      "source": [
        "sample_submission.describe()"
      ],
      "execution_count": null,
      "outputs": [
        {
          "output_type": "execute_result",
          "data": {
            "text/html": [
              "<div>\n",
              "<style scoped>\n",
              "    .dataframe tbody tr th:only-of-type {\n",
              "        vertical-align: middle;\n",
              "    }\n",
              "\n",
              "    .dataframe tbody tr th {\n",
              "        vertical-align: top;\n",
              "    }\n",
              "\n",
              "    .dataframe thead th {\n",
              "        text-align: right;\n",
              "    }\n",
              "</style>\n",
              "<table border=\"1\" class=\"dataframe\">\n",
              "  <thead>\n",
              "    <tr style=\"text-align: right;\">\n",
              "      <th></th>\n",
              "      <th>user_id</th>\n",
              "      <th>problem</th>\n",
              "    </tr>\n",
              "  </thead>\n",
              "  <tbody>\n",
              "    <tr>\n",
              "      <th>count</th>\n",
              "      <td>14999</td>\n",
              "      <td>14999</td>\n",
              "    </tr>\n",
              "    <tr>\n",
              "      <th>unique</th>\n",
              "      <td>14999</td>\n",
              "      <td>1</td>\n",
              "    </tr>\n",
              "    <tr>\n",
              "      <th>top</th>\n",
              "      <td>31645</td>\n",
              "      <td>0</td>\n",
              "    </tr>\n",
              "    <tr>\n",
              "      <th>freq</th>\n",
              "      <td>1</td>\n",
              "      <td>14999</td>\n",
              "    </tr>\n",
              "  </tbody>\n",
              "</table>\n",
              "</div>"
            ],
            "text/plain": [
              "       user_id problem\n",
              "count    14999   14999\n",
              "unique   14999       1\n",
              "top      31645       0\n",
              "freq         1   14999"
            ]
          },
          "metadata": {
            "tags": []
          },
          "execution_count": 10
        }
      ]
    },
    {
      "cell_type": "code",
      "metadata": {
        "colab": {
          "base_uri": "https://localhost:8080/",
          "height": 173
        },
        "id": "QHsMQspRY5PK",
        "outputId": "9699b5f6-192e-49c7-81e7-2269ebcedf32"
      },
      "source": [
        "err_df.describe()"
      ],
      "execution_count": null,
      "outputs": [
        {
          "output_type": "execute_result",
          "data": {
            "text/html": [
              "<div>\n",
              "<style scoped>\n",
              "    .dataframe tbody tr th:only-of-type {\n",
              "        vertical-align: middle;\n",
              "    }\n",
              "\n",
              "    .dataframe tbody tr th {\n",
              "        vertical-align: top;\n",
              "    }\n",
              "\n",
              "    .dataframe thead th {\n",
              "        text-align: right;\n",
              "    }\n",
              "</style>\n",
              "<table border=\"1\" class=\"dataframe\">\n",
              "  <thead>\n",
              "    <tr style=\"text-align: right;\">\n",
              "      <th></th>\n",
              "      <th>user_id</th>\n",
              "      <th>time</th>\n",
              "      <th>model_nm</th>\n",
              "      <th>fwver</th>\n",
              "      <th>errtype</th>\n",
              "      <th>errcode</th>\n",
              "    </tr>\n",
              "  </thead>\n",
              "  <tbody>\n",
              "    <tr>\n",
              "      <th>count</th>\n",
              "      <td>16554663</td>\n",
              "      <td>16554663</td>\n",
              "      <td>16554663</td>\n",
              "      <td>16554663</td>\n",
              "      <td>16554663</td>\n",
              "      <td>16554662</td>\n",
              "    </tr>\n",
              "    <tr>\n",
              "      <th>unique</th>\n",
              "      <td>15000</td>\n",
              "      <td>2566163</td>\n",
              "      <td>9</td>\n",
              "      <td>37</td>\n",
              "      <td>41</td>\n",
              "      <td>2805</td>\n",
              "    </tr>\n",
              "    <tr>\n",
              "      <th>top</th>\n",
              "      <td>24934</td>\n",
              "      <td>20201108023257</td>\n",
              "      <td>model_1</td>\n",
              "      <td>04.16.3553</td>\n",
              "      <td>23</td>\n",
              "      <td>1</td>\n",
              "    </tr>\n",
              "    <tr>\n",
              "      <th>freq</th>\n",
              "      <td>222186</td>\n",
              "      <td>631</td>\n",
              "      <td>5384491</td>\n",
              "      <td>5237816</td>\n",
              "      <td>2276515</td>\n",
              "      <td>8906967</td>\n",
              "    </tr>\n",
              "  </tbody>\n",
              "</table>\n",
              "</div>"
            ],
            "text/plain": [
              "         user_id            time  model_nm       fwver   errtype   errcode\n",
              "count   16554663        16554663  16554663    16554663  16554663  16554662\n",
              "unique     15000         2566163         9          37        41      2805\n",
              "top        24934  20201108023257   model_1  04.16.3553        23         1\n",
              "freq      222186             631   5384491     5237816   2276515   8906967"
            ]
          },
          "metadata": {
            "tags": []
          },
          "execution_count": 11
        }
      ]
    },
    {
      "cell_type": "code",
      "metadata": {
        "colab": {
          "base_uri": "https://localhost:8080/",
          "height": 204
        },
        "id": "mF2kjkBWUvZS",
        "outputId": "dc05a19d-d647-441e-e774-90c4c2e396a8"
      },
      "source": [
        "err_df.head()"
      ],
      "execution_count": null,
      "outputs": [
        {
          "output_type": "execute_result",
          "data": {
            "text/html": [
              "<div>\n",
              "<style scoped>\n",
              "    .dataframe tbody tr th:only-of-type {\n",
              "        vertical-align: middle;\n",
              "    }\n",
              "\n",
              "    .dataframe tbody tr th {\n",
              "        vertical-align: top;\n",
              "    }\n",
              "\n",
              "    .dataframe thead th {\n",
              "        text-align: right;\n",
              "    }\n",
              "</style>\n",
              "<table border=\"1\" class=\"dataframe\">\n",
              "  <thead>\n",
              "    <tr style=\"text-align: right;\">\n",
              "      <th></th>\n",
              "      <th>user_id</th>\n",
              "      <th>time</th>\n",
              "      <th>model_nm</th>\n",
              "      <th>fwver</th>\n",
              "      <th>errtype</th>\n",
              "      <th>errcode</th>\n",
              "    </tr>\n",
              "  </thead>\n",
              "  <tbody>\n",
              "    <tr>\n",
              "      <th>0</th>\n",
              "      <td>10000</td>\n",
              "      <td>20201101025616</td>\n",
              "      <td>model_3</td>\n",
              "      <td>05.15.2138</td>\n",
              "      <td>15</td>\n",
              "      <td>1</td>\n",
              "    </tr>\n",
              "    <tr>\n",
              "      <th>1</th>\n",
              "      <td>10000</td>\n",
              "      <td>20201101030309</td>\n",
              "      <td>model_3</td>\n",
              "      <td>05.15.2138</td>\n",
              "      <td>12</td>\n",
              "      <td>1</td>\n",
              "    </tr>\n",
              "    <tr>\n",
              "      <th>2</th>\n",
              "      <td>10000</td>\n",
              "      <td>20201101030309</td>\n",
              "      <td>model_3</td>\n",
              "      <td>05.15.2138</td>\n",
              "      <td>11</td>\n",
              "      <td>1</td>\n",
              "    </tr>\n",
              "    <tr>\n",
              "      <th>3</th>\n",
              "      <td>10000</td>\n",
              "      <td>20201101050514</td>\n",
              "      <td>model_3</td>\n",
              "      <td>05.15.2138</td>\n",
              "      <td>16</td>\n",
              "      <td>1</td>\n",
              "    </tr>\n",
              "    <tr>\n",
              "      <th>4</th>\n",
              "      <td>10000</td>\n",
              "      <td>20201101050515</td>\n",
              "      <td>model_3</td>\n",
              "      <td>05.15.2138</td>\n",
              "      <td>4</td>\n",
              "      <td>0</td>\n",
              "    </tr>\n",
              "  </tbody>\n",
              "</table>\n",
              "</div>"
            ],
            "text/plain": [
              "  user_id            time model_nm       fwver errtype errcode\n",
              "0   10000  20201101025616  model_3  05.15.2138      15       1\n",
              "1   10000  20201101030309  model_3  05.15.2138      12       1\n",
              "2   10000  20201101030309  model_3  05.15.2138      11       1\n",
              "3   10000  20201101050514  model_3  05.15.2138      16       1\n",
              "4   10000  20201101050515  model_3  05.15.2138       4       0"
            ]
          },
          "metadata": {
            "tags": []
          },
          "execution_count": 12
        }
      ]
    },
    {
      "cell_type": "code",
      "metadata": {
        "colab": {
          "base_uri": "https://localhost:8080/"
        },
        "id": "ozMaZsiGW5dj",
        "outputId": "f84f2c52-3caa-439d-da9a-fd66f8309ade"
      },
      "source": [
        "err_df.isna().sum()"
      ],
      "execution_count": null,
      "outputs": [
        {
          "output_type": "execute_result",
          "data": {
            "text/plain": [
              "user_id     0\n",
              "time        0\n",
              "model_nm    0\n",
              "fwver       0\n",
              "errtype     0\n",
              "errcode     1\n",
              "dtype: int64"
            ]
          },
          "metadata": {
            "tags": []
          },
          "execution_count": 13
        }
      ]
    },
    {
      "cell_type": "code",
      "metadata": {
        "colab": {
          "base_uri": "https://localhost:8080/",
          "height": 173
        },
        "id": "rfscbjUQ6jTY",
        "outputId": "92f255e0-addc-4fcc-8d37-170a95fe52e7"
      },
      "source": [
        "quality_df.describe()"
      ],
      "execution_count": null,
      "outputs": [
        {
          "output_type": "execute_result",
          "data": {
            "text/html": [
              "<div>\n",
              "<style scoped>\n",
              "    .dataframe tbody tr th:only-of-type {\n",
              "        vertical-align: middle;\n",
              "    }\n",
              "\n",
              "    .dataframe tbody tr th {\n",
              "        vertical-align: top;\n",
              "    }\n",
              "\n",
              "    .dataframe thead th {\n",
              "        text-align: right;\n",
              "    }\n",
              "</style>\n",
              "<table border=\"1\" class=\"dataframe\">\n",
              "  <thead>\n",
              "    <tr style=\"text-align: right;\">\n",
              "      <th></th>\n",
              "      <th>time</th>\n",
              "      <th>user_id</th>\n",
              "      <th>fwver</th>\n",
              "      <th>quality_0</th>\n",
              "      <th>quality_1</th>\n",
              "      <th>quality_2</th>\n",
              "      <th>quality_3</th>\n",
              "      <th>quality_4</th>\n",
              "      <th>quality_5</th>\n",
              "      <th>quality_6</th>\n",
              "      <th>quality_7</th>\n",
              "      <th>quality_8</th>\n",
              "      <th>quality_9</th>\n",
              "      <th>quality_10</th>\n",
              "      <th>quality_11</th>\n",
              "      <th>quality_12</th>\n",
              "    </tr>\n",
              "  </thead>\n",
              "  <tbody>\n",
              "    <tr>\n",
              "      <th>count</th>\n",
              "      <td>828624</td>\n",
              "      <td>828624</td>\n",
              "      <td>788544</td>\n",
              "      <td>684192</td>\n",
              "      <td>828624</td>\n",
              "      <td>788511</td>\n",
              "      <td>828624</td>\n",
              "      <td>828624</td>\n",
              "      <td>828604</td>\n",
              "      <td>828624</td>\n",
              "      <td>828624</td>\n",
              "      <td>828624</td>\n",
              "      <td>828624</td>\n",
              "      <td>828624</td>\n",
              "      <td>828624</td>\n",
              "      <td>828624</td>\n",
              "    </tr>\n",
              "    <tr>\n",
              "      <th>unique</th>\n",
              "      <td>4319</td>\n",
              "      <td>8281</td>\n",
              "      <td>27</td>\n",
              "      <td>753</td>\n",
              "      <td>31</td>\n",
              "      <td>798</td>\n",
              "      <td>1</td>\n",
              "      <td>1</td>\n",
              "      <td>4744</td>\n",
              "      <td>549</td>\n",
              "      <td>884</td>\n",
              "      <td>42</td>\n",
              "      <td>523</td>\n",
              "      <td>4200</td>\n",
              "      <td>12</td>\n",
              "      <td>14</td>\n",
              "    </tr>\n",
              "    <tr>\n",
              "      <th>top</th>\n",
              "      <td>20201110143000</td>\n",
              "      <td>15357</td>\n",
              "      <td>05.15.2138</td>\n",
              "      <td>0.0</td>\n",
              "      <td>0</td>\n",
              "      <td>0.0</td>\n",
              "      <td>0</td>\n",
              "      <td>0</td>\n",
              "      <td>0</td>\n",
              "      <td>0</td>\n",
              "      <td>0</td>\n",
              "      <td>0</td>\n",
              "      <td>0</td>\n",
              "      <td>3</td>\n",
              "      <td>0</td>\n",
              "      <td>0</td>\n",
              "    </tr>\n",
              "    <tr>\n",
              "      <th>freq</th>\n",
              "      <td>948</td>\n",
              "      <td>4224</td>\n",
              "      <td>163236</td>\n",
              "      <td>542790</td>\n",
              "      <td>670270</td>\n",
              "      <td>632469</td>\n",
              "      <td>828624</td>\n",
              "      <td>828624</td>\n",
              "      <td>428096</td>\n",
              "      <td>662217</td>\n",
              "      <td>757788</td>\n",
              "      <td>787812</td>\n",
              "      <td>796284</td>\n",
              "      <td>99828</td>\n",
              "      <td>672229</td>\n",
              "      <td>801156</td>\n",
              "    </tr>\n",
              "  </tbody>\n",
              "</table>\n",
              "</div>"
            ],
            "text/plain": [
              "                  time user_id       fwver  ... quality_10 quality_11 quality_12\n",
              "count           828624  828624      788544  ...     828624     828624     828624\n",
              "unique            4319    8281          27  ...       4200         12         14\n",
              "top     20201110143000   15357  05.15.2138  ...          3          0          0\n",
              "freq               948    4224      163236  ...      99828     672229     801156\n",
              "\n",
              "[4 rows x 16 columns]"
            ]
          },
          "metadata": {
            "tags": []
          },
          "execution_count": 14
        }
      ]
    },
    {
      "cell_type": "code",
      "metadata": {
        "colab": {
          "base_uri": "https://localhost:8080/",
          "height": 204
        },
        "id": "CAvNM-8B6ml9",
        "outputId": "b85d9065-e098-450a-c83e-3a0d9f799399"
      },
      "source": [
        "quality_df.head()"
      ],
      "execution_count": null,
      "outputs": [
        {
          "output_type": "execute_result",
          "data": {
            "text/html": [
              "<div>\n",
              "<style scoped>\n",
              "    .dataframe tbody tr th:only-of-type {\n",
              "        vertical-align: middle;\n",
              "    }\n",
              "\n",
              "    .dataframe tbody tr th {\n",
              "        vertical-align: top;\n",
              "    }\n",
              "\n",
              "    .dataframe thead th {\n",
              "        text-align: right;\n",
              "    }\n",
              "</style>\n",
              "<table border=\"1\" class=\"dataframe\">\n",
              "  <thead>\n",
              "    <tr style=\"text-align: right;\">\n",
              "      <th></th>\n",
              "      <th>time</th>\n",
              "      <th>user_id</th>\n",
              "      <th>fwver</th>\n",
              "      <th>quality_0</th>\n",
              "      <th>quality_1</th>\n",
              "      <th>quality_2</th>\n",
              "      <th>quality_3</th>\n",
              "      <th>quality_4</th>\n",
              "      <th>quality_5</th>\n",
              "      <th>quality_6</th>\n",
              "      <th>quality_7</th>\n",
              "      <th>quality_8</th>\n",
              "      <th>quality_9</th>\n",
              "      <th>quality_10</th>\n",
              "      <th>quality_11</th>\n",
              "      <th>quality_12</th>\n",
              "    </tr>\n",
              "  </thead>\n",
              "  <tbody>\n",
              "    <tr>\n",
              "      <th>0</th>\n",
              "      <td>20201129090000</td>\n",
              "      <td>10000</td>\n",
              "      <td>05.15.2138</td>\n",
              "      <td>0.0</td>\n",
              "      <td>0</td>\n",
              "      <td>0.0</td>\n",
              "      <td>0</td>\n",
              "      <td>0</td>\n",
              "      <td>0</td>\n",
              "      <td>0</td>\n",
              "      <td>0</td>\n",
              "      <td>0</td>\n",
              "      <td>0</td>\n",
              "      <td>4</td>\n",
              "      <td>0</td>\n",
              "      <td>0</td>\n",
              "    </tr>\n",
              "    <tr>\n",
              "      <th>1</th>\n",
              "      <td>20201129090000</td>\n",
              "      <td>10000</td>\n",
              "      <td>05.15.2138</td>\n",
              "      <td>0.0</td>\n",
              "      <td>0</td>\n",
              "      <td>0.0</td>\n",
              "      <td>0</td>\n",
              "      <td>0</td>\n",
              "      <td>0</td>\n",
              "      <td>0</td>\n",
              "      <td>0</td>\n",
              "      <td>0</td>\n",
              "      <td>0</td>\n",
              "      <td>4</td>\n",
              "      <td>0</td>\n",
              "      <td>0</td>\n",
              "    </tr>\n",
              "    <tr>\n",
              "      <th>2</th>\n",
              "      <td>20201129090000</td>\n",
              "      <td>10000</td>\n",
              "      <td>05.15.2138</td>\n",
              "      <td>0.0</td>\n",
              "      <td>0</td>\n",
              "      <td>0.0</td>\n",
              "      <td>0</td>\n",
              "      <td>0</td>\n",
              "      <td>0</td>\n",
              "      <td>0</td>\n",
              "      <td>0</td>\n",
              "      <td>0</td>\n",
              "      <td>0</td>\n",
              "      <td>4</td>\n",
              "      <td>0</td>\n",
              "      <td>0</td>\n",
              "    </tr>\n",
              "    <tr>\n",
              "      <th>3</th>\n",
              "      <td>20201129090000</td>\n",
              "      <td>10000</td>\n",
              "      <td>05.15.2138</td>\n",
              "      <td>0.0</td>\n",
              "      <td>0</td>\n",
              "      <td>0.0</td>\n",
              "      <td>0</td>\n",
              "      <td>0</td>\n",
              "      <td>0</td>\n",
              "      <td>0</td>\n",
              "      <td>0</td>\n",
              "      <td>0</td>\n",
              "      <td>0</td>\n",
              "      <td>4</td>\n",
              "      <td>0</td>\n",
              "      <td>0</td>\n",
              "    </tr>\n",
              "    <tr>\n",
              "      <th>4</th>\n",
              "      <td>20201129090000</td>\n",
              "      <td>10000</td>\n",
              "      <td>05.15.2138</td>\n",
              "      <td>0.0</td>\n",
              "      <td>0</td>\n",
              "      <td>0.0</td>\n",
              "      <td>0</td>\n",
              "      <td>0</td>\n",
              "      <td>0</td>\n",
              "      <td>0</td>\n",
              "      <td>0</td>\n",
              "      <td>0</td>\n",
              "      <td>0</td>\n",
              "      <td>4</td>\n",
              "      <td>0</td>\n",
              "      <td>0</td>\n",
              "    </tr>\n",
              "  </tbody>\n",
              "</table>\n",
              "</div>"
            ],
            "text/plain": [
              "             time user_id       fwver  ... quality_10 quality_11 quality_12\n",
              "0  20201129090000   10000  05.15.2138  ...          4          0          0\n",
              "1  20201129090000   10000  05.15.2138  ...          4          0          0\n",
              "2  20201129090000   10000  05.15.2138  ...          4          0          0\n",
              "3  20201129090000   10000  05.15.2138  ...          4          0          0\n",
              "4  20201129090000   10000  05.15.2138  ...          4          0          0\n",
              "\n",
              "[5 rows x 16 columns]"
            ]
          },
          "metadata": {
            "tags": []
          },
          "execution_count": 15
        }
      ]
    },
    {
      "cell_type": "code",
      "metadata": {
        "colab": {
          "base_uri": "https://localhost:8080/"
        },
        "id": "wF4pwZsbXDdi",
        "outputId": "c7d0db8b-317a-4a35-d3bb-94ddd46ef651"
      },
      "source": [
        "quality_df.isna().sum()"
      ],
      "execution_count": null,
      "outputs": [
        {
          "output_type": "execute_result",
          "data": {
            "text/plain": [
              "time               0\n",
              "user_id            0\n",
              "fwver          40080\n",
              "quality_0     144432\n",
              "quality_1          0\n",
              "quality_2      40113\n",
              "quality_3          0\n",
              "quality_4          0\n",
              "quality_5         20\n",
              "quality_6          0\n",
              "quality_7          0\n",
              "quality_8          0\n",
              "quality_9          0\n",
              "quality_10         0\n",
              "quality_11         0\n",
              "quality_12         0\n",
              "dtype: int64"
            ]
          },
          "metadata": {
            "tags": []
          },
          "execution_count": 16
        }
      ]
    },
    {
      "cell_type": "markdown",
      "metadata": {
        "id": "3hFaP5tGXNI6"
      },
      "source": [
        "quality data의 nan 값이 상당히 많기 때문에 이를 잘 처리해야한다."
      ]
    },
    {
      "cell_type": "markdown",
      "metadata": {
        "id": "kAj0D8TQ1EJY"
      },
      "source": [
        "problem data : 5000명의 유저가 에러를 신고한 시간이다. \r\n",
        "5000명의 유저가 신고했지만 기간은 480에 불과하다.\r\n",
        "즉 같은 시간대에 여러 유저들이 불편함을 느끼고 신고하였다.\r\n",
        "sample submission : 14999 유저의 에러신고여부를 예측해야한다\r\n",
        "err data : 15000명의 유저가 에러를 겪은 시간대와 그 에러종류, 모델, 버전정보가 있다. 한명의 유저가 여러시간대에 여러 에러를 겪는다.\r\n",
        "quality data : 4319의 시간기간에 시스템 퀄리티의 정보와 사용한 유저가 있다."
      ]
    },
    {
      "cell_type": "markdown",
      "metadata": {
        "id": "uOMasKfNQPCC"
      },
      "source": [
        "problem data 분석"
      ]
    },
    {
      "cell_type": "code",
      "metadata": {
        "id": "vdDqrvR8QRRr"
      },
      "source": [
        "problem_df['year'] = problem_df['time'].apply(lambda x: x[:4])\r\n",
        "problem_df['month'] = problem_df['time'].apply(lambda x:  x[4:6])\r\n",
        "problem_df['day'] = problem_df['time'].apply(lambda x: x[6:8])\r\n",
        "problem_df['hour'] = problem_df['time'].apply(lambda x: x[8:10])\r\n",
        "problem_df['mmss'] = problem_df['time'].apply(lambda x: x[10:]) "
      ],
      "execution_count": null,
      "outputs": []
    },
    {
      "cell_type": "code",
      "metadata": {
        "colab": {
          "base_uri": "https://localhost:8080/",
          "height": 173
        },
        "id": "yP8LzXDmROHA",
        "outputId": "d9c8a639-d4c6-4ab3-defb-7dbf30f2de9b"
      },
      "source": [
        "problem_df.describe()"
      ],
      "execution_count": null,
      "outputs": [
        {
          "output_type": "execute_result",
          "data": {
            "text/html": [
              "<div>\n",
              "<style scoped>\n",
              "    .dataframe tbody tr th:only-of-type {\n",
              "        vertical-align: middle;\n",
              "    }\n",
              "\n",
              "    .dataframe tbody tr th {\n",
              "        vertical-align: top;\n",
              "    }\n",
              "\n",
              "    .dataframe thead th {\n",
              "        text-align: right;\n",
              "    }\n",
              "</style>\n",
              "<table border=\"1\" class=\"dataframe\">\n",
              "  <thead>\n",
              "    <tr style=\"text-align: right;\">\n",
              "      <th></th>\n",
              "      <th>user_id</th>\n",
              "      <th>time</th>\n",
              "      <th>year</th>\n",
              "      <th>month</th>\n",
              "      <th>day</th>\n",
              "      <th>hour</th>\n",
              "      <th>mmss</th>\n",
              "    </tr>\n",
              "  </thead>\n",
              "  <tbody>\n",
              "    <tr>\n",
              "      <th>count</th>\n",
              "      <td>5429</td>\n",
              "      <td>5429</td>\n",
              "      <td>5429</td>\n",
              "      <td>5429</td>\n",
              "      <td>5429</td>\n",
              "      <td>5429</td>\n",
              "      <td>5429</td>\n",
              "    </tr>\n",
              "    <tr>\n",
              "      <th>unique</th>\n",
              "      <td>5000</td>\n",
              "      <td>488</td>\n",
              "      <td>1</td>\n",
              "      <td>1</td>\n",
              "      <td>30</td>\n",
              "      <td>24</td>\n",
              "      <td>1</td>\n",
              "    </tr>\n",
              "    <tr>\n",
              "      <th>top</th>\n",
              "      <td>24407</td>\n",
              "      <td>20201130120000</td>\n",
              "      <td>2020</td>\n",
              "      <td>11</td>\n",
              "      <td>30</td>\n",
              "      <td>12</td>\n",
              "      <td>0000</td>\n",
              "    </tr>\n",
              "    <tr>\n",
              "      <th>freq</th>\n",
              "      <td>5</td>\n",
              "      <td>42</td>\n",
              "      <td>5429</td>\n",
              "      <td>5429</td>\n",
              "      <td>287</td>\n",
              "      <td>627</td>\n",
              "      <td>5429</td>\n",
              "    </tr>\n",
              "  </tbody>\n",
              "</table>\n",
              "</div>"
            ],
            "text/plain": [
              "       user_id            time  year month   day  hour  mmss\n",
              "count     5429            5429  5429  5429  5429  5429  5429\n",
              "unique    5000             488     1     1    30    24     1\n",
              "top      24407  20201130120000  2020    11    30    12  0000\n",
              "freq         5              42  5429  5429   287   627  5429"
            ]
          },
          "metadata": {
            "tags": []
          },
          "execution_count": 18
        }
      ]
    },
    {
      "cell_type": "markdown",
      "metadata": {
        "id": "VINp0iw1SAvX"
      },
      "source": [
        "problem data는 2020년 11월 한달동안의 에러를 겪은 유저이다.\r\n",
        "즉 11월 한달동안 에러를 신고한 유저를 예측해야 한다.\r\n",
        "mmss는 기록되지 않는다.  유저의 id구간은 10001~24998이다.\r\n",
        "한 유저가 한달동안에 여러 에러를 겪어서 여러번 신고할 수 도 있지만, 여러번 신고하더라도 1번으로 기록된다.단순 0 1 정확도 분석보다는 여러 모델의 Cross entropy를 ensemble한 것이 좋을것 같다는 생각."
      ]
    },
    {
      "cell_type": "markdown",
      "metadata": {
        "id": "aSYvz0UeStzO"
      },
      "source": [
        "err data 분석"
      ]
    },
    {
      "cell_type": "code",
      "metadata": {
        "id": "6JU5HEvaS2lB"
      },
      "source": [
        "err_df['year'] = err_df['time'].apply(lambda x: x[:4])\r\n",
        "err_df['month'] = err_df['time'].apply(lambda x:  x[4:6])\r\n",
        "err_df['day'] = err_df['time'].apply(lambda x: x[6:8])\r\n",
        "err_df['hour'] = err_df['time'].apply(lambda x: x[8:10])\r\n",
        "err_df['mmss'] = err_df['time'].apply(lambda x: x[10:]) "
      ],
      "execution_count": null,
      "outputs": []
    },
    {
      "cell_type": "code",
      "metadata": {
        "colab": {
          "base_uri": "https://localhost:8080/",
          "height": 173
        },
        "id": "b4qznsSSTdhV",
        "outputId": "097c5718-e95f-4f68-db37-ac0bd9f54fb5"
      },
      "source": [
        "err_df.describe()"
      ],
      "execution_count": null,
      "outputs": [
        {
          "output_type": "execute_result",
          "data": {
            "text/html": [
              "<div>\n",
              "<style scoped>\n",
              "    .dataframe tbody tr th:only-of-type {\n",
              "        vertical-align: middle;\n",
              "    }\n",
              "\n",
              "    .dataframe tbody tr th {\n",
              "        vertical-align: top;\n",
              "    }\n",
              "\n",
              "    .dataframe thead th {\n",
              "        text-align: right;\n",
              "    }\n",
              "</style>\n",
              "<table border=\"1\" class=\"dataframe\">\n",
              "  <thead>\n",
              "    <tr style=\"text-align: right;\">\n",
              "      <th></th>\n",
              "      <th>user_id</th>\n",
              "      <th>time</th>\n",
              "      <th>model_nm</th>\n",
              "      <th>fwver</th>\n",
              "      <th>errtype</th>\n",
              "      <th>errcode</th>\n",
              "      <th>year</th>\n",
              "      <th>month</th>\n",
              "      <th>day</th>\n",
              "      <th>hour</th>\n",
              "      <th>mmss</th>\n",
              "    </tr>\n",
              "  </thead>\n",
              "  <tbody>\n",
              "    <tr>\n",
              "      <th>count</th>\n",
              "      <td>16554663</td>\n",
              "      <td>16554663</td>\n",
              "      <td>16554663</td>\n",
              "      <td>16554663</td>\n",
              "      <td>16554663</td>\n",
              "      <td>16554662</td>\n",
              "      <td>16554663</td>\n",
              "      <td>16554663</td>\n",
              "      <td>16554663</td>\n",
              "      <td>16554663</td>\n",
              "      <td>16554663</td>\n",
              "    </tr>\n",
              "    <tr>\n",
              "      <th>unique</th>\n",
              "      <td>15000</td>\n",
              "      <td>2566163</td>\n",
              "      <td>9</td>\n",
              "      <td>37</td>\n",
              "      <td>41</td>\n",
              "      <td>2805</td>\n",
              "      <td>1</td>\n",
              "      <td>3</td>\n",
              "      <td>31</td>\n",
              "      <td>24</td>\n",
              "      <td>3600</td>\n",
              "    </tr>\n",
              "    <tr>\n",
              "      <th>top</th>\n",
              "      <td>24934</td>\n",
              "      <td>20201108023257</td>\n",
              "      <td>model_1</td>\n",
              "      <td>04.16.3553</td>\n",
              "      <td>23</td>\n",
              "      <td>1</td>\n",
              "      <td>2020</td>\n",
              "      <td>11</td>\n",
              "      <td>21</td>\n",
              "      <td>19</td>\n",
              "      <td>0008</td>\n",
              "    </tr>\n",
              "    <tr>\n",
              "      <th>freq</th>\n",
              "      <td>222186</td>\n",
              "      <td>631</td>\n",
              "      <td>5384491</td>\n",
              "      <td>5237816</td>\n",
              "      <td>2276515</td>\n",
              "      <td>8906967</td>\n",
              "      <td>16554663</td>\n",
              "      <td>16554577</td>\n",
              "      <td>649909</td>\n",
              "      <td>899350</td>\n",
              "      <td>5377</td>\n",
              "    </tr>\n",
              "  </tbody>\n",
              "</table>\n",
              "</div>"
            ],
            "text/plain": [
              "         user_id            time  model_nm  ...       day      hour      mmss\n",
              "count   16554663        16554663  16554663  ...  16554663  16554663  16554663\n",
              "unique     15000         2566163         9  ...        31        24      3600\n",
              "top        24934  20201108023257   model_1  ...        21        19      0008\n",
              "freq      222186             631   5384491  ...    649909    899350      5377\n",
              "\n",
              "[4 rows x 11 columns]"
            ]
          },
          "metadata": {
            "tags": []
          },
          "execution_count": 20
        }
      ]
    },
    {
      "cell_type": "markdown",
      "metadata": {
        "id": "Dmnx3YdNT8Hr"
      },
      "source": [
        "err data 도 2020년인건 동일하지만 11월을 전후로 3달간의 데이터입니다."
      ]
    },
    {
      "cell_type": "code",
      "metadata": {
        "colab": {
          "base_uri": "https://localhost:8080/"
        },
        "id": "pKg0zIpIXvnr",
        "outputId": "1a34119a-3034-40e0-b0cd-9c7009b164c1"
      },
      "source": [
        "err_df['time'].astype(int).describe().astype(int)"
      ],
      "execution_count": null,
      "outputs": [
        {
          "output_type": "execute_result",
          "data": {
            "text/plain": [
              "count          16554663\n",
              "mean     20201115695081\n",
              "std             8664375\n",
              "min      20201031235959\n",
              "25%      20201108122625\n",
              "50%      20201116030018\n",
              "75%      20201123135610\n",
              "max      20201202185152\n",
              "Name: time, dtype: int64"
            ]
          },
          "metadata": {
            "tags": []
          },
          "execution_count": 21
        }
      ]
    },
    {
      "cell_type": "markdown",
      "metadata": {
        "id": "r-D3wKD-VbF0"
      },
      "source": [
        "err data는 10월말부터 12월초까지의 데이터 입니다.\r\n",
        "다른 날짜들의 데이터가 도움이 될까요?\r\n",
        "일단 11월의 데이터만 살펴보겠습니다."
      ]
    },
    {
      "cell_type": "code",
      "metadata": {
        "colab": {
          "base_uri": "https://localhost:8080/",
          "height": 173
        },
        "id": "XjngH-apSwrc",
        "outputId": "79005c0c-e795-470b-fb7e-2e9efd736eae"
      },
      "source": [
        "err_df[err_df['time'].str.contains('202011.{8}')].describe()"
      ],
      "execution_count": null,
      "outputs": [
        {
          "output_type": "execute_result",
          "data": {
            "text/html": [
              "<div>\n",
              "<style scoped>\n",
              "    .dataframe tbody tr th:only-of-type {\n",
              "        vertical-align: middle;\n",
              "    }\n",
              "\n",
              "    .dataframe tbody tr th {\n",
              "        vertical-align: top;\n",
              "    }\n",
              "\n",
              "    .dataframe thead th {\n",
              "        text-align: right;\n",
              "    }\n",
              "</style>\n",
              "<table border=\"1\" class=\"dataframe\">\n",
              "  <thead>\n",
              "    <tr style=\"text-align: right;\">\n",
              "      <th></th>\n",
              "      <th>user_id</th>\n",
              "      <th>time</th>\n",
              "      <th>model_nm</th>\n",
              "      <th>fwver</th>\n",
              "      <th>errtype</th>\n",
              "      <th>errcode</th>\n",
              "      <th>year</th>\n",
              "      <th>month</th>\n",
              "      <th>day</th>\n",
              "      <th>hour</th>\n",
              "      <th>mmss</th>\n",
              "    </tr>\n",
              "  </thead>\n",
              "  <tbody>\n",
              "    <tr>\n",
              "      <th>count</th>\n",
              "      <td>16554577</td>\n",
              "      <td>16554577</td>\n",
              "      <td>16554577</td>\n",
              "      <td>16554577</td>\n",
              "      <td>16554577</td>\n",
              "      <td>16554576</td>\n",
              "      <td>16554577</td>\n",
              "      <td>16554577</td>\n",
              "      <td>16554577</td>\n",
              "      <td>16554577</td>\n",
              "      <td>16554577</td>\n",
              "    </tr>\n",
              "    <tr>\n",
              "      <th>unique</th>\n",
              "      <td>15000</td>\n",
              "      <td>2566096</td>\n",
              "      <td>9</td>\n",
              "      <td>37</td>\n",
              "      <td>41</td>\n",
              "      <td>2805</td>\n",
              "      <td>1</td>\n",
              "      <td>1</td>\n",
              "      <td>30</td>\n",
              "      <td>24</td>\n",
              "      <td>3600</td>\n",
              "    </tr>\n",
              "    <tr>\n",
              "      <th>top</th>\n",
              "      <td>24934</td>\n",
              "      <td>20201108023257</td>\n",
              "      <td>model_1</td>\n",
              "      <td>04.16.3553</td>\n",
              "      <td>23</td>\n",
              "      <td>1</td>\n",
              "      <td>2020</td>\n",
              "      <td>11</td>\n",
              "      <td>21</td>\n",
              "      <td>19</td>\n",
              "      <td>0008</td>\n",
              "    </tr>\n",
              "    <tr>\n",
              "      <th>freq</th>\n",
              "      <td>222186</td>\n",
              "      <td>631</td>\n",
              "      <td>5384470</td>\n",
              "      <td>5237795</td>\n",
              "      <td>2276513</td>\n",
              "      <td>8906919</td>\n",
              "      <td>16554577</td>\n",
              "      <td>16554577</td>\n",
              "      <td>649909</td>\n",
              "      <td>899349</td>\n",
              "      <td>5377</td>\n",
              "    </tr>\n",
              "  </tbody>\n",
              "</table>\n",
              "</div>"
            ],
            "text/plain": [
              "         user_id            time  model_nm  ...       day      hour      mmss\n",
              "count   16554577        16554577  16554577  ...  16554577  16554577  16554577\n",
              "unique     15000         2566096         9  ...        30        24      3600\n",
              "top        24934  20201108023257   model_1  ...        21        19      0008\n",
              "freq      222186             631   5384470  ...    649909    899349      5377\n",
              "\n",
              "[4 rows x 11 columns]"
            ]
          },
          "metadata": {
            "tags": []
          },
          "execution_count": 22
        }
      ]
    },
    {
      "cell_type": "markdown",
      "metadata": {
        "id": "nNQym9ttgCsr"
      },
      "source": [
        "err_df에서\r\n",
        "11월 총 유저는 16554577 이고 중복을 제거하면\r\n",
        "15000명의 유저가 에러를 겪었다.\r\n",
        "그중 5천명이 에러를 신고하였습니다."
      ]
    },
    {
      "cell_type": "markdown",
      "metadata": {
        "id": "2XysKym9oa_R"
      },
      "source": [
        "각 유저들의 에러 경험 수를 컬럼으로 만들고 완전중복인 행을 제거합니다."
      ]
    },
    {
      "cell_type": "markdown",
      "metadata": {
        "id": "89v6GrsJojqB"
      },
      "source": [
        "한달동안의 데이터가 있고 이 데이터를 0 ,1 로 분류하는 방법을 설계해 봅시다.\r\n",
        "1.시계열 분석(rnn 히든마르코프 등) 딥러닝, 머신러닝\r\n",
        "2.한달의 데이터의 요약 : 고전적, 머신러닝, 금융공학\r\n",
        "3.완전중복만 제거 후 머신러닝(기본)\r\n",
        "\r\n",
        "10월 말과 12월초의 데이터에 0,1을 부여하여 학습에 사용 할  수도 있습니다->몬테카를로(시계열),머신러닝 등"
      ]
    },
    {
      "cell_type": "markdown",
      "metadata": {
        "id": "FivVObj3_sTY"
      },
      "source": [
        "quality data 분석"
      ]
    },
    {
      "cell_type": "code",
      "metadata": {
        "id": "zyzAGbGAAFbc"
      },
      "source": [
        "quality_df['year'] = quality_df['time'].apply(lambda x: x[:4])\r\n",
        "quality_df['month'] = quality_df['time'].apply(lambda x:  x[4:6])\r\n",
        "quality_df['day'] = quality_df['time'].apply(lambda x: x[6:8])\r\n",
        "quality_df['hour'] = quality_df['time'].apply(lambda x: x[8:10])\r\n",
        "quality_df['mmss'] = quality_df['time'].apply(lambda x: x[10:]) "
      ],
      "execution_count": null,
      "outputs": []
    },
    {
      "cell_type": "code",
      "metadata": {
        "colab": {
          "base_uri": "https://localhost:8080/",
          "height": 173
        },
        "id": "Pj3B5oo-AVDz",
        "outputId": "770ec557-118f-4fe6-9a60-3cf0da52f2f2"
      },
      "source": [
        "quality_df.describe()"
      ],
      "execution_count": null,
      "outputs": [
        {
          "output_type": "execute_result",
          "data": {
            "text/html": [
              "<div>\n",
              "<style scoped>\n",
              "    .dataframe tbody tr th:only-of-type {\n",
              "        vertical-align: middle;\n",
              "    }\n",
              "\n",
              "    .dataframe tbody tr th {\n",
              "        vertical-align: top;\n",
              "    }\n",
              "\n",
              "    .dataframe thead th {\n",
              "        text-align: right;\n",
              "    }\n",
              "</style>\n",
              "<table border=\"1\" class=\"dataframe\">\n",
              "  <thead>\n",
              "    <tr style=\"text-align: right;\">\n",
              "      <th></th>\n",
              "      <th>time</th>\n",
              "      <th>user_id</th>\n",
              "      <th>fwver</th>\n",
              "      <th>quality_0</th>\n",
              "      <th>quality_1</th>\n",
              "      <th>quality_2</th>\n",
              "      <th>quality_3</th>\n",
              "      <th>quality_4</th>\n",
              "      <th>quality_5</th>\n",
              "      <th>quality_6</th>\n",
              "      <th>quality_7</th>\n",
              "      <th>quality_8</th>\n",
              "      <th>quality_9</th>\n",
              "      <th>quality_10</th>\n",
              "      <th>quality_11</th>\n",
              "      <th>quality_12</th>\n",
              "      <th>year</th>\n",
              "      <th>month</th>\n",
              "      <th>day</th>\n",
              "      <th>hour</th>\n",
              "      <th>mmss</th>\n",
              "    </tr>\n",
              "  </thead>\n",
              "  <tbody>\n",
              "    <tr>\n",
              "      <th>count</th>\n",
              "      <td>828624</td>\n",
              "      <td>828624</td>\n",
              "      <td>788544</td>\n",
              "      <td>684192</td>\n",
              "      <td>828624</td>\n",
              "      <td>788511</td>\n",
              "      <td>828624</td>\n",
              "      <td>828624</td>\n",
              "      <td>828604</td>\n",
              "      <td>828624</td>\n",
              "      <td>828624</td>\n",
              "      <td>828624</td>\n",
              "      <td>828624</td>\n",
              "      <td>828624</td>\n",
              "      <td>828624</td>\n",
              "      <td>828624</td>\n",
              "      <td>828624</td>\n",
              "      <td>828624</td>\n",
              "      <td>828624</td>\n",
              "      <td>828624</td>\n",
              "      <td>828624</td>\n",
              "    </tr>\n",
              "    <tr>\n",
              "      <th>unique</th>\n",
              "      <td>4319</td>\n",
              "      <td>8281</td>\n",
              "      <td>27</td>\n",
              "      <td>753</td>\n",
              "      <td>31</td>\n",
              "      <td>798</td>\n",
              "      <td>1</td>\n",
              "      <td>1</td>\n",
              "      <td>4744</td>\n",
              "      <td>549</td>\n",
              "      <td>884</td>\n",
              "      <td>42</td>\n",
              "      <td>523</td>\n",
              "      <td>4200</td>\n",
              "      <td>12</td>\n",
              "      <td>14</td>\n",
              "      <td>1</td>\n",
              "      <td>2</td>\n",
              "      <td>31</td>\n",
              "      <td>24</td>\n",
              "      <td>6</td>\n",
              "    </tr>\n",
              "    <tr>\n",
              "      <th>top</th>\n",
              "      <td>20201110143000</td>\n",
              "      <td>15357</td>\n",
              "      <td>05.15.2138</td>\n",
              "      <td>0.0</td>\n",
              "      <td>0</td>\n",
              "      <td>0.0</td>\n",
              "      <td>0</td>\n",
              "      <td>0</td>\n",
              "      <td>0</td>\n",
              "      <td>0</td>\n",
              "      <td>0</td>\n",
              "      <td>0</td>\n",
              "      <td>0</td>\n",
              "      <td>3</td>\n",
              "      <td>0</td>\n",
              "      <td>0</td>\n",
              "      <td>2020</td>\n",
              "      <td>11</td>\n",
              "      <td>08</td>\n",
              "      <td>22</td>\n",
              "      <td>2000</td>\n",
              "    </tr>\n",
              "    <tr>\n",
              "      <th>freq</th>\n",
              "      <td>948</td>\n",
              "      <td>4224</td>\n",
              "      <td>163236</td>\n",
              "      <td>542790</td>\n",
              "      <td>670270</td>\n",
              "      <td>632469</td>\n",
              "      <td>828624</td>\n",
              "      <td>828624</td>\n",
              "      <td>428096</td>\n",
              "      <td>662217</td>\n",
              "      <td>757788</td>\n",
              "      <td>787812</td>\n",
              "      <td>796284</td>\n",
              "      <td>99828</td>\n",
              "      <td>672229</td>\n",
              "      <td>801156</td>\n",
              "      <td>828624</td>\n",
              "      <td>828408</td>\n",
              "      <td>33996</td>\n",
              "      <td>59352</td>\n",
              "      <td>151224</td>\n",
              "    </tr>\n",
              "  </tbody>\n",
              "</table>\n",
              "</div>"
            ],
            "text/plain": [
              "                  time user_id       fwver  ...     day    hour    mmss\n",
              "count           828624  828624      788544  ...  828624  828624  828624\n",
              "unique            4319    8281          27  ...      31      24       6\n",
              "top     20201110143000   15357  05.15.2138  ...      08      22    2000\n",
              "freq               948    4224      163236  ...   33996   59352  151224\n",
              "\n",
              "[4 rows x 21 columns]"
            ]
          },
          "metadata": {
            "tags": []
          },
          "execution_count": 24
        }
      ]
    },
    {
      "cell_type": "code",
      "metadata": {
        "colab": {
          "base_uri": "https://localhost:8080/"
        },
        "id": "ppNyDg14AfPv",
        "outputId": "55da1860-9dd4-4c11-f422-2c4c0181d20b"
      },
      "source": [
        "quality_df['time'].astype(int).describe().astype(int)"
      ],
      "execution_count": null,
      "outputs": [
        {
          "output_type": "execute_result",
          "data": {
            "text/plain": [
              "count            828624\n",
              "mean     20201115421121\n",
              "std             8863638\n",
              "min      20201031235000\n",
              "25%      20201108102750\n",
              "50%      20201115182500\n",
              "75%      20201123131000\n",
              "max      20201130234000\n",
              "Name: time, dtype: int64"
            ]
          },
          "metadata": {
            "tags": []
          },
          "execution_count": 25
        }
      ]
    },
    {
      "cell_type": "markdown",
      "metadata": {
        "id": "McfReeCzAixi"
      },
      "source": [
        "quality data는 2020년 10월 11일부터 2020년 11월 30일 23시까지의 로그를 가지고 있다."
      ]
    },
    {
      "cell_type": "code",
      "metadata": {
        "id": "oNk7hLB0UAOv"
      },
      "source": [
        "quality_ppdf = quality_df[quality_df['time'].str.contains('202011.{8}')].drop(['time','year','month','day','mmss'],axis=1)"
      ],
      "execution_count": null,
      "outputs": []
    },
    {
      "cell_type": "code",
      "metadata": {
        "colab": {
          "base_uri": "https://localhost:8080/"
        },
        "id": "aHEyOTtaWKJF",
        "outputId": "0f5d8f03-360b-4dae-ebf3-65231426b81a"
      },
      "source": [
        "quality_ppdf.isna().sum()"
      ],
      "execution_count": null,
      "outputs": [
        {
          "output_type": "execute_result",
          "data": {
            "text/plain": [
              "user_id            0\n",
              "fwver          40068\n",
              "quality_0     144420\n",
              "quality_1          0\n",
              "quality_2      40101\n",
              "quality_3          0\n",
              "quality_4          0\n",
              "quality_5         20\n",
              "quality_6          0\n",
              "quality_7          0\n",
              "quality_8          0\n",
              "quality_9          0\n",
              "quality_10         0\n",
              "quality_11         0\n",
              "quality_12         0\n",
              "hour               0\n",
              "dtype: int64"
            ]
          },
          "metadata": {
            "tags": []
          },
          "execution_count": 27
        }
      ]
    },
    {
      "cell_type": "markdown",
      "metadata": {
        "id": "setFeVDOLl-A"
      },
      "source": [
        "nan 값이 발생한 row만 살펴보겠습니다."
      ]
    },
    {
      "cell_type": "code",
      "metadata": {
        "colab": {
          "base_uri": "https://localhost:8080/",
          "height": 173
        },
        "id": "wDjkMM6FLmgH",
        "outputId": "5d5f4f99-50b5-4de0-9479-f0c1daa4ac8e"
      },
      "source": [
        "quality_df[quality_df.isna().sum(axis=1)>0].describe()"
      ],
      "execution_count": null,
      "outputs": [
        {
          "output_type": "execute_result",
          "data": {
            "text/html": [
              "<div>\n",
              "<style scoped>\n",
              "    .dataframe tbody tr th:only-of-type {\n",
              "        vertical-align: middle;\n",
              "    }\n",
              "\n",
              "    .dataframe tbody tr th {\n",
              "        vertical-align: top;\n",
              "    }\n",
              "\n",
              "    .dataframe thead th {\n",
              "        text-align: right;\n",
              "    }\n",
              "</style>\n",
              "<table border=\"1\" class=\"dataframe\">\n",
              "  <thead>\n",
              "    <tr style=\"text-align: right;\">\n",
              "      <th></th>\n",
              "      <th>time</th>\n",
              "      <th>user_id</th>\n",
              "      <th>fwver</th>\n",
              "      <th>quality_0</th>\n",
              "      <th>quality_1</th>\n",
              "      <th>quality_2</th>\n",
              "      <th>quality_3</th>\n",
              "      <th>quality_4</th>\n",
              "      <th>quality_5</th>\n",
              "      <th>quality_6</th>\n",
              "      <th>quality_7</th>\n",
              "      <th>quality_8</th>\n",
              "      <th>quality_9</th>\n",
              "      <th>quality_10</th>\n",
              "      <th>quality_11</th>\n",
              "      <th>quality_12</th>\n",
              "      <th>year</th>\n",
              "      <th>month</th>\n",
              "      <th>day</th>\n",
              "      <th>hour</th>\n",
              "      <th>mmss</th>\n",
              "    </tr>\n",
              "  </thead>\n",
              "  <tbody>\n",
              "    <tr>\n",
              "      <th>count</th>\n",
              "      <td>144485</td>\n",
              "      <td>144485</td>\n",
              "      <td>104405</td>\n",
              "      <td>53</td>\n",
              "      <td>144485</td>\n",
              "      <td>104372</td>\n",
              "      <td>144485</td>\n",
              "      <td>144485</td>\n",
              "      <td>144465</td>\n",
              "      <td>144485</td>\n",
              "      <td>144485</td>\n",
              "      <td>144485</td>\n",
              "      <td>144485</td>\n",
              "      <td>144485</td>\n",
              "      <td>144485</td>\n",
              "      <td>144485</td>\n",
              "      <td>144485</td>\n",
              "      <td>144485</td>\n",
              "      <td>144485</td>\n",
              "      <td>144485</td>\n",
              "      <td>144485</td>\n",
              "    </tr>\n",
              "    <tr>\n",
              "      <th>unique</th>\n",
              "      <td>3913</td>\n",
              "      <td>587</td>\n",
              "      <td>7</td>\n",
              "      <td>2</td>\n",
              "      <td>27</td>\n",
              "      <td>120</td>\n",
              "      <td>1</td>\n",
              "      <td>1</td>\n",
              "      <td>725</td>\n",
              "      <td>204</td>\n",
              "      <td>241</td>\n",
              "      <td>25</td>\n",
              "      <td>83</td>\n",
              "      <td>597</td>\n",
              "      <td>10</td>\n",
              "      <td>11</td>\n",
              "      <td>1</td>\n",
              "      <td>2</td>\n",
              "      <td>31</td>\n",
              "      <td>24</td>\n",
              "      <td>6</td>\n",
              "    </tr>\n",
              "    <tr>\n",
              "      <th>top</th>\n",
              "      <td>20201104204000</td>\n",
              "      <td>23065</td>\n",
              "      <td>03.11.1167</td>\n",
              "      <td>0.0</td>\n",
              "      <td>0</td>\n",
              "      <td>0.0</td>\n",
              "      <td>0</td>\n",
              "      <td>0</td>\n",
              "      <td>0</td>\n",
              "      <td>0</td>\n",
              "      <td>0</td>\n",
              "      <td>0</td>\n",
              "      <td>0</td>\n",
              "      <td>1</td>\n",
              "      <td>0</td>\n",
              "      <td>0</td>\n",
              "      <td>2020</td>\n",
              "      <td>11</td>\n",
              "      <td>27</td>\n",
              "      <td>22</td>\n",
              "      <td>2000</td>\n",
              "    </tr>\n",
              "    <tr>\n",
              "      <th>freq</th>\n",
              "      <td>180</td>\n",
              "      <td>3828</td>\n",
              "      <td>104148</td>\n",
              "      <td>52</td>\n",
              "      <td>120844</td>\n",
              "      <td>89734</td>\n",
              "      <td>144485</td>\n",
              "      <td>144485</td>\n",
              "      <td>100578</td>\n",
              "      <td>118698</td>\n",
              "      <td>128569</td>\n",
              "      <td>136013</td>\n",
              "      <td>137912</td>\n",
              "      <td>39600</td>\n",
              "      <td>119411</td>\n",
              "      <td>121847</td>\n",
              "      <td>144485</td>\n",
              "      <td>144473</td>\n",
              "      <td>5681</td>\n",
              "      <td>10213</td>\n",
              "      <td>27530</td>\n",
              "    </tr>\n",
              "  </tbody>\n",
              "</table>\n",
              "</div>"
            ],
            "text/plain": [
              "                  time user_id       fwver  ...     day    hour    mmss\n",
              "count           144485  144485      104405  ...  144485  144485  144485\n",
              "unique            3913     587           7  ...      31      24       6\n",
              "top     20201104204000   23065  03.11.1167  ...      27      22    2000\n",
              "freq               180    3828      104148  ...    5681   10213   27530\n",
              "\n",
              "[4 rows x 21 columns]"
            ]
          },
          "metadata": {
            "tags": []
          },
          "execution_count": 48
        }
      ]
    },
    {
      "cell_type": "markdown",
      "metadata": {
        "id": "eIVI8YxxLrrc"
      },
      "source": [
        "특정 fwver과 quality_0에서의 nan이 주목할만 합니다."
      ]
    },
    {
      "cell_type": "code",
      "metadata": {
        "colab": {
          "base_uri": "https://localhost:8080/",
          "height": 173
        },
        "id": "OaIXg347qrJx",
        "outputId": "8b9ab7ed-3410-48ad-d7ca-e6e2869ffd8d"
      },
      "source": [
        "quality_ppdf.describe()"
      ],
      "execution_count": null,
      "outputs": [
        {
          "output_type": "execute_result",
          "data": {
            "text/html": [
              "<div>\n",
              "<style scoped>\n",
              "    .dataframe tbody tr th:only-of-type {\n",
              "        vertical-align: middle;\n",
              "    }\n",
              "\n",
              "    .dataframe tbody tr th {\n",
              "        vertical-align: top;\n",
              "    }\n",
              "\n",
              "    .dataframe thead th {\n",
              "        text-align: right;\n",
              "    }\n",
              "</style>\n",
              "<table border=\"1\" class=\"dataframe\">\n",
              "  <thead>\n",
              "    <tr style=\"text-align: right;\">\n",
              "      <th></th>\n",
              "      <th>user_id</th>\n",
              "      <th>fwver</th>\n",
              "      <th>quality_0</th>\n",
              "      <th>quality_1</th>\n",
              "      <th>quality_2</th>\n",
              "      <th>quality_3</th>\n",
              "      <th>quality_4</th>\n",
              "      <th>quality_5</th>\n",
              "      <th>quality_6</th>\n",
              "      <th>quality_7</th>\n",
              "      <th>quality_8</th>\n",
              "      <th>quality_9</th>\n",
              "      <th>quality_10</th>\n",
              "      <th>quality_11</th>\n",
              "      <th>quality_12</th>\n",
              "      <th>hour</th>\n",
              "    </tr>\n",
              "  </thead>\n",
              "  <tbody>\n",
              "    <tr>\n",
              "      <th>count</th>\n",
              "      <td>828408</td>\n",
              "      <td>788340</td>\n",
              "      <td>683988</td>\n",
              "      <td>828408</td>\n",
              "      <td>788307</td>\n",
              "      <td>828408</td>\n",
              "      <td>828408</td>\n",
              "      <td>828388</td>\n",
              "      <td>828408</td>\n",
              "      <td>828408</td>\n",
              "      <td>828408</td>\n",
              "      <td>828408</td>\n",
              "      <td>828408</td>\n",
              "      <td>828408</td>\n",
              "      <td>828408</td>\n",
              "      <td>828408</td>\n",
              "    </tr>\n",
              "    <tr>\n",
              "      <th>unique</th>\n",
              "      <td>8281</td>\n",
              "      <td>27</td>\n",
              "      <td>753</td>\n",
              "      <td>31</td>\n",
              "      <td>798</td>\n",
              "      <td>1</td>\n",
              "      <td>1</td>\n",
              "      <td>4743</td>\n",
              "      <td>549</td>\n",
              "      <td>884</td>\n",
              "      <td>42</td>\n",
              "      <td>523</td>\n",
              "      <td>4198</td>\n",
              "      <td>12</td>\n",
              "      <td>14</td>\n",
              "      <td>24</td>\n",
              "    </tr>\n",
              "    <tr>\n",
              "      <th>top</th>\n",
              "      <td>15357</td>\n",
              "      <td>05.15.2138</td>\n",
              "      <td>0.0</td>\n",
              "      <td>0</td>\n",
              "      <td>0.0</td>\n",
              "      <td>0</td>\n",
              "      <td>0</td>\n",
              "      <td>0</td>\n",
              "      <td>0</td>\n",
              "      <td>0</td>\n",
              "      <td>0</td>\n",
              "      <td>0</td>\n",
              "      <td>3</td>\n",
              "      <td>0</td>\n",
              "      <td>0</td>\n",
              "      <td>22</td>\n",
              "    </tr>\n",
              "    <tr>\n",
              "      <th>freq</th>\n",
              "      <td>4224</td>\n",
              "      <td>163176</td>\n",
              "      <td>542614</td>\n",
              "      <td>670084</td>\n",
              "      <td>632293</td>\n",
              "      <td>828408</td>\n",
              "      <td>828408</td>\n",
              "      <td>427965</td>\n",
              "      <td>662035</td>\n",
              "      <td>757608</td>\n",
              "      <td>787608</td>\n",
              "      <td>796068</td>\n",
              "      <td>99816</td>\n",
              "      <td>672042</td>\n",
              "      <td>800940</td>\n",
              "      <td>59352</td>\n",
              "    </tr>\n",
              "  </tbody>\n",
              "</table>\n",
              "</div>"
            ],
            "text/plain": [
              "       user_id       fwver quality_0  ... quality_11 quality_12    hour\n",
              "count   828408      788340    683988  ...     828408     828408  828408\n",
              "unique    8281          27       753  ...         12         14      24\n",
              "top      15357  05.15.2138       0.0  ...          0          0      22\n",
              "freq      4224      163176    542614  ...     672042     800940   59352\n",
              "\n",
              "[4 rows x 16 columns]"
            ]
          },
          "metadata": {
            "tags": []
          },
          "execution_count": 28
        }
      ]
    },
    {
      "cell_type": "code",
      "metadata": {
        "colab": {
          "base_uri": "https://localhost:8080/"
        },
        "id": "1DlHwlDhBAtc",
        "outputId": "354e1651-28fb-4393-b238-32085b0cc686"
      },
      "source": [
        "for i in range(13):\r\n",
        "    print('quality_'+str(i),set(quality_ppdf[quality_ppdf.notna()].drop(['user_id','fwver'],axis=1).iloc[:,i].values))"
      ],
      "execution_count": null,
      "outputs": [
        {
          "output_type": "stream",
          "text": [
            "quality_0 {nan, '197.0', '127.0', '207.0', '386.0', '404.0', '77.0', '13.0', '28.0', '422.0', '267.0', '66.0', '1488.0', '4492.0', '408.0', '259.0', '186.0', '695.0', '11284.0', '18953.0', '234.0', '566.0', '488.0', '97.0', '6964.0', '1243.0', '332.0', '135.0', '570.0', '357.0', '882.0', '15.0', '383.0', '8.0', '295.0', '72.0', '380.0', '292.0', '221.0', '458.0', '613.0', '9.0', '6975.0', '1027.0', '1310.0', '313.0', '1141.0', '2075.0', '101.0', '691.0', '442.0', '514.0', '780.0', '3187.0', '589.0', '3.0', '14562.0', '212.0', '296.0', '598.0', '261.0', '513.0', '889.0', '678.0', '4599.0', '453.0', '90.0', '4.0', '307.0', '233.0', '27.0', '949.0', '685.0', '44.0', '79.0', '87.0', '1007.0', '298.0', '1217.0', '188.0', '637.0', '624.0', '323.0', '1167.0', '178.0', '1038.0', '2351.0', '4973.0', '297.0', '4597.0', '888.0', '303.0', '222.0', '167.0', '18.0', '284.0', '374.0', '290.0', '143.0', '1851.0', '11356.0', '228.0', '492.0', '4970.0', '324.0', '302.0', '304.0', '4552.0', '41.0', '4324.0', '998.0', '108.0', '1177.0', '4340.0', '398.0', '305.0', '16.0', '205.0', '104.0', '279.0', '140.0', '385.0', '37.0', '590.0', '227.0', '5017.0', '165.0', '182.0', '136.0', '432.0', '142.0', '12447.0', '412.0', '402.0', '35.0', '4279.0', '5064.0', '4088.0', '18714.0', '789.0', '436.0', '26202.0', '334.0', '83.0', '21003.0', '-1.0', '18841.0', '50.0', '289.0', '1704.0', '1836.0', '4631.0', '14.0', '2834.0', '467.0', '5761.0', '268.0', '872.0', '220.0', '107.0', '156.0', '139.0', '12727.0', '420.0', '667.0', '61909.0', '605.0', '455.0', '489.0', '658.0', '333.0', '1994.0', '563.0', '516.0', '392.0', '3837.0', '23.0', '441.0', '281.0', '934.0', '528.0', '74.0', '20310.0', '20632.0', '777.0', '2105.0', '347.0', '168.0', '236.0', '174.0', '508.0', '183.0', '33.0', '119.0', '370.0', '1914.0', '157667.0', '5827.0', '413.0', '99.0', '134235.0', '57.0', '505.0', '272.0', '49.0', '301.0', '2039.0', '535.0', '129.0', '849.0', '242.0', '3692.0', '109.0', '134.0', '7427.0', '2454.0', '403.0', '439.0', '121.0', '486.0', '753.0', '76.0', '105.0', '2336.0', '358.0', '6612.0', '226.0', '4773.0', '464.0', '91.0', '409.0', '1262.0', '35350.0', '240.0', '51.0', '177.0', '482.0', '4095.0', '1785.0', '608.0', '3013.0', '5292.0', '10.0', '128.0', '569.0', '4787.0', '1006.0', '5374.0', '337.0', '6813.0', '116.0', '649.0', '471.0', '21.0', '223.0', '959.0', '594.0', '12562.0', '375.0', '469.0', '117.0', '319.0', '490.0', '265.0', '294.0', '985.0', '17994.0', '327.0', '926.0', '481.0', '4347.0', '299.0', '351.0', '200.0', '727.0', '1869.0', '7757.0', '421.0', '309.0', '280.0', '921.0', '782.0', '446.0', '378.0', '499.0', '164.0', '2987.0', '43.0', '1351.0', '78.0', '218.0', '64.0', '1261.0', '470.0', '175.0', '531.0', '1090.0', '434.0', '132.0', '372.0', '26.0', '42.0', '524.0', '633.0', '5221.0', '315.0', '141.0', '229.0', '846.0', '54567.0', '551.0', '170.0', '198.0', '2262.0', '17.0', '214.0', '206.0', '3779.0', '239.0', '4229.0', '133.0', '9943.0', '692.0', '102.0', '22.0', '449.0', '3214.0', '600.0', '4289.0', '509.0', '147.0', '113.0', '627.0', '9994.0', '317.0', '47938.0', '623.0', '286.0', '335.0', '110.0', '904.0', '7025.0', '365.0', '320.0', '338.0', '491.0', '70.0', '126.0', '974.0', '4094.0', '573.0', '19.0', '3958.0', '1753.0', '661.0', '7422.0', '39.0', '411.0', '11259.0', '201.0', '238.0', '0.0', '366.0', '3274.0', '1991.0', '428.0', '401.0', '406.0', '137.0', '1392.0', '521.0', '224.0', '355.0', '952.0', '367.0', '19298.0', '2442.0', '558.0', '812.0', '3162.0', '247.0', '478.0', '24867.0', '1201.0', '22332.0', '112.0', '350.0', '3790.0', '152.0', '81.0', '253.0', '3731.0', '190.0', '369.0', '7346.0', '710.0', '705.0', '2717.0', '151.0', '2247.0', '123.0', '46.0', '761.0', '522.0', '341.0', '2662.0', '809.0', '19142.0', '342.0', '416.0', '437.0', '452.0', '162.0', '344.0', '5041.0', '487.0', '543.0', '84.0', '57891.0', '252.0', '4534.0', '10165.0', '946.0', '329.0', '149.0', '462.0', '4034.0', '59.0', '131.0', '394.0', '106.0', '308.0', '660.0', '326.0', '189.0', '11.0', '241.0', '1393.0', '5879.0', '89.0', '382.0', '5129.0', '3191.0', '548.0', '445.0', '2419.0', '4343.0', '8382.0', '146.0', '1157.0', '538.0', '163.0', '360.0', '419.0', '426.0', '311.0', '192.0', '11569.0', '6834.0', '203.0', '138.0', '254.0', '944.0', '150.0', '391.0', '561.0', '82.0', '2644.0', '3934.0', '316.0', '431.0', '506.0', '255.0', '285.0', '130.0', '760.0', '363.0', '440.0', '3794.0', '53.0', '263.0', '196.0', '145.0', '93.0', '592.0', '166.0', '1.0', '387.0', '258.0', '176.0', '931.0', '4929.0', '4117.0', '31.0', '208.0', '32.0', '5160.0', '381.0', '346.0', '120.0', '173.0', '115.0', '1987.0', '2484.0', '5482.0', '3175.0', '379.0', '512.0', '199.0', '191.0', '559.0', '68.0', '231.0', '397.0', '6.0', '828.0', '476.0', '71.0', '3835.0', '273.0', '22454.0', '25.0', '1206.0', '184.0', '169.0', '615.0', '8278.0', '256.0', '291.0', '122.0', '271.0', '783.0', '617.0', '331.0', '625.0', '451.0', '194.0', '216.0', '118.0', '103.0', '155.0', '583.0', '750.0', '10628.0', '58.0', '154.0', '813.0', '393.0', '38.0', '300.0', '16218.0', '794.0', '84890.0', '260.0', '652.0', '65.0', '425.0', '209.0', '336.0', '2016.0', '30.0', '417.0', '77175.0', '7409.0', '2310.0', '187.0', '249.0', '373.0', '73.0', '4665.0', '776.0', '435.0', '153.0', '213.0', '100.0', '47.0', '3619.0', '1113.0', '31028.0', '7573.0', '529.0', '3186.0', '479.0', '321.0', '63.0', '1741.0', '262.0', '2881.0', '34.0', '7.0', '217.0', '2885.0', '171.0', '377.0', '246.0', '473.0', '699.0', '159.0', '465.0', '20.0', '601.0', '3772.0', '1186.0', '244.0', '405.0', '92.0', '314.0', '37451.0', '502.0', '3953.0', '215.0', '114.0', '98.0', '371.0', '388.0', '579.0', '3855.0', '62.0', '4806.0', '2341.0', '361.0', '1340.0', '277.0', '5658.0', '288.0', '582.0', '2842.0', '663.0', '111.0', '2245.0', '180.0', '546.0', '1009.0', '310.0', '354.0', '124.0', '771.0', '60.0', '450.0', '2937.0', '518.0', '1189.0', '3081.0', '556.0', '2440.0', '1119.0', '181.0', '497.0', '161.0', '790.0', '69.0', '67.0', '903.0', '501.0', '230.0', '86.0', '5539.0', '2444.0', '407.0', '48.0', '664.0', '52.0', '250.0', '2.0', '125.0', '85.0', '414.0', '96.0', '6760.0', '75.0', '95.0', '368.0', '148.0', '3443.0', '45.0', '3252.0', '88.0', '5309.0', '424.0', '5331.0', '749.0', '185.0', '795.0', '270.0', '457.0', '269.0', '124500.0', '7385.0', '61.0', '460.0', '5.0', '826.0', '36.0', '29294.0', '585.0', '29.0', '429.0', '11313.0', '275.0', '729.0', '219.0', '523.0', '9127.0', '485.0', '4803.0', '547.0', '40.0', '772.0', '144.0', '157.0', '24.0', '64928.0', '94.0', '4156.0', '125356.0', '2826.0', '390.0', '80.0', '56.0', '193.0', '549.0', '276.0', '343.0', '463.0', '330.0', '54.0', '3037.0', '554.0', '542.0', '978.0', '345.0', '972.0', '400.0', '957.0', '595.0', '3280.0', '2552.0', '243.0', '55.0', '1837.0', '12.0', '1024.0', '158.0', '1073.0', '396.0', '172.0', '643.0', '827.0', '474.0', '472.0', '282.0', '3248.0', '306.0', '665.0'}\n",
            "quality_1 {'3', '23', '20', '88', '1', '117', '35', '40', '2', '11', '21', '16', '18', '15', '17', '6', '13', '14', '8', '19', '12', '4', '7', '169', '5', '-1', '9', '10', '171', '170', '0'}\n",
            "quality_2 {nan, '197.0', '127.0', '207.0', '386.0', '404.0', '77.0', '13.0', '28.0', '12089.0', '422.0', '267.0', '66.0', '1488.0', '4492.0', '3511.0', '408.0', '259.0', '186.0', '695.0', '11284.0', '18953.0', '234.0', '566.0', '488.0', '97.0', '6964.0', '1243.0', '332.0', '135.0', '570.0', '357.0', '1641.0', '882.0', '15.0', '383.0', '8.0', '295.0', '3902.0', '72.0', '3514.0', '292.0', '221.0', '458.0', '613.0', '9.0', '380.0', '6975.0', '1027.0', '1310.0', '313.0', '1141.0', '2075.0', '101.0', '691.0', '442.0', '514.0', '780.0', '3187.0', '589.0', '3.0', '14562.0', '212.0', '296.0', '598.0', '261.0', '513.0', '889.0', '678.0', '4599.0', '2851.0', '90.0', '4.0', '307.0', '453.0', '27.0', '233.0', '685.0', '949.0', '44.0', '79.0', '87.0', '1007.0', '298.0', '1217.0', '188.0', '637.0', '624.0', '323.0', '1167.0', '178.0', '1038.0', '2351.0', '3638.0', '4973.0', '297.0', '3632.0', '4597.0', '888.0', '303.0', '222.0', '167.0', '18.0', '284.0', '389.0', '374.0', '290.0', '143.0', '3262.0', '1851.0', '11356.0', '228.0', '3041.0', '492.0', '4970.0', '324.0', '302.0', '304.0', '4552.0', '41.0', '179735.0', '4324.0', '998.0', '108.0', '1177.0', '4340.0', '398.0', '305.0', '16.0', '2933.0', '205.0', '104.0', '279.0', '140.0', '385.0', '37.0', '590.0', '227.0', '5017.0', '165.0', '182.0', '136.0', '432.0', '142.0', '12447.0', '412.0', '402.0', '35.0', '4279.0', '5064.0', '4088.0', '18714.0', '789.0', '436.0', '26202.0', '334.0', '83.0', '21003.0', '-1.0', '18841.0', '50.0', '289.0', '1704.0', '1836.0', '4631.0', '14.0', '2834.0', '467.0', '5761.0', '268.0', '5087.0', '872.0', '220.0', '107.0', '156.0', '139.0', '12727.0', '420.0', '667.0', '61909.0', '605.0', '455.0', '489.0', '658.0', '333.0', '1994.0', '563.0', '516.0', '392.0', '3837.0', '23.0', '441.0', '281.0', '934.0', '528.0', '74.0', '20310.0', '3679.0', '3074.0', '20632.0', '777.0', '2105.0', '347.0', '168.0', '236.0', '174.0', '508.0', '183.0', '33.0', '119.0', '370.0', '1914.0', '157667.0', '5827.0', '413.0', '99.0', '134235.0', '57.0', '505.0', '272.0', '49.0', '301.0', '2039.0', '535.0', '129.0', '849.0', '242.0', '3692.0', '109.0', '134.0', '3730.0', '3426.0', '2905.0', '7427.0', '2454.0', '403.0', '439.0', '121.0', '486.0', '753.0', '76.0', '105.0', '2336.0', '358.0', '6612.0', '226.0', '4773.0', '464.0', '91.0', '409.0', '1262.0', '35350.0', '240.0', '51.0', '177.0', '482.0', '4095.0', '1785.0', '608.0', '3013.0', '5292.0', '10.0', '128.0', '569.0', '4787.0', '1006.0', '5374.0', '337.0', '6813.0', '116.0', '649.0', '471.0', '21.0', '223.0', '959.0', '594.0', '12562.0', '375.0', '469.0', '117.0', '319.0', '490.0', '265.0', '3672.0', '294.0', '985.0', '17994.0', '327.0', '926.0', '481.0', '4347.0', '4009.0', '299.0', '351.0', '200.0', '9498.0', '727.0', '1869.0', '7757.0', '421.0', '309.0', '280.0', '921.0', '782.0', '446.0', '378.0', '499.0', '164.0', '2987.0', '43.0', '1351.0', '78.0', '64.0', '218.0', '1261.0', '470.0', '175.0', '531.0', '1090.0', '434.0', '132.0', '372.0', '26.0', '42.0', '524.0', '633.0', '5221.0', '315.0', '141.0', '229.0', '846.0', '54567.0', '551.0', '170.0', '198.0', '2262.0', '113626.0', '17.0', '214.0', '206.0', '3779.0', '239.0', '4229.0', '133.0', '9943.0', '692.0', '102.0', '22.0', '449.0', '3214.0', '600.0', '4289.0', '3314.0', '509.0', '147.0', '113.0', '627.0', '9994.0', '317.0', '47938.0', '623.0', '286.0', '335.0', '110.0', '904.0', '1926.0', '1612.0', '7025.0', '365.0', '320.0', '338.0', '491.0', '70.0', '126.0', '974.0', '4094.0', '573.0', '19.0', '3958.0', '1753.0', '661.0', '7422.0', '39.0', '411.0', '11259.0', '201.0', '238.0', '0.0', '366.0', '3274.0', '1991.0', '428.0', '401.0', '406.0', '137.0', '1392.0', '521.0', '224.0', '355.0', '952.0', '367.0', '19298.0', '2442.0', '558.0', '812.0', '3162.0', '247.0', '478.0', '24867.0', '1201.0', '22332.0', '112.0', '350.0', '3790.0', '152.0', '81.0', '253.0', '3731.0', '190.0', '369.0', '7346.0', '710.0', '4708.0', '705.0', '2717.0', '151.0', '2247.0', '123.0', '46.0', '761.0', '522.0', '341.0', '2662.0', '809.0', '19142.0', '342.0', '416.0', '437.0', '452.0', '162.0', '344.0', '3908.0', '5041.0', '487.0', '14086.0', '543.0', '3799.0', '84.0', '57891.0', '252.0', '4534.0', '10165.0', '946.0', '329.0', '149.0', '462.0', '4034.0', '59.0', '131.0', '394.0', '106.0', '308.0', '660.0', '326.0', '189.0', '11.0', '241.0', '1393.0', '5879.0', '89.0', '382.0', '5129.0', '3191.0', '548.0', '445.0', '2419.0', '4343.0', '8382.0', '146.0', '1157.0', '538.0', '899.0', '3510.0', '163.0', '360.0', '419.0', '426.0', '311.0', '192.0', '11569.0', '6834.0', '203.0', '138.0', '254.0', '944.0', '150.0', '391.0', '561.0', '82.0', '2644.0', '3303.0', '3934.0', '316.0', '431.0', '506.0', '3509.0', '255.0', '285.0', '130.0', '760.0', '363.0', '440.0', '3794.0', '53.0', '263.0', '196.0', '145.0', '93.0', '592.0', '1.0', '166.0', '387.0', '258.0', '176.0', '931.0', '4929.0', '4117.0', '31.0', '208.0', '32.0', '5160.0', '381.0', '346.0', '120.0', '173.0', '115.0', '1987.0', '2484.0', '5482.0', '3175.0', '379.0', '191859.0', '512.0', '199.0', '559.0', '191.0', '68.0', '231.0', '397.0', '4021.0', '6.0', '828.0', '476.0', '71.0', '3835.0', '273.0', '22454.0', '25.0', '1206.0', '184.0', '169.0', '615.0', '8278.0', '256.0', '291.0', '122.0', '3225.0', '271.0', '3549.0', '783.0', '617.0', '331.0', '625.0', '451.0', '194.0', '216.0', '118.0', '103.0', '155.0', '583.0', '750.0', '10628.0', '58.0', '154.0', '3112.0', '813.0', '393.0', '38.0', '300.0', '16218.0', '794.0', '84890.0', '260.0', '652.0', '65.0', '425.0', '209.0', '336.0', '2016.0', '30.0', '417.0', '77175.0', '7409.0', '2310.0', '187.0', '249.0', '373.0', '73.0', '4815.0', '4665.0', '776.0', '435.0', '153.0', '213.0', '100.0', '47.0', '3619.0', '1113.0', '31028.0', '7573.0', '529.0', '3186.0', '479.0', '321.0', '63.0', '1741.0', '262.0', '2881.0', '34.0', '7.0', '217.0', '2885.0', '171.0', '377.0', '246.0', '473.0', '699.0', '159.0', '465.0', '20.0', '601.0', '3772.0', '1186.0', '244.0', '405.0', '92.0', '314.0', '37451.0', '502.0', '3953.0', '16557.0', '215.0', '114.0', '98.0', '371.0', '388.0', '579.0', '3855.0', '62.0', '4806.0', '2341.0', '361.0', '1340.0', '277.0', '5658.0', '288.0', '582.0', '2842.0', '663.0', '111.0', '2245.0', '180.0', '546.0', '1009.0', '310.0', '354.0', '3678.0', '124.0', '771.0', '60.0', '450.0', '2937.0', '518.0', '1189.0', '3081.0', '123485.0', '556.0', '2440.0', '1119.0', '181.0', '497.0', '161.0', '790.0', '69.0', '67.0', '903.0', '501.0', '230.0', '86.0', '5539.0', '2444.0', '407.0', '48.0', '664.0', '52.0', '250.0', '2.0', '125.0', '85.0', '414.0', '96.0', '6760.0', '75.0', '95.0', '124060.0', '368.0', '148.0', '3443.0', '45.0', '3252.0', '88.0', '5309.0', '424.0', '5331.0', '749.0', '185.0', '795.0', '270.0', '457.0', '269.0', '3067.0', '124500.0', '7385.0', '61.0', '460.0', '5.0', '826.0', '36.0', '29294.0', '585.0', '29.0', '429.0', '11313.0', '275.0', '729.0', '219.0', '523.0', '9127.0', '485.0', '4803.0', '547.0', '40.0', '772.0', '144.0', '157.0', '24.0', '64928.0', '94.0', '4156.0', '125356.0', '2826.0', '390.0', '80.0', '56.0', '193.0', '549.0', '276.0', '343.0', '463.0', '330.0', '54.0', '3037.0', '554.0', '542.0', '978.0', '345.0', '972.0', '400.0', '957.0', '595.0', '3280.0', '2552.0', '243.0', '55.0', '1837.0', '12.0', '1024.0', '158.0', '1073.0', '396.0', '172.0', '643.0', '827.0', '474.0', '472.0', '282.0', '3248.0', '306.0', '665.0'}\n",
            "quality_3 {'0'}\n",
            "quality_4 {'0'}\n",
            "quality_5 {nan, '1,169', '1,238', '602', '1,098', '4,137', '610', '1,218', '2,898', '10,953', '1,936', '45', '26,306', '14,338', '1,096', '2,860', '2,635', '8,909', '488', '9,654', '40', '2,048', '38,820', '1,944', '2,477', '10,093', '178', '1,341', '5,545', '4,996', '1,281', '5,369', '2,076', '1,132', '13,691', '43,659', '3,491', '4,267', '50,831', '3,451', '2,651', '4,669', '2,230', '3,407', '344', '974', '5,464', '2,281', '2,438', '26', '1,285', '2,995', '916', '8,576', '1,331', '5,569', '44,503', '9,929', '854', '4,338', '13,433', '2,350', '858', '4,701', '1,888', '725', '627', '2,343', '2,267', '422', '58,168', '6,406', '5,076', '541', '18,053', '11,334', '6,338', '853', '4,608', '381', '303', '3,437', '25,408', '1,510', '994', '1,492', '30,130', '701', '67', '1,595', '5,496', '30,005', '146', '27,656', '2,137', '1,959', '11,346', '1,387', '10,256', '1,418', '502', '2,209', '902', '2,711', '1,968', '567', '1,435', '1,345', '396', '648', '10,223', '2,375', '5,150', '7,286', '256', '1,554', '818', '9,266', '1,923', '1,841', '13,243', '907', '446', '33,805', '7,314', '85,990', '1,268', '268', '1,231', '4,027', '9,385', '8,736', '1,701', '4,439', '164', '8,497', '1,203', '26,653', '12,743', '1,594', '9,438', '15,386', '1,354', '650', '3,117', '3,251', '609', '87,121', '594', '2,433', '4,150', '1,869', '1,587', '7,877', '1,279', '343', '83', '5,056', '1,191', '2,784', '2,752', '5,136', '2,774', '2,299', '168', '105', '3,312', '4,853', '27', '445', '672', '51,865', '3,495', '282', '12,021', '2,648', '16,522', '3,603', '2,814', '2,593', '1,793', '91,987', '6,059', '1,800', '1,992', '4,102', '237', '14,657', '49,364', '18,109', '1,652', '3,482', '9,733', '6,518', '1,276', '1,386', '8,480', '49', '1,476', '2,568', '1,320', '1,061', '26,545', '19,006', '6,179', '8,571', '11,562', '1,716', '1,437', '1,044', '4,148', '34,836', '4,643', '90,327', '2,932', '10,614', '6,311', '1,868', '50,009', '1,777', '679', '99,546', '960', '590', '35,708', '1,688', '1,213', '558', '901', '729', '683', '4,013', '1,740', '176', '2,212', '10,052', '11,661', '6,808', '15,173', '855', '5,376', '5,657', '2,246', '2,511', '265', '18,404', '1,042', '338', '2,277', '24,505', '4,239', '29,143', '21,244', '3,438', '1,128', '1,054', '8,523', '2,554', '10,640', '1,057', '2,014', '1,862', '37,335', '1,270', '20,189', '1,432', '1,444', '10,486', '3,502', '886', '2,337', '5,431', '1,856', '1,902', '7,811', '5,533', '947', '793', '1,838', '42,713', '710', '4,174', '2,380', '11,449', '2,902', '1,188', '2,455', '457', '10,057', '1,564', '832', '3,079', '41,052', '3,903', '2,129', '2,027', '1,673', '1,371', '3,122', '10,304', '1,403', '1,712', '4,193', '4,963', '8,720', '9,321', '1,960', '99', '5,263', '9,302', '122', '5,751', '4,834', '532', '9,495', '6,821', '781', '1,003', '158', '5,500', '345', '1,691', '779', '1,093', '3,106', '6,820', '9,382', '1,224', '7,128', '1,082', '2,322', '42,860', '1,292', '3,542', '8,525', '9,141', '10,041', '7,476', '42,389', '3,339', '8,426', '2,886', '207', '857', '92', '4,589', '70,680', '34,249', '619', '2,837', '1,167', '1,414', '9,094', '1,007', '5,199', '562', '447', '693', '18,410', '26,253', '14,958', '7,038', '2,506', '7,834', '444', '997', '1,840', '514', '14,873', '2,365', '2,385', '6,685', '8,914', '257', '8,404', '12', '66,304', '145', '3,509', '3,473', '4,979', '3,713', '1,829', '926', '277', '3,865', '3,725', '2,527', '744', '712', '2,270', '8,777', '335', '715', '2,028', '5,387', '7,919', '745', '2,830', '395', '3,641', '4,358', '4,008', '647', '2,314', '441', '37,248', '743', '4,598', '15,894', '50,267', '1,548', '8,420', '1,849', '1,027', '628', '18,684', '38,988', '587', '1,253', '180', '5,881', '828', '5,561', '1,261', '8,230', '1,865', '763', '578', '1,066', '1,556', '9,165', '849', '9,061', '9,780', '498', '10,435', '4,300', '1,814', '1,165', '3,265', '2,647', '8,795', '4,399', '3,597', '425', '7,087', '1,690', '11,371', '3,040', '270', '15,861', '969', '1,290', '1,043', '1,755', '7,131', '2,519', '49,870', '6,329', '640', '1,794', '14,264', '62,620', '6,307', '9,304', '641', '2,388', '6,222', '3,724', '1,323', '5,605', '809', '3,467', '48,944', '1,560', '5,580', '5,602', '14,218', '23,814', '79,198', '8,495', '8,626', '2,781', '10,114', '2,094', '28,997', '510', '53,477', '1,860', '3,036', '11,423', '7,968', '1,010', '768', '2,236', '2,639', '2,778', '1,545', '15,981', '136,276', '1,260', '2,907', '192', '5,524', '21,051', '2,584', '1,328', '1,072', '959', '3,232', '2,531', '1,201', '6,253', '2,609', '10,201', '8,748', '739', '126', '2,933', '8,169', '1,897', '5', '1,577', '11,068', '4,982', '27,106', '1,282', '837', '173', '2,046', '1,700', '2,984', '1,906', '3,754', '5,306', '292', '2,364', '104,241', '494', '1,212', '588', '1,092', '1,223', '360', '4,122', '3,894', '1,530', '233', '850', '570', '41,967', '2,324', '4,340', '4,570', '50,144', '4,469', '3,888', '2,773', '2', '914', '3,513', '5,095', '1,415', '14,490', '10,228', '81,322', '10,345', '17,854', '41,144', '6,219', '990', '2,863', '284', '26,170', '49,613', '5,053', '3,731', '2,138', '2,371', '2,100', '8,176', '27,271', '2,673', '169', '4,578', '1,528', '6,033', '4,142', '3,044', '1,605', '2,768', '1,111', '732', '5,208', '12,089', '2,193', '347', '772', '291', '2,922', '943', '5,624', '3,055', '8,026', '2,822', '96,307', '2,173', '5,501', '1,321', '1,313', '919', '9,339', '1,163', '49,312', '8,601', '5,721', '7,768', '721', '2,758', '1,721', '1,139', '4,287', '3,160', '750', '6,248', '4,517', '3,879', '2,463', '15,352', '2,909', '3,914', '1,655', '723', '2,990', '2,662', '1,171', '1,834', '1,195', '24,348', '17,198', '3,061', '8,286', '620', '19,438', '1,915', '544', '252', '1,021', '199', '1,627', '1,420', '2,826', '6,341', '1,002', '79', '5,799', '21,949', '8,811', '5,331', '7,453', '5,514', '21,675', '737', '571', '1,596', '3,841', '120', '10,948', '5,595', '1,632', '709', '1,949', '982', '10,647', '1,558', '742', '4,191', '59', '4,200', '3,051', '5,446', '2,472', '393', '3,255', '2,339', '1,707', '2,565', '2,665', '5,600', '4,359', '2,678', '908', '3,196', '1,164', '13,598', '2,081', '15,060', '9,478', '2,352', '4,898', '802', '32,286', '1,160', '3,479', '1,842', '2,060', '1,881', '2,621', '1,185', '69,033', '281', '3,877', '568', '2,520', '738', '3,212', '165,286', '14,643', '2,846', '21,088', '49,770', '5,361', '2,372', '36,906', '10,264', '5,922', '55,771', '342', '1,052', '3,380', '99,179', '859', '4,425', '56,619', '22,590', '471', '2,560', '8,047', '24,914', '538', '412', '12,272', '1,011', '1,110', '2,271', '1,601', '1,103', '24,415', '2,546', '297', '515', '118,401', '780', '55,883', '8,186', '6,097', '6,723', '332', '2,331', '1,796', '272', '4,215', '3,468', '312', '9,361', '2,357', '33,438', '80', '3,733', '11,626', '4,758', '28,027', '2,672', '3,857', '576', '1,087', '922', '4,764', '1,155', '3,072', '82,783', '38,847', '12,658', '1,991', '1,222', '1,366', '17,939', '8,323', '11,107', '9,183', '4,288', '136', '9,294', '5,515', '2,415', '2,487', '53,450', '1,442', '3,303', '5,665', '1,550', '8,218', '1,538', '127,108', '6,085', '67,412', '123', '1,439', '1,278', '4,471', '977', '2,183', '46,640', '18,548', '2,002', '4,145', '14,523', '1,474', '17,186', '5,064', '1,488', '13,136', '734', '34,464', '4,394', '1,065', '82,981', '10,019', '2,065', '3,741', '240', '6,979', '537', '2,690', '12,204', '13,419', '289', '1,575', '5,380', '1,385', '3,674', '1,097', '1,819', '361', '125,256', '400', '6,531', '5,918', '1,466', '10,483', '2,080', '1,035', '2,610', '4,879', '769', '196', '631', '49,757', '9,420', '24,887', '1,094', '25,739', '127,495', '2,790', '9,404', '5,371', '16,946', '2,191', '3,619', '722', '5,776', '2,974', '1,571', '3,347', '820', '1,308', '9,510', '2,580', '6,286', '1,486', '3,083', '5,207', '25,478', '787', '3,552', '2,855', '2,536', '1,931', '10,042', '75,722', '6,660', '1,511', '1,599', '1,216', '1,953', '50,931', '12,051', '3,207', '1,327', '6,399', '3,984', '1,381', '14,028', '3,538', '9,090', '8,860', '5,733', '9,521', '2,443', '935', '16,345', '4,721', '473', '871', '1,580', '9,434', '10,783', '10,840', '819', '7,478', '27,983', '1,175', '309', '321', '10,162', '3,605', '213', '6,790', '991', '1,340', '2,812', '1,770', '530', '3,572', '8,865', '3,304', '453', '1,023', '553', '1,120', '950', '1,812', '27,143', '2,165', '23,370', '4,086', '260', '14,423', '2,944', '1,348', '2,295', '2,241', '625', '4,177', '9,761', '8,073', '4,301', '9,208', '170', '6,540', '243', '3,065', '3,222', '1,744', '6,637', '720', '3,620', '23,161', '10,207', '1,685', '4,165', '7,843', '657', '8,379', '1,572', '3,686', '4,522', '759', '5,257', '1,300', '2,106', '1,126', '6,102', '2,214', '5,011', '11,487', '10,373', '1,795', '41,807', '1,316', '3,671', '9,040', '2,181', '24,558', '97,338', '2,760', '247,698', '2,024', '3,025', '1,733', '7,709', '2,692', '3,740', '756', '3,637', '3,803', '1,894', '1,255', '45,194', '3,765', '28,131', '2,245', '2,004', '5,132', '10,168', '7,607', '408', '8,096', '10,213', '4,873', '719', '28,883', '10,490', '32,707', '1,820', '3,276', '4,017', '1,448', '1,662', '23,367', '47,092', '19,991', '2,225', '1,809', '874', '1,692', '3,356', '10,200', '2,889', '1,748', '161,574', '7,518', '870', '9,584', '294', '10,743', '11,658', '1,612', '10,246', '4,611', '5,814', '962', '5,101', '649', '7,320', '2,524', '1,752', '1,912', '27,092', '7,988', '12,790', '3,219', '13,811', '4,285', '3,560', '1,406', '5,856', '2,047', '4,539', '3,179', '3,058', '593', '6,289', '2,329', '1,616', '664', '2,589', '1,846', '651', '1,029', '12,651', '2,349', '698', '1,234', '1,031', '232', '2,965', '483', '1,687', '4,499', '5,540', '4,195', '13,796', '210', '3,563', '5,477', '4,967', '5,935', '16,762', '231', '9,425', '545', '3,199', '3,331', '2,857', '1,566', '9,114', '4,117', '4,361', '589', '10,821', '757', '135,723', '3,951', '7,309', '5,926', '70', '21,804', '1,932', '5,252', '4,780', '1,104', '1,131', '635', '1,478', '509', '8,802', '10,973', '20,994', '3,536', '203', '9,630', '6,834', '677', '96', '1,555', '9,874', '322', '10,573', '1,504', '975', '1,107', '2,437', '274', '3,794', '1,680', '462', '7,604', '1,971', '7,342', '8,030', '5,984', '426', '569', '3,936', '1,286', '1,776', '1,756', '9,945', '775', '4,257', '37,513', '139', '799', '1,661', '3,359', '12,289', '5,304', '65,695', '4,420', '106', '4,029', '4,777', '18,504', '1,456', '5,210', '1,611', '1,758', '6,673', '370', '2,471', '16,256', '634', '1,880', '2,052', '3,466', '17,210', '8,394', '6,512', '2,606', '19,195', '660', '8,501', '894', '548', '68,223', '235', '112,074', '5,045', '9,634', '10,897', '9,282', '10,415', '543', '3,600', '3,059', '3,453', '12,235', '711', '149,009', '10,771', '10,144', '101,592', '56,759', '1,529', '12,057', '276', '465', '16,483', '4,396', '161', '1,634', '513', '2,461', '2,862', '464', '5,606', '11,360', '10,249', '3,038', '7,787', '9,207', '829', '885', '1,030', '5,520', '30', '57,159', '1,193', '1,629', '402', '2,136', '50,378', '9,496', '12,206', '1,871', '7,707', '4,426', '68,116', '165', '10,678', '52,348', '2,345', '1,438', '1,996', '6,257', '254', '4,350', '2,184', '1,665', '1,026', '8,254', '3,690', '2,687', '5,704', '8,734', '5,632', '1,460', '20,089', '1,272', '367', '300', '280', '700', '475', '4,922', '8,714', '391', '96,247', '1,210', '4,569', '847', '2,233', '527', '2,216', '31,939', '965', '301', '807', '313', '23,667', '4,106', '7,289', '1,314', '4,993', '1,153', '952', '717', '16,492', '28,287', '50,530', '4,038', '5,656', '595', '2,793', '4,454', '6,096', '273', '821', '206', '12,813', '1,714', '236', '5,483', '3,606', '9,411', '2,038', '8,412', '2,360', '1,593', '9,894', '1,539', '1,885', '159', '77,701', '6,835', '3', '467', '155', '8,931', '6,027', '547', '1,016', '2,474', '95,796', '1,473', '2,847', '101,268', '1,706', '9,253', '54,588', '366', '695', '4,880', '6,223', '1,802', '1,702', '2,405', '6,610', '5,435', '5,571', '17,553', '716', '3,977', '17,071', '89,675', '5,654', '2,039', '11,811', '14,432', '1,527', '1,138', '8,474', '618', '42,705', '1,144', '53,208', '773', '14,271', '9,513', '505', '5,128', '409', '5,623', '30,922', '31,550', '3,931', '5,853', '5,335', '892', '49,465', '4,087', '3,646', '11,559', '1,509', '4,837', '10,446', '5,377', '3,774', '1,621', '9,649', '4,010', '2,844', '3,289', '1,055', '16,849', '6,272', '1,861', '14,014', '7,327', '2,342', '4,670', '7,247', '1,778', '667', '9,973', '1,628', '5,950', '1,364', '5,416', '6,597', '2,617', '154', '9,998', '25,310', '22,309', '3,796', '4,574', '5,222', '10,602', '2,116', '1,615', '324', '1,608', '546', '244', '8,878', '516', '8,774', '5,786', '47,753', '713', '1,307', '1,719', '4,931', '4,371', '198', '6,178', '3,077', '9,182', '403', '34', '405', '30,928', '8,754', '54,503', '2,903', '92,499', '9,859', '5,082', '2,254', '1,396', '1,876', '957', '9,310', '3,882', '776', '5,637', '1,561', '36,826', '622', '6,888', '7,689', '337', '93', '6,099', '8,520', '420', '1,704', '1,518', '110,963', '4,022', '1,149', '12,954', '8,240', '2,557', '217', '1,074', '165,753', '805', '2,947', '4,188', '6,156', '579', '5,151', '1,581', '38,827', '3,667', '9,220', '1,458', '3,363', '9,422', '4,266', '3,343', '6,436', '12,169', '418', '4,730', '2,389', '26,549', '9,268', '137,240', '3,492', '5,440', '21', '1,289', '4,121', '1,768', '1,910', '8,521', '5,879', '4,365', '1,639', '4,392', '762', '638', '3,097', '1,006', '1,916', '4,415', '3,362', '1,361', '1,892', '5,258', '1,136', '14,106', '17,475', '63,340', '1,804', '2,579', '1,407', '1,753', '183', '22,649', '8,599', '583', '449', '1,709', '10,055', '1,517', '2,063', '9,787', '9,399', '642', '1,088', '3,537', '613', '1,304', '4,265', '429', '2,771', '10,121', '860', '3,035', '20', '2,849', '1,310', '4,153', '1,291', '2,928', '1,205', '440', '7,496', '839', '106,939', '2,121', '2,916', '795', '80,269', '23,820', '6,957', '14,200', '7,429', '12,985', '5,553', '212', '2,179', '3,781', '351', '1,232', '65,285', '1,859', '5,625', '8,895', '44,163', '326', '6,945', '4,053', '62', '1,624', '1,574', '38,561', '4,962', '2,017', '259', '346', '9,777', '3,427', '4,705', '3,127', '357', '13,673', '9,592', '188', '12,742', '1,067', '187', '3,067', '3,847', '794', '1,526', '13,516', '399', '328', '2,929', '43,962', '5,876', '5,695', '81', '911', '72,997', '3,014', '9,103', '128', '493', '8,492', '2,022', '8,645', '51', '3,596', '1,975', '44,437', '1,668', '250', '2,205', '8,974', '35', '28,065', '1,934', '489', '9,645', '1,913', '3,922', '2,403', '1,917', '11,725', '1,822', '349', '436', '3,164', '1,980', '3,311', '1,189', '167', '1,202', '8,274', '267', '970', '135,403', '1,077', '682', '348', '1,633', '8,800', '16,612', '141,012', '325', '5,894', '157', '140', '1,993', '2,045', '800', '1,258', '2,832', '632', '157,092', '14,410', '81,441', '1,447', '287', '239', '499', '5,650', '1,471', '2,675', '1,204', '8,975', '3,158', '4,794', '6,139', '3,602', '4,610', '4,386', '160', '65', '15,478', '2,802', '1,172', '10,226', '1,271', '35,965', '8,955', '4,719', '1,551', '761', '3,912', '9,806', '97,382', '842', '33,708', '18,669', '251', '913', '6,335', '1,051', '131', '3,274', '146,419', '2,161', '358', '1,357', '61', '1,219', '5,057', '8,433', '1,058', '561', '786', '1,143', '1,256', '1,878', '15,071', '536', '209', '66,810', '15,885', '2,040', '23,598', '9,012', '3,501', '8,715', '3,245', '18,565', '66,514', '114', '149', '864', '1,625', '909', '1,977', '21,318', '1,192', '9,265', '905', '4,388', '139,438', '363', '843', '15,571', '582', '2,537', '27,333', '100,758', '1,781', '2,754', '25,178', '133,210', '9,112', '2,353', '1,494', '7,545', '1,978', '4,763', '72', '5,102', '36,715', '3,441', '369', '42,790', '2,468', '6', '1,651', '6,655', '3,729', '6,973', '1,378', '2,291', '5,631', '13,455', '1,346', '937', '1,426', '1,089', '9,118', '114,019', '9,342', '1,283', '4,376', '1,402', '110,437', '2,272', '617', '1,750', '3,577', '9,070', '1,106', '2,740', '74', '11,060', '432', '3,764', '61,450', '1,641', '486', '592', '4,199', '5,206', '53', '221', '2,566', '8,198', '1,540', '109,503', '1,810', '6,177', '1,176', '2,420', '416', '63,721', '4,616', '7,559', '88,616', '5,217', '16,156', '4,333', '9,169', '18,714', '34,324', '998', '166,662', '1,547', '35,534', '288', '2,157', '3,320', '19,706', '28,094', '2,056', '12,485', '7,605', '7,302', '929', '877', '872', '121,477', '10,035', '3,221', '1,100', '8,232', '2,298', '1,500', '5,680', '2,344', '3,856', '3,762', '26,836', '925', '389', '1,784', '968', '4,419', '2,679', '12,666', '2,302', '8,698', '3,763', '7,839', '4,071', '1,037', '1,659', '3,810', '1,821', '2,943', '1,401', '4,545', '3,078', '5,308', '71,665', '3,076', '674', '478', '8,395', '20,426', '3,034', '1,183', '481', '23,776', '6,105', '427', '72,577', '1,377', '1,376', '549', '6,016', '1,117', '59,781', '3,070', '9,876', '2,737', '1,609', '3,325', '16,469', '5,698', '9,086', '1,508', '5,905', '1,369', '4,173', '3,409', '15,830', '49,435', '3,634', '1,773', '245', '1,469', '597', '12,850', '4,442', '1,049', '5,661', '3,004', '1,807', '10,818', '258,158', '97', '655', '26,024', '2,072', '1,857', '1,887', '1,939', '927', '4,738', '4,156', '11,595', '333', '1,443', '7,855', '1,725', '3,618', '1,018', '803', '4,059', '3,959', '1,147', '3,858', '18,860', '1,146', '884', '41,955', '10,050', '9,407', '7,322', '2,785', '4,770', '1,502', '4,401', '1,826', '7,358', '460', '314', '1,230', '2,654', '57', '1,342', '2,644', '3,126', '635,515', '9,064', '8,911', '1,233', '5,596', '5,774', '88,166', '42,009', '958', '28,204', '47,190', '88,936', '565', '368', '623', '49,675', '2,982', '18,231', '840', '5,465', '1,425', '887', '27,723', '14,229', '1,102', '9,066', '1,039', '2,050', '70,394', '7,862', '599', '1,851', '1,014', '1,487', '1,883', '4,501', '2,884', '8,851', '67,062', '1,441', '23,489', '5,629', '875', '253', '6,018', '32,116', '778', '1,667', '7,511', '7,663', '39,571', '6,279', '2,377', '7,889', '77,659', '479', '20,603', '15,114', '2,805', '2,258', '2,525', '2,008', '94,076', '863', '10,251', '749', '495', '5,581', '4,624', '675', '372', '1,956', '1,754', '36,346', '1,945', '451', '456', '3,583', '5,640', '1,303', '1,349', '9,215', '9,076', '5,566', '10,497', '61,779', '2,894', '2,043', '1,696', '2,713', '6,866', '37', '3,766', '4,883', '2,935', '953', '16,579', '18,545', '5,659', '4,113', '1,541', '533', '1,542', '21,758', '1,063', '4,725', '20,375', '1,646', '2,490', '93,858', '13,310', '12,939', '1,000', '387', '151', '54,639', '2,481', '501', '888', '7,230', '606', '964', '37,310', '9,519', '29,513', '5,099', '143', '747', '669', '8,065', '6,897', '6,199', '356', '2,092', '5,583', '5,821', '10,341', '2,303', '5,410', '11,786', '13,341', '4,583', '165,053', '848', '87,606', '3,371', '5,719', '1,017', '28,791', '26,372', '49,936', '1,671', '4,946', '1,245', '841', '2,658', '1,416', '19,965', '1,723', '7,579', '63,594', '50,597', '760', '5,694', '3,284', '2,486', '82', '2,499', '1,815', '3,258', '630', '48,428', '1,907', '4,829', '3,428', '4,679', '1,251', '5,388', '480', '1,836', '5,693', '58,065', '1,989', '1,858', '1,124', '14,350', '4,443', '6,056', '359', '49,453', '1,983', '755', '7,213', '19,421', '1,475', '9,290', '774', '2,915', '39,208', '50,427', '2,602', '1,731', '4,127', '1,578', '172', '1,206', '4,353', '3,089', '62,272', '1,951', '28,127', '122,513', '9,030', '1,461', '1,339', '4,221', '2,598', '1,649', '973', '898', '3,900', '1,698', '54,180', '8,378', '1,637', '796', '23,001', '2,294', '20,839', '11,863', '1,803', '1,792', '152', '164,321', '1,825', '8,595', '7,900', '30,765', '5,597', '6,282', '15,246', '1,083', '25,600', '153', '852', '138,389', '2,030', '1,929', '204', '1,280', '139,750', '190', '6,707', '1,151', '12,227', '1,582', '3,031', '476', '1,480', '600', '1,179', '9,994', '3,187', '3,773', '15,957', '3,323', '230', '323', '540', '1,427', '607', '133,301', '897', '1,322', '2,891', '3,439', '8,649', '9,074', '1,394', '1,928', '17,181', '220', '612', '1,503', '2,887', '9,357', '6,317', '559', '2,424', '1,636', '1,791', '11,088', '1', '36', '708', '490', '688', '2,895', '932', '1,567', '2,691', '624', '1,663', '5,607', '16,785', '49,873', '2,572', '765', '11,992', '2,232', '125', '2,252', '1,771', '8,177', '789', '378', '891', '53,341', '2,629', '2,268', '10,225', '21,715', '2,011', '951', '13,314', '2,657', '2,739', '8,459', '307', '100', '8,719', '4,638', '15,076', '3,168', '1,805', '906', '1,818', '511', '4,356', '10,176', '31,677', '28,644', '382', '4,048', '3,585', '598', '6,161', '50,140', '1,008', '3,511', '2,177', '113', '1,221', '5,437', '3,621', '6,581', '5,588', '2,279', '12,434', '1,678', '29,268', '14,230', '3,424', '3,493', '373', '269', '7,965', '3,007', '2,759', '1,998', '788', '4,100', '3,848', '2,330', '961', '29,390', '3,517', '1,553', '3,130', '55', '5,663', '13,771', '3,565', '1,412', '963', '6,600', '3,945', '8,372', '397', '2,316', '377', '5,647', '1,583', '185', '2,824', '131,968', '386', '1,084', '4,773', '5,488', '4,043', '3,202', '10,353', '5,754', '1,109', '687', '6,403', '477', '308', '58,032', '12,076', '866', '6,577', '626', '2,800', '47,015', '404', '224', '1,091', '1,835', '263', '7,517', '5,688', '4,927', '971', '1,184', '474', '9,953', '1,257', '2,166', '1,379', '10,849', '87,835', '362', '6,936', '36,373', '171', '2,361', '826', '868', '15,843', '4,216', '2,196', '12,633', '10,860', '1,405', '1,356', '9,472', '1,355', '121', '5,106', '1,085', '10,038', '766', '26,188', '707', '308,940', '10,070', '89', '1,389', '22,070', '2,104', '3,935', '6,648', '1,565', '491', '1,036', '14,330', '37,446', '4,378', '658', '49,102', '2,660', '10,687', '482', '248', '5,509', '16', '5,826', '3,243', '2,127', '22,223', '7,102', '2,325', '443', '1,630', '3,570', '503', '6,314', '2,147', '10,187', '30,992', '4,093', '296', '1,537', '1,384', '741', '1,013', '5,356', '1,099', '2,131', '3,709', '9,613', '16,213', '9,062', '9,516', '5,811', '353', '8,744', '13,477', '2,320', '3,136', '5,903', '13,863', '7,610', '1,830', '68,849', '16,862', '1,159', '727', '6,427', '4,424', '497', '9,710', '9,507', '1,450', '49,750', '1,695', '6,463', '3,819', '415', '39', '19,055', '1,112', '2,534', '43,355', '78,756', '2,467', '4,248', '20,131', '9,543', '4,754', '3,275', '2,407', '1,867', '2,763', '5,546', '2,313', '2,921', '10,241', '9,533', '2,845', '1,113', '2,175', '200', '1,798', '3,993', '293', '1,242', '15,937', '433', '103,726', '9,558', '3,869', '1,170', '3,141', '5,687', '3,139', '1,259', '64', '542', '9,808', '2,145', '49,211', '3,250', '4,123', '17,539', '2,036', '2,154', '705', '1,295', '14,016', '18,060', '1,284', '2,697', '3,015', '3,064', '4,793', '2,563', '920', '2,333', '137', '9,444', '3,423', '3,153', '1,579', '1,273', '2,410', '1,267', '31,284', '12,497', '2,473', '2,575', '12,885', '135', '2,576', '3,460', '531', '1,174', '2,409', '8,563', '603', '3,110', '390', '11,639', '2,920', '3,088', '1,134', '3,016', '6,993', '3,687', '15,572', '1,161', '1,079', '10,742', '2,501', '1,211', '201', '5,925', '1,682', '184', '726', '3,831', '1,797', '48', '20,487', '32', '2,596', '2,265', '2,164', '2,514', '1,905', '50,161', '46,401', '2,275', '3,281', '2,659', '34,856', '2,134', '1,705', '8', '5,103', '78,639', '2,356', '90', '691', '3,345', '30,860', '5,055', '1,645', '5,573', '331', '3,133', '6,621', '5,723', '5,626', '47,178', '3,435', '12,424', '560', '1,683', '56,816', '3,023', '2,208', '520', '1,943', '12,503', '7,334', '5,653', '463', '2,769', '2,485', '10,110', '1,417', '1,114', '290,269', '1,941', '814', '4,462', '24,138', '1,853', '7,561', '11,581', '5,535', '3,374', '69,763', '10,582', '5,863', '14,009', '811', '9,704', '7,544', '2,913', '1,337', '28,707', '2,880', '195', '6,373', '419', '3,030', '676', '431', '42,336', '76,145', '3,881', '1,462', '2,949', '3,135', '247', '3,383', '1,335', '32,562', '1,927', '21,743', '673', '1,142', '485', '5,847', '3,273', '261', '10,926', '521', '62,340', '5,555', '3,791', '191', '144', '6,265', '831', '5,610', '2,068', '21,575', '5,366', '18,274', '5,139', '9,938', '662', '6,803', '1,898', '1,395', '697', '1,973', '3,544', '10,177', '1,152', '214', '3,155', '5,171', '1,297', '2,336', '5,971', '1,984', '23,229', '8,037', '5,154', '17,770', '873', '12,368', '1,908', '10,500', '9,768', '17,051', '1,493', '42', '816', '9,437', '492', '450', '7,867', '633', '4,657', '11,015', '2,946', '41,086', '5,957', '5,534', '2,561', '24,359', '22', '9,078', '999', '23,532', '731', '2,671', '2,997', '29,356', '1,445', '2,446', '13,497', '1,269', '1,123', '1,925', '9,776', '12,508', '2,304', '4,348', '1,158', '50,784', '9,418', '3,026', '3,253', '798', '1,208', '1,434', '2,366', '9,190', '2,082', '896', '3,489', '9,933', '3,647', '18,743', '1,451', '29,283', '401', '4,888', '506', '2,280', '27,004', '1,121', '3,395', '95,392', '2,696', '8,417', '2,931', '2,406', '9,844', '3,208', '2,627', '11,507', '17,558', '2,581', '59,175', '379', '5,360', '1,053', '1,961', '87,529', '41,740', '11,878', '4,400', '1,365', '7,667', '629', '4,306', '4,530', '9,125', '364', '663', '35,157', '9,638', '1,217', '4,116', '1,265', '637,275', '605', '2,033', '2,204', '4,452', '219', '91', '1,638', '2,677', '6,051', '11,178', '48,399', '365', '1,669', '2,307', '9,857', '2,278', '9,366', '20,567', '1,454', '1,073', '1,970', '938', '704', '225', '9,794', '3,296', '4,210', '1,264', '8,443', '439', '8,711', '9,293', '8,487', '134', '137,693', '912', '9,272', '1,288', '107', '116', '3,233', '9,784', '3,503', '790', '1,034', '3,663', '4,825', '8,809', '12,425', '3,598', '47', '149,800', '5,297', '133', '49,931', '33,223', '3,839', '1,180', '138,777', '3,461', '9,314', '2,263', '551', '3,022', '5,609', '4,560', '2,301', '11,623', '2,114', '12,778', '995', '103', '1,048', '487', '3,148', '44,410', '11,488', '9,111', '5,264', '50,426', '1,823', '557', '29,398', '1,738', '1,620', '1,090', '1,198', '9,740', '4,760', '1,919', '223', '1,453', '2,797', '15,833', '39,096', '1,720', '58,290', '1,299', '2,642', '25,951', '2,939', '4,508', '2,733', '4,644', '9,758', '9,868', '9,841', '2,821', '9,492', '142', '249', '16,449', '26,908', '3,200', '9,658', '95,202', '4,130', '3,691', '3,812', '6,419', '2,634', '5,105', '1,449', '770', '1,544', '46', '1,062', '19,644', '10,237', '574', '11,408', '19,700', '1,262', '2,456', '10,754', '12,481', '58', '921', '1,979', '1,965', '8,017', '130', '216', '19,401', '9,350', '3,046', '1,658', '15,893', '2,460', '3,378', '241', '34,313', '949', '5,697', '4,787', '30,702', '976', '1,141', '1,125', '3,853', '37,112', '2,755', '2,547', '1,374', '340', '9,037', '87,469', '4,848', '9,137', '7,527', '2,126', '5,764', '10,868', '49,483', '5,692', '636', '833', '6,026', '117', '804', '41,322', '5,864', '783', '406', '1,751', '3,332', '4,827', '2,210', '7,033', '1,019', '2,512', '62,891', '1,338', '1,512', '7,041', '1,520', '1,715', '955', '5,621', '2,220', '684', '285', '9,904', '7,902', '4,383', '49,515', '37,139', '5,870', '29,738', '9,855', '1,763', '18,710', '290', '941', '3,121', '3,011', '375', '1,252', '1,775', '7,405', '2,885', '615', '116,119', '29,393', '1,344', '133,656', '785', '923', '2,960', '2,910', '4,074', '1,920', '14,201', '3,521', '2,859', '2,140', '437', '2,369', '22,868', '11,747', '459', '179', '2,287', '1,924', '202', '71', '8,159', '2,624', '2,577', '9,249', '835', '517', '3,414', '2,188', '526', '36,940', '11,292', '6,189', '6,065', '4,558', '985', '1,168', '7,715', '3,132', '6,304', '3,248', '7,952', '2,573', '6,187', '4,441', '1,532', '2,321', '6,149', '1,772', '881', '2,155', '1,552', '4,089', '8,644', '2,959', '764', '1,523', '685', '13,247', '2,945', '15,402', '12,720', '266', '5,236', '38,521', '659', '1,130', '1,780', '9,625', '9,712', '4,219', '2,125', '2,567', '-1', '2,866', '9,348', '910', '1,225', '4,495', '1,817', '9,612', '2,611', '6,731', '1,727', '3,410', '1,118', '883', '5,164', '84,641', '234', '1,045', '987', '2,276', '211', '2,980', '13,805', '3,483', '264', '110', '12,121', '315', '227', '3,138', '1,459', '99,380', '13,892', '1,590', '1,404', '8,129', '2,453', '5,798', '1,921', '11,700', '4,595', '1,563', '3,358', '3,702', '5,910', '69,387', '86,502', '8,228', '10,872', '255', '2,042', '1,319', '461', '2,728', '3,827', '9,426', '32,685', '2,622', '2,421', '2,964', '468', '3,610', '573', '4,434', '208', '1,239', '1,557', '581', '1,413', '3,516', '8,143', '3,346', '3,188', '3,102', '2,951', '9,928', '12,379', '3,354', '1,762', '19,305', '1,729', '3,892', '9,084', '49,056', '2,858', '3,456', '1,713', '983', '330', '371', '11,909', '703', '8,642', '9,345', '16,927', '11,123', '13,266', '2,009', '111', '4,140', '7,434', '8,035', '271', '2,661', '1,957', '6,871', '9,476', '5,012', '652', '856', '1,446', '2,558', '8,746', '724', '3,681', '6,256', '6,579', '10,696', '262', '241,517', '14,996', '46,449', '924', '1,724', '9,812', '2,411', '5,642', '9,219', '2,064', '11,314', '7,781', '24,192', '2,156', '43,560', '7,450', '1,353', '16,625', '9,032', '12,585', '3,098', '68', '10,857', '14,225', '8,363', '9,666', '1,343', '556', '181', '555', '2,848', '77', '6,211', '6,940', '3,804', '37,240', '218', '7,471', '9,670', '5,608', '1,178', '1,918', '1,064', '2,119', '286', '1,477', '32,518', '49,058', '746', '2,542', '1,370', '103,122', '1,227', '3,745', '3,095', '3,298', '35,933', '9,646', '10,170', '13,410', '3,213', '3,632', '1,400', '6,358', '752', '2,806', '438', '865', '1,190', '8,846', '4,084', '3,689', '2,480', '108', '948', '3,738', '174', '6,592', '2,071', '654', '57,405', '8,925', '8,688', '1,489', '11,877', '9,148', '10,581', '63', '12,359', '2,035', '825', '9,512', '3,201', '5,843', '1,485', '1,108', '8,113', '8,229', '50,075', '139,639', '1,145', '442', '15,967', '535', '1,275', '529', '9,457', '2,006', '452', '3,890', '304', '1,549', '2,203', '1,766', '228', '156', '3,192', '3,330', '10', '2,351', '9,071', '2,518', '3,050', '14,120', '890', '1,005', '3,396', '108,183', '2,023', '6,417', '32,329', '2,261', '2,393', '846', '2,571', '9,283', '7,665', '141', '69,411', '10,436', '106,079', '129', '3,024', '44,489', '392', '2,132', '10,576', '681', '30,711', '2,937', '4,002', '2,273', '5,214', '1,244', '2,825', '23,759', '49,534', '1,874', '586', '12,443', '36,263', '3,849', '398', '33,188', '1,148', '2,650', '4,431', '5,372', '1,040', '992', '341', '394', '5,962', '8,530', '808', '2,250', '9,891', '1,660', '59,933', '678', '41', '2,971', '9,535', '1,988', '91,859', '298', '65,681', '767', '8,045', '454', '6,460', '3,608', '9,186', '383', '5,634', '3,054', '2,975', '861', '2,595', '2,704', '10,447', '7,404', '822', '37,703', '8,179', '5,307', '5,558', '1,162', '9,387', '29', '643', '5,570', '2,523', '7,164', '16,956', '428', '4,132', '1,182', '6,867', '146,319', '2,234', '5,248', '6,989', '1,050', '242', '5,965', '2,695', '12,795', '2,326', '470', '4,081', '2,315', '20,849', '2,237', '50,781', '1,654', '3,062', '1,472', '2,470', '1,020', '6,722', '680', '4,876', '22,629', '966', '5,708', '8,872', '3,384', '458', '16,664', '665', '7,646', '18,965', '6,964', '1,618', '45,422', '2,297', '2,238', '1,686', '2,101', '882', '9,692', '6,484', '14,294', '5,955', '66', '14,067', '5,092', '53,116', '9,049', '1,884', '17,385', '9,459', '2,590', '17,693', '5,167', '733', '1,306', '845', '4,851', '9,765', '32,790', '1,463', '15,803', '8,857', '3,771', '596', '2,941', '3,981', '115', '49,856', '942', '2,005', '413', '933', '18,709', '2,466', '18', '1,440', '2,616', '1,009', '4,655', '2,731', '2,750', '20,942', '388', '1,600', '47,891', '5,339', '604', '1,012', '10,729', '350', '15,765', '13', '2,103', '9,801', '4,889', '931', '37,202', '138', '24,957', '2,483', '5,424', '2,207', '12,110', '3,475', '111,122', '2,003', '5,652', '19,334', '5,072', '226', '3,185', '1,742', '5,889', '8,156', '177', '5,948', '3,701', '1,877', '10,352', '1,940', '1,831', '1,855', '2,827', '1,363', '3,399', '3,310', '411', '4,209', '6,127', '14,837', '1,241', '5,062', '96,705', '1,266', '65,221', '166', '4,771', '5,643', '1,116', '150', '13,009', '21,014', '4,535', '75', '692', '3,087', '7,079', '102', '23,342', '1,966', '6,574', '97,044', '1,589', '580', '1,467', '1,904', '1,699', '3,800', '5,504', '3,408', '1,274', '9,275', '13,253', '6,368', '5,839', '19,292', '2,730', '2,289', '4,998', '500', '3,887', '2,968', '7,184', '95', '10,106', '3,066', '5,616', '1,431', '735', '690', '4,276', '4,716', '836', '48,775', '434', '1,368', '5,069', '2,601', '5,613', '299', '20,832', '4,504', '1,004', '380', '2,963', '44', '3,146', '1,765', '4,952', '9,254', '1,947', '1,187', '2,309', '777', '2,335', '3,152', '8,144', '42,302', '1,962', '3,820', '3,730', '2,077', '49,617', '1,875', '1,895', '11,837', '78,502', '2,901', '3,558', '2,200', '10,355', '4,259', '1,484', '7,569', '3,452', '1,519', '806', '564', '988', '616', '496', '2,767', '8,661', '3,108', '3,883', '2,026', '11,592', '2,828', '9,236', '16,796', '4,854', '5,265', '44,356', '1,457', '197', '1,626', '6,082', '2,096', '1,644', '4,147', '2,054', '19,774', '13,386', '591', '2,770', '42,451', '306', '39,631', '6,640', '3,481', '128,478', '19,483', '1,470', '11,966', '753', '3,941', '8,785', '2,799', '4,109', '3,704', '258', '1,952', '2,163', '2,633', '6,170', '523', '5,568', '1,209', '9,824', '14,113', '278', '876', '41,470', '49,472', '1,735', '18,079', '3,927', '283', '8,224', '2,117', '1,521', '2,645', '2,503', '1,496', '6,365', '50', '4,897', '19,045', '867', '25,332', '106,366', '1,852', '1,071', '336', '8,678', '1,196', '3,195', '656', '706', '2,526', '2,794', '1,220', '637,385', '2,218', '99,734', '812', '3,684', '1,375', '10,040', '7,077', '374', '4,741', '78', '8,280', '1,986', '585', '2,439', '275', '14,110', '3,958', '6,811', '3,906', '87', '893', '1,373', '28,984', '1,194', '8,884', '16,421', '3,306', '1,429', '3,770', '4,407', '31,997', '1,228', '4,618', '5,941', '7,382', '10,520', '12,883', '1,914', '52,245', '1,243', '980', '6,112', '49,635', '1,133', '670', '9,503', '801', '1,816', '54,174', '1,140', '3,317', '49,080', '1,080', '4,319', '1,105', '46,053', '42,004', '2,160', '9,277', '9,487', '5,562', '1,033', '512', '702', '946', '621', '294,530', '11', '33,191', '1,597', '1,854', '182', '1,352', '15', '38', '1,490', '9,498', '8,886', '1,783', '455', '3,169', '25', '1,069', '2,133', '310', '23,972', '1,938', '3,019', '1,070', '7,130', '577', '10,509', '4,559', '1,890', '9,490', '8,136', '563', '2,981', '48,320', '2,868', '601', '5,862', '2,721', '8,743', '0', '86,595', '7,409', '1,964', '1,785', '3,723', '936', '8,128', '7,448', '1,318', '1,122', '88', '35,668', '1,675', '5,618', '10,024', '3,060', '4,363', '844', '407', '880', '205', '9,769', '1,380', '1,726', '2,195', '11,541', '5,782', '3,230', '2,729', '1,392', '16,025', '11,533', '414', '7,011', '6,839', '3,576', '7,356', '1,421', '1,535', '339', '740', '352', '376', '1,367', '3,617', '2,162', '1,246', '2,058', '9,767', '52', '2,083', '3,093', '1,047', '5,014', '1,247', '791', '119,868', '4', '3,151', '1,573', '4,947', '2,509', '2,085', '2,229', '4,101', '1,935', '4,172', '9,368', '25,620', '21,000', '1,015', '8,027', '3,685', '3,753', '5,213', '147', '4,943', '40,555', '8,481', '1,497', '7,637', '566', '2,118', '11,682', '469', '12,614', '1,068', '4,237', '1,086', '108,627', '2,452', '4,052', '1,909', '37,192', '12,800', '1,305', '1,933', '9,823', '4,674', '4,654', '5,567', '316', '2,242', '11,030', '614', '1,513', '37,633', '76,167', '1,828', '15,878', '5,599', '758', '1,647', '5,191', '3,472', '38,404', '14,316', '9,414', '1,081', '1,889', '5,269', '9,505', '14,436', '229', '1,623', '5,517', '9,424', '689', '668', '9,946', '4,875', '7', '6,912', '319', '8,437', '981', '15,102', '2,262', '5,840', '3,715', '3,092', '666', '813', '14,550', '317', '4,274', '3,182', '3,497', '5,684', '2,879', '1,747', '5,169', '2,804', '3,476', '354', '2,001', '1,101', '1,642', '99,763', '552', '824', '1,562', '2,323', '3,494', '25,195', '3,808', '5,470', '9,231', '15,741', '410', '918', '162', '8,700', '3,478', '76', '23,512', '3,353', '3,085', '1,024', '31,340', '7,826', '4,056', '4,512', '782', '4,636', '17', '5,660', '539', '572', '56,615', '19,686', '1,873', '10,988', '3,736', '879', '792', '9,080', '575', '5,400', '3,799', '4,620', '14,487', '13,150', '1,495', '3,084', '1,041', '771', '522', '109', '9,388', '29,784', '3,436', '53,352', '696', '9', '14,211', '311', '34,247', '4,211', '915', '40,344', '14,002', '694', '4,480', '2,123', '978', '4,557', '6,303', '1,617', '986', '2,744', '2,296', '10,393', '2,716', '32,427', '1,972', '4,406', '1,950', '11,158', '6,220', '817', '5,394', '10,238', '1,736', '2,020', '384', '2,694', '21,549', '2,130', '1,591', '1,298', '6,438', '3,186', '4,045', '31,258', '49,830', '5,359', '86', '1,994', '2,874', '318', '11,580', '1,974', '7,828', '1,942', '9,296', '7,856', '11,399', '19,056', '279', '466', '94', '3,157', '3,614', '728', '930', '1,514', '6,047', '175', '98', '7,767', '699', '8,954', '6,070', '5,180', '2,374', '1,078', '5,460', '1,254', '1,737', '1,806', '1,903', '5,161', '1,899', '430', '3,474', '2,174', '1,982', '1,631', '11,593', '508', '4,011', '12,815', '8,738', '1,423', '448', '1,436', '51,119', '2,854', '4,055', '34,939', '49,886', '4,527', '119', '5,614', '23,554', '1,022', '3,417', '830', '2,110', '23,447', '1,930', '2,404', '9,318', '2,239', '1,197', '5,303', '810', '1,296', '1,870', '8,196', '1,347', '989', '3,292', '24', '7,860', '2,224', '20,388', '1,522', '554', '940', '12,673', '9,861', '2,306', '1,157', '2,249', '9,951', '194', '132', '9,442', '9,940', '1,832', '3,821', '8,120', '2,146', '26,737', '1,032', '43', '6,505', '7,943', '5,620', '1,240', '5,951', '1,734', '1,237', '320', '8,020', '5,648', '1,468', '11,751', '7,677', '112', '5,873', '10,608', '2,905', '2,612', '54', '8,964', '2,636', '1,676', '19,851', '7,385', '1,799', '1,383', '189', '8,168', '1,534', '19,102', '52,294', '85', '5,867', '4,776', '20,377', '5,788', '29,098', '2,829', '13,364', '6,671', '1,525', '6,126', '1,358', '12,727', '3,341', '8,559', '7,190', '27,070', '103,432', '25,611', '3,260', '9,641', '5,096', '13,299', '94,936', '98,985', '1,479', '2,664', '8,449', '2,592', '1,293', '124', '84', '3,418', '1,839', '41,173', '4,997', '8,441', '8,739', '3,365', '1,372', '5,670', '1,559', '12,626', '3,254', '101', '550', '1,811', '18,342', '12,582', '528', '9,248', '424', '1,863', '736', '1,326', '4,479', '5,550', '3,039', '423', '4,094', '19,772', '1,976', '3,816', '11,642', '73', '1,872', '904', '1,095', '917', '4,668', '954', '895', '1,428', '49,338', '2,564', '10,128', '2,376', '2,283', '4,073', '14,285', '827', '12,527', '645', '1,455', '9,669', '2,603', '934', '1,410', '504', '49,487', '4,214', '4,229', '797', '1,334', '148', '60', '2,327', '7,706', '2,801', '7,134', '44,129', '2,093', '23,697', '751', '7,377', '714', '637', '70,063', '3,116', '71,902', '730', '3,454', '2,151', '1,150', '15,578', '186', '686', '584', '2,013', '1,882', '1,056', '14,182', '14', '20,702', '95,009', '472', '2,607', '3,601', '21,558', '2,428', '2,414', '3,659', '39,510', '302', '646', '1,801', '519', '2,549', '11,108', '1,060', '39,134', '1,181', '718', '31,280', '10,211', '3,228', '639', '889', '956', '484', '1,844', '34,650', '12,504', '10,782', '2,172', '8,704', '2,693', '34,067', '1,990', '238', '9,693', '9,033', '2,938', '4,207', '56,460', '10,195', '939', '6,533', '1,767', '8,122', '834', '2,112', '10,202', '9,744', '12,103', '3,850', '878', '4,551', '10,620', '2,186', '2,803', '944', '1,127', '507', '9,846', '98,175', '2,108', '327', '1,901', '22,351', '55,872', '3,334', '15,030', '3,529', '1,390', '5,476', '4,635', '2,464', '6,862', '41,647', '525', '28,089', '661', '7,341', '46,988', '899', '524', '79,618', '1,507', '193', '9,177', '838', '1,046', '1,491', '9,107', '823', '3,241', '4,007', '1,848', '2,431', '5,346', '38,585', '127', '305', '1,689', '12,721', '7,136', '611', '295', '98,593', '1,786', '1,954', '3,880', '644', '3,404', '1,787', '1,135', '1,926', '329', '1,648', '10,533', '7,321', '3,101', '104', '2,292', '69', '900', '6,172', '1,515', '4,357', '4,445', '608', '16,123', '37,097', '7,015', '3,851', '3,645', '9,187', '1,761', '1,657', '10,724', '1,602', '5,825', '1,362', '118', '1,351', '993', '135,087', '29,328', '417', '754', '2,078', '2,489', '2,454', '5,617', '9,820', '9,570', '984', '13,284', '8,910', '28', '13,103', '334', '3,532', '4,397', '1,482', '1,790', '945', '7,014', '33', '6,599', '8,180', '1,670', '4,083', '2,741', '862', '7,594', '869', '11,598', '3,624', '4,077', '4,180', '1,922', '8,656', '1,025', '4,797', '3,697', '1,076', '4,032', '2,816', '7,212', '27,630', '23', '13,794', '246', '6,151', '3,422', '9,189', '435', '851', '18,544', '1,154', '534', '56', '31', '1,075', '3,357', '385', '2,070', '3,937', '30,015', '5,766', '3,368', '518', '9,538', '1,028', '671', '3,746', '148,649', '21,054', '4,198', '748', '1,769', '5,938', '2,625', '10,387', '7,512', '1,350', '421', '19,973', '1,614', '5,619', '3,447', '8,982', '1,424', '43,836', '1,481', '2,170', '19', '1,607', '1,499', '5,560', '163', '4,696', '1,718', '11,319', '7,998', '1,229', '3,028', '10,224', '7,727', '2,788', '3,205', '1,837', '355', '653', '815', '15,023', '5,010', '45,644', '14,202', '222', '1,900', '8,358', '1,312', '2,305', '3,156', '3,140', '165,588', '1,324', '21,633', '4,001', '1,199', '3,469', '1,129', '12,725', '967', '4,938', '11,934', '1,001', '1,311', '903', '14,907', '28,684', '3,242', '1,710', '10,731', '8,784', '2,908', '1,382', '8,822', '215', '7,806', '2,583', '28,170', '784', '37,380', '1,177', '1,576', '2,089', '4,035', '3,673', '1,891', '2,018', '4,379', '2,927', '3,403', '2,842', '9,736', '6,591', '7,735', '979', '5,591', '2,630', '1,236', '7,411', '1,789', '26,192', '43,309', '28,709', '3,717', '928', '637,377', '2,139', '6,069', '116,992', '6,137', '5,752', '2,025', '1,059', '8,415', '5,952', '63,115'}\n",
            "quality_6 {'45', '55', '548', '488', '235', '40', '397', '178', '543', '115', '377', '185', '413', '386', '18', '388', '276', '350', '344', '161', '13', '308', '513', '477', '464', '26', '138', '224', '404', '263', '30', '474', '541', '226', '362', '171', '402', '177', '381', '303', '165', '121', '411', '67', '254', '146', '89', '491', '166', '567', '150', '396', '367', '75', '482', '248', '300', '16', '102', '256', '280', '475', '391', '580', '443', '527', '503', '446', '301', '313', '500', '296', '268', '95', '164', '353', '434', '273', '206', '299', '236', '380', '44', '159', '3', '467', '83', '155', '497', '547', '343', '168', '105', '415', '27', '445', '39', '282', '366', '564', '200', '237', '496', '433', '64', '49', '542', '197', '505', '409', '591', '306', '590', '258', '137', '523', '176', '278', '135', '265', '531', '283', '338', '390', '50', '154', '336', '201', '184', '324', '48', '32', '244', '516', '374', '78', '585', '8', '198', '275', '90', '34', '87', '331', '99', '122', '560', '532', '158', '93', '345', '337', '520', '420', '463', '217', '579', '512', '207', '92', '418', '11', '21', '182', '15', '38', '447', '562', '195', '419', '25', '431', '310', '577', '247', '257', '12', '145', '183', '449', '563', '485', '261', '521', '277', '0', '144', '191', '429', '20', '88', '395', '440', '441', '214', '205', '212', '587', '180', '414', '351', '42', '450', '492', '326', '62', '339', '22', '259', '346', '352', '52', '425', '357', '4', '188', '270', '187', '399', '328', '81', '147', '566', '128', '51', '401', '250', '506', '35', '349', '436', '316', '379', '510', '167', '364', '267', '192', '219', '91', '348', '229', '365', '325', '157', '140', '126', '7', '5', '319', '173', '225', '317', '239', '287', '499', '292', '134', '354', '494', '588', '107', '360', '552', '160', '116', '65', '570', '410', '2', '47', '162', '133', '76', '251', '131', '17', '551', '539', '572', '358', '61', '284', '103', '169', '522', '109', '557', '209', '9', '311', '223', '347', '114', '149', '291', '582', '142', '249', '384', '72', '369', '6', '86', '46', '318', '574', '58', '130', '466', '216', '94', '279', '544', '252', '199', '175', '98', '79', '241', '74', '432', '571', '486', '120', '430', '592', '53', '221', '508', '340', '448', '59', '117', '393', '288', '119', '285', '24', '281', '389', '554', '568', '194', '132', '290', '43', '375', '320', '342', '112', '478', '54', '538', '481', '189', '437', '427', '459', '85', '549', '297', '179', '515', '202', '71', '332', '272', '526', '312', '245', '597', '80', '97', '576', '124', '84', '333', '101', '550', '528', '136', '266', '423', '-1', '123', '73', '314', '57', '537', '240', '234', '289', '211', '264', '504', '110', '565', '227', '60', '368', '148', '361', '400', '196', '599', '186', '584', '255', '461', '14', '253', '468', '208', '302', '581', '519', '479', '495', '238', '330', '456', '451', '473', '111', '271', '309', '321', '37', '213', '507', '262', '530', '327', '533', '525', '68', '151', '260', '501', '524', '181', '193', '555', '77', '143', '170', '127', '356', '218', '305', '243', '295', '329', '104', '69', '438', '118', '108', '82', '174', '417', '63', '28', '334', '480', '442', '535', '33', '529', '452', '359', '304', '156', '228', '10', '172', '23', '246', '435', '141', '534', '129', '56', '31', '294', '392', '518', '152', '586', '398', '153', '421', '204', '341', '394', '190', '19', '476', '600', '41', '163', '230', '323', '540', '298', '454', '232', '355', '383', '483', '222', '220', '559', '210', '1', '231', '36', '545', '490', '29', '589', '70', '428', '125', '378', '215', '242', '203', '96', '470', '322', '307', '100', '274', '462', '426', '569', '511', '382', '598', '458', '139', '113', '106', '373', '370', '269', '66'}\n",
            "quality_7 {'788', '1,884', '961', '610', '6,984', '45', '660', '55', '548', '235', '3,589', '40', '1,944', '6,545', '397', '178', '3,600', '2,462', '115', '185', '413', '1,132', '18', '2,699', '388', '276', '465', '350', '344', '161', '13', '308', '477', '866', '464', '26', '3,625', '138', '4,927', '224', '4,338', '263', '4,642', '725', '30', '422', '6,695', '2,166', '226', '5,987', '362', '177', '171', '381', '303', '165', '5,219', '121', '1,315', '3,310', '4,075', '67', '254', '146', '89', '1,389', '502', '491', '5,576', '166', '150', '3,549', '1,272', '5,274', '396', '367', '75', '648', '248', '3,000', '16', '102', '256', '4,363', '3,515', '475', '1,589', '443', '4,602', '2,147', '1,274', '807', '500', '1,153', '268', '95', '5,285', '735', '164', '3,630', '4,454', '1,203', '353', '7,019', '206', '299', '236', '609', '1,115', '1,004', '5,952', '594', '380', '1,593', '159', '44', '3', '83', '155', '343', '467', '7,124', '497', '5,136', '777', '168', '105', '27', '39', '366', '1,824', '282', '6,223', '2,286', '2,782', '4,861', '6,506', '1,263', '2,767', '1,519', '200', '237', '3,993', '3,108', '433', '1,144', '6,140', '1,476', '64', '49', '197', '505', '409', '4,148', '2,436', '591', '306', '5,506', '753', '1,777', '960', '258', '4,010', '137', '1,759', '523', '176', '1,209', '278', '135', '1,735', '1,174', '283', '338', '390', '5,963', '1,134', '50', '6,993', '154', '3,360', '336', '1,615', '3,195', '706', '201', '2,794', '812', '184', '324', '48', '32', '244', '374', '78', '710', '713', '5,939', '585', '8', '198', '275', '90', '4,125', '2,918', '34', '87', '1,373', '2,903', '331', '99', '5,114', '122', '957', '560', '4,618', '1,003', '158', '93', '420', '1,704', '6,014', '1,914', '6,510', '463', '670', '217', '6,351', '1,080', '5,039', '1,105', '2,358', '579', '3,448', '702', '207', '92', '418', '11', '6,300', '4,387', '5,090', '21', '3,772', '182', '15', '38', '562', '693', '195', '2,390', '5,277', '444', '455', '1,840', '25', '638', '762', '431', '310', '577', '247', '257', '1,927', '12', '145', '183', '583', '673', '485', '261', '4,138', '6,132', '277', '5,244', '0', '712', '144', '642', '1,088', '1,785', '191', '4,331', '6,269', '429', '335', '860', '1,318', '20', '88', '745', '395', '647', '844', '440', '441', '407', '6,877', '880', '205', '214', '839', '1,603', '1,027', '628', '2,259', '212', '2,729', '180', '4,346', '414', '42', '450', '633', '326', '578', '62', '3,194', '2,416', '22', '259', '376', '352', '2,162', '52', '1,047', '1,269', '4,277', '425', '2,997', '4', '188', '270', '2,304', '187', '328', '3,026', '1,043', '81', '147', '2,674', '896', '1,497', '128', '5,559', '641', '51', '1,668', '250', '809', '35', '2,619', '1,121', '2,057', '2,403', '2,627', '2,781', '2,094', '316', '3,311', '3,643', '167', '1,513', '614', '4,120', '768', '758', '2,198', '663', '267', '2,332', '605', '192', '682', '229', '91', '348', '219', '365', '325', '157', '140', '126', '6,296', '2,738', '7', '5', '319', '1,258', '6,965', '3,056', '666', '225', '813', '317', '3,296', '287', '239', '1,745', '134', '292', '354', '588', '107', '160', '65', '116', '850', '4,157', '1,034', '410', '2', '47', '162', '76', '133', '3,633', '251', '1,051', '913', '131', '17', '539', '4,381', '2,301', '358', '61', '561', '284', '1,143', '103', '487', '5,027', '2,371', '3,526', '1,041', '4,779', '3,003', '169', '109', '5,904', '5,085', '9', '311', '223', '2,213', '6,176', '4,115', '347', '114', '149', '291', '943', '772', '5,033', '986', '3,822', '1,757', '2,296', '363', '843', '582', '142', '249', '2,953', '384', '5,721', '72', '1,591', '5,828', '369', '6', '86', '46', '5,266', '318', '574', '58', '1,089', '130', '279', '216', '94', '252', '199', '98', '617', '1,627', '79', '241', '2,256', '74', '2,994', '432', '7,200', '2,686', '5,146', '976', '1,141', '486', '5,452', '120', '430', '2,791', '2,174', '53', '2,566', '221', '508', '2,547', '340', '6,369', '416', '4,458', '4,789', '3,683', '448', '59', '804', '117', '3,924', '2,948', '393', '998', '119', '4,359', '877', '1,019', '830', '6,247', '2,088', '3,479', '2,440', '2,298', '684', '1,500', '24', '2,641', '2,400', '389', '281', '568', '2,529', '132', '194', '290', '6,490', '43', '6,534', '1,252', '342', '5,275', '859', '615', '112', '471', '478', '54', '538', '1,183', '3,252', '2,764', '481', '189', '2,369', '85', '1,376', '549', '297', '179', '202', '71', '2,624', '835', '1,508', '517', '312', '245', '985', '80', '1,168', '4,046', '97', '655', '1,857', '124', '84', '3,486', '2,321', '2,401', '333', '6,645', '881', '101', '1,366', '2,959', '764', '528', '136', '1,863', '736', '1,147', '1,813', '266', '4,849', '659', '884', '5,270', '123', '2,002', '73', '2,183', '3,001', '1,826', '314', '1,230', '57', '537', '289', '645', '1,575', '211', '264', '2,538', '110', '6,753', '1,459', '227', '60', '148', '623', '3,138', '361', '400', '6,531', '5,911', '2,093', '1,672', '5,425', '714', '196', '3,582', '599', '4,501', '186', '2,884', '7,132', '14', '472', '875', '253', '5,490', '778', '4,821', '208', '4,456', '1,557', '6,588', '5,584', '718', '1,599', '495', '484', '238', '330', '456', '4,347', '871', '473', '111', '819', '271', '5,448', '309', '4,702', '321', '37', '652', '856', '213', '6,080', '262', '6,462', '530', '327', '3,304', '453', '1,120', '525', '68', '1,000', '151', '2,684', '260', '4,395', '1,348', '501', '556', '1,507', '181', '524', '555', '77', '193', '1,046', '143', '747', '6,910', '2,599', '170', '127', '356', '218', '1,689', '6,199', '1,317', '305', '1,744', '6,466', '2,989', '295', '1,064', '3,880', '286', '4,583', '2,171', '848', '1,926', '5,907', '746', '329', '1,722', '3,101', '104', '4,750', '1,200', '900', '69', '6,358', '1,017', '608', '752', '4,286', '865', '2,181', '6,686', '2,486', '118', '108', '1,598', '82', '174', '654', '754', '417', '4,366', '630', '63', '2,692', '28', '1,251', '334', '442', '2,004', '33', '529', '6,599', '535', '452', '304', '156', '1,475', '869', '10', '3,330', '1,827', '4,127', '1,025', '172', '23', '246', '2,926', '435', '141', '973', '129', '56', '31', '294', '385', '681', '2,294', '5,865', '518', '152', '1,028', '748', '1,703', '398', '3,739', '2,382', '153', '1,040', '341', '1,614', '204', '3,058', '1,280', '394', '190', '2,113', '6,573', '19', '593', '600', '2,021', '41', '5,560', '744', '163', '1,718', '323', '230', '540', '767', '2,310', '7,199', '355', '483', '383', '222', '220', '612', '1,312', '210', '2,029', '1', '36', '2,877', '3,316', '29', '643', '1,663', '765', '125', '70', '428', '5,433', '1,710', '378', '635', '1,937', '215', '242', '203', '784', '2,051', '96', '470', '307', '100', '274', '2,470', '1,020', '426', '1,789', '139', '799', '4,420', '665', '2,139', '5,304', '113', '6,069', '106', '1,678', '1,611', '373', '2,924', '370', '269', '2,604', '634', '66'}\n",
            "quality_8 {'3', '23', '20', '1', '27', '35', '29', '31', '11', '2', '125', '47', '21', '16', '18', '15', '38', '42', '37', '17', '6', '24', '32', '25', '13', '22', '14', '8', '26', '28', '43', '12', '19', '68', '4', '7', '5', '9', '10', '73', '1,317', '0'}\n",
            "quality_9 {'392,378', '16,353', '45', '733', '5,059', '235', '845', '40', '397', '178', '596', '115', '1,132', '386', '18', '5,078', '388', '1,012', '276', '3,727', '13', '1,235', '161', '1,634', '11,110', '26', '138', '404', '224', '263', '30', '226', '362', '177', '171', '381', '1,855', '994', '121', '1,315', '1,438', '67', '71,049', '254', '4,350', '146', '89', '166', '150', '396', '75', '482', '300', '248', '16', '3,515', '102', '280', '475', '139,956', '10,126', '17,114', '446', '16,557', '313', '296', '268', '1,231', '95', '1,701', '836', '6,680', '609', '1,115', '380', '3,352', '44', '159', '3', '83', '155', '1,695', '105', '168', '27', '672', '39', '2,789', '366', '1,824', '282', '200', '237', '293', '12,098', '6,140', '64', '49', '1,457', '197', '2,096', '1,716', '892', '10,685', '590', '258', '137', '114,760', '176', '278', '855', '135', '531', '30,636', '338', '1,613', '20,050', '50', '154', '336', '706', '201', '184', '546', '48', '324', '32', '1,905', '78', '713', '585', '8', '198', '90', '275', '50,656', '34', '832', '1,546', '87', '20,258', '99', '122', '776', '1,003', '158', '93', '5,067', '1,243', '217', '3,824', '2,976', '4,343', '207', '92', '11', '1,167', '22,332', '21', '811', '182', '1,352', '15', '38', '195', '2,506', '419', '514', '25', '397,424', '247', '12', '183', '145', '261', '2,721', '0', '2,269', '191', '144', '613', '335', '20', '88', '3,641', '7,552', '205', '212', '180', '42', '1,261', '17,324', '5,625', '326', '62', '2,743', '22', '346', '52', '1,047', '2,671', '3,967', '425', '4', '270', '187', '1,290', '81', '147', '1,497', '128', '7,747', '11,327', '51', '250', '35', '2,505', '489', '2,057', '5,567', '167', '364', '2,293', '1,843', '192', '55,080', '219', '229', '91', '365', '157', '126', '7', '5', '173', '225', '26,139', '134', '2,364', '494', '107', '9,057', '160', '65', '116', '233', '2', '162', '47', '133', '131', '17', '551', '572', '4,303', '61', '575', '35,350', '103', '2,100', '169', '209', '109', '14,086', '9', '14,716', '4,541', '223', '2,193', '2,500', '114', '149', '4,079', '5,041', '31,143', '582', '142', '249', '817', '384', '72', '721', '2,634', '1,449', '6', '86', '46', '318', '5,915', '58', '620', '130', '466', '279', '94', '252', '175', '98', '3,577', '79', '3,693', '74', '5,331', '6,168', '1,254', '62,735', '1,141', '486', '29,057', '120', '53', '1,631', '221', '5,242', '709', '3,639', '448', '59', '636', '804', '117', '5,183', '288', '38,552', '406', '119', '6,529', '1,022', '1,715', '285', '21,886', '24', '281', '940', '194', '132', '290', '19,411', '1,967', '43', '375', '342', '7,405', '44,804', '112', '478', '54', '10,802', '8,468', '481', '4,450', '189', '85', '179', '515', '202', '71', '272', '2,357', '11,846', '245', '29,506', '3,236', '80', '3,733', '97', '6,147', '922', '84', '303,795', '27,992', '23,404', '101', '136', '736', '659', '910', '123', '73', '1,095', '5,088', '57', '1,342', '240', '827', '234', '289', '645', '211', '934', '88,920', '110', '227', '60', '1,186', '196', '38,875', '186', '54,560', '461', '14', '472', '2,607', '253', '208', '10,891', '718', '392,590', '371', '330', '111', '271', '64,928', '652', '37', '953', '5,761', '262', '453', '14,985', '387', '68', '151', '3,263', '501', '556', '181', '193', '5,018', '77', '964', '5,017', '143', '127', '170', '218', '305', '1,918', '286', '10,021', '1,572', '1,227', '104', '759', '69', '29,641', '3,337', '1,657', '118', '108', '82', '174', '8,452', '2,099', '63', '28', '442', '33', '228', '156', '10', '4,131', '315,367', '4,369', '3,089', '23', '16,035', '141', '851', '18,688', '129', '56', '21,594', '31', '392', '294', '24,867', '2,524', '3,368', '152', '153', '5,372', '9,120', '204', '190', '1,607', '19', '9,994', '41', '163', '2,589', '9,186', '5,010', '222', '210', '2,423', '1', '36', '490', '967', '29', '38,649', '3,878', '3,792', '125', '5,175', '70', '5,098', '242', '96', '3,277', '100', '2,670', '1,236', '139', '1,661', '665', '5,325', '106', '1,618', '1,611', '269', '66'}\n",
            "quality_10 {'1,169', '1,238', '602', '1,098', '610', '1,218', '45', '2,682', '2,988', '1,096', '5,878', '8,909', '8,584', '488', '9,196', '40', '2,048', '2,477', '1,944', '2,462', '178', '1,341', '1,281', '1,132', '13,691', '4,744', '5,373', '21,637', '4,267', '3,451', '9,403', '24,038', '344', '4,144', '10,171', '13,964', '974', '2,281', '54,776', '2,438', '9,494', '49,735', '26', '1,285', '2,995', '916', '1,331', '4,485', '3,837', '6,549', '146,128', '17,312', '854', '858', '4,769', '1,888', '725', '627', '2,343', '422', '10,646', '541', '10,676', '10,930', '853', '11,278', '381', '303', '3,437', '3,183', '3,375', '1,510', '994', '50,113', '701', '2,284', '67', '1,595', '146', '2,137', '1,387', '1,418', '502', '36,658', '902', '20,546', '567', '1,782', '1,345', '396', '648', '256', '10,198', '6,141', '8,722', '4,613', '9,266', '818', '3,053', '1,501', '5,554', '446', '907', '33,805', '85,990', '1,268', '4,298', '3,716', '10,801', '268', '2,998', '1,231', '9,385', '1,701', '4,968', '12,545', '164', '9,438', '1,594', '30,517', '1,398', '650', '4,627', '609', '16,218', '594', '4,189', '9,636', '3,352', '20,046', '1,279', '46,651', '3,349', '83', '343', '1,191', '2,784', '7,472', '2,752', '5,136', '2,774', '7,510', '2,299', '168', '105', '10,719', '27', '445', '672', '3,635', '6,959', '41,329', '282', '2,648', '8,960', '2,814', '2,640', '1,793', '2,593', '2,426', '12,084', '3,952', '9,115', '7,937', '14,032', '237', '7,985', '1,652', '3,482', '16,666', '4,344', '3,586', '1,276', '1,476', '49', '6,377', '20,390', '1,320', '1,061', '2,777', '1,764', '19,006', '5,009', '8,571', '50,037', '5,601', '1,437', '1,716', '2,397', '1,044', '18,401', '6,311', '1,777', '960', '590', '1,688', '1,213', '558', '901', '683', '176', '2,212', '10,146', '855', '7,281', '5,657', '27,927', '84,300', '265', '2,246', '1,042', '338', '3,438', '7,243', '5,342', '1,128', '1,054', '8,523', '6,868', '2,554', '8,475', '1,057', '2,014', '1,862', '9,751', '9,043', '6,383', '6,009', '1,432', '32,376', '4,690', '20,965', '2,368', '886', '2,702', '2,055', '24,787', '947', '793', '45,107', '1,838', '17,670', '4,174', '2,380', '7,627', '10,787', '7,779', '2,902', '2,455', '1,188', '15,611', '457', '10,057', '10,309', '1,564', '3,653', '832', '3,903', '1,371', '19,466', '1,403', '4,737', '8,720', '99', '9,508', '122', '9,495', '532', '597,726', '781', '158', '345', '779', '1,691', '3,963', '1,093', '3,106', '14,286', '9,382', '2,435', '1,082', '32,406', '1,292', '11,663', '7,476', '2,886', '1,847', '207', '92', '857', '2,811', '3,235', '1,167', '619', '9,790', '2,422', '1,779', '24,146', '13,579', '1,007', '13,687', '562', '447', '693', '14,958', '2,506', '7,834', '444', '1,840', '514', '3,120', '2,365', '2,553', '8,914', '257', '8,404', '12', '2,906', '64,238', '145', '106,230', '15,232', '926', '277', '3,287', '744', '2,053', '712', '2,270', '22,175', '8,777', '335', '715', '745', '395', '2,813', '3,655', '647', '4,008', '441', '2,314', '743', '15,894', '1,548', '8,420', '1,849', '1,027', '18,684', '628', '587', '4,550', '1,253', '180', '828', '7,403', '1,261', '8,230', '1,693', '56,769', '7,211', '763', '578', '1,066', '3,194', '9,165', '849', '9,061', '1,814', '498', '4,300', '2,734', '1,165', '3,265', '3,597', '8,795', '425', '35,982', '1,690', '3,040', '270', '2,712', '3,128', '1,290', '4,894', '1,043', '20,853', '9,201', '7,131', '13,894', '12,941', '2,519', '640', '2,413', '9,597', '9,304', '641', '70,334', '3,724', '1,323', '3,379', '2,097', '3,467', '4,591', '1,560', '12,316', '68,801', '70,716', '7,182', '6,019', '9,664', '99,885', '4,980', '3,721', '10,114', '2,094', '2,698', '510', '1,860', '11,423', '1,010', '768', '2,236', '2,639', '8,540', '1,545', '1,260', '2,751', '192', '959', '1,005,588', '1,328', '1,072', '1,201', '3,232', '2,531', '7,295', '3,737', '2,609', '739', '15,662', '126', '5,472', '5,290', '9,225', '1,897', '5', '1,577', '8,169', '4,982', '27,106', '837', '1,393', '3,056', '173', '2,046', '42,665', '3,239', '292', '2,787', '494', '1,212', '588', '1,092', '1,223', '360', '233', '2,324', '570', '4,057', '10,261', '9,213', '3,888', '2', '7,784', '6,665', '914', '3,622', '22,993', '1,415', '10,228', '16,325', '3,017', '3,636', '3,712', '990', '284', '85,028', '4,640', '2,248', '1,332', '21,846', '2,138', '67,377', '4,069', '2,371', '7,491', '2,100', '8,176', '169', '1,528', '108,668', '9,517', '4,142', '14,086', '61,978', '2,768', '3,314', '732', '71,914', '13,172', '3,834', '1,452', '2,193', '347', '772', '291', '5,565', '943', '2,922', '68,583', '8,531', '11,376', '2,822', '61,417', '15,248', '1,774', '6,679', '2,173', '3,091', '1,321', '1,313', '919', '9,339', '5,721', '3,868', '721', '7,978', '2,758', '55,261', '19,864', '750', '3,160', '9,262', '3,879', '2,570', '2,463', '21,789', '4,766', '24,493', '723', '1,834', '3,061', '1,195', '9,935', '3,896', '19,303', '10,514', '620', '3,768', '1,915', '544', '252', '1,588', '199', '1,420', '1,627', '6,341', '2,826', '1,002', '79', '2,476', '21,949', '3,693', '36,692', '6,205', '32,169', '737', '571', '1,596', '2,569', '120', '1,741', '1,632', '709', '94,104', '76,114', '1,558', '982', '10,068', '742', '59', '9,551', '3,111', '2,472', '35,197', '393', '12,593', '61,958', '4,372', '2,565', '1,707', '2,339', '2,665', '118,095', '908', '2,081', '1,164', '15,060', '19,465', '3,974', '802', '2,517', '1,160', '501,599', '6,758', '10,427', '2,060', '9,792', '2,621', '1,185', '45,606', '3,877', '281', '8,205', '568', '10,025', '66,926', '738', '3,212', '68,277', '2,846', '2,529', '7,043', '2,372', '3,942', '342', '1,052', '29,218', '859', '4,425', '2,560', '8,302', '471', '239,516', '7,835', '4,097', '3,995', '11,413', '538', '1,011', '412', '1,110', '4,775', '2,271', '1,601', '1,103', '2,546', '297', '515', '780', '8,186', '6,723', '2,217', '6,658', '332', '15,824', '2,331', '1,796', '272', '312', '8,638', '2,357', '9,361', '80', '3,733', '7,538', '4,906', '2,672', '10,155', '7,123', '576', '1,087', '3,776', '922', '3,857', '5,898', '9,554', '1,155', '3,072', '82,783', '1,991', '1,222', '1,366', '18,235', '9,183', '2,300', '136', '305,953', '9,294', '2,487', '11,357', '3,531', '1,442', '3,303', '5,665', '10,627', '2,706', '1,538', '4,374', '15,417', '6,085', '3,425', '31,879', '123', '1,439', '1,278', '2,002', '977', '8,294', '1,474', '1,488', '4,999', '7,009', '2,838', '7,388', '10,064', '734', '7,066', '2,719', '4,394', '1,065', '10,019', '3,336', '240', '537', '4,321', '10,179', '77,717', '289', '64,139', '1,575', '2,007', '10,172', '3,654', '2,066', '3,261', '9,966', '8,541', '1,385', '3,674', '17,624', '1,097', '2,080', '361', '1,819', '400', '119,749', '1,466', '10,483', '3,748', '1,035', '769', '196', '631', '9,420', '56,573', '1,094', '2,790', '2,191', '3,619', '21,799', '722', '10,206', '2,974', '56,748', '3,381', '1,308', '790,615', '9,510', '2,580', '7,006', '1,486', '8,990', '787', '589,563', '2,855', '12,013', '1,931', '2,536', '10,042', '6,712', '70,879', '3,552', '2,019', '1,511', '1,599', '3,562', '4,612', '16,648', '2,460', '1,381', '1,327', '4,024', '3,984', '9,090', '2,443', '935', '473', '871', '1,580', '4,641', '11,446', '819', '5,168', '3,842', '1,175', '309', '7,238', '321', '7,098', '10,051', '10,133', '10,162', '2,985', '213', '991', '4,302', '25,746', '3,779', '530', '1,770', '5,384', '2,812', '453', '553', '1,120', '950', '9,566', '1,812', '2,165', '6,492', '260', '3,263', '12,639', '2,944', '4,660', '4,206', '3,302', '625', '4,177', '2,241', '9,761', '9,208', '9,745', '3,588', '170', '243', '5,975', '8,701', '19,708', '720', '7,549', '3,620', '10,207', '68,692', '5,399', '657', '110,431', '1,572', '10,595', '3,686', '7,095', '7,632', '759', '5,257', '1,126', '293,913', '1,795', '1,388', '12,960', '1,316', '19,569', '6,107', '3,573', '9,093', '4,220', '12,588', '2,181', '8,146', '39,445', '1,598', '2,024', '3,025', '1,733', '54,430', '2,692', '4,707', '756', '3,637', '1,850', '3,803', '16,549', '1,255', '9,127', '3,765', '9,569', '2,004', '2,245', '4,061', '2,600', '1,249,398', '7,607', '5,603', '408', '56,714', '26,280', '3,504', '28,883', '719', '125,124', '10,490', '9,552', '1,820', '3,680', '29,272', '3,356', '11,868', '1,692', '128,712', '1,748', '870', '294', '8,768', '1,612', '4,611', '5,814', '31,348', '5,255', '2,441', '962', '10,350', '5,172', '649', '2,524', '1,752', '2,872', '11,219', '1,912', '7,193', '2,638', '7,988', '8,615', '3,219', '113,643', '1,406', '8,862', '2,047', '9,700', '4,539', '446,558', '3,058', '10,758', '2,550', '2,074', '2,815', '2,987', '593', '2,176', '29,158', '3,829', '3,649', '1,846', '664', '1,616', '15,395', '651', '1,029', '698', '120,367', '43,950', '1,234', '3,464', '1,031', '232', '3,505', '483', '2,288', '11,572', '3,656', '2,015', '13,796', '210', '3,563', '9,299', '501,073', '2,423', '2,432', '5,935', '2,029', '13,777', '231', '13,348', '545', '54,221', '3,331', '9,860', '2,689', '2,708', '4,117', '589', '112,410', '7,309', '70', '20,842', '5,252', '1,131', '1,104', '27,197', '1,478', '509', '4,477', '635', '4,632', '8,802', '4,507', '203', '66,970', '6,834', '673,784', '677', '96', '3,190', '7,074', '1,555', '322', '975', '1,504', '2,882', '1,107', '7,857', '274', '6,439', '1,680', '462', '10,762', '1,971', '4,146', '5,984', '426', '569', '6,918', '1,286', '8,326', '1,756', '11,543', '3,823', '775', '10,312', '139', '1,661', '4,262', '13,411', '2,484', '106', '6,814', '39,803', '19,059', '120,170', '1,456', '2,153', '1,611', '1,758', '2,111', '370', '1,880', '634', '4,066', '6,885', '8,394', '660', '7,343', '894', '3,162', '548', '11,300', '235', '5,045', '10,247', '9,634', '6,245', '543', '26,798', '5,586', '8,190', '12,235', '711', '67,540', '33,885', '7,346', '6,700', '10,771', '3,578', '2,699', '3,813', '276', '465', '4,396', '2,253', '161', '1,634', '513', '2,461', '26,677', '5,769', '464', '9,202', '9,106', '3,038', '829', '885', '1,156', '59,673', '42,445', '1,030', '30', '1,728', '10,002', '17,361', '1,629', '402', '2,136', '1,911', '4,072', '2,016', '1,871', '4,426', '165', '2,345', '10,053', '1,438', '10,785', '254', '1,026', '2,687', '158,322', '8,734', '12,139', '1,272', '631,620', '367', '300', '280', '700', '475', '8,714', '4,922', '391', '2,233', '8,646', '847', '527', '2,079', '2,216', '4,106', '965', '301', '807', '313', '5,084', '17,611', '6,167', '1,314', '1,153', '50,530', '595', '26,044', '3,650', '6,680', '34,333', '4,082', '6,889', '29,144', '273', '821', '206', '236', '103,915', '1,593', '1,539', '1,885', '159', '1,359', '18,394', '8,681', '3', '467', '155', '3,561', '21,256', '547', '3,129', '2,474', '1,016', '1,473', '2,847', '5,186', '1,706', '3,556', '7,921', '366', '1,824', '63,988', '695', '2,789', '4,880', '1,802', '8,157', '11,588', '8,958', '3,977', '716', '13,448', '14,432', '1,527', '108,441', '618', '1,144', '18,874', '6,751', '2,037', '773', '4,438', '9,513', '505', '409', '5,335', '3,931', '16,020', '892', '4,087', '16,573', '6,765', '18,078', '3,646', '42,378', '1,509', '3,318', '1,621', '5,409', '4,010', '50,228', '9,802', '3,500', '3,327', '8,930', '1,055', '11,856', '6,635', '1,861', '5,859', '6,001', '2,342', '22,268', '11,484', '6,934', '1,778', '11,172', '667', '1,628', '6,597', '2,617', '154', '4,234', '9,998', '2,444', '3,796', '5,341', '4,574', '1,615', '2,116', '5,222', '3,100', '7,802', '161,153', '6,202', '546', '324', '46,725', '244', '8,878', '516', '713', '1,719', '4,371', '198', '3,290', '3,077', '403', '9,182', '34', '405', '691,646', '3,075', '4,593', '3,604', '1,396', '9,310', '957', '1,561', '622', '337', '93', '8,520', '9,176', '420', '1,704', '1,518', '6,895', '4,022', '2,488', '9,192', '2,449', '217', '1,074', '805', '2,947', '8,334', '3,363', '579', '3,009', '5,893', '2,378', '1,581', '9,220', '1,458', '4,937', '9,422', '9,954', '15,827', '5,315', '418', '26,549', '3,492', '1,289', '21', '1,768', '12,102', '1,910', '8,521', '26,830', '3,249', '8,929', '5,668', '4,365', '2,061', '762', '638', '1,006', '4,415', '1,361', '1,892', '10,487', '1,804', '1,407', '1,753', '183', '3,784', '449', '583', '8,599', '1,709', '10,477', '8,849', '1,517', '14,855', '2,063', '5,547', '642', '1,088', '1,304', '2,978', '613', '4,265', '429', '4,790', '20,338', '7,500', '860', '3,830', '20', '113,260', '2,928', '1,205', '17,219', '440', '2,876', '3,434', '839', '4,290', '2,756', '4,948', '11,026', '34,971', '14,200', '7,000', '795', '6,957', '5,553', '212', '2,676', '1,226', '2,497', '351', '1,232', '6,945', '2,095', '3,112', '326', '4,925', '7,521', '5,625', '4,053', '5,002', '9,671', '62', '2,017', '1,574', '4,019', '7,953', '1,624', '64,403', '259', '346', '3,859', '8,382', '9,984', '357', '33,487', '9,592', '188', '2,881', '1,067', '4,859', '187', '794', '1,526', '399', '328', '5,743', '81', '911', '1,038', '3,014', '128', '2,022', '493', '4,283', '10,844', '4,487', '2,899', '51', '98,553', '10,023', '36,152', '9,711', '8,025', '250', '2,205', '8,974', '35', '489', '1,934', '1,604', '17,521', '3,388', '1,913', '21,737', '119,381', '3,164', '6,568', '1,822', '349', '436', '2,032', '77,699', '2,403', '1,189', '167', '1,202', '3,867', '4,120', '11,081', '2,539', '267', '970', '5,622', '51,718', '1,077', '682', '5,960', '348', '1,633', '8,800', '9,095', '325', '5,894', '157', '18,696', '11,673', '140', '10,006', '800', '2,832', '1,258', '632', '2,958', '1,447', '287', '239', '499', '2,187', '153,196', '1,471', '2,675', '1,204', '8,975', '1,788', '5,427', '3,338', '4,386', '160', '65', '6,092', '2,260', '2,802', '10,379', '4,712', '1,271', '51,060', '1,551', '761', '6,371', '842', '7,818', '251', '1,051', '913', '131', '64,101', '1,357', '358', '12,373', '61', '1,219', '5,954', '4,863', '1,058', '9,956', '561', '1,256', '1,143', '786', '1,878', '10,528', '18,508', '178,538', '10,356', '9,702', '1,955', '24,916', '3,305', '6,714', '536', '209', '22,483', '71,920', '2,504', '2,213', '2,040', '9,012', '4,115', '114', '149', '1,625', '909', '7,858', '5,775', '1,192', '363', '1,808', '843', '1,483', '3,972', '582', '6,617', '1,781', '2,353', '48,989', '3,416', '1,494', '7,545', '1,978', '72', '11,222', '11,880', '5,102', '21,756', '3,441', '369', '2,291', '6', '1,651', '37,362', '17,785', '1,378', '5,631', '253,511', '9,714', '937', '1,346', '1,089', '9,118', '3,904', '6,418', '1,402', '117,407', '2,272', '6,858', '617', '1,750', '3,577', '9,070', '1,106', '15,615', '2,740', '74', '2,000', '432', '11,060', '3,764', '10,071', '6,354', '486', '6,977', '592', '53', '221', '2,566', '9,862', '1,810', '6,345', '6,171', '1,176', '3,477', '416', '9,697', '1,540', '5,217', '2,340', '18,714', '2,535', '998', '1,547', '288', '2,056', '3,875', '7,605', '4,212', '3,176', '929', '877', '872', '8,612', '19,986', '32,590', '1,100', '8,232', '2,298', '3,528', '30,941', '3,762', '3,252', '925', '389', '5,442', '968', '66,017', '2,679', '65,723', '15,319', '1,533', '2,418', '1,037', '1,659', '1,401', '3,078', '3,076', '12,484', '478', '674', '8,395', '1,711', '8,923', '1,183', '3,708', '29,759', '481', '23,776', '5,817', '10,199', '6,105', '427', '11,478', '2,796', '1,377', '1,376', '549', '9,270', '1,117', '3,070', '57,644', '3,891', '2,737', '9,876', '16,469', '2,394', '5,698', '9,086', '11,841', '8,542', '1,369', '3,982', '6,355', '5,127', '58,671', '85,691', '1,773', '5,309', '245', '4,178', '597', '18,951', '1,708', '1,807', '1,049', '10,932', '5,661', '97', '343,052', '655', '2,072', '6,662', '1,857', '6,424', '2,783', '4,738', '12,413', '927', '1,887', '6,656', '1,443', '333', '3,825', '3,846', '1,725', '3,618', '1,018', '803', '3,073', '10,721', '111,889', '21,138', '1,147', '94,995', '884', '2,586', '8,543', '18,251', '2,408', '2,785', '200,496', '10,380', '1,502', '1,826', '7,358', '460', '314', '2,654', '44,670', '57', '17,228', '1,342', '13,238', '3,020', '3,126', '2,644', '9,064', '8,911', '2,493', '1,233', '12,499', '958', '4,687', '4,751', '58,477', '565', '368', '623', '887', '4,713', '5,465', '840', '1,425', '27,723', '6,519', '4,689', '1,102', '9,066', '2,722', '1,039', '2,050', '4,068', '7,862', '599', '1,851', '1,014', '1,487', '1,883', '5,728', '21,486', '1,441', '4,318', '49,885', '2,034', '9,371', '6,952', '12,640', '875', '253', '19,731', '21,622', '778', '7,663', '4,860', '1,309', '4,447', '479', '2,258', '3,872', '8,841', '863', '9,470', '749', '495', '5,789', '2,387', '675', '372', '1,956', '1,981', '4,935', '11,465', '3,720', '456', '44,878', '451', '5,640', '1,303', '3,299', '1,349', '9,076', '7,729', '2,894', '2,091', '3,766', '37', '2,935', '1,215', '4,826', '953', '3,661', '533', '1,541', '1,063', '4,279', '1,646', '2,490', '9,011', '1,000', '387', '151', '21,135', '2,194', '501', '888', '108,559', '606', '964', '23,441', '143', '1,166', '747', '669', '101,672', '6,897', '2,599', '6,199', '356', '1,317', '2,092', '5,031', '7,969', '10,341', '2,780', '11,786', '848', '10,933', '4,064', '67,202', '1,722', '10,337', '8,261', '1,200', '1,017', '1,671', '31,458', '841', '11,483', '1,245', '2,658', '6,210', '1,723', '8,741', '2,398', '5,531', '4,418', '760', '3,284', '9,022', '30,187', '82', '11,388', '1,815', '3,258', '630', '167,193', '48,428', '4,185', '22,793', '480', '1,989', '1,858', '1,124', '43,652', '5,563', '4,443', '359', '90,893', '755', '18,878', '7,213', '4,823', '1,475', '9,290', '774', '11,347', '10,518', '3,594', '2,724', '13,343', '9,581', '1,731', '58,294', '2,437', '1,578', '48,803', '172', '2,766', '1,206', '4,402', '3,590', '3,705', '2,926', '1,951', '6,316', '9,030', '1,461', '18,523', '898', '1,698', '973', '518,480', '8,378', '10,358', '796', '17,998', '3,548', '1,803', '152', '1,825', '11,509', '42,691', '1,083', '153', '852', '1,137', '204', '4,852', '9,014', '1,280', '190', '1,151', '29,257', '1,582', '3,031', '476', '5,486', '3,187', '600', '1,480', '1,179', '3,323', '230', '323', '52,291', '540', '8,423', '7,180', '1,427', '607', '897', '1,322', '8,160', '2,891', '9,074', '220', '612', '12,921', '1,302', '2,887', '6,317', '559', '2,424', '2,255', '1,636', '7,673', '1,791', '130,592', '2,710', '11,492', '1', '36', '708', '688', '490', '932', '9,532', '3,861', '7,840', '1,663', '624', '2,232', '765', '8,858', '65,791', '125', '9,412', '2,252', '8,195', '789', '378', '891', '2,268', '10,225', '6,121', '2,011', '951', '3,266', '3,240', '307', '100', '3,114', '5,880', '2,726', '1,805', '906', '1,818', '23,381', '511', '2,670', '382', '598', '1,008', '113', '3,621', '1,221', '5,108', '1,678', '3,392', '6,011', '373', '7,528', '269', '47,118', '1,998', '2,759', '788', '18,137', '3,517', '961', '3,926', '1,553', '19,473', '3,130', '5,438', '55', '129,473', '5,663', '1,412', '8,119', '3,565', '14,502', '7,039', '963', '6,600', '3,945', '397', '2,316', '69,891', '59,188', '5,966', '377', '1,583', '185', '2,824', '4,416', '386', '3,193', '1,084', '4,773', '3,202', '4,043', '1,109', '687', '477', '308', '866', '10,910', '626', '2,800', '404', '224', '1,091', '263', '411,627', '1,184', '971', '256,540', '474', '3,777', '1,257', '9,953', '1,379', '2,166', '362', '10,240', '57,027', '171', '6,936', '826', '868', '2,196', '1,405', '15,264', '4,422', '26,405', '2,159', '1,355', '121', '2,703', '6,913', '12,722', '1,085', '6,455', '45,036', '766', '7,026', '707', '89', '1,389', '5,111', '2,104', '1,565', '491', '1,036', '1,409', '4,378', '658', '497,429', '482', '2,381', '248', '16', '14,287', '2,127', '5,432', '443', '3,728', '11,730', '503', '2,147', '21,147', '6,810', '76,759', '5,739', '8,899', '59,768', '4,093', '296', '1,384', '1,537', '741', '1,013', '1,099', '52,572', '2,131', '9,613', '8,163', '4,042', '2,348', '33,591', '9,493', '353', '1,207', '62,942', '2,169', '5,827', '61,246', '37,858', '10,388', '1,159', '7,068', '66,634', '497', '3,049', '9,710', '9,507', '1,450', '26,317', '1,695', '415', '3,915', '39', '9,835', '3,567', '1,112', '3,607', '3,835', '5,037', '18,960', '115,348', '3,275', '4,754', '2,313', '6,491', '10,241', '200', '293', '1,242', '9,558', '433', '7,588', '1,259', '3,734', '3,139', '64', '542', '9,808', '34,826', '15,682', '2,036', '3,010', '2,545', '2,098', '9,989', '705', '1,295', '2,436', '18,060', '1,284', '4,917', '8,747', '3,225', '2,697', '4,380', '8,241', '14,188', '6,676', '920', '137', '3,423', '3,405', '1,579', '4,090', '1,273', '2,410', '1,267', '44,224', '4,792', '2,274', '135', '531', '7,293', '46,954', '6,324', '603', '3,110', '390', '3,088', '1,134', '1,250', '1,161', '1,079', '2,501', '1,211', '201', '3,574', '184', '726', '1,797', '48', '32', '996', '2,265', '2,164', '3,165', '18,602', '2,275', '2,221', '2,134', '1,705', '8', '1,012,799', '90', '2,918', '681,199', '1,645', '331', '6,008', '6,621', '8,854', '7,160', '6,727', '5,305', '2,367', '1,683', '560', '3,326', '3,063', '3,023', '9,705', '2,208', '520', '20,351', '5,653', '1,516', '463', '2,485', '843,420', '6,962', '47,661', '19,198', '1,114', '6,806', '814', '4,149', '1,853', '3,374', '2,515', '10,582', '7,648', '9,704', '811', '2,141', '9,728', '3,518', '9,546', '1,337', '28,707', '4,757', '195', '2,390', '419', '3,999', '676', '431', '80,357', '39,524', '1,335', '3,881', '3,135', '247', '62,280', '2,936', '1,927', '673', '1,142', '3,707', '12,449', '485', '5,291', '3,273', '3,220', '261', '18,124', '521', '3,555', '10,229', '3,791', '144', '191', '1,664', '9,455', '831', '2,068', '1,969', '9,938', '662', '5,407', '697', '3,544', '3,496', '1,973', '1,524', '1,297', '1,152', '214', '3,155', '1,984', '1,908', '27,275', '5,771', '873', '9,768', '42', '816', '11,186', '450', '492', '9,437', '633', '4,354', '86,963', '2,743', '3,329', '5,386', '22', '3,920', '999', '2,637', '2,748', '731', '9,878', '2,671', '1,269', '3,967', '3,377', '4,552', '7,367', '4,521', '1,123', '2,446', '6,233', '9,063', '1,445', '4,348', '1,158', '2,871', '3,387', '7,590', '3,253', '6,077', '6,293', '798', '896', '2,082', '28,700', '3,647', '355,389', '401', '2,122', '11,907', '506', '9,660', '24,022', '14,145', '1,121', '2,244', '3,395', '2,696', '2,931', '3,208', '2,406', '18,721', '1,325', '379', '7,149', '1,053', '6,469', '18,500', '19,009', '1,961', '11,878', '263,032', '1,365', '10,287', '629', '8,085', '4,306', '15,743', '4,530', '4,116', '364', '663', '5,473', '14,310', '2,354', '1,265', '605', '5,883', '219', '91', '3,992', '3,651', '365', '2,307', '2,738', '9,366', '5,512', '1,454', '7,146', '1,970', '10,242', '1,073', '938', '704', '225', '1,015,637', '14,056', '10,003', '10,656', '16,764', '15,445', '439', '67,818', '9,293', '102,526', '8,487', '134', '16,630', '3,401', '1,514', '10,515', '1,288', '14,452', '21,121', '30,450', '18,395', '107', '3,426', '3,175', '116', '9,784', '3,503', '1,034', '790', '67,463', '3,663', '10,968', '47', '3,839', '133', '1,180', '5,040', '3,461', '6,930', '9,087', '6,182', '2,263', '9,314', '112,561', '24,533', '3,550', '18,804', '551', '7,178', '4,560', '9,927', '2,114', '9,943', '103', '1,048', '487', '3,148', '5,027', '3,852', '5,193', '557', '1,738', '1,198', '1,090', '4,760', '9,740', '7,948', '9,180', '4,362', '223', '1,720', '9,184', '1,299', '24,075', '7,415', '37,561', '2,939', '4,250', '2,626', '4,508', '10,474', '4,644', '2,180', '2,821', '47,299', '9,841', '142', '249', '9,301', '3,568', '3,200', '9,492', '11,090', '3,198', '9,658', '18,782', '12,351', '972', '4,783', '2,723', '3,691', '3,812', '8,853', '6,419', '2,044', '2,634', '10,326', '5,105', '1,449', '1,544', '770', '46', '1,062', '1,262', '9,428', '574', '90,565', '6,981', '9,082', '58', '921', '21,853', '9,122', '17,265', '130', '216', '19,401', '9,350', '4,697', '8,162', '3,420', '6,825', '241', '1,619', '949', '2,686', '10,190', '4,256', '976', '1,141', '1,125', '6,657', '2,231', '5,374', '249,594', '17,531', '340', '1,374', '4,848', '9,137', '8,907', '2,126', '3,683', '7,982', '2,856', '6,721', '833', '636', '804', '117', '3,924', '26,979', '5,669', '2,328', '783', '406', '1,751', '2,210', '28,727', '3,332', '7,033', '1,019', '12,745', '5,790', '1,338', '32,674', '1,512', '10,347', '4,065', '40,798', '1,715', '7,165', '955', '12,340', '2,220', '684', '285', '4,203', '14,098', '3,080', '34,125', '6,135', '2,835', '15,751', '6,319', '290', '941', '29,204', '4,246', '37,331', '375', '1,252', '4,594', '12,834', '82,363', '1,775', '8,375', '615', '3,002', '1,360', '1,344', '5,529', '3,297', '785', '923', '2,960', '1,920', '2,950', '437', '2,369', '29,993', '459', '46,991', '179', '1,924', '202', '71', '3,090', '835', '13,971', '517', '10,916', '5,930', '526', '10,346', '29,809', '4,558', '985', '3,546', '1,168', '7,715', '11,025', '3,132', '4,977', '2,573', '19,030', '1,666', '1,772', '4,272', '446,185', '1,025,289', '881', '2,959', '1,656', '53,689', '764', '4,089', '3,163', '2,945', '685', '1,552', '15,402', '1,999', '266', '15,593', '659', '1,130', '8,932', '9,712', '2,578', '4,219', '6,626', '1,225', '3,412', '90,046', '1,817', '2,819', '8,749', '40,796', '101,103', '79,755', '2,465', '883', '1,118', '234', '1,045', '987', '9,924', '2,980', '211', '2,513', '264', '110,831', '1,277', '5,503', '110', '6,204', '315', '6,474', '1,459', '227', '3,138', '8,830', '10,181', '6,261', '5,302', '7,782', '23,038', '1,404', '187,164', '8,129', '28,452', '1,422', '4,155', '10,215', '8,228', '2,516', '63,647', '255', '1,319', '2,042', '2,728', '461', '9,426', '4,631', '264,420', '13,268', '2,421', '468', '3,610', '573', '463,559', '5,738', '208', '64,958', '1,239', '1,557', '581', '56,289', '3,516', '5,439', '3,346', '3,188', '3,102', '8,143', '9,928', '2,951', '10,362', '3,354', '1,762', '35,753', '66,044', '19,426', '3,612', '33,814', '3,449', '4,280', '1,713', '7,876', '983', '330', '371', '3,167', '703', '54,611', '2,761', '111', '71,530', '9,858', '271', '2,661', '1,957', '3,348', '9,476', '4,409', '652', '856', '1,446', '8,746', '724', '262', '7,986', '924', '2,502', '1,724', '18,190', '2,411', '2,182', '9,219', '2,156', '1,353', '6,028', '9,032', '3,098', '4,337', '68', '2,240', '6,423', '556', '181', '555', '2,848', '77', '7,983', '2,989', '218', '14,103', '9,221', '2,442', '9,670', '1,064', '1,918', '1,178', '1,585', '2,119', '286', '1,419', '1,477', '746', '3,726', '2,542', '12,280', '1,227', '10,170', '3,095', '6,358', '3,298', '1,400', '32,821', '30,907', '752', '10,220', '438', '865', '1,190', '8,846', '7,819', '3,081', '108', '5,636', '3,738', '23,429', '174', '2,071', '654', '86,717', '8,925', '10,307', '10,043', '2,035', '106,033', '9,148', '63', '8,690', '4,506', '825', '9,512', '3,793', '1,485', '1,108', '43,041', '8,229', '2,930', '1,145', '442', '15,967', '535', '1,275', '529', '452', '3,890', '304', '1,549', '2,203', '1,766', '156', '228', '3,382', '13,773', '10', '2,705', '4,151', '890', '1,005', '2,023', '2,393', '846', '10,472', '7,967', '141', '6,042', '10,383', '10,436', '10,803', '28,431', '129', '29,671', '392', '2,132', '2,144', '681', '36,977', '2,937', '4,227', '2,825', '12,957', '586', '9,333', '20,169', '398', '2,650', '1,040', '5,239', '341', '394', '7,651', '808', '2,250', '678', '41', '22,818', '5,582', '20,105', '14,777', '1,988', '298', '6,125', '767', '454', '6,315', '11,196', '1,119', '9,186', '383', '4,014', '2,715', '2,975', '861', '22,782', '6,194', '8,097', '822', '1,433', '6,542', '27,865', '4,767', '3,665', '1,162', '29', '643', '6,207', '2,594', '10,915', '7,164', '4,944', '15,554', '428', '2,234', '4,132', '7,628', '1,182', '8,109', '1,050', '242', '2,695', '2,326', '470', '2,315', '3,591', '3,747', '2,237', '4,567', '1,654', '3,062', '13,816', '94,487', '1,472', '1,020', '966', '680', '3,328', '8,872', '3,384', '11,283', '5,006', '458', '2,282', '9,948', '665', '4,538', '11,779', '63,480', '2,507', '1,618', '2,238', '1,686', '2,101', '882', '9,692', '10,005', '6,863', '66', '9,049', '10,189', '2,590', '60,137', '733', '845', '1,463', '73,973', '6,545', '1,336', '596', '2,941', '115', '942', '2,005', '413', '933', '2,466', '2,731', '18', '1,440', '6,840', '1,009', '9,195', '4,655', '66,469', '388', '5,443', '5,339', '604', '12,476', '1,012', '350', '15,765', '13', '1,235', '6,407', '931', '138', '24,957', '26,547', '4,474', '7,391', '2,605', '4,755', '226', '1,742', '2,197', '8,156', '177', '35,863', '3,118', '3,488', '5,319', '10,352', '1,940', '1,831', '2,827', '9,782', '19,436', '1,855', '43,965', '411', '1,241', '10,148', '61,719', '1,266', '2,620', '5,296', '10,109', '2,528', '166', '4,771', '8,500', '1,116', '150', '150,764', '9,936', '31,416', '342,675', '3,045', '21,014', '75', '692', '3,087', '102', '4,809', '2,396', '580', '9,276', '48,422', '1,699', '9,198', '13,717', '1,274', '9,284', '4,170', '19,292', '500', '3,887', '7,184', '13,601', '95', '5,616', '1,431', '735', '690', '7,542', '836', '11,152', '434', '1,368', '12,475', '2,601', '299', '3,918', '1,115', '2,736', '1,004', '380', '2,963', '8,247', '44', '4,952', '1,765', '32,838', '9,254', '4,878', '1,187', '15,356', '10,192', '2,309', '777', '2,335', '3,152', '48,917', '42,302', '3,820', '2,077', '2,286', '1,895', '1,875', '55,588', '1,263', '5,038', '1,484', '2,200', '3,452', '7,569', '564', '806', '988', '2,458', '616', '496', '15,089', '1,519', '2,362', '3,883', '2,026', '1,910,175', '8,221', '197', '1,644', '4,147', '19,774', '1,743', '3,566', '15,897', '2,334', '591', '306', '1,470', '3,481', '4,914', '753', '7,533', '29,487', '11,038', '3,704', '258', '11,289', '1,759', '523', '1,209', '5,411', '9,756', '278', '876', '12,512', '3,927', '1,735', '283', '6,736', '101,842', '2,117', '6,536', '3,946', '1,613', '3,660', '1,496', '50', '6,539', '10,230', '867', '2,189', '1,852', '1,071', '336', '11,609', '1,196', '6,426', '656', '812', '3,684', '706', '9,863', '3,757', '1,220', '2,999', '57,513', '4,822', '10,521', '2,218', '8,000', '1,375', '6,694', '374', '78', '4,296', '21,847', '8,280', '1,986', '585', '6,970', '275', '3,074', '13,829', '1,546', '9,488', '87', '893', '4,665', '10,398', '1,301', '1,194', '12,564', '5,757', '2,646', '3,306', '1,429', '37,024', '1,228', '6,602', '1,133', '1,243', '980', '9,397', '670', '449,998', '801', '2,341', '6,351', '1,080', '9,827', '1,105', '10,432', '20,540', '2,160', '9,277', '1,033', '512', '702', '7,625', '24,305', '7,205', '946', '8,397', '621', '11', '3,711', '3,772', '1,597', '3,068', '182', '1,568', '1,352', '15', '38', '38,837', '4,176', '1,783', '9,464', '6,668', '455', '13,313', '25', '1,069', '2,133', '3,391', '310', '9,263', '1,070', '7,130', '577', '4,559', '7,821', '21,178', '1,684', '8,136', '27,019', '563', '2,981', '55,131', '95,547', '41,727', '9,987', '601', '1,536', '8,716', '8,743', '0', '16,646', '1,964', '6,325', '7,644', '936', '1,122', '7,340', '1,318', '88', '5,618', '10,073', '3,060', '4,363', '844', '407', '880', '205', '1,726', '1,603', '6,526', '9,937', '2,259', '12,764', '2,714', '5,782', '2,729', '1,392', '2,370', '414', '4,519', '3,985', '3,576', '1,421', '1,411', '4,959', '339', '740', '3,644', '4,903', '352', '376', '16,439', '1,367', '1,246', '2,668', '52', '2,083', '1,247', '1,047', '791', '3,969', '7,743', '4', '1,573', '3,052', '94,502', '4,172', '9,368', '5,213', '3,685', '5,972', '147', '8,060', '67,505', '7,637', '1,497', '13,166', '566', '2,118', '16,788', '5,559', '11,682', '469', '64,980', '12,620', '1,068', '5,321', '10,008', '26,705', '1,086', '7,119', '2,452', '4,052', '10,746', '26,272', '2,168', '31,815', '1,305', '7,112', '4,674', '6,475', '316', '1,543', '614', '6,824', '758', '48,268', '22,938', '5,191', '38,652', '2,478', '1,889', '1,081', '6,078', '9,414', '35,898', '229', '5,517', '6,661', '9,726', '668', '689', '7', '57,315', '319', '8,437', '981', '3,629', '2,262', '7,585', '2,940', '3,715', '12,421', '666', '813', '1,037,689', '317', '10,507', '3,182', '10,700', '2,290', '1,464', '2,879', '1,747', '2,482', '14,751', '13,744', '5,169', '354', '11,411', '2,001', '552', '824', '1,562', '2,373', '2,323', '3,494', '6,900', '3,808', '7,106', '15,741', '410', '918', '162', '3,535', '3,478', '76', '3,633', '3,353', '40,577', '1,024', '4,581', '5,917', '782', '4,636', '17', '7,379', '8,647', '7,614', '539', '572', '5,419', '6,262', '1,873', '4,590', '7,117', '10,988', '879', '792', '9,080', '2,656', '575', '5,741', '8,349', '8,291', '4,958', '3,526', '16,080', '8,018', '1,495', '1,041', '771', '522', '109', '10,014', '696', '9', '311', '915', '694', '5,523', '2,123', '978', '4,557', '2,897', '986', '1,606', '2,744', '2,296', '32,427', '1,985', '1,972', '142,858', '817', '5,394', '2,875', '384', '2,383', '2,130', '1,591', '4,028', '4,839', '6,438', '26,022', '4,045', '86', '1,994', '7,114', '2,874', '318', '8,901', '1,974', '2,700', '8,276', '11,491', '10,911', '2,840', '279', '466', '94', '9,347', '728', '930', '2,919', '6,604', '175', '98', '5,492', '699', '1,896', '1,570', '8,954', '6,070', '7,062', '2,256', '1,078', '3,787', '1,254', '1,737', '1,760', '13,470', '5,097', '430', '1,899', '1,982', '1,631', '3,522', '4,293', '508', '4,011', '3,259', '2,967', '24,823', '60,406', '448', '1,436', '7,845', '2,854', '2,591', '109,528', '4,527', '3,676', '119', '2,479', '1,022', '1,249', '830', '5,020', '99,348', '1,197', '3,292', '1,296', '810', '2,440', '64,913', '8,196', '3,027', '989', '24', '7,674', '2,522', '2,224', '2,400', '1,522', '554', '6,625', '940', '6,598', '9,442', '1,157', '24,120', '2,149', '194', '132', '4,315', '2,146', '1,832', '10,843', '52,461', '6,505', '43', '1,032', '7,943', '1,240', '2,685', '2,969', '2,417', '1,734', '1,237', '320', '32,117', '112', '4,139', '11,406', '5,234', '70,213', '2,905', '2,612', '54', '2,636', '14,561', '19,851', '3,580', '1,799', '1,383', '10,357', '189', '1,534', '6,527', '7,385', '9,996', '8,625', '85', '48,848', '17,200', '6,098', '8,001', '1,525', '8,791', '6,567', '3,695', '4,957', '3,341', '10,255', '91,720', '7,018', '7,021', '4,629', '7,186', '5,964', '29,480', '5,070', '4,382', '2,664', '1,479', '8,449', '1,293', '124', '84', '3,418', '41,173', '8,739', '2,401', '1,372', '14,497', '3,254', '101', '550', '528', '1,610', '424', '736', '7,161', '6,330', '2,727', '1,326', '4,849', '4,479', '54,688', '2,888', '423', '1,976', '73', '10,524', '7,332', '904', '1,095', '15,480', '917', '3,913', '235,176', '954', '2,283', '2,376', '6,823', '827', '5,117', '645', '1,455', '38,958', '3,308', '934', '4,807', '4,214', '504', '175,983', '2,864', '797', '60', '148', '2,327', '10,280', '751', '60,305', '7,377', '714', '637', '1,248', '1,150', '42,625', '186', '686', '584', '2,834', '2,013', '16,415', '10,759', '42,260', '1,056', '2,199', '14', '3,601', '472', '2,607', '22,147', '68,081', '6,106', '7,679', '11,874', '302', '11,084', '646', '519', '11,108', '1,060', '1,181', '28,825', '718', '10,211', '51,986', '5,702', '60,624', '6,746', '639', '484', '889', '3,778', '8,704', '2,693', '63,778', '238', '2,839', '2,938', '3,609', '1,767', '939', '6,456', '834', '2,112', '10,202', '6,516', '8,056', '9,674', '878', '10,620', '2,803', '2,186', '35,092', '1,127', '944', '3,921', '507', '15,133', '4,532', '2,977', '3,826', '2,108', '327', '1,901', '55,872', '1,390', '2,464', '105,217', '67,471', '3,527', '2,775', '525', '661', '2,128', '2,684', '12,864', '524', '2,732', '1,507', '193', '9,177', '838', '1,848', '1,046', '11,999', '823', '37,663', '11,024', '1,653', '127', '305', '1,689', '7,136', '3,048', '6,550', '17,348', '611', '295', '3,530', '1,786', '1,717', '19,633', '644', '8,185', '3,404', '1,787', '1,135', '329', '1,648', '10,533', '104', '6,318', '2,292', '48,718', '69', '900', '1,515', '4,445', '608', '4,579', '7,015', '3,851', '7,133', '1,657', '10,724', '1,602', '1,362', '118', '1,351', '2,355', '993', '10,268', '417', '754', '2,489', '14,719', '984', '4,275', '28', '8,910', '334', '3,532', '1,482', '11,213', '3,125', '1,790', '945', '33', '8,180', '13,638', '1,670', '8,818', '6,681', '862', '869', '11,573', '38,505', '4,180', '5,381', '1,025', '8,656', '9,547', '2,816', '7,212', '219,033', '23', '2,222', '246', '3,523', '9,856', '2,379', '3,422', '19,098', '6,402', '435', '152,010', '9,189', '851', '1,154', '2,135', '56', '31', '4,890', '1,075', '3,442', '385', '8,869', '2,317', '518', '4,198', '671', '12,107', '1,028', '748', '11,684', '10,196', '25,885', '7,512', '38,337', '4,954', '421', '3,447', '7,499', '43,836', '5,310', '1,607', '19', '2,170', '1,499', '25,142', '163', '4,601', '1,718', '4,696', '1,229', '8,029', '5,481', '2,788', '355', '653', '815', '5,449', '5,444', '222', '1,900', '45,718', '1,312', '2,305', '3,156', '59,601', '2,808', '3,140', '6,044', '1,324', '2,614', '3,469', '7,467', '1,129', '967', '3,446', '3,878', '1,001', '37,423', '1,311', '903', '7,944', '14,349', '9,171', '1,287', '1,710', '8,784', '3,751', '11,526', '1,382', '215', '9,069', '784', '1,177', '1,576', '2,051', '4,404', '3,673', '17,498', '7,741', '1,891', '2,018', '8,370', '59,150', '67,547', '979', '2,630', '12,615', '928', '7,229', '26,377', '25,775', '9,497', '9,447', '3,283', '1,059', '2,604', '4,141'}\n",
            "quality_11 {'2', '3', '5', '1', '-1', '9', '8', '14', '0', '6', '4', '7'}\n",
            "quality_12 {'2', '5', '3', '13', '11', '1', '14', '8', '10', '0', '12', '6', '4', '7'}\n"
          ],
          "name": "stdout"
        }
      ]
    },
    {
      "cell_type": "markdown",
      "metadata": {
        "id": "7PQAQe9-RdHG"
      },
      "source": [
        "quality data는 ,가 포함된 숫자이므로 숫자형으로 바꿔주어야한다.\r\n",
        "quality 3,4 는 모든컬럼이 0이다 -> 삭제\r\n",
        "대부분의 컬럼은 0이 제일 많다 -> quality 10은 예외\r\n",
        "nan값과 -1값은 무엇을 뜻하는걸까?\r\n",
        "unique값이 작은 데이터들은 범주형 데이터일까? -> test데이터와의 비교 필요"
      ]
    },
    {
      "cell_type": "markdown",
      "metadata": {
        "id": "1ZxMBQ6tub33"
      },
      "source": [
        "quality데이터와 err데이터의 비교\r\n",
        "quality 유저수 8281 err 유저수 15000\r\n",
        "quality fwver 27개 err fwver 37\r\n",
        "quality 기간 20201011 - 20201130 err 기간 20201031 -20201202"
      ]
    },
    {
      "cell_type": "code",
      "metadata": {
        "id": "t3AuG325uRTc"
      },
      "source": [
        "test_err_df['year'] = test_err_df['time'].apply(lambda x: x[:4])\r\n",
        "test_err_df['month'] = test_err_df['time'].apply(lambda x:  x[4:6])\r\n",
        "test_err_df['day'] = test_err_df['time'].apply(lambda x: x[6:8])\r\n",
        "test_err_df['hour'] = test_err_df['time'].apply(lambda x: x[8:10])\r\n",
        "test_err_df['mmss'] = test_err_df['time'].apply(lambda x: x[10:]) "
      ],
      "execution_count": null,
      "outputs": []
    },
    {
      "cell_type": "code",
      "metadata": {
        "colab": {
          "base_uri": "https://localhost:8080/",
          "height": 173
        },
        "id": "w8jbLbQx5bIy",
        "outputId": "cf00522c-32e2-4a9c-e0ee-bc5e397e6ab1"
      },
      "source": [
        "test_err_df.describe()"
      ],
      "execution_count": null,
      "outputs": [
        {
          "output_type": "execute_result",
          "data": {
            "text/html": [
              "<div>\n",
              "<style scoped>\n",
              "    .dataframe tbody tr th:only-of-type {\n",
              "        vertical-align: middle;\n",
              "    }\n",
              "\n",
              "    .dataframe tbody tr th {\n",
              "        vertical-align: top;\n",
              "    }\n",
              "\n",
              "    .dataframe thead th {\n",
              "        text-align: right;\n",
              "    }\n",
              "</style>\n",
              "<table border=\"1\" class=\"dataframe\">\n",
              "  <thead>\n",
              "    <tr style=\"text-align: right;\">\n",
              "      <th></th>\n",
              "      <th>user_id</th>\n",
              "      <th>time</th>\n",
              "      <th>model_nm</th>\n",
              "      <th>fwver</th>\n",
              "      <th>errtype</th>\n",
              "      <th>errcode</th>\n",
              "      <th>year</th>\n",
              "      <th>month</th>\n",
              "      <th>day</th>\n",
              "      <th>hour</th>\n",
              "      <th>mmss</th>\n",
              "    </tr>\n",
              "  </thead>\n",
              "  <tbody>\n",
              "    <tr>\n",
              "      <th>count</th>\n",
              "      <td>16532648</td>\n",
              "      <td>16532648</td>\n",
              "      <td>16532648</td>\n",
              "      <td>16532648</td>\n",
              "      <td>16532648</td>\n",
              "      <td>16532644</td>\n",
              "      <td>16532648</td>\n",
              "      <td>16532648</td>\n",
              "      <td>16532648</td>\n",
              "      <td>16532648</td>\n",
              "      <td>16532648</td>\n",
              "    </tr>\n",
              "    <tr>\n",
              "      <th>unique</th>\n",
              "      <td>14998</td>\n",
              "      <td>2567716</td>\n",
              "      <td>9</td>\n",
              "      <td>40</td>\n",
              "      <td>41</td>\n",
              "      <td>2955</td>\n",
              "      <td>1</td>\n",
              "      <td>3</td>\n",
              "      <td>31</td>\n",
              "      <td>24</td>\n",
              "      <td>3600</td>\n",
              "    </tr>\n",
              "    <tr>\n",
              "      <th>top</th>\n",
              "      <td>41285</td>\n",
              "      <td>20201129045433</td>\n",
              "      <td>model_1</td>\n",
              "      <td>04.16.3553</td>\n",
              "      <td>23</td>\n",
              "      <td>1</td>\n",
              "      <td>2020</td>\n",
              "      <td>11</td>\n",
              "      <td>12</td>\n",
              "      <td>19</td>\n",
              "      <td>0905</td>\n",
              "    </tr>\n",
              "    <tr>\n",
              "      <th>freq</th>\n",
              "      <td>396478</td>\n",
              "      <td>618</td>\n",
              "      <td>5473847</td>\n",
              "      <td>5326124</td>\n",
              "      <td>2460484</td>\n",
              "      <td>8750154</td>\n",
              "      <td>16532648</td>\n",
              "      <td>16532572</td>\n",
              "      <td>614600</td>\n",
              "      <td>898253</td>\n",
              "      <td>5477</td>\n",
              "    </tr>\n",
              "  </tbody>\n",
              "</table>\n",
              "</div>"
            ],
            "text/plain": [
              "         user_id            time  model_nm  ...       day      hour      mmss\n",
              "count   16532648        16532648  16532648  ...  16532648  16532648  16532648\n",
              "unique     14998         2567716         9  ...        31        24      3600\n",
              "top        41285  20201129045433   model_1  ...        12        19      0905\n",
              "freq      396478             618   5473847  ...    614600    898253      5477\n",
              "\n",
              "[4 rows x 11 columns]"
            ]
          },
          "metadata": {
            "tags": []
          },
          "execution_count": 32
        }
      ]
    },
    {
      "cell_type": "code",
      "metadata": {
        "colab": {
          "base_uri": "https://localhost:8080/"
        },
        "id": "SMbGjVCE58HK",
        "outputId": "3eff1755-5616-4ede-b75b-c4a317bfdbaf"
      },
      "source": [
        "test_err_df['time'].astype(int).describe().astype(int)"
      ],
      "execution_count": null,
      "outputs": [
        {
          "output_type": "execute_result",
          "data": {
            "text/plain": [
              "count          16532648\n",
              "mean     20201115490295\n",
              "std             8673027\n",
              "min      20201031235959\n",
              "25%      20201108093640\n",
              "50%      20201115174401\n",
              "75%      20201123082358\n",
              "max      20201214120118\n",
              "Name: time, dtype: int64"
            ]
          },
          "metadata": {
            "tags": []
          },
          "execution_count": 33
        }
      ]
    },
    {
      "cell_type": "markdown",
      "metadata": {
        "id": "rHxVAPLI8Lgc"
      },
      "source": [
        "test_err의 시작날짜는 1031로 동일하지만\r\n",
        "err의 마지막날찌는 1202인 반면에 test_err은 1214에 끝납니다.\r\n",
        "fwver또한 test_err에서는 40개로 새롭게 더 등장합니다.\r\n",
        "errtype과 errcode또한 서로 다를지 확인할 필요가 있습니다."
      ]
    },
    {
      "cell_type": "code",
      "metadata": {
        "colab": {
          "base_uri": "https://localhost:8080/",
          "height": 173
        },
        "id": "7-QoSPtD62vJ",
        "outputId": "a95e8e90-ba9c-4cd6-ce70-c89d838a378f"
      },
      "source": [
        "test_err_df[test_err_df['time'].str.contains('202011.{8}')].describe()"
      ],
      "execution_count": null,
      "outputs": [
        {
          "output_type": "execute_result",
          "data": {
            "text/html": [
              "<div>\n",
              "<style scoped>\n",
              "    .dataframe tbody tr th:only-of-type {\n",
              "        vertical-align: middle;\n",
              "    }\n",
              "\n",
              "    .dataframe tbody tr th {\n",
              "        vertical-align: top;\n",
              "    }\n",
              "\n",
              "    .dataframe thead th {\n",
              "        text-align: right;\n",
              "    }\n",
              "</style>\n",
              "<table border=\"1\" class=\"dataframe\">\n",
              "  <thead>\n",
              "    <tr style=\"text-align: right;\">\n",
              "      <th></th>\n",
              "      <th>user_id</th>\n",
              "      <th>time</th>\n",
              "      <th>model_nm</th>\n",
              "      <th>fwver</th>\n",
              "      <th>errtype</th>\n",
              "      <th>errcode</th>\n",
              "      <th>year</th>\n",
              "      <th>month</th>\n",
              "      <th>day</th>\n",
              "      <th>hour</th>\n",
              "      <th>mmss</th>\n",
              "    </tr>\n",
              "  </thead>\n",
              "  <tbody>\n",
              "    <tr>\n",
              "      <th>count</th>\n",
              "      <td>16532572</td>\n",
              "      <td>16532572</td>\n",
              "      <td>16532572</td>\n",
              "      <td>16532572</td>\n",
              "      <td>16532572</td>\n",
              "      <td>16532568</td>\n",
              "      <td>16532572</td>\n",
              "      <td>16532572</td>\n",
              "      <td>16532572</td>\n",
              "      <td>16532572</td>\n",
              "      <td>16532572</td>\n",
              "    </tr>\n",
              "    <tr>\n",
              "      <th>unique</th>\n",
              "      <td>14998</td>\n",
              "      <td>2567648</td>\n",
              "      <td>9</td>\n",
              "      <td>40</td>\n",
              "      <td>41</td>\n",
              "      <td>2955</td>\n",
              "      <td>1</td>\n",
              "      <td>1</td>\n",
              "      <td>30</td>\n",
              "      <td>24</td>\n",
              "      <td>3600</td>\n",
              "    </tr>\n",
              "    <tr>\n",
              "      <th>top</th>\n",
              "      <td>41285</td>\n",
              "      <td>20201129045433</td>\n",
              "      <td>model_1</td>\n",
              "      <td>04.16.3553</td>\n",
              "      <td>23</td>\n",
              "      <td>1</td>\n",
              "      <td>2020</td>\n",
              "      <td>11</td>\n",
              "      <td>12</td>\n",
              "      <td>19</td>\n",
              "      <td>0905</td>\n",
              "    </tr>\n",
              "    <tr>\n",
              "      <th>freq</th>\n",
              "      <td>396478</td>\n",
              "      <td>618</td>\n",
              "      <td>5473839</td>\n",
              "      <td>5326116</td>\n",
              "      <td>2460483</td>\n",
              "      <td>8750122</td>\n",
              "      <td>16532572</td>\n",
              "      <td>16532572</td>\n",
              "      <td>614600</td>\n",
              "      <td>898253</td>\n",
              "      <td>5477</td>\n",
              "    </tr>\n",
              "  </tbody>\n",
              "</table>\n",
              "</div>"
            ],
            "text/plain": [
              "         user_id            time  model_nm  ...       day      hour      mmss\n",
              "count   16532572        16532572  16532572  ...  16532572  16532572  16532572\n",
              "unique     14998         2567648         9  ...        30        24      3600\n",
              "top        41285  20201129045433   model_1  ...        12        19      0905\n",
              "freq      396478             618   5473839  ...    614600    898253      5477\n",
              "\n",
              "[4 rows x 11 columns]"
            ]
          },
          "metadata": {
            "tags": []
          },
          "execution_count": 34
        }
      ]
    },
    {
      "cell_type": "markdown",
      "metadata": {
        "id": "T1pVQkSiKb6H"
      },
      "source": [
        "test quality도 분석해 봅시다"
      ]
    },
    {
      "cell_type": "code",
      "metadata": {
        "id": "oVs4HQzbKfha"
      },
      "source": [
        "test_quality_df['year'] = test_quality_df['time'].apply(lambda x: x[:4])\r\n",
        "test_quality_df['month'] = test_quality_df['time'].apply(lambda x:  x[4:6])\r\n",
        "test_quality_df['day'] = test_quality_df['time'].apply(lambda x: x[6:8])\r\n",
        "test_quality_df['hour'] = test_quality_df['time'].apply(lambda x: x[8:10])\r\n",
        "test_quality_df['mmss'] = test_quality_df['time'].apply(lambda x: x[10:]) "
      ],
      "execution_count": null,
      "outputs": []
    },
    {
      "cell_type": "code",
      "metadata": {
        "colab": {
          "base_uri": "https://localhost:8080/",
          "height": 173
        },
        "id": "yroU3TG3-2E6",
        "outputId": "07db7f45-172f-4a5d-a02f-13fb581bd3b9"
      },
      "source": [
        "test_quality_df.describe()"
      ],
      "execution_count": null,
      "outputs": [
        {
          "output_type": "execute_result",
          "data": {
            "text/html": [
              "<div>\n",
              "<style scoped>\n",
              "    .dataframe tbody tr th:only-of-type {\n",
              "        vertical-align: middle;\n",
              "    }\n",
              "\n",
              "    .dataframe tbody tr th {\n",
              "        vertical-align: top;\n",
              "    }\n",
              "\n",
              "    .dataframe thead th {\n",
              "        text-align: right;\n",
              "    }\n",
              "</style>\n",
              "<table border=\"1\" class=\"dataframe\">\n",
              "  <thead>\n",
              "    <tr style=\"text-align: right;\">\n",
              "      <th></th>\n",
              "      <th>time</th>\n",
              "      <th>user_id</th>\n",
              "      <th>fwver</th>\n",
              "      <th>quality_0</th>\n",
              "      <th>quality_1</th>\n",
              "      <th>quality_2</th>\n",
              "      <th>quality_3</th>\n",
              "      <th>quality_4</th>\n",
              "      <th>quality_5</th>\n",
              "      <th>quality_6</th>\n",
              "      <th>quality_7</th>\n",
              "      <th>quality_8</th>\n",
              "      <th>quality_9</th>\n",
              "      <th>quality_10</th>\n",
              "      <th>quality_11</th>\n",
              "      <th>quality_12</th>\n",
              "      <th>year</th>\n",
              "      <th>month</th>\n",
              "      <th>day</th>\n",
              "      <th>hour</th>\n",
              "      <th>mmss</th>\n",
              "    </tr>\n",
              "  </thead>\n",
              "  <tbody>\n",
              "    <tr>\n",
              "      <th>count</th>\n",
              "      <td>747972</td>\n",
              "      <td>747972</td>\n",
              "      <td>725208</td>\n",
              "      <td>641388</td>\n",
              "      <td>747961</td>\n",
              "      <td>726857</td>\n",
              "      <td>747972</td>\n",
              "      <td>747972</td>\n",
              "      <td>747928</td>\n",
              "      <td>747972</td>\n",
              "      <td>747972</td>\n",
              "      <td>747972</td>\n",
              "      <td>747972</td>\n",
              "      <td>747972</td>\n",
              "      <td>747972</td>\n",
              "      <td>747972</td>\n",
              "      <td>747972</td>\n",
              "      <td>747972</td>\n",
              "      <td>747972</td>\n",
              "      <td>747972</td>\n",
              "      <td>747972</td>\n",
              "    </tr>\n",
              "    <tr>\n",
              "      <th>unique</th>\n",
              "      <td>4317</td>\n",
              "      <td>8268</td>\n",
              "      <td>22</td>\n",
              "      <td>540</td>\n",
              "      <td>34</td>\n",
              "      <td>596</td>\n",
              "      <td>1</td>\n",
              "      <td>1</td>\n",
              "      <td>3994</td>\n",
              "      <td>528</td>\n",
              "      <td>839</td>\n",
              "      <td>44</td>\n",
              "      <td>431</td>\n",
              "      <td>3515</td>\n",
              "      <td>13</td>\n",
              "      <td>17</td>\n",
              "      <td>1</td>\n",
              "      <td>2</td>\n",
              "      <td>31</td>\n",
              "      <td>24</td>\n",
              "      <td>6</td>\n",
              "    </tr>\n",
              "    <tr>\n",
              "      <th>top</th>\n",
              "      <td>20201110141000</td>\n",
              "      <td>37632</td>\n",
              "      <td>05.15.2138</td>\n",
              "      <td>0.0</td>\n",
              "      <td>0</td>\n",
              "      <td>0.0</td>\n",
              "      <td>0</td>\n",
              "      <td>0</td>\n",
              "      <td>0</td>\n",
              "      <td>0</td>\n",
              "      <td>0</td>\n",
              "      <td>0</td>\n",
              "      <td>0</td>\n",
              "      <td>3</td>\n",
              "      <td>0</td>\n",
              "      <td>0</td>\n",
              "      <td>2020</td>\n",
              "      <td>11</td>\n",
              "      <td>01</td>\n",
              "      <td>22</td>\n",
              "      <td>1000</td>\n",
              "    </tr>\n",
              "    <tr>\n",
              "      <th>freq</th>\n",
              "      <td>984</td>\n",
              "      <td>3792</td>\n",
              "      <td>142704</td>\n",
              "      <td>505710</td>\n",
              "      <td>601265</td>\n",
              "      <td>578838</td>\n",
              "      <td>747972</td>\n",
              "      <td>747972</td>\n",
              "      <td>399032</td>\n",
              "      <td>594594</td>\n",
              "      <td>682584</td>\n",
              "      <td>707868</td>\n",
              "      <td>715716</td>\n",
              "      <td>98688</td>\n",
              "      <td>603983</td>\n",
              "      <td>727188</td>\n",
              "      <td>747972</td>\n",
              "      <td>747840</td>\n",
              "      <td>31680</td>\n",
              "      <td>58344</td>\n",
              "      <td>144252</td>\n",
              "    </tr>\n",
              "  </tbody>\n",
              "</table>\n",
              "</div>"
            ],
            "text/plain": [
              "                  time user_id       fwver  ...     day    hour    mmss\n",
              "count           747972  747972      725208  ...  747972  747972  747972\n",
              "unique            4317    8268          22  ...      31      24       6\n",
              "top     20201110141000   37632  05.15.2138  ...      01      22    1000\n",
              "freq               984    3792      142704  ...   31680   58344  144252\n",
              "\n",
              "[4 rows x 21 columns]"
            ]
          },
          "metadata": {
            "tags": []
          },
          "execution_count": 43
        }
      ]
    },
    {
      "cell_type": "code",
      "metadata": {
        "colab": {
          "base_uri": "https://localhost:8080/"
        },
        "id": "hgsrUuQAKw68",
        "outputId": "9c290a98-9451-4e71-8388-9ac85b049688"
      },
      "source": [
        "test_quality_df['time'].astype(int).describe().astype(int)"
      ],
      "execution_count": null,
      "outputs": [
        {
          "output_type": "execute_result",
          "data": {
            "text/plain": [
              "count            747972\n",
              "mean     20201115378414\n",
              "std             8818205\n",
              "min      20201031235000\n",
              "25%      20201108104000\n",
              "50%      20201115153000\n",
              "75%      20201123112000\n",
              "max      20201130234000\n",
              "Name: time, dtype: int64"
            ]
          },
          "metadata": {
            "tags": []
          },
          "execution_count": 45
        }
      ]
    },
    {
      "cell_type": "markdown",
      "metadata": {
        "id": "ci6vlVtaK0CH"
      },
      "source": [
        "test_quality 데이터는 20201031에서 시작하여 20201130에 끝납니다.\r\n",
        "quality 데이터는20201011에서 시작하여20201030에 끝납니다. test_quality데이터가 더 작음"
      ]
    },
    {
      "cell_type": "code",
      "metadata": {
        "colab": {
          "base_uri": "https://localhost:8080/"
        },
        "id": "Vw6bK-TyHZg5",
        "outputId": "44e84d42-1f0b-4fdc-d133-1524b88c562c"
      },
      "source": [
        "test_quality_df.isna().sum()"
      ],
      "execution_count": null,
      "outputs": [
        {
          "output_type": "execute_result",
          "data": {
            "text/plain": [
              "time               0\n",
              "user_id            0\n",
              "fwver          22764\n",
              "quality_0     106584\n",
              "quality_1         11\n",
              "quality_2      21115\n",
              "quality_3          0\n",
              "quality_4          0\n",
              "quality_5         44\n",
              "quality_6          0\n",
              "quality_7          0\n",
              "quality_8          0\n",
              "quality_9          0\n",
              "quality_10         0\n",
              "quality_11         0\n",
              "quality_12         0\n",
              "year               0\n",
              "month              0\n",
              "day                0\n",
              "hour               0\n",
              "mmss               0\n",
              "dtype: int64"
            ]
          },
          "metadata": {
            "tags": []
          },
          "execution_count": 46
        }
      ]
    },
    {
      "cell_type": "markdown",
      "metadata": {
        "id": "CT6SdLDJICwp"
      },
      "source": [
        "test quality 데이터에도 nan값이 많이 있습니다."
      ]
    },
    {
      "cell_type": "code",
      "metadata": {
        "colab": {
          "base_uri": "https://localhost:8080/",
          "height": 173
        },
        "id": "GF7ctoNRHgS8",
        "outputId": "d3399ac6-84cc-4ac7-a0fc-e027a029bdf1"
      },
      "source": [
        "test_quality_df[test_quality_df.isna().sum(axis=1)>0].describe()"
      ],
      "execution_count": null,
      "outputs": [
        {
          "output_type": "execute_result",
          "data": {
            "text/html": [
              "<div>\n",
              "<style scoped>\n",
              "    .dataframe tbody tr th:only-of-type {\n",
              "        vertical-align: middle;\n",
              "    }\n",
              "\n",
              "    .dataframe tbody tr th {\n",
              "        vertical-align: top;\n",
              "    }\n",
              "\n",
              "    .dataframe thead th {\n",
              "        text-align: right;\n",
              "    }\n",
              "</style>\n",
              "<table border=\"1\" class=\"dataframe\">\n",
              "  <thead>\n",
              "    <tr style=\"text-align: right;\">\n",
              "      <th></th>\n",
              "      <th>time</th>\n",
              "      <th>user_id</th>\n",
              "      <th>fwver</th>\n",
              "      <th>quality_0</th>\n",
              "      <th>quality_1</th>\n",
              "      <th>quality_2</th>\n",
              "      <th>quality_3</th>\n",
              "      <th>quality_4</th>\n",
              "      <th>quality_5</th>\n",
              "      <th>quality_6</th>\n",
              "      <th>quality_7</th>\n",
              "      <th>quality_8</th>\n",
              "      <th>quality_9</th>\n",
              "      <th>quality_10</th>\n",
              "      <th>quality_11</th>\n",
              "      <th>quality_12</th>\n",
              "      <th>year</th>\n",
              "      <th>month</th>\n",
              "      <th>day</th>\n",
              "      <th>hour</th>\n",
              "      <th>mmss</th>\n",
              "    </tr>\n",
              "  </thead>\n",
              "  <tbody>\n",
              "    <tr>\n",
              "      <th>count</th>\n",
              "      <td>108267</td>\n",
              "      <td>108267</td>\n",
              "      <td>85503</td>\n",
              "      <td>1683</td>\n",
              "      <td>108256</td>\n",
              "      <td>87152</td>\n",
              "      <td>108267</td>\n",
              "      <td>108267</td>\n",
              "      <td>108223</td>\n",
              "      <td>108267</td>\n",
              "      <td>108267</td>\n",
              "      <td>108267</td>\n",
              "      <td>108267</td>\n",
              "      <td>108267</td>\n",
              "      <td>108267</td>\n",
              "      <td>108267</td>\n",
              "      <td>108267</td>\n",
              "      <td>108267</td>\n",
              "      <td>108267</td>\n",
              "      <td>108267</td>\n",
              "      <td>108267</td>\n",
              "    </tr>\n",
              "    <tr>\n",
              "      <th>unique</th>\n",
              "      <td>3555</td>\n",
              "      <td>579</td>\n",
              "      <td>7</td>\n",
              "      <td>15</td>\n",
              "      <td>30</td>\n",
              "      <td>145</td>\n",
              "      <td>1</td>\n",
              "      <td>1</td>\n",
              "      <td>550</td>\n",
              "      <td>119</td>\n",
              "      <td>129</td>\n",
              "      <td>29</td>\n",
              "      <td>122</td>\n",
              "      <td>432</td>\n",
              "      <td>8</td>\n",
              "      <td>10</td>\n",
              "      <td>1</td>\n",
              "      <td>1</td>\n",
              "      <td>30</td>\n",
              "      <td>24</td>\n",
              "      <td>6</td>\n",
              "    </tr>\n",
              "    <tr>\n",
              "      <th>top</th>\n",
              "      <td>20201102203000</td>\n",
              "      <td>32690</td>\n",
              "      <td>03.11.1167</td>\n",
              "      <td>0.0</td>\n",
              "      <td>0</td>\n",
              "      <td>0.0</td>\n",
              "      <td>0</td>\n",
              "      <td>0</td>\n",
              "      <td>0</td>\n",
              "      <td>0</td>\n",
              "      <td>0</td>\n",
              "      <td>0</td>\n",
              "      <td>0</td>\n",
              "      <td>1</td>\n",
              "      <td>0</td>\n",
              "      <td>0</td>\n",
              "      <td>2020</td>\n",
              "      <td>11</td>\n",
              "      <td>08</td>\n",
              "      <td>22</td>\n",
              "      <td>1000</td>\n",
              "    </tr>\n",
              "    <tr>\n",
              "      <th>freq</th>\n",
              "      <td>132</td>\n",
              "      <td>3408</td>\n",
              "      <td>84240</td>\n",
              "      <td>1267</td>\n",
              "      <td>92305</td>\n",
              "      <td>74399</td>\n",
              "      <td>108267</td>\n",
              "      <td>108267</td>\n",
              "      <td>79302</td>\n",
              "      <td>91254</td>\n",
              "      <td>98549</td>\n",
              "      <td>102422</td>\n",
              "      <td>98756</td>\n",
              "      <td>37488</td>\n",
              "      <td>91262</td>\n",
              "      <td>91403</td>\n",
              "      <td>108267</td>\n",
              "      <td>108267</td>\n",
              "      <td>4226</td>\n",
              "      <td>8353</td>\n",
              "      <td>21038</td>\n",
              "    </tr>\n",
              "  </tbody>\n",
              "</table>\n",
              "</div>"
            ],
            "text/plain": [
              "                  time user_id       fwver  ...     day    hour    mmss\n",
              "count           108267  108267       85503  ...  108267  108267  108267\n",
              "unique            3555     579           7  ...      30      24       6\n",
              "top     20201102203000   32690  03.11.1167  ...      08      22    1000\n",
              "freq               132    3408       84240  ...    4226    8353   21038\n",
              "\n",
              "[4 rows x 21 columns]"
            ]
          },
          "metadata": {
            "tags": []
          },
          "execution_count": 47
        }
      ]
    },
    {
      "cell_type": "markdown",
      "metadata": {
        "id": "3Zsb7kXeItOv"
      },
      "source": [
        "nan값이 있는 row만 확인해보았습니다.\r\n",
        "특이점으로는 fwver도 총 22개지만 nan값이 발생한 fwver은 7개뿐이었습니다.\r\n",
        "quality 데이터와의 유니크 값을 비교해보겠습니다."
      ]
    },
    {
      "cell_type": "code",
      "metadata": {
        "colab": {
          "base_uri": "https://localhost:8080/",
          "height": 173
        },
        "id": "8GhcuHGgHlOC",
        "outputId": "6cb02464-08e8-442e-8cf5-e603679cd5bb"
      },
      "source": [
        ""
      ],
      "execution_count": null,
      "outputs": [
        {
          "output_type": "execute_result",
          "data": {
            "text/html": [
              "<div>\n",
              "<style scoped>\n",
              "    .dataframe tbody tr th:only-of-type {\n",
              "        vertical-align: middle;\n",
              "    }\n",
              "\n",
              "    .dataframe tbody tr th {\n",
              "        vertical-align: top;\n",
              "    }\n",
              "\n",
              "    .dataframe thead th {\n",
              "        text-align: right;\n",
              "    }\n",
              "</style>\n",
              "<table border=\"1\" class=\"dataframe\">\n",
              "  <thead>\n",
              "    <tr style=\"text-align: right;\">\n",
              "      <th></th>\n",
              "      <th>time</th>\n",
              "      <th>user_id</th>\n",
              "      <th>fwver</th>\n",
              "      <th>quality_0</th>\n",
              "      <th>quality_1</th>\n",
              "      <th>quality_2</th>\n",
              "      <th>quality_3</th>\n",
              "      <th>quality_4</th>\n",
              "      <th>quality_5</th>\n",
              "      <th>quality_6</th>\n",
              "      <th>quality_7</th>\n",
              "      <th>quality_8</th>\n",
              "      <th>quality_9</th>\n",
              "      <th>quality_10</th>\n",
              "      <th>quality_11</th>\n",
              "      <th>quality_12</th>\n",
              "      <th>year</th>\n",
              "      <th>month</th>\n",
              "      <th>day</th>\n",
              "      <th>hour</th>\n",
              "      <th>mmss</th>\n",
              "    </tr>\n",
              "  </thead>\n",
              "  <tbody>\n",
              "    <tr>\n",
              "      <th>count</th>\n",
              "      <td>144485</td>\n",
              "      <td>144485</td>\n",
              "      <td>104405</td>\n",
              "      <td>53</td>\n",
              "      <td>144485</td>\n",
              "      <td>104372</td>\n",
              "      <td>144485</td>\n",
              "      <td>144485</td>\n",
              "      <td>144465</td>\n",
              "      <td>144485</td>\n",
              "      <td>144485</td>\n",
              "      <td>144485</td>\n",
              "      <td>144485</td>\n",
              "      <td>144485</td>\n",
              "      <td>144485</td>\n",
              "      <td>144485</td>\n",
              "      <td>144485</td>\n",
              "      <td>144485</td>\n",
              "      <td>144485</td>\n",
              "      <td>144485</td>\n",
              "      <td>144485</td>\n",
              "    </tr>\n",
              "    <tr>\n",
              "      <th>unique</th>\n",
              "      <td>3913</td>\n",
              "      <td>587</td>\n",
              "      <td>7</td>\n",
              "      <td>2</td>\n",
              "      <td>27</td>\n",
              "      <td>120</td>\n",
              "      <td>1</td>\n",
              "      <td>1</td>\n",
              "      <td>725</td>\n",
              "      <td>204</td>\n",
              "      <td>241</td>\n",
              "      <td>25</td>\n",
              "      <td>83</td>\n",
              "      <td>597</td>\n",
              "      <td>10</td>\n",
              "      <td>11</td>\n",
              "      <td>1</td>\n",
              "      <td>2</td>\n",
              "      <td>31</td>\n",
              "      <td>24</td>\n",
              "      <td>6</td>\n",
              "    </tr>\n",
              "    <tr>\n",
              "      <th>top</th>\n",
              "      <td>20201104204000</td>\n",
              "      <td>23065</td>\n",
              "      <td>03.11.1167</td>\n",
              "      <td>0.0</td>\n",
              "      <td>0</td>\n",
              "      <td>0.0</td>\n",
              "      <td>0</td>\n",
              "      <td>0</td>\n",
              "      <td>0</td>\n",
              "      <td>0</td>\n",
              "      <td>0</td>\n",
              "      <td>0</td>\n",
              "      <td>0</td>\n",
              "      <td>1</td>\n",
              "      <td>0</td>\n",
              "      <td>0</td>\n",
              "      <td>2020</td>\n",
              "      <td>11</td>\n",
              "      <td>27</td>\n",
              "      <td>22</td>\n",
              "      <td>2000</td>\n",
              "    </tr>\n",
              "    <tr>\n",
              "      <th>freq</th>\n",
              "      <td>180</td>\n",
              "      <td>3828</td>\n",
              "      <td>104148</td>\n",
              "      <td>52</td>\n",
              "      <td>120844</td>\n",
              "      <td>89734</td>\n",
              "      <td>144485</td>\n",
              "      <td>144485</td>\n",
              "      <td>100578</td>\n",
              "      <td>118698</td>\n",
              "      <td>128569</td>\n",
              "      <td>136013</td>\n",
              "      <td>137912</td>\n",
              "      <td>39600</td>\n",
              "      <td>119411</td>\n",
              "      <td>121847</td>\n",
              "      <td>144485</td>\n",
              "      <td>144473</td>\n",
              "      <td>5681</td>\n",
              "      <td>10213</td>\n",
              "      <td>27530</td>\n",
              "    </tr>\n",
              "  </tbody>\n",
              "</table>\n",
              "</div>"
            ],
            "text/plain": [
              "                  time user_id       fwver  ...     day    hour    mmss\n",
              "count           144485  144485      104405  ...  144485  144485  144485\n",
              "unique            3913     587           7  ...      31      24       6\n",
              "top     20201104204000   23065  03.11.1167  ...      27      22    2000\n",
              "freq               180    3828      104148  ...    5681   10213   27530\n",
              "\n",
              "[4 rows x 21 columns]"
            ]
          },
          "metadata": {
            "tags": []
          },
          "execution_count": 41
        }
      ]
    },
    {
      "cell_type": "code",
      "metadata": {
        "id": "Xs6OhxSQKRMm"
      },
      "source": [
        ""
      ],
      "execution_count": null,
      "outputs": []
    }
  ]
}