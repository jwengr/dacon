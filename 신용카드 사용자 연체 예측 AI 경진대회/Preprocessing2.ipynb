{
  "nbformat": 4,
  "nbformat_minor": 0,
  "metadata": {
    "colab": {
      "name": "Preprocessing2.ipynb",
      "provenance": [],
      "mount_file_id": "1D7kjwxTXGt5n9eUfNO3BtNhKnmw3AEW6",
      "authorship_tag": "ABX9TyPL9c5kFACDjtVgwjG/7OOo",
      "include_colab_link": true
    },
    "kernelspec": {
      "name": "python3",
      "display_name": "Python 3"
    },
    "language_info": {
      "name": "python"
    }
  },
  "cells": [
    {
      "cell_type": "markdown",
      "metadata": {
        "id": "view-in-github",
        "colab_type": "text"
      },
      "source": [
        "<a href=\"https://colab.research.google.com/github/jwengr/dacon/blob/main/%EC%8B%A0%EC%9A%A9%EC%B9%B4%EB%93%9C%20%EC%82%AC%EC%9A%A9%EC%9E%90%20%EC%97%B0%EC%B2%B4%20%EC%98%88%EC%B8%A1%20AI%20%EA%B2%BD%EC%A7%84%EB%8C%80%ED%9A%8C/Preprocessing2.ipynb\" target=\"_parent\"><img src=\"https://colab.research.google.com/assets/colab-badge.svg\" alt=\"Open In Colab\"/></a>"
      ]
    },
    {
      "cell_type": "code",
      "metadata": {
        "id": "0AiD9a6ovTlc"
      },
      "source": [
        "from sklearn.preprocessing import MinMaxScaler, StandardScaler, RobustScaler\n",
        "from sklearn.preprocessing import LabelEncoder\n",
        "\n",
        "import pandas as pd\n",
        "import numpy as np\n",
        "import pickle\n",
        "import os, sys\n",
        "import matplotlib.pyplot as plt\n",
        "import scipy.stats as stats"
      ],
      "execution_count": 10,
      "outputs": []
    },
    {
      "cell_type": "code",
      "metadata": {
        "id": "pZh70UAtvf0i"
      },
      "source": [
        "PATH = 'drive/My Drive/dacon/credit'"
      ],
      "execution_count": 55,
      "outputs": []
    },
    {
      "cell_type": "code",
      "metadata": {
        "id": "gnrumhLHvini"
      },
      "source": [
        "train_df = pd.read_csv(PATH+'/dataset/train.csv').drop(['index','FLAG_MOBIL'],axis=1)\n",
        "test_df = pd.read_csv(PATH+'/dataset/test.csv').drop(['index','FLAG_MOBIL'],axis=1)"
      ],
      "execution_count": 65,
      "outputs": []
    },
    {
      "cell_type": "code",
      "metadata": {
        "id": "Ho8a4nAATR9a"
      },
      "source": [
        "train_df['occyp_type'].fillna('NaN',inplace=True)\n",
        "test_df['occyp_type'].fillna('Nan',inplace=True)"
      ],
      "execution_count": 66,
      "outputs": []
    },
    {
      "cell_type": "code",
      "metadata": {
        "id": "BBzeqsSdRMj0"
      },
      "source": [
        "le = LabelEncoder()"
      ],
      "execution_count": 67,
      "outputs": []
    },
    {
      "cell_type": "code",
      "metadata": {
        "colab": {
          "base_uri": "https://localhost:8080/"
        },
        "id": "3r4rsjr-Sl2N",
        "outputId": "9e2ea491-0f84-47f9-a1f5-08a16f9140f7"
      },
      "source": [
        "for col in ['gender','car','reality','work_phone','phone','email']:\n",
        "    train_df[[col]] = le.fit_transform(train_df[[col]])\n",
        "    test_df[[col]] = le.transform(test_df[[col]])"
      ],
      "execution_count": 68,
      "outputs": [
        {
          "output_type": "stream",
          "text": [
            "/usr/local/lib/python3.7/dist-packages/sklearn/preprocessing/_label.py:251: DataConversionWarning: A column-vector y was passed when a 1d array was expected. Please change the shape of y to (n_samples, ), for example using ravel().\n",
            "  y = column_or_1d(y, warn=True)\n",
            "/usr/local/lib/python3.7/dist-packages/sklearn/preprocessing/_label.py:268: DataConversionWarning: A column-vector y was passed when a 1d array was expected. Please change the shape of y to (n_samples, ), for example using ravel().\n",
            "  y = column_or_1d(y, warn=True)\n"
          ],
          "name": "stderr"
        }
      ]
    },
    {
      "cell_type": "code",
      "metadata": {
        "id": "eRo4xj0CTcyS"
      },
      "source": [
        "train_df['begin_months'] = train_df['begin_month'].values%12\n",
        "test_df['begin_months'] = test_df['begin_month'].values%12\n",
        "train_df['not_employed'] = (train_df['DAYS_EMPLOYED']>0).astype(np.int32)\n",
        "test_df['not_employed'] = (test_df['DAYS_EMPLOYED']>0).astype(np.int32)"
      ],
      "execution_count": 69,
      "outputs": []
    },
    {
      "cell_type": "code",
      "metadata": {
        "id": "fAKYzCIATGmU"
      },
      "source": [
        "for col in ['income_type','edu_type','family_type','house_type']:\n",
        "    temp_train_df = pd.get_dummies(train_df[col],prefix=col)\n",
        "    temp_test_df1 = pd.DataFrame(columns=temp_train_df.columns).fillna(0)\n",
        "    temp_test_df2 = pd.get_dummies(test_df[col],prefix=col)\n",
        "    for col in temp_test_df2.columns:\n",
        "        temp_test_df1[col] = temp_test_df2[col]\n",
        "    train_df = pd.concat([train_df,temp_train_df],axis=1)\n",
        "    test_df = pd.concat([test_df,temp_test_df1],axis=1)"
      ],
      "execution_count": 70,
      "outputs": []
    },
    {
      "cell_type": "code",
      "metadata": {
        "id": "xFxdrKMYMZcl"
      },
      "source": [
        "train_df.to_csv(PATH+'/preproc/train_no_occyp.csv',index=False)\n",
        "test_df.to_csv(PATH+'/preproc/test_no_occyp.csv',index=False)"
      ],
      "execution_count": 74,
      "outputs": []
    },
    {
      "cell_type": "code",
      "metadata": {
        "id": "VtdOVNDhS6vo"
      },
      "source": [
        ""
      ],
      "execution_count": null,
      "outputs": []
    }
  ]
}