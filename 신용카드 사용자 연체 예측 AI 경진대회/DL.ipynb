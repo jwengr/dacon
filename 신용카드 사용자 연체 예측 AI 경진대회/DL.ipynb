{
  "nbformat": 4,
  "nbformat_minor": 0,
  "metadata": {
    "colab": {
      "name": "DL.ipynb",
      "provenance": [],
      "mount_file_id": "1fKrdcd0Z4Nb5vZoV6U7v3mB4fpKnkj-R",
      "authorship_tag": "ABX9TyN7//6IzPLpAqj3udDK3N3N",
      "include_colab_link": true
    },
    "kernelspec": {
      "name": "python3",
      "display_name": "Python 3"
    },
    "language_info": {
      "name": "python"
    },
    "accelerator": "GPU"
  },
  "cells": [
    {
      "cell_type": "markdown",
      "metadata": {
        "id": "view-in-github",
        "colab_type": "text"
      },
      "source": [
        "<a href=\"https://colab.research.google.com/github/jwengr/dacon/blob/main/%EC%8B%A0%EC%9A%A9%EC%B9%B4%EB%93%9C%20%EC%82%AC%EC%9A%A9%EC%9E%90%20%EC%97%B0%EC%B2%B4%20%EC%98%88%EC%B8%A1%20AI%20%EA%B2%BD%EC%A7%84%EB%8C%80%ED%9A%8C/DL.ipynb\" target=\"_parent\"><img src=\"https://colab.research.google.com/assets/colab-badge.svg\" alt=\"Open In Colab\"/></a>"
      ]
    },
    {
      "cell_type": "code",
      "metadata": {
        "id": "rBnxQGUgBZH5"
      },
      "source": [
        "!pip install transformers"
      ],
      "execution_count": null,
      "outputs": []
    },
    {
      "cell_type": "code",
      "metadata": {
        "id": "kMSbtbo28cdR"
      },
      "source": [
        "import pandas as pd\n",
        "import numpy as np\n",
        "import tensorflow as tf\n",
        "import matplotlib.pyplot as plt\n",
        "\n",
        "from keras.callbacks import EarlyStopping, ModelCheckpoint\n",
        "from tensorflow import keras\n",
        "from tensorflow.keras import layers\n",
        "from tensorflow.keras.layers import Lambda\n",
        "from itertools import combinations\n",
        "from transformers import BertTokenizer\n",
        "from sklearn.preprocessing import StandardScaler"
      ],
      "execution_count": 564,
      "outputs": []
    },
    {
      "cell_type": "code",
      "metadata": {
        "id": "wxmN0Zja8NMv"
      },
      "source": [
        "PATH = 'drive/My Drive/dacon/credit'"
      ],
      "execution_count": 247,
      "outputs": []
    },
    {
      "cell_type": "code",
      "metadata": {
        "id": "L1BAujN_8Zo1"
      },
      "source": [
        "train_df = pd.read_csv(PATH+'/dataset/train.csv').drop(['index','FLAG_MOBIL'],axis=1)\n",
        "test_df = pd.read_csv(PATH+'/dataset/test.csv').drop(['index','FLAG_MOBIL'],axis=1)"
      ],
      "execution_count": 699,
      "outputs": []
    },
    {
      "cell_type": "code",
      "metadata": {
        "id": "tt6KyBMtAAeP"
      },
      "source": [
        "train_df['occyp_type'].fillna('one two three',inplace=True)\n",
        "test_df['occyp_type'].fillna('one two three',inplace=True)"
      ],
      "execution_count": 700,
      "outputs": []
    },
    {
      "cell_type": "code",
      "metadata": {
        "id": "ys-gFWixd1TM"
      },
      "source": [
        "train_df['not_employed'] = (train_df['DAYS_EMPLOYED']>0).astype(np.int32)\n",
        "test_df['not_employed'] = (test_df['DAYS_EMPLOYED']>0).astype(np.int32)"
      ],
      "execution_count": 701,
      "outputs": []
    },
    {
      "cell_type": "code",
      "metadata": {
        "id": "JVvMtMvVe_lf"
      },
      "source": [
        "train_df['begin_months'] = train_df['begin_month'].values%12\n",
        "test_df['begin_months'] = test_df['begin_month'].values%12"
      ],
      "execution_count": 702,
      "outputs": []
    },
    {
      "cell_type": "code",
      "metadata": {
        "id": "6NU92txI8kVW"
      },
      "source": [
        "le = preprocessing.LabelEncoder()"
      ],
      "execution_count": 703,
      "outputs": []
    },
    {
      "cell_type": "code",
      "metadata": {
        "colab": {
          "base_uri": "https://localhost:8080/"
        },
        "id": "PBC2NrmW9Zmw",
        "outputId": "68212aaa-118b-4ad5-e7f6-6fe4dae35847"
      },
      "source": [
        "for col in ['gender','car','reality','work_phone','phone','email','not_employed','begin_months','family_size']:\n",
        "    train_df[[col]] = le.fit_transform(train_df[[col]]).astype(np.int32)\n",
        "    train_df = pd.concat([train_df,pd.get_dummies(train_df[col],prefix=f'{col}')],axis=1)\n",
        "\n",
        "    test_df[[col]] = le.fit_transform(test_df[[col]]).astype(np.int32)\n",
        "    test_df = pd.concat([test_df,pd.get_dummies(test_df[col],prefix=f'{col}')],axis=1)"
      ],
      "execution_count": 704,
      "outputs": [
        {
          "output_type": "stream",
          "text": [
            "/usr/local/lib/python3.7/dist-packages/sklearn/preprocessing/_label.py:251: DataConversionWarning: A column-vector y was passed when a 1d array was expected. Please change the shape of y to (n_samples, ), for example using ravel().\n",
            "  y = column_or_1d(y, warn=True)\n"
          ],
          "name": "stderr"
        }
      ]
    },
    {
      "cell_type": "code",
      "metadata": {
        "id": "pGhXZjxa9s-p"
      },
      "source": [
        "for col in ['income_type','edu_type','family_type','house_type','occyp_type']:\n",
        "    train_df = pd.concat([train_df,pd.get_dummies(train_df[col],prefix=f'{col}')],axis=1)\n",
        "    test_df = pd.concat([test_df,pd.get_dummies(test_df[col],prefix=f'{col}')],axis=1)"
      ],
      "execution_count": 705,
      "outputs": []
    },
    {
      "cell_type": "code",
      "metadata": {
        "id": "NfjU2fIyJQPp"
      },
      "source": [
        "dummies_df = train_df.iloc[:,34:]\n",
        "train_df = train_df.iloc[:,:34]\n",
        "\n",
        "test_dummies_df = pd.DataFrame(columns=dummies_df.columns)\n",
        "for col in test_df.iloc[:,33:].columns:\n",
        "    test_dummies_df[col] = test_df[col]\n",
        "test_dummies_df.fillna(0,inplace=True)\n",
        "test_df = test_df.iloc[:,:33]"
      ],
      "execution_count": 706,
      "outputs": []
    },
    {
      "cell_type": "code",
      "metadata": {
        "id": "o9Nq2y8NWYtA"
      },
      "source": [
        "dummies_arr = dummies_df.values\n",
        "test_dummies_arr = test_dummies_df.values"
      ],
      "execution_count": 707,
      "outputs": []
    },
    {
      "cell_type": "code",
      "metadata": {
        "colab": {
          "base_uri": "https://localhost:8080/"
        },
        "id": "ySlhGRrwVR7r",
        "outputId": "f0ee2928-29ce-4910-b00b-7e66630f1152"
      },
      "source": [
        "dummies_arr.shape,test_dummies_arr.shape"
      ],
      "execution_count": 708,
      "outputs": [
        {
          "output_type": "execute_result",
          "data": {
            "text/plain": [
              "((26457, 62), (10000, 62))"
            ]
          },
          "metadata": {
            "tags": []
          },
          "execution_count": 708
        }
      ]
    },
    {
      "cell_type": "code",
      "metadata": {
        "id": "FHKJ3uXPI6hf"
      },
      "source": [
        "wide_arr = np.zeros((len(train_df),dummies_arr.shape[1]*(dummies_arr.shape[1]-1)//2),dtype=np.int32)\n",
        "test_wide_arr = np.zeros((len(test_df),test_dummies_arr.shape[1]*(test_dummies_arr.shape[1]-1)//2),dtype=np.int32)"
      ],
      "execution_count": 709,
      "outputs": []
    },
    {
      "cell_type": "code",
      "metadata": {
        "id": "_ss1ABbqI2P1"
      },
      "source": [
        "i=0\n",
        "for a,b in list(combinations(range(dummies_arr.shape[1]),2)):\n",
        "    wide_arr[:,i] = dummies_arr[:,a]*dummies_arr[:,b]\n",
        "    i+=1\n",
        "i=0\n",
        "for a,b in list(combinations(range(test_dummies_arr.shape[1]),2)):\n",
        "    test_wide_arr[:,i] = test_dummies_arr[:,a]*test_dummies_arr[:,b]\n",
        "    i+=1"
      ],
      "execution_count": 710,
      "outputs": []
    },
    {
      "cell_type": "code",
      "metadata": {
        "id": "HxtHHo7h9t5U"
      },
      "source": [
        "tokenizer = BertTokenizer.from_pretrained(\"bert-base-uncased\")"
      ],
      "execution_count": 711,
      "outputs": []
    },
    {
      "cell_type": "code",
      "metadata": {
        "colab": {
          "base_uri": "https://localhost:8080/"
        },
        "id": "v24NUx_fMmvQ",
        "outputId": "9bbddf8a-503c-4d81-b46f-5eb65ffaa810"
      },
      "source": [
        "print('----train----')\n",
        "for col in ['income_type','edu_type','family_type','house_type','occyp_type']:\n",
        "    print(col,max([len(tokenizer.encode(val)) for val in set(train_df[col].values)]))\n",
        "print('----test----')\n",
        "for col in ['income_type','edu_type','family_type','house_type','occyp_type']:\n",
        "    print(col,max([len(tokenizer.encode(val)) for val in set(test_df[col].values)]))"
      ],
      "execution_count": 712,
      "outputs": [
        {
          "output_type": "stream",
          "text": [
            "----train----\n",
            "income_type 4\n",
            "edu_type 6\n",
            "family_type 6\n",
            "house_type 6\n",
            "occyp_type 8\n",
            "----test----\n",
            "income_type 4\n",
            "edu_type 6\n",
            "family_type 6\n",
            "house_type 6\n",
            "occyp_type 8\n"
          ],
          "name": "stdout"
        }
      ]
    },
    {
      "cell_type": "code",
      "metadata": {
        "id": "2BFdgqOCCepa"
      },
      "source": [
        "emb_arr = np.zeros((len(train_df),3+5+5+5+7),np.int32)\n",
        "test_emb_arr = np.zeros((len(test_df),3+5+5+5+7),np.int32)"
      ],
      "execution_count": 713,
      "outputs": []
    },
    {
      "cell_type": "code",
      "metadata": {
        "id": "hGZ9CkQjZ1JG"
      },
      "source": [
        "last=0\n",
        "for col,max_length in zip(['income_type','edu_type','family_type','house_type','occyp_type'],[4,6,6,6,8]):\n",
        "    emb_arr[:,last:last+max_length-1] = np.array(train_df[col].apply(lambda x: tokenizer.encode_plus(x,padding='max_length',max_length=max_length)['input_ids'][1:]).values.tolist())\n",
        "    last+=max_length-1\n",
        "last=0\n",
        "for col,max_length in zip(['income_type','edu_type','family_type','house_type','occyp_type'],[4,6,6,6,8]):\n",
        "    test_emb_arr[:,last:last+max_length-1] = np.array(test_df[col].apply(lambda x: tokenizer.encode_plus(x,padding='max_length',max_length=max_length)['input_ids'][1:]).values.tolist())\n",
        "    last+=max_length-1"
      ],
      "execution_count": 714,
      "outputs": []
    },
    {
      "cell_type": "code",
      "metadata": {
        "id": "kQ-AlykeapB6"
      },
      "source": [
        "for col in ['income_total','DAYS_BIRTH','DAYS_EMPLOYED','family_size','begin_month']:\n",
        "    scaler = StandardScaler()\n",
        "    train_df[f'{col}_scaled'] = scaler.fit_transform(train_df[[col]])\n",
        "    test_df[f'{col}_scaled'] = scaler.transform(test_df[[col]])"
      ],
      "execution_count": 715,
      "outputs": []
    },
    {
      "cell_type": "code",
      "metadata": {
        "id": "ZbbrE8B9dFcm"
      },
      "source": [
        "deep_arr = train_df[['gender','car','reality','child_num','work_phone','phone','email',\n",
        "          'income_total_scaled','DAYS_BIRTH_scaled','DAYS_EMPLOYED_scaled','family_size_scaled','begin_month_scaled']].values\n",
        "test_deep_arr = test_df[['gender','car','reality','child_num','work_phone','phone','email',\n",
        "          'income_total_scaled','DAYS_BIRTH_scaled','DAYS_EMPLOYED_scaled','family_size_scaled','begin_month_scaled']].values"
      ],
      "execution_count": 716,
      "outputs": []
    },
    {
      "cell_type": "code",
      "metadata": {
        "id": "_82ulDmpixmi"
      },
      "source": [
        "deep_arr = np.concatenate((deep_arr,emb_arr),axis=1)\n",
        "test_deep_arr = np.concatenate((test_deep_arr,test_emb_arr),axis=1)"
      ],
      "execution_count": 717,
      "outputs": []
    },
    {
      "cell_type": "code",
      "metadata": {
        "colab": {
          "base_uri": "https://localhost:8080/"
        },
        "id": "OG0RMtfcmlHD",
        "outputId": "22e1b64c-9658-4ec9-edf3-fd7921699e2d"
      },
      "source": [
        "deep_arr.shape,wide_arr.shape,test_deep_arr.shape,test_wide_arr.shape,"
      ],
      "execution_count": 718,
      "outputs": [
        {
          "output_type": "execute_result",
          "data": {
            "text/plain": [
              "((26457, 37), (26457, 1891), (10000, 37), (10000, 1891))"
            ]
          },
          "metadata": {
            "tags": []
          },
          "execution_count": 718
        }
      ]
    },
    {
      "cell_type": "code",
      "metadata": {
        "id": "qHlJsKlnrJqR"
      },
      "source": [
        "dataset = tf.data.Dataset.from_tensor_slices(((np.concatenate((deep_arr,wide_arr),axis=1)),pd.get_dummies(train_df['credit'].astype(np.int32)).values)).shuffle(26457)\n",
        "test_dataset = tf.data.Dataset.from_tensor_slices(np.concatenate((test_deep_arr,test_wide_arr),axis=1)).batch(256)"
      ],
      "execution_count": 752,
      "outputs": []
    },
    {
      "cell_type": "code",
      "metadata": {
        "id": "XJoQr3nita1S"
      },
      "source": [
        "train_dataset, val_dataset = dataset.take(int(26457*0.8)).batch(256), dataset.skip(int(26457*0.8)).batch(256)"
      ],
      "execution_count": 753,
      "outputs": []
    },
    {
      "cell_type": "code",
      "metadata": {
        "id": "jZ45ZdlSjwXH"
      },
      "source": [
        "inputs = keras.Input(shape=(deep_arr.shape[1]+wide_arr.shape[1]))\n",
        "deep,wide = Lambda( lambda x: tf.split(x,num_or_size_splits=[deep_arr.shape[1],wide_arr.shape[1]],axis=1))(inputs)\n",
        "\n",
        "deep = layers.BatchNormalization()(deep)\n",
        "deep = layers.Dense(32,activation='relu')(deep)\n",
        "deep = layers.Dense(12,activation='relu')(deep)\n",
        "deep = layers.Dense(3,activation='relu')(deep)\n",
        "\n",
        "\n",
        "wide = layers.BatchNormalization()(wide)\n",
        "wide = layers.Dense(3,activation='relu')(wide)\n",
        "\n",
        "\n",
        "x = layers.Concatenate()([deep,wide])\n",
        "outputs = layers.Dense(3,activation='softmax')(x)"
      ],
      "execution_count": 754,
      "outputs": []
    },
    {
      "cell_type": "code",
      "metadata": {
        "colab": {
          "base_uri": "https://localhost:8080/"
        },
        "id": "IM31zfW0qO0K",
        "outputId": "42bef724-61e6-4ce4-acdc-7021813068c3"
      },
      "source": [
        "model = keras.Model(inputs, outputs, name=\"wide_deep_model\")\n",
        "model.summary()"
      ],
      "execution_count": 755,
      "outputs": [
        {
          "output_type": "stream",
          "text": [
            "Model: \"wide_deep_model\"\n",
            "__________________________________________________________________________________________________\n",
            "Layer (type)                    Output Shape         Param #     Connected to                     \n",
            "==================================================================================================\n",
            "input_58 (InputLayer)           [(None, 1928)]       0                                            \n",
            "__________________________________________________________________________________________________\n",
            "lambda_59 (Lambda)              [(None, 37), (None,  0           input_58[0][0]                   \n",
            "__________________________________________________________________________________________________\n",
            "batch_normalization_45 (BatchNo (None, 37)           148         lambda_59[0][0]                  \n",
            "__________________________________________________________________________________________________\n",
            "dense_219 (Dense)               (None, 32)           1216        batch_normalization_45[0][0]     \n",
            "__________________________________________________________________________________________________\n",
            "dense_220 (Dense)               (None, 12)           396         dense_219[0][0]                  \n",
            "__________________________________________________________________________________________________\n",
            "batch_normalization_46 (BatchNo (None, 1891)         7564        lambda_59[0][1]                  \n",
            "__________________________________________________________________________________________________\n",
            "dense_221 (Dense)               (None, 3)            39          dense_220[0][0]                  \n",
            "__________________________________________________________________________________________________\n",
            "dense_222 (Dense)               (None, 3)            5676        batch_normalization_46[0][0]     \n",
            "__________________________________________________________________________________________________\n",
            "concatenate_42 (Concatenate)    (None, 6)            0           dense_221[0][0]                  \n",
            "                                                                 dense_222[0][0]                  \n",
            "__________________________________________________________________________________________________\n",
            "dense_223 (Dense)               (None, 3)            21          concatenate_42[0][0]             \n",
            "==================================================================================================\n",
            "Total params: 15,060\n",
            "Trainable params: 11,204\n",
            "Non-trainable params: 3,856\n",
            "__________________________________________________________________________________________________\n"
          ],
          "name": "stdout"
        }
      ]
    },
    {
      "cell_type": "code",
      "metadata": {
        "colab": {
          "base_uri": "https://localhost:8080/"
        },
        "id": "dUM92zils08N",
        "outputId": "e5090c9f-666f-4087-ebe8-e1624a417f15"
      },
      "source": [
        "model.compile(loss='categorical_crossentropy', optimizer='adam')\n",
        "early_stop = EarlyStopping(monitor='val_loss', patience=100,verbose=1)\n",
        "mc = ModelCheckpoint(PATH+'/model/wide_deep.h5', monitor='val_loss', mode='min', save_best_only=True)\n",
        "history = model.fit(train_dataset,\n",
        "                        epochs=1000,\n",
        "                        verbose=1,\n",
        "                    callbacks=[early_stop, mc],\n",
        "                    validation_data=val_dataset\n",
        "                    )"
      ],
      "execution_count": 756,
      "outputs": [
        {
          "output_type": "stream",
          "text": [
            "Epoch 1/1000\n",
            "83/83 [==============================] - 2s 15ms/step - loss: 1.1687 - val_loss: 0.8703\n",
            "Epoch 2/1000\n",
            "83/83 [==============================] - 1s 13ms/step - loss: 0.8649 - val_loss: 0.8491\n",
            "Epoch 3/1000\n",
            "83/83 [==============================] - 1s 13ms/step - loss: 0.8610 - val_loss: 0.8535\n",
            "Epoch 4/1000\n",
            "83/83 [==============================] - 1s 13ms/step - loss: 0.8296 - val_loss: 0.8403\n",
            "Epoch 5/1000\n",
            "83/83 [==============================] - 1s 13ms/step - loss: 0.8334 - val_loss: 0.8171\n",
            "Epoch 6/1000\n",
            "83/83 [==============================] - 1s 13ms/step - loss: 0.8201 - val_loss: 0.8304\n",
            "Epoch 7/1000\n",
            "83/83 [==============================] - 1s 13ms/step - loss: 0.8093 - val_loss: 0.7933\n",
            "Epoch 8/1000\n",
            "83/83 [==============================] - 1s 13ms/step - loss: 0.8033 - val_loss: 0.7898\n",
            "Epoch 9/1000\n",
            "83/83 [==============================] - 1s 13ms/step - loss: 0.8008 - val_loss: 0.8152\n",
            "Epoch 10/1000\n",
            "83/83 [==============================] - 1s 13ms/step - loss: 0.7920 - val_loss: 0.7947\n",
            "Epoch 11/1000\n",
            "83/83 [==============================] - 1s 13ms/step - loss: 0.7934 - val_loss: 0.8058\n",
            "Epoch 12/1000\n",
            "83/83 [==============================] - 1s 13ms/step - loss: 0.7911 - val_loss: 0.7637\n",
            "Epoch 13/1000\n",
            "83/83 [==============================] - 1s 13ms/step - loss: 0.7909 - val_loss: 0.7641\n",
            "Epoch 14/1000\n",
            "83/83 [==============================] - 1s 13ms/step - loss: 0.7865 - val_loss: 0.7830\n",
            "Epoch 15/1000\n",
            "83/83 [==============================] - 1s 13ms/step - loss: 0.7826 - val_loss: 0.7738\n",
            "Epoch 16/1000\n",
            "83/83 [==============================] - 1s 13ms/step - loss: 0.7710 - val_loss: 0.7779\n",
            "Epoch 17/1000\n",
            "83/83 [==============================] - 1s 13ms/step - loss: 0.7842 - val_loss: 0.7563\n",
            "Epoch 18/1000\n",
            "83/83 [==============================] - 1s 13ms/step - loss: 0.7653 - val_loss: 0.7639\n",
            "Epoch 19/1000\n",
            "83/83 [==============================] - 1s 13ms/step - loss: 0.7649 - val_loss: 0.7627\n",
            "Epoch 20/1000\n",
            "83/83 [==============================] - 1s 13ms/step - loss: 0.7608 - val_loss: 0.7617\n",
            "Epoch 21/1000\n",
            "83/83 [==============================] - 1s 13ms/step - loss: 0.7677 - val_loss: 0.7597\n",
            "Epoch 22/1000\n",
            "83/83 [==============================] - 1s 13ms/step - loss: 0.7664 - val_loss: 0.7677\n",
            "Epoch 23/1000\n",
            "83/83 [==============================] - 1s 13ms/step - loss: 0.7590 - val_loss: 0.7595\n",
            "Epoch 24/1000\n",
            "83/83 [==============================] - 1s 13ms/step - loss: 0.7634 - val_loss: 0.7559\n",
            "Epoch 25/1000\n",
            "83/83 [==============================] - 1s 13ms/step - loss: 0.7638 - val_loss: 0.7699\n",
            "Epoch 26/1000\n",
            "83/83 [==============================] - 1s 13ms/step - loss: 0.7537 - val_loss: 0.7455\n",
            "Epoch 27/1000\n",
            "83/83 [==============================] - 1s 13ms/step - loss: 0.7620 - val_loss: 0.7483\n",
            "Epoch 28/1000\n",
            "83/83 [==============================] - 1s 13ms/step - loss: 0.7590 - val_loss: 0.7478\n",
            "Epoch 29/1000\n",
            "83/83 [==============================] - 1s 13ms/step - loss: 0.7646 - val_loss: 0.7363\n",
            "Epoch 30/1000\n",
            "83/83 [==============================] - 1s 13ms/step - loss: 0.7601 - val_loss: 0.7516\n",
            "Epoch 31/1000\n",
            "83/83 [==============================] - 1s 13ms/step - loss: 0.7500 - val_loss: 0.7344\n",
            "Epoch 32/1000\n",
            "83/83 [==============================] - 1s 13ms/step - loss: 0.7510 - val_loss: 0.7577\n",
            "Epoch 33/1000\n",
            "83/83 [==============================] - 1s 13ms/step - loss: 0.7529 - val_loss: 0.7411\n",
            "Epoch 34/1000\n",
            "83/83 [==============================] - 1s 13ms/step - loss: 0.7467 - val_loss: 0.7407\n",
            "Epoch 35/1000\n",
            "83/83 [==============================] - 1s 13ms/step - loss: 0.7527 - val_loss: 0.7308\n",
            "Epoch 36/1000\n",
            "83/83 [==============================] - 1s 13ms/step - loss: 0.7461 - val_loss: 0.7371\n",
            "Epoch 37/1000\n",
            "83/83 [==============================] - 1s 13ms/step - loss: 0.7503 - val_loss: 0.7309\n",
            "Epoch 38/1000\n",
            "83/83 [==============================] - 1s 13ms/step - loss: 0.7391 - val_loss: 0.7239\n",
            "Epoch 39/1000\n",
            "83/83 [==============================] - 1s 13ms/step - loss: 0.7407 - val_loss: 0.7374\n",
            "Epoch 40/1000\n",
            "83/83 [==============================] - 1s 13ms/step - loss: 0.7351 - val_loss: 0.7370\n",
            "Epoch 41/1000\n",
            "83/83 [==============================] - 1s 13ms/step - loss: 0.7412 - val_loss: 0.7447\n",
            "Epoch 42/1000\n",
            "83/83 [==============================] - 1s 13ms/step - loss: 0.7478 - val_loss: 0.7407\n",
            "Epoch 43/1000\n",
            "83/83 [==============================] - 1s 13ms/step - loss: 0.7374 - val_loss: 0.7347\n",
            "Epoch 44/1000\n",
            "83/83 [==============================] - 1s 13ms/step - loss: 0.7422 - val_loss: 0.7366\n",
            "Epoch 45/1000\n",
            "83/83 [==============================] - 1s 13ms/step - loss: 0.7339 - val_loss: 0.7213\n",
            "Epoch 46/1000\n",
            "83/83 [==============================] - 1s 13ms/step - loss: 0.7397 - val_loss: 0.7377\n",
            "Epoch 47/1000\n",
            "83/83 [==============================] - 1s 13ms/step - loss: 0.7344 - val_loss: 0.7349\n",
            "Epoch 48/1000\n",
            "83/83 [==============================] - 1s 13ms/step - loss: 0.7329 - val_loss: 0.7505\n",
            "Epoch 49/1000\n",
            "83/83 [==============================] - 1s 13ms/step - loss: 0.7336 - val_loss: 0.7235\n",
            "Epoch 50/1000\n",
            "83/83 [==============================] - 1s 13ms/step - loss: 0.7303 - val_loss: 0.7393\n",
            "Epoch 51/1000\n",
            "83/83 [==============================] - 1s 13ms/step - loss: 0.7323 - val_loss: 0.7441\n",
            "Epoch 52/1000\n",
            "83/83 [==============================] - 1s 13ms/step - loss: 0.7228 - val_loss: 0.7272\n",
            "Epoch 53/1000\n",
            "83/83 [==============================] - 1s 13ms/step - loss: 0.7288 - val_loss: 0.7259\n",
            "Epoch 54/1000\n",
            "83/83 [==============================] - 1s 13ms/step - loss: 0.7332 - val_loss: 0.7177\n",
            "Epoch 55/1000\n",
            "83/83 [==============================] - 1s 14ms/step - loss: 0.7295 - val_loss: 0.7115\n",
            "Epoch 56/1000\n",
            "83/83 [==============================] - 1s 13ms/step - loss: 0.7278 - val_loss: 0.7358\n",
            "Epoch 57/1000\n",
            "83/83 [==============================] - 1s 14ms/step - loss: 0.7320 - val_loss: 0.7237\n",
            "Epoch 58/1000\n",
            "83/83 [==============================] - 1s 13ms/step - loss: 0.7340 - val_loss: 0.7198\n",
            "Epoch 59/1000\n",
            "83/83 [==============================] - 1s 13ms/step - loss: 0.7277 - val_loss: 0.7269\n",
            "Epoch 60/1000\n",
            "83/83 [==============================] - 1s 13ms/step - loss: 0.7322 - val_loss: 0.7269\n",
            "Epoch 61/1000\n",
            "83/83 [==============================] - 1s 13ms/step - loss: 0.7268 - val_loss: 0.7232\n",
            "Epoch 62/1000\n",
            "83/83 [==============================] - 1s 13ms/step - loss: 0.7331 - val_loss: 0.7162\n",
            "Epoch 63/1000\n",
            "83/83 [==============================] - 1s 13ms/step - loss: 0.7359 - val_loss: 0.7153\n",
            "Epoch 64/1000\n",
            "83/83 [==============================] - 1s 13ms/step - loss: 0.7302 - val_loss: 0.7096\n",
            "Epoch 65/1000\n",
            "83/83 [==============================] - 1s 13ms/step - loss: 0.7235 - val_loss: 0.7135\n",
            "Epoch 66/1000\n",
            "83/83 [==============================] - 1s 13ms/step - loss: 0.7302 - val_loss: 0.7232\n",
            "Epoch 67/1000\n",
            "83/83 [==============================] - 1s 13ms/step - loss: 0.7213 - val_loss: 0.7244\n",
            "Epoch 68/1000\n",
            "83/83 [==============================] - 1s 13ms/step - loss: 0.7253 - val_loss: 0.7204\n",
            "Epoch 69/1000\n",
            "83/83 [==============================] - 1s 13ms/step - loss: 0.7222 - val_loss: 0.7287\n",
            "Epoch 70/1000\n",
            "83/83 [==============================] - 1s 13ms/step - loss: 0.7222 - val_loss: 0.7219\n",
            "Epoch 71/1000\n",
            "83/83 [==============================] - 1s 13ms/step - loss: 0.7269 - val_loss: 0.7219\n",
            "Epoch 72/1000\n",
            "83/83 [==============================] - 1s 13ms/step - loss: 0.7154 - val_loss: 0.7144\n",
            "Epoch 73/1000\n",
            "83/83 [==============================] - 1s 13ms/step - loss: 0.7274 - val_loss: 0.7181\n",
            "Epoch 74/1000\n",
            "83/83 [==============================] - 1s 13ms/step - loss: 0.7293 - val_loss: 0.7094\n",
            "Epoch 75/1000\n",
            "83/83 [==============================] - 1s 13ms/step - loss: 0.7227 - val_loss: 0.7073\n",
            "Epoch 76/1000\n",
            "83/83 [==============================] - 1s 13ms/step - loss: 0.7228 - val_loss: 0.7325\n",
            "Epoch 77/1000\n",
            "83/83 [==============================] - 1s 13ms/step - loss: 0.7244 - val_loss: 0.7066\n",
            "Epoch 78/1000\n",
            "83/83 [==============================] - 1s 13ms/step - loss: 0.7215 - val_loss: 0.7234\n",
            "Epoch 79/1000\n",
            "83/83 [==============================] - 1s 13ms/step - loss: 0.7202 - val_loss: 0.7282\n",
            "Epoch 80/1000\n",
            "83/83 [==============================] - 1s 13ms/step - loss: 0.7186 - val_loss: 0.7228\n",
            "Epoch 81/1000\n",
            "83/83 [==============================] - 1s 13ms/step - loss: 0.7234 - val_loss: 0.7246\n",
            "Epoch 82/1000\n",
            "83/83 [==============================] - 1s 13ms/step - loss: 0.7240 - val_loss: 0.7125\n",
            "Epoch 83/1000\n",
            "83/83 [==============================] - 1s 13ms/step - loss: 0.7224 - val_loss: 0.7101\n",
            "Epoch 84/1000\n",
            "83/83 [==============================] - 1s 13ms/step - loss: 0.7287 - val_loss: 0.7127\n",
            "Epoch 85/1000\n",
            "83/83 [==============================] - 1s 13ms/step - loss: 0.7162 - val_loss: 0.6940\n",
            "Epoch 86/1000\n",
            "83/83 [==============================] - 1s 13ms/step - loss: 0.7210 - val_loss: 0.7160\n",
            "Epoch 87/1000\n",
            "83/83 [==============================] - 1s 13ms/step - loss: 0.7169 - val_loss: 0.7282\n",
            "Epoch 88/1000\n",
            "83/83 [==============================] - 1s 13ms/step - loss: 0.7107 - val_loss: 0.7160\n",
            "Epoch 89/1000\n",
            "83/83 [==============================] - 1s 13ms/step - loss: 0.7162 - val_loss: 0.7143\n",
            "Epoch 90/1000\n",
            "83/83 [==============================] - 1s 13ms/step - loss: 0.7227 - val_loss: 0.7100\n",
            "Epoch 91/1000\n",
            "83/83 [==============================] - 1s 13ms/step - loss: 0.7217 - val_loss: 0.7155\n",
            "Epoch 92/1000\n",
            "83/83 [==============================] - 1s 13ms/step - loss: 0.7162 - val_loss: 0.7050\n",
            "Epoch 93/1000\n",
            "83/83 [==============================] - 1s 13ms/step - loss: 0.7179 - val_loss: 0.7265\n",
            "Epoch 94/1000\n",
            "83/83 [==============================] - 1s 13ms/step - loss: 0.7126 - val_loss: 0.7207\n",
            "Epoch 95/1000\n",
            "83/83 [==============================] - 1s 13ms/step - loss: 0.7116 - val_loss: 0.7095\n",
            "Epoch 96/1000\n",
            "83/83 [==============================] - 1s 13ms/step - loss: 0.7197 - val_loss: 0.7049\n",
            "Epoch 97/1000\n",
            "83/83 [==============================] - 1s 13ms/step - loss: 0.7125 - val_loss: 0.7026\n",
            "Epoch 98/1000\n",
            "83/83 [==============================] - 1s 13ms/step - loss: 0.7160 - val_loss: 0.7126\n",
            "Epoch 99/1000\n",
            "83/83 [==============================] - 1s 13ms/step - loss: 0.7174 - val_loss: 0.7198\n",
            "Epoch 100/1000\n",
            "83/83 [==============================] - 1s 13ms/step - loss: 0.7192 - val_loss: 0.7170\n",
            "Epoch 101/1000\n",
            "83/83 [==============================] - 1s 13ms/step - loss: 0.7182 - val_loss: 0.7020\n",
            "Epoch 102/1000\n",
            "83/83 [==============================] - 1s 13ms/step - loss: 0.7164 - val_loss: 0.7059\n",
            "Epoch 103/1000\n",
            "83/83 [==============================] - 1s 13ms/step - loss: 0.7105 - val_loss: 0.7018\n",
            "Epoch 104/1000\n",
            "83/83 [==============================] - 1s 13ms/step - loss: 0.7153 - val_loss: 0.6982\n",
            "Epoch 105/1000\n",
            "83/83 [==============================] - 1s 13ms/step - loss: 0.7058 - val_loss: 0.6900\n",
            "Epoch 106/1000\n",
            "83/83 [==============================] - 1s 14ms/step - loss: 0.7147 - val_loss: 0.7055\n",
            "Epoch 107/1000\n",
            "83/83 [==============================] - 1s 13ms/step - loss: 0.7146 - val_loss: 0.7022\n",
            "Epoch 108/1000\n",
            "83/83 [==============================] - 1s 13ms/step - loss: 0.7216 - val_loss: 0.7110\n",
            "Epoch 109/1000\n",
            "83/83 [==============================] - 1s 13ms/step - loss: 0.7148 - val_loss: 0.7028\n",
            "Epoch 110/1000\n",
            "83/83 [==============================] - 1s 13ms/step - loss: 0.7082 - val_loss: 0.7145\n",
            "Epoch 111/1000\n",
            "83/83 [==============================] - 1s 13ms/step - loss: 0.7048 - val_loss: 0.7036\n",
            "Epoch 112/1000\n",
            "83/83 [==============================] - 1s 13ms/step - loss: 0.7078 - val_loss: 0.7131\n",
            "Epoch 113/1000\n",
            "83/83 [==============================] - 1s 13ms/step - loss: 0.7135 - val_loss: 0.6904\n",
            "Epoch 114/1000\n",
            "83/83 [==============================] - 1s 13ms/step - loss: 0.7084 - val_loss: 0.6882\n",
            "Epoch 115/1000\n",
            "83/83 [==============================] - 1s 13ms/step - loss: 0.7172 - val_loss: 0.7065\n",
            "Epoch 116/1000\n",
            "83/83 [==============================] - 1s 13ms/step - loss: 0.7159 - val_loss: 0.6982\n",
            "Epoch 117/1000\n",
            "83/83 [==============================] - 1s 13ms/step - loss: 0.7151 - val_loss: 0.7226\n",
            "Epoch 118/1000\n",
            "83/83 [==============================] - 1s 14ms/step - loss: 0.7118 - val_loss: 0.7003\n",
            "Epoch 119/1000\n",
            "83/83 [==============================] - 1s 13ms/step - loss: 0.7071 - val_loss: 0.7037\n",
            "Epoch 120/1000\n",
            "83/83 [==============================] - 1s 13ms/step - loss: 0.7027 - val_loss: 0.7019\n",
            "Epoch 121/1000\n",
            "83/83 [==============================] - 1s 13ms/step - loss: 0.7051 - val_loss: 0.7030\n",
            "Epoch 122/1000\n",
            "83/83 [==============================] - 1s 13ms/step - loss: 0.7112 - val_loss: 0.7232\n",
            "Epoch 123/1000\n",
            "83/83 [==============================] - 1s 13ms/step - loss: 0.7057 - val_loss: 0.7056\n",
            "Epoch 124/1000\n",
            "83/83 [==============================] - 1s 13ms/step - loss: 0.7103 - val_loss: 0.7191\n",
            "Epoch 125/1000\n",
            "83/83 [==============================] - 1s 13ms/step - loss: 0.7080 - val_loss: 0.7030\n",
            "Epoch 126/1000\n",
            "83/83 [==============================] - 1s 13ms/step - loss: 0.7050 - val_loss: 0.6862\n",
            "Epoch 127/1000\n",
            "83/83 [==============================] - 1s 13ms/step - loss: 0.7094 - val_loss: 0.7077\n",
            "Epoch 128/1000\n",
            "83/83 [==============================] - 1s 13ms/step - loss: 0.7152 - val_loss: 0.7020\n",
            "Epoch 129/1000\n",
            "83/83 [==============================] - 1s 13ms/step - loss: 0.7089 - val_loss: 0.6914\n",
            "Epoch 130/1000\n",
            "83/83 [==============================] - 1s 13ms/step - loss: 0.7081 - val_loss: 0.7023\n",
            "Epoch 131/1000\n",
            "83/83 [==============================] - 1s 13ms/step - loss: 0.7117 - val_loss: 0.7001\n",
            "Epoch 132/1000\n",
            "83/83 [==============================] - 1s 13ms/step - loss: 0.7035 - val_loss: 0.6963\n",
            "Epoch 133/1000\n",
            "83/83 [==============================] - 1s 14ms/step - loss: 0.7177 - val_loss: 0.6818\n",
            "Epoch 134/1000\n",
            "83/83 [==============================] - 1s 13ms/step - loss: 0.7071 - val_loss: 0.7107\n",
            "Epoch 135/1000\n",
            "83/83 [==============================] - 1s 13ms/step - loss: 0.7076 - val_loss: 0.6927\n",
            "Epoch 136/1000\n",
            "83/83 [==============================] - 1s 13ms/step - loss: 0.7071 - val_loss: 0.7063\n",
            "Epoch 137/1000\n",
            "83/83 [==============================] - 1s 13ms/step - loss: 0.7166 - val_loss: 0.6955\n",
            "Epoch 138/1000\n",
            "83/83 [==============================] - 1s 13ms/step - loss: 0.7091 - val_loss: 0.7006\n",
            "Epoch 139/1000\n",
            "83/83 [==============================] - 1s 14ms/step - loss: 0.7098 - val_loss: 0.7011\n",
            "Epoch 140/1000\n",
            "83/83 [==============================] - 1s 13ms/step - loss: 0.6984 - val_loss: 0.6966\n",
            "Epoch 141/1000\n",
            "83/83 [==============================] - 1s 13ms/step - loss: 0.7116 - val_loss: 0.7013\n",
            "Epoch 142/1000\n",
            "83/83 [==============================] - 1s 13ms/step - loss: 0.7090 - val_loss: 0.6986\n",
            "Epoch 143/1000\n",
            "83/83 [==============================] - 1s 13ms/step - loss: 0.7099 - val_loss: 0.7022\n",
            "Epoch 144/1000\n",
            "83/83 [==============================] - 1s 13ms/step - loss: 0.7041 - val_loss: 0.6921\n",
            "Epoch 145/1000\n",
            "83/83 [==============================] - 1s 13ms/step - loss: 0.7002 - val_loss: 0.6961\n",
            "Epoch 146/1000\n",
            "83/83 [==============================] - 1s 13ms/step - loss: 0.6993 - val_loss: 0.6979\n",
            "Epoch 147/1000\n",
            "83/83 [==============================] - 1s 13ms/step - loss: 0.6980 - val_loss: 0.6860\n",
            "Epoch 148/1000\n",
            "83/83 [==============================] - 1s 13ms/step - loss: 0.6970 - val_loss: 0.7066\n",
            "Epoch 149/1000\n",
            "83/83 [==============================] - 1s 13ms/step - loss: 0.7065 - val_loss: 0.6746\n",
            "Epoch 150/1000\n",
            "83/83 [==============================] - 1s 13ms/step - loss: 0.7021 - val_loss: 0.6940\n",
            "Epoch 151/1000\n",
            "83/83 [==============================] - 1s 13ms/step - loss: 0.7194 - val_loss: 0.6909\n",
            "Epoch 152/1000\n",
            "83/83 [==============================] - 1s 13ms/step - loss: 0.7054 - val_loss: 0.7055\n",
            "Epoch 153/1000\n",
            "83/83 [==============================] - 1s 13ms/step - loss: 0.7053 - val_loss: 0.7006\n",
            "Epoch 154/1000\n",
            "83/83 [==============================] - 1s 13ms/step - loss: 0.7088 - val_loss: 0.6897\n",
            "Epoch 155/1000\n",
            "83/83 [==============================] - 1s 13ms/step - loss: 0.7105 - val_loss: 0.6817\n",
            "Epoch 156/1000\n",
            "83/83 [==============================] - 1s 13ms/step - loss: 0.7005 - val_loss: 0.6994\n",
            "Epoch 157/1000\n",
            "83/83 [==============================] - 1s 13ms/step - loss: 0.6970 - val_loss: 0.6940\n",
            "Epoch 158/1000\n",
            "83/83 [==============================] - 1s 14ms/step - loss: 0.7066 - val_loss: 0.7015\n",
            "Epoch 159/1000\n",
            "83/83 [==============================] - 1s 13ms/step - loss: 0.6989 - val_loss: 0.6955\n",
            "Epoch 160/1000\n",
            "83/83 [==============================] - 1s 13ms/step - loss: 0.7009 - val_loss: 0.6860\n",
            "Epoch 161/1000\n",
            "83/83 [==============================] - 1s 13ms/step - loss: 0.7008 - val_loss: 0.7013\n",
            "Epoch 162/1000\n",
            "83/83 [==============================] - 1s 14ms/step - loss: 0.7096 - val_loss: 0.6928\n",
            "Epoch 163/1000\n",
            "83/83 [==============================] - 1s 13ms/step - loss: 0.7053 - val_loss: 0.6950\n",
            "Epoch 164/1000\n",
            "83/83 [==============================] - 1s 13ms/step - loss: 0.6981 - val_loss: 0.6968\n",
            "Epoch 165/1000\n",
            "83/83 [==============================] - 1s 13ms/step - loss: 0.7006 - val_loss: 0.6964\n",
            "Epoch 166/1000\n",
            "83/83 [==============================] - 1s 13ms/step - loss: 0.7089 - val_loss: 0.6836\n",
            "Epoch 167/1000\n",
            "83/83 [==============================] - 1s 13ms/step - loss: 0.7047 - val_loss: 0.6833\n",
            "Epoch 168/1000\n",
            "83/83 [==============================] - 1s 13ms/step - loss: 0.6959 - val_loss: 0.6943\n",
            "Epoch 169/1000\n",
            "83/83 [==============================] - 1s 13ms/step - loss: 0.7078 - val_loss: 0.6988\n",
            "Epoch 170/1000\n",
            "83/83 [==============================] - 1s 13ms/step - loss: 0.6998 - val_loss: 0.6967\n",
            "Epoch 171/1000\n",
            "83/83 [==============================] - 1s 13ms/step - loss: 0.6945 - val_loss: 0.6816\n",
            "Epoch 172/1000\n",
            "83/83 [==============================] - 1s 13ms/step - loss: 0.6942 - val_loss: 0.7100\n",
            "Epoch 173/1000\n",
            "83/83 [==============================] - 1s 13ms/step - loss: 0.7026 - val_loss: 0.7076\n",
            "Epoch 174/1000\n",
            "83/83 [==============================] - 1s 13ms/step - loss: 0.7048 - val_loss: 0.6777\n",
            "Epoch 175/1000\n",
            "83/83 [==============================] - 1s 13ms/step - loss: 0.7022 - val_loss: 0.6846\n",
            "Epoch 176/1000\n",
            "83/83 [==============================] - 1s 13ms/step - loss: 0.6965 - val_loss: 0.7099\n",
            "Epoch 177/1000\n",
            "83/83 [==============================] - 1s 13ms/step - loss: 0.7028 - val_loss: 0.6946\n",
            "Epoch 178/1000\n",
            "83/83 [==============================] - 1s 13ms/step - loss: 0.7099 - val_loss: 0.6959\n",
            "Epoch 179/1000\n",
            "83/83 [==============================] - 1s 13ms/step - loss: 0.7021 - val_loss: 0.6960\n",
            "Epoch 180/1000\n",
            "83/83 [==============================] - 1s 13ms/step - loss: 0.7071 - val_loss: 0.6950\n",
            "Epoch 181/1000\n",
            "83/83 [==============================] - 1s 13ms/step - loss: 0.6955 - val_loss: 0.6931\n",
            "Epoch 182/1000\n",
            "83/83 [==============================] - 1s 13ms/step - loss: 0.6951 - val_loss: 0.6777\n",
            "Epoch 183/1000\n",
            "83/83 [==============================] - 1s 13ms/step - loss: 0.6926 - val_loss: 0.6880\n",
            "Epoch 184/1000\n",
            "83/83 [==============================] - 1s 13ms/step - loss: 0.7071 - val_loss: 0.6840\n",
            "Epoch 185/1000\n",
            "83/83 [==============================] - 1s 13ms/step - loss: 0.6978 - val_loss: 0.6951\n",
            "Epoch 186/1000\n",
            "83/83 [==============================] - 1s 13ms/step - loss: 0.6946 - val_loss: 0.6836\n",
            "Epoch 187/1000\n",
            "83/83 [==============================] - 1s 13ms/step - loss: 0.6998 - val_loss: 0.6609\n",
            "Epoch 188/1000\n",
            "83/83 [==============================] - 1s 13ms/step - loss: 0.7058 - val_loss: 0.6936\n",
            "Epoch 189/1000\n",
            "83/83 [==============================] - 1s 13ms/step - loss: 0.6967 - val_loss: 0.6833\n",
            "Epoch 190/1000\n",
            "83/83 [==============================] - 1s 13ms/step - loss: 0.7068 - val_loss: 0.6942\n",
            "Epoch 191/1000\n",
            "83/83 [==============================] - 1s 13ms/step - loss: 0.7010 - val_loss: 0.7054\n",
            "Epoch 192/1000\n",
            "83/83 [==============================] - 1s 13ms/step - loss: 0.6979 - val_loss: 0.7033\n",
            "Epoch 193/1000\n",
            "83/83 [==============================] - 1s 13ms/step - loss: 0.6938 - val_loss: 0.7071\n",
            "Epoch 194/1000\n",
            "83/83 [==============================] - 1s 13ms/step - loss: 0.6949 - val_loss: 0.6958\n",
            "Epoch 195/1000\n",
            "83/83 [==============================] - 1s 13ms/step - loss: 0.6930 - val_loss: 0.6845\n",
            "Epoch 196/1000\n",
            "83/83 [==============================] - 1s 13ms/step - loss: 0.6851 - val_loss: 0.6968\n",
            "Epoch 197/1000\n",
            "83/83 [==============================] - 1s 13ms/step - loss: 0.7014 - val_loss: 0.6964\n",
            "Epoch 198/1000\n",
            "83/83 [==============================] - 1s 13ms/step - loss: 0.6991 - val_loss: 0.6911\n",
            "Epoch 199/1000\n",
            "83/83 [==============================] - 1s 13ms/step - loss: 0.7024 - val_loss: 0.6943\n",
            "Epoch 200/1000\n",
            "83/83 [==============================] - 1s 13ms/step - loss: 0.6946 - val_loss: 0.6941\n",
            "Epoch 201/1000\n",
            "83/83 [==============================] - 1s 13ms/step - loss: 0.7094 - val_loss: 0.6815\n",
            "Epoch 202/1000\n",
            "83/83 [==============================] - 1s 13ms/step - loss: 0.6900 - val_loss: 0.6808\n",
            "Epoch 203/1000\n",
            "83/83 [==============================] - 1s 13ms/step - loss: 0.6915 - val_loss: 0.6956\n",
            "Epoch 204/1000\n",
            "83/83 [==============================] - 1s 13ms/step - loss: 0.6945 - val_loss: 0.6835\n",
            "Epoch 205/1000\n",
            "83/83 [==============================] - 1s 13ms/step - loss: 0.6946 - val_loss: 0.6865\n",
            "Epoch 206/1000\n",
            "83/83 [==============================] - 1s 13ms/step - loss: 0.6956 - val_loss: 0.6867\n",
            "Epoch 207/1000\n",
            "83/83 [==============================] - 1s 13ms/step - loss: 0.6873 - val_loss: 0.6873\n",
            "Epoch 208/1000\n",
            "83/83 [==============================] - 1s 13ms/step - loss: 0.7042 - val_loss: 0.6794\n",
            "Epoch 209/1000\n",
            "83/83 [==============================] - 1s 13ms/step - loss: 0.6914 - val_loss: 0.7004\n",
            "Epoch 210/1000\n",
            "83/83 [==============================] - 1s 13ms/step - loss: 0.6924 - val_loss: 0.6947\n",
            "Epoch 211/1000\n",
            "83/83 [==============================] - 1s 13ms/step - loss: 0.6836 - val_loss: 0.7000\n",
            "Epoch 212/1000\n",
            "83/83 [==============================] - 1s 13ms/step - loss: 0.6948 - val_loss: 0.6879\n",
            "Epoch 213/1000\n",
            "83/83 [==============================] - 1s 13ms/step - loss: 0.6878 - val_loss: 0.6887\n",
            "Epoch 214/1000\n",
            "83/83 [==============================] - 1s 13ms/step - loss: 0.6901 - val_loss: 0.6937\n",
            "Epoch 215/1000\n",
            "83/83 [==============================] - 1s 13ms/step - loss: 0.6987 - val_loss: 0.6809\n",
            "Epoch 216/1000\n",
            "83/83 [==============================] - 1s 13ms/step - loss: 0.6781 - val_loss: 0.6887\n",
            "Epoch 217/1000\n",
            "83/83 [==============================] - 1s 13ms/step - loss: 0.6964 - val_loss: 0.6952\n",
            "Epoch 218/1000\n",
            "83/83 [==============================] - 1s 13ms/step - loss: 0.7027 - val_loss: 0.7018\n",
            "Epoch 219/1000\n",
            "83/83 [==============================] - 1s 13ms/step - loss: 0.6943 - val_loss: 0.6883\n",
            "Epoch 220/1000\n",
            "83/83 [==============================] - 1s 13ms/step - loss: 0.6935 - val_loss: 0.6945\n",
            "Epoch 221/1000\n",
            "83/83 [==============================] - 1s 13ms/step - loss: 0.6998 - val_loss: 0.6902\n",
            "Epoch 222/1000\n",
            "83/83 [==============================] - 1s 13ms/step - loss: 0.6973 - val_loss: 0.6971\n",
            "Epoch 223/1000\n",
            "83/83 [==============================] - 1s 13ms/step - loss: 0.6922 - val_loss: 0.6854\n",
            "Epoch 224/1000\n",
            "83/83 [==============================] - 1s 13ms/step - loss: 0.6972 - val_loss: 0.7188\n",
            "Epoch 225/1000\n",
            "83/83 [==============================] - 1s 14ms/step - loss: 0.6911 - val_loss: 0.6856\n",
            "Epoch 226/1000\n",
            "83/83 [==============================] - 1s 13ms/step - loss: 0.6975 - val_loss: 0.6867\n",
            "Epoch 227/1000\n",
            "83/83 [==============================] - 1s 13ms/step - loss: 0.6938 - val_loss: 0.6762\n",
            "Epoch 228/1000\n",
            "83/83 [==============================] - 1s 13ms/step - loss: 0.6881 - val_loss: 0.7108\n",
            "Epoch 229/1000\n",
            "83/83 [==============================] - 1s 13ms/step - loss: 0.6987 - val_loss: 0.6901\n",
            "Epoch 230/1000\n",
            "83/83 [==============================] - 1s 13ms/step - loss: 0.6902 - val_loss: 0.6976\n",
            "Epoch 231/1000\n",
            "83/83 [==============================] - 1s 13ms/step - loss: 0.6963 - val_loss: 0.6851\n",
            "Epoch 232/1000\n",
            "83/83 [==============================] - 1s 13ms/step - loss: 0.7003 - val_loss: 0.6731\n",
            "Epoch 233/1000\n",
            "83/83 [==============================] - 1s 13ms/step - loss: 0.6863 - val_loss: 0.6852\n",
            "Epoch 234/1000\n",
            "83/83 [==============================] - 1s 13ms/step - loss: 0.7044 - val_loss: 0.6868\n",
            "Epoch 235/1000\n",
            "83/83 [==============================] - 1s 13ms/step - loss: 0.6958 - val_loss: 0.6838\n",
            "Epoch 236/1000\n",
            "83/83 [==============================] - 1s 13ms/step - loss: 0.6920 - val_loss: 0.6904\n",
            "Epoch 237/1000\n",
            "83/83 [==============================] - 1s 13ms/step - loss: 0.6947 - val_loss: 0.6887\n",
            "Epoch 238/1000\n",
            "83/83 [==============================] - 1s 13ms/step - loss: 0.7002 - val_loss: 0.6871\n",
            "Epoch 239/1000\n",
            "83/83 [==============================] - 1s 13ms/step - loss: 0.7085 - val_loss: 0.6885\n",
            "Epoch 240/1000\n",
            "83/83 [==============================] - 1s 13ms/step - loss: 0.6976 - val_loss: 0.6759\n",
            "Epoch 241/1000\n",
            "83/83 [==============================] - 1s 13ms/step - loss: 0.6946 - val_loss: 0.6717\n",
            "Epoch 242/1000\n",
            "83/83 [==============================] - 1s 13ms/step - loss: 0.7087 - val_loss: 0.6884\n",
            "Epoch 243/1000\n",
            "83/83 [==============================] - 1s 13ms/step - loss: 0.6992 - val_loss: 0.6977\n",
            "Epoch 244/1000\n",
            "83/83 [==============================] - 1s 13ms/step - loss: 0.6983 - val_loss: 0.6800\n",
            "Epoch 245/1000\n",
            "83/83 [==============================] - 1s 13ms/step - loss: 0.6995 - val_loss: 0.6918\n",
            "Epoch 246/1000\n",
            "83/83 [==============================] - 1s 13ms/step - loss: 0.6930 - val_loss: 0.6850\n",
            "Epoch 247/1000\n",
            "83/83 [==============================] - 1s 13ms/step - loss: 0.6924 - val_loss: 0.6894\n",
            "Epoch 248/1000\n",
            "83/83 [==============================] - 1s 13ms/step - loss: 0.6863 - val_loss: 0.6858\n",
            "Epoch 249/1000\n",
            "83/83 [==============================] - 1s 13ms/step - loss: 0.6992 - val_loss: 0.7057\n",
            "Epoch 250/1000\n",
            "83/83 [==============================] - 1s 14ms/step - loss: 0.6957 - val_loss: 0.6858\n",
            "Epoch 251/1000\n",
            "83/83 [==============================] - 1s 13ms/step - loss: 0.6940 - val_loss: 0.6754\n",
            "Epoch 252/1000\n",
            "83/83 [==============================] - 1s 14ms/step - loss: 0.6904 - val_loss: 0.6830\n",
            "Epoch 253/1000\n",
            "83/83 [==============================] - 1s 13ms/step - loss: 0.7037 - val_loss: 0.6920\n",
            "Epoch 254/1000\n",
            "83/83 [==============================] - 1s 13ms/step - loss: 0.6926 - val_loss: 0.6879\n",
            "Epoch 255/1000\n",
            "83/83 [==============================] - 1s 13ms/step - loss: 0.6908 - val_loss: 0.6766\n",
            "Epoch 256/1000\n",
            "83/83 [==============================] - 1s 13ms/step - loss: 0.6916 - val_loss: 0.6919\n",
            "Epoch 257/1000\n",
            "83/83 [==============================] - 1s 13ms/step - loss: 0.6920 - val_loss: 0.6932\n",
            "Epoch 258/1000\n",
            "83/83 [==============================] - 1s 13ms/step - loss: 0.6909 - val_loss: 0.6761\n",
            "Epoch 259/1000\n",
            "83/83 [==============================] - 1s 13ms/step - loss: 0.6919 - val_loss: 0.6830\n",
            "Epoch 260/1000\n",
            "83/83 [==============================] - 1s 13ms/step - loss: 0.6988 - val_loss: 0.6682\n",
            "Epoch 261/1000\n",
            "83/83 [==============================] - 1s 13ms/step - loss: 0.6943 - val_loss: 0.6830\n",
            "Epoch 262/1000\n",
            "83/83 [==============================] - 1s 13ms/step - loss: 0.6945 - val_loss: 0.6779\n",
            "Epoch 263/1000\n",
            "83/83 [==============================] - 1s 13ms/step - loss: 0.6992 - val_loss: 0.6778\n",
            "Epoch 264/1000\n",
            "83/83 [==============================] - 1s 13ms/step - loss: 0.6848 - val_loss: 0.6926\n",
            "Epoch 265/1000\n",
            "83/83 [==============================] - 1s 13ms/step - loss: 0.6854 - val_loss: 0.6804\n",
            "Epoch 266/1000\n",
            "83/83 [==============================] - 1s 13ms/step - loss: 0.6906 - val_loss: 0.6939\n",
            "Epoch 267/1000\n",
            "83/83 [==============================] - 1s 13ms/step - loss: 0.6952 - val_loss: 0.6802\n",
            "Epoch 268/1000\n",
            "83/83 [==============================] - 1s 13ms/step - loss: 0.6957 - val_loss: 0.6802\n",
            "Epoch 269/1000\n",
            "83/83 [==============================] - 1s 13ms/step - loss: 0.7007 - val_loss: 0.6860\n",
            "Epoch 270/1000\n",
            "83/83 [==============================] - 1s 13ms/step - loss: 0.6902 - val_loss: 0.6840\n",
            "Epoch 271/1000\n",
            "83/83 [==============================] - 1s 13ms/step - loss: 0.6860 - val_loss: 0.6884\n",
            "Epoch 272/1000\n",
            "83/83 [==============================] - 1s 13ms/step - loss: 0.6974 - val_loss: 0.6868\n",
            "Epoch 273/1000\n",
            "83/83 [==============================] - 1s 13ms/step - loss: 0.6994 - val_loss: 0.6973\n",
            "Epoch 274/1000\n",
            "83/83 [==============================] - 1s 13ms/step - loss: 0.6926 - val_loss: 0.6821\n",
            "Epoch 275/1000\n",
            "83/83 [==============================] - 1s 14ms/step - loss: 0.6946 - val_loss: 0.6719\n",
            "Epoch 276/1000\n",
            "83/83 [==============================] - 1s 14ms/step - loss: 0.6858 - val_loss: 0.6874\n",
            "Epoch 277/1000\n",
            "83/83 [==============================] - 1s 13ms/step - loss: 0.6808 - val_loss: 0.6879\n",
            "Epoch 278/1000\n",
            "83/83 [==============================] - 1s 13ms/step - loss: 0.6906 - val_loss: 0.7054\n",
            "Epoch 279/1000\n",
            "83/83 [==============================] - 1s 13ms/step - loss: 0.6867 - val_loss: 0.6913\n",
            "Epoch 280/1000\n",
            "83/83 [==============================] - 1s 13ms/step - loss: 0.6975 - val_loss: 0.6798\n",
            "Epoch 281/1000\n",
            "83/83 [==============================] - 1s 13ms/step - loss: 0.6927 - val_loss: 0.6844\n",
            "Epoch 282/1000\n",
            "83/83 [==============================] - 1s 13ms/step - loss: 0.6916 - val_loss: 0.6816\n",
            "Epoch 283/1000\n",
            "83/83 [==============================] - 1s 13ms/step - loss: 0.7019 - val_loss: 0.6822\n",
            "Epoch 284/1000\n",
            "83/83 [==============================] - 1s 13ms/step - loss: 0.6845 - val_loss: 0.7001\n",
            "Epoch 285/1000\n",
            "83/83 [==============================] - 1s 13ms/step - loss: 0.6834 - val_loss: 0.6932\n",
            "Epoch 286/1000\n",
            "83/83 [==============================] - 1s 13ms/step - loss: 0.6926 - val_loss: 0.6887\n",
            "Epoch 287/1000\n",
            "83/83 [==============================] - 1s 13ms/step - loss: 0.6882 - val_loss: 0.6796\n",
            "Epoch 00287: early stopping\n"
          ],
          "name": "stdout"
        }
      ]
    },
    {
      "cell_type": "code",
      "metadata": {
        "colab": {
          "base_uri": "https://localhost:8080/",
          "height": 283
        },
        "id": "M1tC1qcYtrkk",
        "outputId": "9ebd5a74-5e30-489f-b881-0c64e76039f9"
      },
      "source": [
        "plt.plot(history.history['val_loss'])"
      ],
      "execution_count": 757,
      "outputs": [
        {
          "output_type": "execute_result",
          "data": {
            "text/plain": [
              "[<matplotlib.lines.Line2D at 0x7fcbdd68cd10>]"
            ]
          },
          "metadata": {
            "tags": []
          },
          "execution_count": 757
        },
        {
          "output_type": "display_data",
          "data": {
            "image/png": "[encoded data removed]",
            "text/plain": [
              "<Figure size 432x288 with 1 Axes>"
            ]
          },
          "metadata": {
            "tags": [],
            "needs_background": "light"
          }
        }
      ]
    },
    {
      "cell_type": "code",
      "metadata": {
        "id": "Xzd20AxsTPqm"
      },
      "source": [
        "saved_model = tf.keras.models.load_model(PATH+'/model/wide_deep.h5')"
      ],
      "execution_count": 758,
      "outputs": []
    },
    {
      "cell_type": "code",
      "metadata": {
        "id": "7yB1lZlfXRNN"
      },
      "source": [
        "submission = pd.read_csv(PATH+'/dataset/sample_submission.csv')"
      ],
      "execution_count": 759,
      "outputs": []
    },
    {
      "cell_type": "code",
      "metadata": {
        "id": "L1VThrg4XeD_"
      },
      "source": [
        "submission.iloc[:,1:] = saved_model.predict(test_dataset)"
      ],
      "execution_count": 760,
      "outputs": []
    },
    {
      "cell_type": "code",
      "metadata": {
        "colab": {
          "base_uri": "https://localhost:8080/",
          "height": 669
        },
        "id": "glBD0mmNaN8F",
        "outputId": "518eb469-30ff-4501-a58b-4284b8a0805c"
      },
      "source": [
        "submission.head(20)"
      ],
      "execution_count": 761,
      "outputs": [
        {
          "output_type": "execute_result",
          "data": {
            "text/html": [
              "<div>\n",
              "<style scoped>\n",
              "    .dataframe tbody tr th:only-of-type {\n",
              "        vertical-align: middle;\n",
              "    }\n",
              "\n",
              "    .dataframe tbody tr th {\n",
              "        vertical-align: top;\n",
              "    }\n",
              "\n",
              "    .dataframe thead th {\n",
              "        text-align: right;\n",
              "    }\n",
              "</style>\n",
              "<table border=\"1\" class=\"dataframe\">\n",
              "  <thead>\n",
              "    <tr style=\"text-align: right;\">\n",
              "      <th></th>\n",
              "      <th>index</th>\n",
              "      <th>0</th>\n",
              "      <th>1</th>\n",
              "      <th>2</th>\n",
              "    </tr>\n",
              "  </thead>\n",
              "  <tbody>\n",
              "    <tr>\n",
              "      <th>0</th>\n",
              "      <td>26457</td>\n",
              "      <td>0.024023</td>\n",
              "      <td>0.063343</td>\n",
              "      <td>9.126337e-01</td>\n",
              "    </tr>\n",
              "    <tr>\n",
              "      <th>1</th>\n",
              "      <td>26458</td>\n",
              "      <td>0.133268</td>\n",
              "      <td>0.135334</td>\n",
              "      <td>7.313976e-01</td>\n",
              "    </tr>\n",
              "    <tr>\n",
              "      <th>2</th>\n",
              "      <td>26459</td>\n",
              "      <td>0.203205</td>\n",
              "      <td>0.193600</td>\n",
              "      <td>6.031955e-01</td>\n",
              "    </tr>\n",
              "    <tr>\n",
              "      <th>3</th>\n",
              "      <td>26460</td>\n",
              "      <td>0.153787</td>\n",
              "      <td>0.173574</td>\n",
              "      <td>6.726397e-01</td>\n",
              "    </tr>\n",
              "    <tr>\n",
              "      <th>4</th>\n",
              "      <td>26461</td>\n",
              "      <td>0.186106</td>\n",
              "      <td>0.141842</td>\n",
              "      <td>6.720521e-01</td>\n",
              "    </tr>\n",
              "    <tr>\n",
              "      <th>5</th>\n",
              "      <td>26462</td>\n",
              "      <td>0.001327</td>\n",
              "      <td>0.554976</td>\n",
              "      <td>4.436972e-01</td>\n",
              "    </tr>\n",
              "    <tr>\n",
              "      <th>6</th>\n",
              "      <td>26463</td>\n",
              "      <td>0.306671</td>\n",
              "      <td>0.685901</td>\n",
              "      <td>7.427885e-03</td>\n",
              "    </tr>\n",
              "    <tr>\n",
              "      <th>7</th>\n",
              "      <td>26464</td>\n",
              "      <td>0.171500</td>\n",
              "      <td>0.207762</td>\n",
              "      <td>6.207376e-01</td>\n",
              "    </tr>\n",
              "    <tr>\n",
              "      <th>8</th>\n",
              "      <td>26465</td>\n",
              "      <td>0.097556</td>\n",
              "      <td>0.134409</td>\n",
              "      <td>7.680354e-01</td>\n",
              "    </tr>\n",
              "    <tr>\n",
              "      <th>9</th>\n",
              "      <td>26466</td>\n",
              "      <td>0.131565</td>\n",
              "      <td>0.169883</td>\n",
              "      <td>6.985524e-01</td>\n",
              "    </tr>\n",
              "    <tr>\n",
              "      <th>10</th>\n",
              "      <td>26467</td>\n",
              "      <td>0.141042</td>\n",
              "      <td>0.151706</td>\n",
              "      <td>7.072527e-01</td>\n",
              "    </tr>\n",
              "    <tr>\n",
              "      <th>11</th>\n",
              "      <td>26468</td>\n",
              "      <td>0.090468</td>\n",
              "      <td>0.172488</td>\n",
              "      <td>7.370440e-01</td>\n",
              "    </tr>\n",
              "    <tr>\n",
              "      <th>12</th>\n",
              "      <td>26469</td>\n",
              "      <td>0.999525</td>\n",
              "      <td>0.000475</td>\n",
              "      <td>1.332234e-11</td>\n",
              "    </tr>\n",
              "    <tr>\n",
              "      <th>13</th>\n",
              "      <td>26470</td>\n",
              "      <td>0.124237</td>\n",
              "      <td>0.145297</td>\n",
              "      <td>7.304663e-01</td>\n",
              "    </tr>\n",
              "    <tr>\n",
              "      <th>14</th>\n",
              "      <td>26471</td>\n",
              "      <td>0.113739</td>\n",
              "      <td>0.139498</td>\n",
              "      <td>7.467627e-01</td>\n",
              "    </tr>\n",
              "    <tr>\n",
              "      <th>15</th>\n",
              "      <td>26472</td>\n",
              "      <td>0.096252</td>\n",
              "      <td>0.182203</td>\n",
              "      <td>7.215447e-01</td>\n",
              "    </tr>\n",
              "    <tr>\n",
              "      <th>16</th>\n",
              "      <td>26473</td>\n",
              "      <td>0.216466</td>\n",
              "      <td>0.246271</td>\n",
              "      <td>5.372629e-01</td>\n",
              "    </tr>\n",
              "    <tr>\n",
              "      <th>17</th>\n",
              "      <td>26474</td>\n",
              "      <td>0.296656</td>\n",
              "      <td>0.683857</td>\n",
              "      <td>1.948757e-02</td>\n",
              "    </tr>\n",
              "    <tr>\n",
              "      <th>18</th>\n",
              "      <td>26475</td>\n",
              "      <td>0.325381</td>\n",
              "      <td>0.275219</td>\n",
              "      <td>3.994006e-01</td>\n",
              "    </tr>\n",
              "    <tr>\n",
              "      <th>19</th>\n",
              "      <td>26476</td>\n",
              "      <td>0.016471</td>\n",
              "      <td>0.039693</td>\n",
              "      <td>9.438356e-01</td>\n",
              "    </tr>\n",
              "  </tbody>\n",
              "</table>\n",
              "</div>"
            ],
            "text/plain": [
              "    index         0         1             2\n",
              "0   26457  0.024023  0.063343  9.126337e-01\n",
              "1   26458  0.133268  0.135334  7.313976e-01\n",
              "2   26459  0.203205  0.193600  6.031955e-01\n",
              "3   26460  0.153787  0.173574  6.726397e-01\n",
              "4   26461  0.186106  0.141842  6.720521e-01\n",
              "5   26462  0.001327  0.554976  4.436972e-01\n",
              "6   26463  0.306671  0.685901  7.427885e-03\n",
              "7   26464  0.171500  0.207762  6.207376e-01\n",
              "8   26465  0.097556  0.134409  7.680354e-01\n",
              "9   26466  0.131565  0.169883  6.985524e-01\n",
              "10  26467  0.141042  0.151706  7.072527e-01\n",
              "11  26468  0.090468  0.172488  7.370440e-01\n",
              "12  26469  0.999525  0.000475  1.332234e-11\n",
              "13  26470  0.124237  0.145297  7.304663e-01\n",
              "14  26471  0.113739  0.139498  7.467627e-01\n",
              "15  26472  0.096252  0.182203  7.215447e-01\n",
              "16  26473  0.216466  0.246271  5.372629e-01\n",
              "17  26474  0.296656  0.683857  1.948757e-02\n",
              "18  26475  0.325381  0.275219  3.994006e-01\n",
              "19  26476  0.016471  0.039693  9.438356e-01"
            ]
          },
          "metadata": {
            "tags": []
          },
          "execution_count": 761
        }
      ]
    },
    {
      "cell_type": "code",
      "metadata": {
        "id": "ytw_oizaXndc"
      },
      "source": [
        "submission.to_csv(PATH+'/result/wide-deep4.csv',index=False)"
      ],
      "execution_count": 762,
      "outputs": []
    },
    {
      "cell_type": "code",
      "metadata": {
        "id": "aeBsXRMRX2J5"
      },
      "source": [
        ""
      ],
      "execution_count": null,
      "outputs": []
    }
  ]
}