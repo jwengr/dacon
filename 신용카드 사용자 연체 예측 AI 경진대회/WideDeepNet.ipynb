{
  "nbformat": 4,
  "nbformat_minor": 0,
  "metadata": {
    "colab": {
      "name": "DL.ipynb",
      "provenance": [],
      "mount_file_id": "1fKrdcd0Z4Nb5vZoV6U7v3mB4fpKnkj-R",
      "authorship_tag": "ABX9TyN/tiMmPOOZlo8eNOJODfrj",
      "include_colab_link": true
    },
    "kernelspec": {
      "name": "python3",
      "display_name": "Python 3"
    },
    "language_info": {
      "name": "python"
    },
    "accelerator": "GPU"
  },
  "cells": [
    {
      "cell_type": "markdown",
      "metadata": {
        "id": "view-in-github",
        "colab_type": "text"
      },
      "source": [
        "<a href=\"https://colab.research.google.com/github/jwengr/dacon/blob/main/%EC%8B%A0%EC%9A%A9%EC%B9%B4%EB%93%9C%20%EC%82%AC%EC%9A%A9%EC%9E%90%20%EC%97%B0%EC%B2%B4%20%EC%98%88%EC%B8%A1%20AI%20%EA%B2%BD%EC%A7%84%EB%8C%80%ED%9A%8C/WideDeepNet.ipynb\" target=\"_parent\"><img src=\"https://colab.research.google.com/assets/colab-badge.svg\" alt=\"Open In Colab\"/></a>"
      ]
    },
    {
      "cell_type": "code",
      "metadata": {
        "id": "rBnxQGUgBZH5",
        "colab": {
          "base_uri": "https://localhost:8080/"
        },
        "outputId": "666d01a1-37f2-4568-a0ac-5c79555bac84"
      },
      "source": [
        "!pip install transformers"
      ],
      "execution_count": 1,
      "outputs": [
        {
          "output_type": "stream",
          "text": [
            "Requirement already satisfied: transformers in /usr/local/lib/python3.7/dist-packages (4.5.1)\n",
            "Requirement already satisfied: regex!=2019.12.17 in /usr/local/lib/python3.7/dist-packages (from transformers) (2019.12.20)\n",
            "Requirement already satisfied: packaging in /usr/local/lib/python3.7/dist-packages (from transformers) (20.9)\n",
            "Requirement already satisfied: sacremoses in /usr/local/lib/python3.7/dist-packages (from transformers) (0.0.45)\n",
            "Requirement already satisfied: tokenizers<0.11,>=0.10.1 in /usr/local/lib/python3.7/dist-packages (from transformers) (0.10.2)\n",
            "Requirement already satisfied: tqdm>=4.27 in /usr/local/lib/python3.7/dist-packages (from transformers) (4.41.1)\n",
            "Requirement already satisfied: numpy>=1.17 in /usr/local/lib/python3.7/dist-packages (from transformers) (1.19.5)\n",
            "Requirement already satisfied: requests in /usr/local/lib/python3.7/dist-packages (from transformers) (2.23.0)\n",
            "Requirement already satisfied: importlib-metadata; python_version < \"3.8\" in /usr/local/lib/python3.7/dist-packages (from transformers) (3.10.1)\n",
            "Requirement already satisfied: filelock in /usr/local/lib/python3.7/dist-packages (from transformers) (3.0.12)\n",
            "Requirement already satisfied: pyparsing>=2.0.2 in /usr/local/lib/python3.7/dist-packages (from packaging->transformers) (2.4.7)\n",
            "Requirement already satisfied: six in /usr/local/lib/python3.7/dist-packages (from sacremoses->transformers) (1.15.0)\n",
            "Requirement already satisfied: click in /usr/local/lib/python3.7/dist-packages (from sacremoses->transformers) (7.1.2)\n",
            "Requirement already satisfied: joblib in /usr/local/lib/python3.7/dist-packages (from sacremoses->transformers) (1.0.1)\n",
            "Requirement already satisfied: chardet<4,>=3.0.2 in /usr/local/lib/python3.7/dist-packages (from requests->transformers) (3.0.4)\n",
            "Requirement already satisfied: idna<3,>=2.5 in /usr/local/lib/python3.7/dist-packages (from requests->transformers) (2.10)\n",
            "Requirement already satisfied: urllib3!=1.25.0,!=1.25.1,<1.26,>=1.21.1 in /usr/local/lib/python3.7/dist-packages (from requests->transformers) (1.24.3)\n",
            "Requirement already satisfied: certifi>=2017.4.17 in /usr/local/lib/python3.7/dist-packages (from requests->transformers) (2020.12.5)\n",
            "Requirement already satisfied: zipp>=0.5 in /usr/local/lib/python3.7/dist-packages (from importlib-metadata; python_version < \"3.8\"->transformers) (3.4.1)\n",
            "Requirement already satisfied: typing-extensions>=3.6.4; python_version < \"3.8\" in /usr/local/lib/python3.7/dist-packages (from importlib-metadata; python_version < \"3.8\"->transformers) (3.7.4.3)\n"
          ],
          "name": "stdout"
        }
      ]
    },
    {
      "cell_type": "code",
      "metadata": {
        "id": "kMSbtbo28cdR"
      },
      "source": [
        "import pandas as pd\n",
        "import numpy as np\n",
        "import tensorflow as tf\n",
        "import matplotlib.pyplot as plt\n",
        "\n",
        "from keras.callbacks import EarlyStopping, ModelCheckpoint\n",
        "from tensorflow import keras\n",
        "from tensorflow.keras import layers\n",
        "from tensorflow.keras.layers import Lambda\n",
        "from itertools import combinations\n",
        "from transformers import BertTokenizer\n",
        "from sklearn.preprocessing import MinMaxScaler,StandardScaler, LabelEncoder\n",
        "from sklearn.model_selection import train_test_split"
      ],
      "execution_count": 42,
      "outputs": []
    },
    {
      "cell_type": "code",
      "metadata": {
        "id": "wxmN0Zja8NMv"
      },
      "source": [
        "PATH = 'drive/My Drive/dacon/credit'"
      ],
      "execution_count": 43,
      "outputs": []
    },
    {
      "cell_type": "code",
      "metadata": {
        "id": "L1BAujN_8Zo1"
      },
      "source": [
        "train_df = pd.read_csv(PATH+'/dataset/train.csv').drop(['index','FLAG_MOBIL'],axis=1)\n",
        "test_df = pd.read_csv(PATH+'/dataset/test.csv').drop(['index','FLAG_MOBIL'],axis=1)"
      ],
      "execution_count": 44,
      "outputs": []
    },
    {
      "cell_type": "code",
      "metadata": {
        "id": "7Q_6QdLugHJg"
      },
      "source": [
        "train_df,val_df = train_test_split(train_df,test_size=0.2,stratify=train_df['credit'])"
      ],
      "execution_count": 45,
      "outputs": []
    },
    {
      "cell_type": "code",
      "metadata": {
        "id": "tt6KyBMtAAeP"
      },
      "source": [
        "train_df['occyp_type'].fillna('one two three',inplace=True)\n",
        "val_df['occyp_type'].fillna('one two three',inplace=True)\n",
        "test_df['occyp_type'].fillna('one two three',inplace=True)"
      ],
      "execution_count": 46,
      "outputs": []
    },
    {
      "cell_type": "code",
      "metadata": {
        "id": "ys-gFWixd1TM"
      },
      "source": [
        "train_df['not_employed'] = (train_df['DAYS_EMPLOYED']>0).astype(np.int32)\n",
        "val_df['not_employed'] = (val_df['DAYS_EMPLOYED']>0).astype(np.int32)\n",
        "test_df['not_employed'] = (test_df['DAYS_EMPLOYED']>0).astype(np.int32)"
      ],
      "execution_count": 47,
      "outputs": []
    },
    {
      "cell_type": "code",
      "metadata": {
        "id": "JVvMtMvVe_lf"
      },
      "source": [
        "train_df['begin_months'] = train_df['begin_month'].values%12\n",
        "val_df['begin_months'] = val_df['begin_month'].values%12\n",
        "test_df['begin_months'] = test_df['begin_month'].values%12"
      ],
      "execution_count": 48,
      "outputs": []
    },
    {
      "cell_type": "code",
      "metadata": {
        "id": "6NU92txI8kVW"
      },
      "source": [
        "le = LabelEncoder()"
      ],
      "execution_count": 49,
      "outputs": []
    },
    {
      "cell_type": "code",
      "metadata": {
        "colab": {
          "base_uri": "https://localhost:8080/"
        },
        "id": "PBC2NrmW9Zmw",
        "outputId": "3a483493-553b-4ef7-f8b8-80a395c7f0c3"
      },
      "source": [
        "for col in ['gender','car','reality','work_phone','phone','email','not_employed','begin_months']:\n",
        "    le.fit(train_df[[col]])\n",
        "    train_df[[col]] = le.transform(train_df[[col]]).astype(np.int32)\n",
        "    train_df = pd.concat([train_df,pd.get_dummies(train_df[col],prefix=f'{col}')],axis=1)\n",
        "\n",
        "    val_df[[col]] = le.transform(val_df[[col]]).astype(np.int32)\n",
        "    val_df = pd.concat([val_df,pd.get_dummies(val_df[col],prefix=f'{col}')],axis=1)\n",
        "\n",
        "    test_df[[col]] = le.transform(test_df[[col]]).astype(np.int32)\n",
        "    test_df = pd.concat([test_df,pd.get_dummies(test_df[col],prefix=f'{col}')],axis=1)"
      ],
      "execution_count": 50,
      "outputs": [
        {
          "output_type": "stream",
          "text": [
            "/usr/local/lib/python3.7/dist-packages/sklearn/preprocessing/_label.py:235: DataConversionWarning: A column-vector y was passed when a 1d array was expected. Please change the shape of y to (n_samples, ), for example using ravel().\n",
            "  y = column_or_1d(y, warn=True)\n",
            "/usr/local/lib/python3.7/dist-packages/sklearn/preprocessing/_label.py:268: DataConversionWarning: A column-vector y was passed when a 1d array was expected. Please change the shape of y to (n_samples, ), for example using ravel().\n",
            "  y = column_or_1d(y, warn=True)\n"
          ],
          "name": "stderr"
        }
      ]
    },
    {
      "cell_type": "code",
      "metadata": {
        "colab": {
          "base_uri": "https://localhost:8080/"
        },
        "id": "ulSHNuWjhaVe",
        "outputId": "90c8bb12-63d6-4ec6-a7d2-d958649ea25a"
      },
      "source": [
        "train_df.shape,val_df.shape,test_df.shape"
      ],
      "execution_count": 51,
      "outputs": [
        {
          "output_type": "execute_result",
          "data": {
            "text/plain": [
              "((21165, 46), (5292, 46), (10000, 45))"
            ]
          },
          "metadata": {
            "tags": []
          },
          "execution_count": 51
        }
      ]
    },
    {
      "cell_type": "code",
      "metadata": {
        "id": "pGhXZjxa9s-p"
      },
      "source": [
        "for col in ['income_type','edu_type','family_type','house_type','occyp_type']:\n",
        "    train_df = pd.concat([train_df,pd.get_dummies(train_df[col],prefix=f'{col}')],axis=1)\n",
        "    val_df = pd.concat([val_df,pd.get_dummies(val_df[col],prefix=f'{col}')],axis=1)\n",
        "    test_df = pd.concat([test_df,pd.get_dummies(test_df[col],prefix=f'{col}')],axis=1)"
      ],
      "execution_count": 52,
      "outputs": []
    },
    {
      "cell_type": "code",
      "metadata": {
        "id": "NfjU2fIyJQPp"
      },
      "source": [
        "dummies_df = train_df.iloc[:,34:]\n",
        "train_df = train_df.iloc[:,:34]\n",
        "\n",
        "val_dummies_df = val_df.iloc[:,34:]\n",
        "val_df = val_df.iloc[:,:34]\n",
        "\n",
        "test_dummies_df = pd.DataFrame(columns=dummies_df.columns)\n",
        "for col in test_df.iloc[:,33:].columns:\n",
        "    test_dummies_df[col] = test_df[col]\n",
        "test_dummies_df.fillna(0,inplace=True)\n",
        "test_df = test_df.iloc[:,:33]"
      ],
      "execution_count": 53,
      "outputs": []
    },
    {
      "cell_type": "code",
      "metadata": {
        "id": "o9Nq2y8NWYtA"
      },
      "source": [
        "dummies_arr = dummies_df.values\n",
        "val_dummies_arr = val_dummies_df.values\n",
        "test_dummies_arr = test_dummies_df.values"
      ],
      "execution_count": 54,
      "outputs": []
    },
    {
      "cell_type": "code",
      "metadata": {
        "colab": {
          "base_uri": "https://localhost:8080/"
        },
        "id": "ySlhGRrwVR7r",
        "outputId": "0b13d36d-fd2f-47cf-b2fc-63387f3ebfa1"
      },
      "source": [
        "dummies_arr.shape,val_dummies_arr.shape,test_dummies_arr.shape"
      ],
      "execution_count": 55,
      "outputs": [
        {
          "output_type": "execute_result",
          "data": {
            "text/plain": [
              "((21165, 52), (5292, 52), (10000, 52))"
            ]
          },
          "metadata": {
            "tags": []
          },
          "execution_count": 55
        }
      ]
    },
    {
      "cell_type": "code",
      "metadata": {
        "id": "FHKJ3uXPI6hf"
      },
      "source": [
        "wide_arr = np.zeros((len(train_df),dummies_arr.shape[1]*(dummies_arr.shape[1]-1)//2),dtype=np.int32)\n",
        "val_wide_arr = np.zeros((len(val_df),val_dummies_arr.shape[1]*(val_dummies_arr.shape[1]-1)//2),dtype=np.int32)\n",
        "test_wide_arr = np.zeros((len(test_df),test_dummies_arr.shape[1]*(test_dummies_arr.shape[1]-1)//2),dtype=np.int32)"
      ],
      "execution_count": 56,
      "outputs": []
    },
    {
      "cell_type": "code",
      "metadata": {
        "id": "_ss1ABbqI2P1"
      },
      "source": [
        "i=0\n",
        "for a,b in list(combinations(range(dummies_arr.shape[1]),2)):\n",
        "    wide_arr[:,i] = dummies_arr[:,a]*dummies_arr[:,b]\n",
        "    val_wide_arr[:,i] = val_dummies_arr[:,a]*val_dummies_arr[:,b]\n",
        "    test_wide_arr[:,i] = test_dummies_arr[:,a]*test_dummies_arr[:,b]\n",
        "    i+=1"
      ],
      "execution_count": 57,
      "outputs": []
    },
    {
      "cell_type": "code",
      "metadata": {
        "id": "Gw8hk02KWyFn"
      },
      "source": [
        "test_wide_arr = test_wide_arr[:,np.sum(wide_arr,axis=0)!=0]\n",
        "val_wide_arr = val_wide_arr[:,np.sum(wide_arr,axis=0)!=0]\n",
        "wide_arr = wide_arr[:,np.sum(wide_arr,axis=0)!=0]"
      ],
      "execution_count": 58,
      "outputs": []
    },
    {
      "cell_type": "code",
      "metadata": {
        "id": "HxtHHo7h9t5U"
      },
      "source": [
        "tokenizer = BertTokenizer.from_pretrained(\"bert-base-uncased\")"
      ],
      "execution_count": 59,
      "outputs": []
    },
    {
      "cell_type": "code",
      "metadata": {
        "colab": {
          "base_uri": "https://localhost:8080/"
        },
        "id": "v24NUx_fMmvQ",
        "outputId": "86b38051-36c2-496a-b316-97c8756f9a0f"
      },
      "source": [
        "print('----train----')\n",
        "for col in ['income_type','edu_type','family_type','house_type','occyp_type']:\n",
        "    print(col,max([len(tokenizer.encode(val)) for val in set(train_df[col].values)]))\n",
        "print('----test----')\n",
        "for col in ['income_type','edu_type','family_type','house_type','occyp_type']:\n",
        "    print(col,max([len(tokenizer.encode(val)) for val in set(test_df[col].values)]))"
      ],
      "execution_count": 60,
      "outputs": [
        {
          "output_type": "stream",
          "text": [
            "----train----\n",
            "income_type 4\n",
            "edu_type 6\n",
            "family_type 6\n",
            "house_type 6\n",
            "occyp_type 8\n",
            "----test----\n",
            "income_type 4\n",
            "edu_type 6\n",
            "family_type 6\n",
            "house_type 6\n",
            "occyp_type 8\n"
          ],
          "name": "stdout"
        }
      ]
    },
    {
      "cell_type": "code",
      "metadata": {
        "id": "2BFdgqOCCepa"
      },
      "source": [
        "emb_arr = np.zeros((len(train_df),3+5+5+5+7),np.int32)\n",
        "val_emb_arr = np.zeros((len(val_df),3+5+5+5+7),np.int32)\n",
        "test_emb_arr = np.zeros((len(test_df),3+5+5+5+7),np.int32)"
      ],
      "execution_count": 61,
      "outputs": []
    },
    {
      "cell_type": "code",
      "metadata": {
        "id": "hGZ9CkQjZ1JG"
      },
      "source": [
        "last=0\n",
        "for col,max_length in zip(['income_type','edu_type','family_type','house_type','occyp_type'],[4,6,6,6,8]):\n",
        "    emb_arr[:,last:last+max_length-1] = np.array(train_df[col].apply(lambda x: tokenizer.encode_plus(x,padding='max_length',max_length=max_length)['input_ids'][1:]).values.tolist())\n",
        "    val_emb_arr[:,last:last+max_length-1] = np.array(val_df[col].apply(lambda x: tokenizer.encode_plus(x,padding='max_length',max_length=max_length)['input_ids'][1:]).values.tolist())\n",
        "    test_emb_arr[:,last:last+max_length-1] = np.array(test_df[col].apply(lambda x: tokenizer.encode_plus(x,padding='max_length',max_length=max_length)['input_ids'][1:]).values.tolist())\n",
        "    last+=max_length-1"
      ],
      "execution_count": 62,
      "outputs": []
    },
    {
      "cell_type": "code",
      "metadata": {
        "id": "kQ-AlykeapB6"
      },
      "source": [
        "for col in ['income_total','DAYS_BIRTH','DAYS_EMPLOYED','family_size','begin_month']:\n",
        "    scaler = StandardScaler()\n",
        "    scaler.fit(train_df[[col]])\n",
        "    train_df[f'{col}_scaled'] = scaler.transform(train_df[[col]])\n",
        "    val_df[f'{col}_scaled'] = scaler.transform(val_df[[col]])\n",
        "    test_df[f'{col}_scaled'] = scaler.transform(test_df[[col]])"
      ],
      "execution_count": 63,
      "outputs": []
    },
    {
      "cell_type": "code",
      "metadata": {
        "id": "ZbbrE8B9dFcm"
      },
      "source": [
        "deep_arr = train_df[['gender','car','reality','child_num','work_phone','phone','email',\n",
        "          'income_total_scaled','DAYS_BIRTH_scaled','DAYS_EMPLOYED_scaled','family_size_scaled','begin_month_scaled']].values\n",
        "val_deep_arr = val_df[['gender','car','reality','child_num','work_phone','phone','email',\n",
        "          'income_total_scaled','DAYS_BIRTH_scaled','DAYS_EMPLOYED_scaled','family_size_scaled','begin_month_scaled']].values\n",
        "test_deep_arr = test_df[['gender','car','reality','child_num','work_phone','phone','email',\n",
        "          'income_total_scaled','DAYS_BIRTH_scaled','DAYS_EMPLOYED_scaled','family_size_scaled','begin_month_scaled']].values"
      ],
      "execution_count": 64,
      "outputs": []
    },
    {
      "cell_type": "code",
      "metadata": {
        "id": "_82ulDmpixmi"
      },
      "source": [
        "deep_arr = np.concatenate((deep_arr,emb_arr),axis=1)\n",
        "val_deep_arr = np.concatenate((val_deep_arr,val_emb_arr),axis=1)\n",
        "test_deep_arr = np.concatenate((test_deep_arr,test_emb_arr),axis=1)"
      ],
      "execution_count": 65,
      "outputs": []
    },
    {
      "cell_type": "code",
      "metadata": {
        "colab": {
          "base_uri": "https://localhost:8080/"
        },
        "id": "OG0RMtfcmlHD",
        "outputId": "52b10472-4adc-4a6a-9b48-b5b7aa1ffa02"
      },
      "source": [
        "deep_arr.shape,wide_arr.shape,val_deep_arr.shape,val_wide_arr.shape,test_deep_arr.shape,test_wide_arr.shape,"
      ],
      "execution_count": 66,
      "outputs": [
        {
          "output_type": "execute_result",
          "data": {
            "text/plain": [
              "((21165, 37), (21165, 929), (5292, 37), (5292, 929), (10000, 37), (10000, 929))"
            ]
          },
          "metadata": {
            "tags": []
          },
          "execution_count": 66
        }
      ]
    },
    {
      "cell_type": "code",
      "metadata": {
        "id": "qHlJsKlnrJqR"
      },
      "source": [
        "train_dataset = tf.data.Dataset.from_tensor_slices(((np.concatenate((deep_arr,wide_arr),axis=1)),pd.get_dummies(train_df['credit'].astype(np.int32)).values)).shuffle(21165).batch(256)\n",
        "val_dataset = tf.data.Dataset.from_tensor_slices(((np.concatenate((val_deep_arr,val_wide_arr),axis=1)),pd.get_dummies(val_df['credit'].astype(np.int32)).values)).shuffle(5292).batch(256)\n",
        "test_dataset = tf.data.Dataset.from_tensor_slices(np.concatenate((test_deep_arr,test_wide_arr),axis=1)).batch(256)"
      ],
      "execution_count": 67,
      "outputs": []
    },
    {
      "cell_type": "code",
      "metadata": {
        "id": "jZ45ZdlSjwXH",
        "colab": {
          "base_uri": "https://localhost:8080/"
        },
        "outputId": "09c54a58-1e3d-4e31-dc9d-9f66452fe706"
      },
      "source": [
        "inputs = keras.Input(shape=(deep_arr.shape[1]+wide_arr.shape[1]))\n",
        "deep,wide = Lambda( lambda x: tf.split(x,num_or_size_splits=[deep_arr.shape[1],wide_arr.shape[1]],axis=1))(inputs)\n",
        "\n",
        "deep = layers.BatchNormalization()(deep)\n",
        "deep = layers.Dense(24,activation='relu')(deep)\n",
        "deep = layers.Dense(3,activation='sigmoid')(deep)\n",
        "\n",
        "wide = layers.Dense(3,activation='sigmoid')(wide)\n",
        "\n",
        "x = layers.Concatenate()([deep,wide])\n",
        "outputs = layers.Dense(3,activation='softmax')(x)\n",
        "\n",
        "model = keras.Model(inputs, outputs)\n",
        "model.summary()\n",
        "model.compile('Adam','categorical_crossentropy')"
      ],
      "execution_count": 76,
      "outputs": [
        {
          "output_type": "stream",
          "text": [
            "Model: \"model_8\"\n",
            "__________________________________________________________________________________________________\n",
            "Layer (type)                    Output Shape         Param #     Connected to                     \n",
            "==================================================================================================\n",
            "input_9 (InputLayer)            [(None, 966)]        0                                            \n",
            "__________________________________________________________________________________________________\n",
            "lambda_8 (Lambda)               [(None, 37), (None,  0           input_9[0][0]                    \n",
            "__________________________________________________________________________________________________\n",
            "batch_normalization_8 (BatchNor (None, 37)           148         lambda_8[0][0]                   \n",
            "__________________________________________________________________________________________________\n",
            "dense_40 (Dense)                (None, 24)           912         batch_normalization_8[0][0]      \n",
            "__________________________________________________________________________________________________\n",
            "dense_41 (Dense)                (None, 3)            75          dense_40[0][0]                   \n",
            "__________________________________________________________________________________________________\n",
            "dense_42 (Dense)                (None, 3)            2790        lambda_8[0][1]                   \n",
            "__________________________________________________________________________________________________\n",
            "concatenate_4 (Concatenate)     (None, 6)            0           dense_41[0][0]                   \n",
            "                                                                 dense_42[0][0]                   \n",
            "__________________________________________________________________________________________________\n",
            "dense_43 (Dense)                (None, 3)            21          concatenate_4[0][0]              \n",
            "==================================================================================================\n",
            "Total params: 3,946\n",
            "Trainable params: 3,872\n",
            "Non-trainable params: 74\n",
            "__________________________________________________________________________________________________\n"
          ],
          "name": "stdout"
        }
      ]
    },
    {
      "cell_type": "code",
      "metadata": {
        "colab": {
          "base_uri": "https://localhost:8080/"
        },
        "id": "dUM92zils08N",
        "outputId": "855e6062-c1fb-4902-cfbf-3c06f425d48a"
      },
      "source": [
        "early_stop = EarlyStopping(monitor='val_loss', patience=20,verbose=1)\n",
        "mc = ModelCheckpoint(PATH+'/model/wide_deep.h5', monitor='val_loss', mode='min', save_best_only=True)\n",
        "history = model.fit(train_dataset,\n",
        "                        epochs=1000,\n",
        "                        verbose=1,\n",
        "                    callbacks=[early_stop, mc],\n",
        "                    validation_data=val_dataset\n",
        "                    )"
      ],
      "execution_count": 77,
      "outputs": [
        {
          "output_type": "stream",
          "text": [
            "Epoch 1/1000\n",
            "83/83 [==============================] - 1s 8ms/step - loss: 1.2086 - val_loss: 0.9942\n",
            "Epoch 2/1000\n",
            "83/83 [==============================] - 1s 6ms/step - loss: 0.9596 - val_loss: 0.9105\n",
            "Epoch 3/1000\n",
            "83/83 [==============================] - 1s 6ms/step - loss: 0.8964 - val_loss: 0.8861\n",
            "Epoch 4/1000\n",
            "83/83 [==============================] - 1s 6ms/step - loss: 0.8753 - val_loss: 0.8747\n",
            "Epoch 5/1000\n",
            "83/83 [==============================] - 1s 6ms/step - loss: 0.8659 - val_loss: 0.8643\n",
            "Epoch 6/1000\n",
            "83/83 [==============================] - 1s 6ms/step - loss: 0.8496 - val_loss: 0.8583\n",
            "Epoch 7/1000\n",
            "83/83 [==============================] - 1s 6ms/step - loss: 0.8455 - val_loss: 0.8544\n",
            "Epoch 8/1000\n",
            "83/83 [==============================] - 1s 6ms/step - loss: 0.8422 - val_loss: 0.8509\n",
            "Epoch 9/1000\n",
            "83/83 [==============================] - 1s 6ms/step - loss: 0.8389 - val_loss: 0.8478\n",
            "Epoch 10/1000\n",
            "83/83 [==============================] - 1s 6ms/step - loss: 0.8348 - val_loss: 0.8446\n",
            "Epoch 11/1000\n",
            "83/83 [==============================] - 1s 6ms/step - loss: 0.8399 - val_loss: 0.8422\n",
            "Epoch 12/1000\n",
            "83/83 [==============================] - 1s 6ms/step - loss: 0.8336 - val_loss: 0.8400\n",
            "Epoch 13/1000\n",
            "83/83 [==============================] - 1s 6ms/step - loss: 0.8275 - val_loss: 0.8392\n",
            "Epoch 14/1000\n",
            "83/83 [==============================] - 1s 6ms/step - loss: 0.8289 - val_loss: 0.8365\n",
            "Epoch 15/1000\n",
            "83/83 [==============================] - 1s 6ms/step - loss: 0.8209 - val_loss: 0.8361\n",
            "Epoch 16/1000\n",
            "83/83 [==============================] - 1s 6ms/step - loss: 0.8200 - val_loss: 0.8353\n",
            "Epoch 17/1000\n",
            "83/83 [==============================] - 1s 6ms/step - loss: 0.8266 - val_loss: 0.8342\n",
            "Epoch 18/1000\n",
            "83/83 [==============================] - 1s 6ms/step - loss: 0.8243 - val_loss: 0.8333\n",
            "Epoch 19/1000\n",
            "83/83 [==============================] - 1s 6ms/step - loss: 0.8134 - val_loss: 0.8322\n",
            "Epoch 20/1000\n",
            "83/83 [==============================] - 1s 6ms/step - loss: 0.8186 - val_loss: 0.8306\n",
            "Epoch 21/1000\n",
            "83/83 [==============================] - 1s 6ms/step - loss: 0.8136 - val_loss: 0.8312\n",
            "Epoch 22/1000\n",
            "83/83 [==============================] - 1s 6ms/step - loss: 0.8177 - val_loss: 0.8295\n",
            "Epoch 23/1000\n",
            "83/83 [==============================] - 1s 6ms/step - loss: 0.8129 - val_loss: 0.8295\n",
            "Epoch 24/1000\n",
            "83/83 [==============================] - 1s 6ms/step - loss: 0.8122 - val_loss: 0.8277\n",
            "Epoch 25/1000\n",
            "83/83 [==============================] - 1s 6ms/step - loss: 0.8010 - val_loss: 0.8274\n",
            "Epoch 26/1000\n",
            "83/83 [==============================] - 1s 6ms/step - loss: 0.8067 - val_loss: 0.8276\n",
            "Epoch 27/1000\n",
            "83/83 [==============================] - 1s 6ms/step - loss: 0.8137 - val_loss: 0.8270\n",
            "Epoch 28/1000\n",
            "83/83 [==============================] - 1s 6ms/step - loss: 0.8029 - val_loss: 0.8267\n",
            "Epoch 29/1000\n",
            "83/83 [==============================] - 1s 6ms/step - loss: 0.8021 - val_loss: 0.8282\n",
            "Epoch 30/1000\n",
            "83/83 [==============================] - 1s 6ms/step - loss: 0.8060 - val_loss: 0.8263\n",
            "Epoch 31/1000\n",
            "83/83 [==============================] - 1s 6ms/step - loss: 0.7990 - val_loss: 0.8257\n",
            "Epoch 32/1000\n",
            "83/83 [==============================] - 1s 6ms/step - loss: 0.8048 - val_loss: 0.8259\n",
            "Epoch 33/1000\n",
            "83/83 [==============================] - 1s 6ms/step - loss: 0.8023 - val_loss: 0.8254\n",
            "Epoch 34/1000\n",
            "83/83 [==============================] - 1s 6ms/step - loss: 0.7917 - val_loss: 0.8263\n",
            "Epoch 35/1000\n",
            "83/83 [==============================] - 1s 6ms/step - loss: 0.7968 - val_loss: 0.8251\n",
            "Epoch 36/1000\n",
            "83/83 [==============================] - 1s 6ms/step - loss: 0.7952 - val_loss: 0.8249\n",
            "Epoch 37/1000\n",
            "83/83 [==============================] - 1s 6ms/step - loss: 0.7992 - val_loss: 0.8254\n",
            "Epoch 38/1000\n",
            "83/83 [==============================] - 1s 6ms/step - loss: 0.7960 - val_loss: 0.8246\n",
            "Epoch 39/1000\n",
            "83/83 [==============================] - 1s 6ms/step - loss: 0.7961 - val_loss: 0.8252\n",
            "Epoch 40/1000\n",
            "83/83 [==============================] - 1s 6ms/step - loss: 0.7909 - val_loss: 0.8264\n",
            "Epoch 41/1000\n",
            "83/83 [==============================] - 1s 6ms/step - loss: 0.7942 - val_loss: 0.8248\n",
            "Epoch 42/1000\n",
            "83/83 [==============================] - 1s 6ms/step - loss: 0.7939 - val_loss: 0.8252\n",
            "Epoch 43/1000\n",
            "83/83 [==============================] - 1s 6ms/step - loss: 0.7908 - val_loss: 0.8255\n",
            "Epoch 44/1000\n",
            "83/83 [==============================] - 1s 6ms/step - loss: 0.7880 - val_loss: 0.8256\n",
            "Epoch 45/1000\n",
            "83/83 [==============================] - 1s 6ms/step - loss: 0.7948 - val_loss: 0.8267\n",
            "Epoch 46/1000\n",
            "83/83 [==============================] - 1s 6ms/step - loss: 0.7919 - val_loss: 0.8256\n",
            "Epoch 47/1000\n",
            "83/83 [==============================] - 1s 6ms/step - loss: 0.7917 - val_loss: 0.8258\n",
            "Epoch 48/1000\n",
            "83/83 [==============================] - 1s 6ms/step - loss: 0.7966 - val_loss: 0.8248\n",
            "Epoch 49/1000\n",
            "83/83 [==============================] - 1s 6ms/step - loss: 0.7870 - val_loss: 0.8257\n",
            "Epoch 50/1000\n",
            "83/83 [==============================] - 1s 6ms/step - loss: 0.7893 - val_loss: 0.8260\n",
            "Epoch 51/1000\n",
            "83/83 [==============================] - 1s 6ms/step - loss: 0.7833 - val_loss: 0.8262\n",
            "Epoch 52/1000\n",
            "83/83 [==============================] - 1s 6ms/step - loss: 0.7871 - val_loss: 0.8261\n",
            "Epoch 53/1000\n",
            "83/83 [==============================] - 1s 6ms/step - loss: 0.7873 - val_loss: 0.8260\n",
            "Epoch 54/1000\n",
            "83/83 [==============================] - 1s 6ms/step - loss: 0.7830 - val_loss: 0.8269\n",
            "Epoch 55/1000\n",
            "83/83 [==============================] - 1s 6ms/step - loss: 0.7874 - val_loss: 0.8266\n",
            "Epoch 56/1000\n",
            "83/83 [==============================] - 1s 6ms/step - loss: 0.7859 - val_loss: 0.8296\n",
            "Epoch 57/1000\n",
            "83/83 [==============================] - 1s 6ms/step - loss: 0.7827 - val_loss: 0.8278\n",
            "Epoch 58/1000\n",
            "83/83 [==============================] - 1s 6ms/step - loss: 0.7848 - val_loss: 0.8262\n",
            "Epoch 00058: early stopping\n"
          ],
          "name": "stdout"
        }
      ]
    },
    {
      "cell_type": "code",
      "metadata": {
        "colab": {
          "base_uri": "https://localhost:8080/",
          "height": 284
        },
        "id": "M1tC1qcYtrkk",
        "outputId": "3ddb71e0-2bd6-4dd2-adf9-e6bf132548b8"
      },
      "source": [
        "plt.plot(history.history['val_loss'])"
      ],
      "execution_count": 78,
      "outputs": [
        {
          "output_type": "execute_result",
          "data": {
            "text/plain": [
              "[<matplotlib.lines.Line2D at 0x7ff4804f60d0>]"
            ]
          },
          "metadata": {
            "tags": []
          },
          "execution_count": 78
        },
        {
          "output_type": "display_data",
          "data": {
            "image/png": "[encoded data removed]",
            "text/plain": [
              "<Figure size 432x288 with 1 Axes>"
            ]
          },
          "metadata": {
            "tags": [],
            "needs_background": "light"
          }
        }
      ]
    },
    {
      "cell_type": "code",
      "metadata": {
        "id": "Xzd20AxsTPqm"
      },
      "source": [
        "saved_model = keras.models.load_model(PATH+'/model/wide_deep.h5')"
      ],
      "execution_count": 79,
      "outputs": []
    },
    {
      "cell_type": "code",
      "metadata": {
        "id": "7yB1lZlfXRNN"
      },
      "source": [
        "submission = pd.read_csv(PATH+'/dataset/sample_submission.csv')"
      ],
      "execution_count": 80,
      "outputs": []
    },
    {
      "cell_type": "code",
      "metadata": {
        "id": "L1VThrg4XeD_"
      },
      "source": [
        "submission.iloc[:,1:] = model.predict(test_dataset)"
      ],
      "execution_count": 81,
      "outputs": []
    },
    {
      "cell_type": "code",
      "metadata": {
        "colab": {
          "base_uri": "https://localhost:8080/",
          "height": 669
        },
        "id": "glBD0mmNaN8F",
        "outputId": "e04ed6ff-67c1-4017-f5a5-3ab894914c3c"
      },
      "source": [
        "submission.head(20)"
      ],
      "execution_count": 82,
      "outputs": [
        {
          "output_type": "execute_result",
          "data": {
            "text/html": [
              "<div>\n",
              "<style scoped>\n",
              "    .dataframe tbody tr th:only-of-type {\n",
              "        vertical-align: middle;\n",
              "    }\n",
              "\n",
              "    .dataframe tbody tr th {\n",
              "        vertical-align: top;\n",
              "    }\n",
              "\n",
              "    .dataframe thead th {\n",
              "        text-align: right;\n",
              "    }\n",
              "</style>\n",
              "<table border=\"1\" class=\"dataframe\">\n",
              "  <thead>\n",
              "    <tr style=\"text-align: right;\">\n",
              "      <th></th>\n",
              "      <th>index</th>\n",
              "      <th>0</th>\n",
              "      <th>1</th>\n",
              "      <th>2</th>\n",
              "    </tr>\n",
              "  </thead>\n",
              "  <tbody>\n",
              "    <tr>\n",
              "      <th>0</th>\n",
              "      <td>26457</td>\n",
              "      <td>0.122973</td>\n",
              "      <td>0.282639</td>\n",
              "      <td>0.594388</td>\n",
              "    </tr>\n",
              "    <tr>\n",
              "      <th>1</th>\n",
              "      <td>26458</td>\n",
              "      <td>0.216502</td>\n",
              "      <td>0.176179</td>\n",
              "      <td>0.607319</td>\n",
              "    </tr>\n",
              "    <tr>\n",
              "      <th>2</th>\n",
              "      <td>26459</td>\n",
              "      <td>0.096582</td>\n",
              "      <td>0.158606</td>\n",
              "      <td>0.744813</td>\n",
              "    </tr>\n",
              "    <tr>\n",
              "      <th>3</th>\n",
              "      <td>26460</td>\n",
              "      <td>0.101487</td>\n",
              "      <td>0.118627</td>\n",
              "      <td>0.779886</td>\n",
              "    </tr>\n",
              "    <tr>\n",
              "      <th>4</th>\n",
              "      <td>26461</td>\n",
              "      <td>0.154652</td>\n",
              "      <td>0.243553</td>\n",
              "      <td>0.601795</td>\n",
              "    </tr>\n",
              "    <tr>\n",
              "      <th>5</th>\n",
              "      <td>26462</td>\n",
              "      <td>0.083065</td>\n",
              "      <td>0.461729</td>\n",
              "      <td>0.455206</td>\n",
              "    </tr>\n",
              "    <tr>\n",
              "      <th>6</th>\n",
              "      <td>26463</td>\n",
              "      <td>0.218423</td>\n",
              "      <td>0.703154</td>\n",
              "      <td>0.078423</td>\n",
              "    </tr>\n",
              "    <tr>\n",
              "      <th>7</th>\n",
              "      <td>26464</td>\n",
              "      <td>0.142286</td>\n",
              "      <td>0.250896</td>\n",
              "      <td>0.606818</td>\n",
              "    </tr>\n",
              "    <tr>\n",
              "      <th>8</th>\n",
              "      <td>26465</td>\n",
              "      <td>0.099125</td>\n",
              "      <td>0.224253</td>\n",
              "      <td>0.676623</td>\n",
              "    </tr>\n",
              "    <tr>\n",
              "      <th>9</th>\n",
              "      <td>26466</td>\n",
              "      <td>0.152871</td>\n",
              "      <td>0.143743</td>\n",
              "      <td>0.703386</td>\n",
              "    </tr>\n",
              "    <tr>\n",
              "      <th>10</th>\n",
              "      <td>26467</td>\n",
              "      <td>0.106824</td>\n",
              "      <td>0.160895</td>\n",
              "      <td>0.732282</td>\n",
              "    </tr>\n",
              "    <tr>\n",
              "      <th>11</th>\n",
              "      <td>26468</td>\n",
              "      <td>0.096582</td>\n",
              "      <td>0.158606</td>\n",
              "      <td>0.744813</td>\n",
              "    </tr>\n",
              "    <tr>\n",
              "      <th>12</th>\n",
              "      <td>26469</td>\n",
              "      <td>0.176308</td>\n",
              "      <td>0.178178</td>\n",
              "      <td>0.645514</td>\n",
              "    </tr>\n",
              "    <tr>\n",
              "      <th>13</th>\n",
              "      <td>26470</td>\n",
              "      <td>0.205363</td>\n",
              "      <td>0.111941</td>\n",
              "      <td>0.682696</td>\n",
              "    </tr>\n",
              "    <tr>\n",
              "      <th>14</th>\n",
              "      <td>26471</td>\n",
              "      <td>0.082906</td>\n",
              "      <td>0.153634</td>\n",
              "      <td>0.763461</td>\n",
              "    </tr>\n",
              "    <tr>\n",
              "      <th>15</th>\n",
              "      <td>26472</td>\n",
              "      <td>0.104661</td>\n",
              "      <td>0.242669</td>\n",
              "      <td>0.652670</td>\n",
              "    </tr>\n",
              "    <tr>\n",
              "      <th>16</th>\n",
              "      <td>26473</td>\n",
              "      <td>0.157445</td>\n",
              "      <td>0.216824</td>\n",
              "      <td>0.625731</td>\n",
              "    </tr>\n",
              "    <tr>\n",
              "      <th>17</th>\n",
              "      <td>26474</td>\n",
              "      <td>0.266596</td>\n",
              "      <td>0.690792</td>\n",
              "      <td>0.042612</td>\n",
              "    </tr>\n",
              "    <tr>\n",
              "      <th>18</th>\n",
              "      <td>26475</td>\n",
              "      <td>0.132225</td>\n",
              "      <td>0.276135</td>\n",
              "      <td>0.591640</td>\n",
              "    </tr>\n",
              "    <tr>\n",
              "      <th>19</th>\n",
              "      <td>26476</td>\n",
              "      <td>0.082538</td>\n",
              "      <td>0.187555</td>\n",
              "      <td>0.729907</td>\n",
              "    </tr>\n",
              "  </tbody>\n",
              "</table>\n",
              "</div>"
            ],
            "text/plain": [
              "    index         0         1         2\n",
              "0   26457  0.122973  0.282639  0.594388\n",
              "1   26458  0.216502  0.176179  0.607319\n",
              "2   26459  0.096582  0.158606  0.744813\n",
              "3   26460  0.101487  0.118627  0.779886\n",
              "4   26461  0.154652  0.243553  0.601795\n",
              "5   26462  0.083065  0.461729  0.455206\n",
              "6   26463  0.218423  0.703154  0.078423\n",
              "7   26464  0.142286  0.250896  0.606818\n",
              "8   26465  0.099125  0.224253  0.676623\n",
              "9   26466  0.152871  0.143743  0.703386\n",
              "10  26467  0.106824  0.160895  0.732282\n",
              "11  26468  0.096582  0.158606  0.744813\n",
              "12  26469  0.176308  0.178178  0.645514\n",
              "13  26470  0.205363  0.111941  0.682696\n",
              "14  26471  0.082906  0.153634  0.763461\n",
              "15  26472  0.104661  0.242669  0.652670\n",
              "16  26473  0.157445  0.216824  0.625731\n",
              "17  26474  0.266596  0.690792  0.042612\n",
              "18  26475  0.132225  0.276135  0.591640\n",
              "19  26476  0.082538  0.187555  0.729907"
            ]
          },
          "metadata": {
            "tags": []
          },
          "execution_count": 82
        }
      ]
    },
    {
      "cell_type": "code",
      "metadata": {
        "id": "ytw_oizaXndc"
      },
      "source": [
        "submission.to_csv(PATH+'/result/wide-deep6.csv',index=False)"
      ],
      "execution_count": 83,
      "outputs": []
    },
    {
      "cell_type": "code",
      "metadata": {
        "id": "aeBsXRMRX2J5"
      },
      "source": [
        ""
      ],
      "execution_count": null,
      "outputs": []
    }
  ]
}