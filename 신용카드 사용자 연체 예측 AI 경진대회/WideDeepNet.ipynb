{
  "nbformat": 4,
  "nbformat_minor": 0,
  "metadata": {
    "colab": {
      "name": "DL.ipynb",
      "provenance": [],
      "mount_file_id": "1fKrdcd0Z4Nb5vZoV6U7v3mB4fpKnkj-R",
      "authorship_tag": "ABX9TyO7j2Xw+Ahih/DPoz187qmk",
      "include_colab_link": true
    },
    "kernelspec": {
      "name": "python3",
      "display_name": "Python 3"
    },
    "language_info": {
      "name": "python"
    },
    "accelerator": "GPU"
  },
  "cells": [
    {
      "cell_type": "markdown",
      "metadata": {
        "id": "view-in-github",
        "colab_type": "text"
      },
      "source": [
        "<a href=\"https://colab.research.google.com/github/jwengr/dacon/blob/main/%EC%8B%A0%EC%9A%A9%EC%B9%B4%EB%93%9C%20%EC%82%AC%EC%9A%A9%EC%9E%90%20%EC%97%B0%EC%B2%B4%20%EC%98%88%EC%B8%A1%20AI%20%EA%B2%BD%EC%A7%84%EB%8C%80%ED%9A%8C/WideDeepNet.ipynb\" target=\"_parent\"><img src=\"https://colab.research.google.com/assets/colab-badge.svg\" alt=\"Open In Colab\"/></a>"
      ]
    },
    {
      "cell_type": "code",
      "metadata": {
        "id": "rBnxQGUgBZH5"
      },
      "source": [
        "!pip install transformers"
      ],
      "execution_count": null,
      "outputs": []
    },
    {
      "cell_type": "code",
      "metadata": {
        "id": "kMSbtbo28cdR"
      },
      "source": [
        "import pandas as pd\n",
        "import numpy as np\n",
        "import tensorflow as tf\n",
        "import matplotlib.pyplot as plt\n",
        "\n",
        "from keras.callbacks import EarlyStopping, ModelCheckpoint\n",
        "from tensorflow import keras\n",
        "from tensorflow.keras import layers\n",
        "from tensorflow.keras.layers import Lambda\n",
        "from itertools import combinations\n",
        "from transformers import BertTokenizer\n",
        "from sklearn.preprocessing import StandardScaler"
      ],
      "execution_count": 564,
      "outputs": []
    },
    {
      "cell_type": "code",
      "metadata": {
        "id": "wxmN0Zja8NMv"
      },
      "source": [
        "PATH = 'drive/My Drive/dacon/credit'"
      ],
      "execution_count": 247,
      "outputs": []
    },
    {
      "cell_type": "code",
      "metadata": {
        "id": "L1BAujN_8Zo1"
      },
      "source": [
        "train_df = pd.read_csv(PATH+'/dataset/train.csv').drop(['index','FLAG_MOBIL'],axis=1)\n",
        "test_df = pd.read_csv(PATH+'/dataset/test.csv').drop(['index','FLAG_MOBIL'],axis=1)"
      ],
      "execution_count": 699,
      "outputs": []
    },
    {
      "cell_type": "code",
      "metadata": {
        "id": "tt6KyBMtAAeP"
      },
      "source": [
        "train_df['occyp_type'].fillna('one two three',inplace=True)\n",
        "test_df['occyp_type'].fillna('one two three',inplace=True)"
      ],
      "execution_count": 700,
      "outputs": []
    },
    {
      "cell_type": "code",
      "metadata": {
        "id": "ys-gFWixd1TM"
      },
      "source": [
        "train_df['not_employed'] = (train_df['DAYS_EMPLOYED']>0).astype(np.int32)\n",
        "test_df['not_employed'] = (test_df['DAYS_EMPLOYED']>0).astype(np.int32)"
      ],
      "execution_count": 701,
      "outputs": []
    },
    {
      "cell_type": "code",
      "metadata": {
        "id": "JVvMtMvVe_lf"
      },
      "source": [
        "train_df['begin_months'] = train_df['begin_month'].values%12\n",
        "test_df['begin_months'] = test_df['begin_month'].values%12"
      ],
      "execution_count": 702,
      "outputs": []
    },
    {
      "cell_type": "code",
      "metadata": {
        "id": "6NU92txI8kVW"
      },
      "source": [
        "le = preprocessing.LabelEncoder()"
      ],
      "execution_count": 703,
      "outputs": []
    },
    {
      "cell_type": "code",
      "metadata": {
        "colab": {
          "base_uri": "https://localhost:8080/"
        },
        "id": "PBC2NrmW9Zmw",
        "outputId": "68212aaa-118b-4ad5-e7f6-6fe4dae35847"
      },
      "source": [
        "for col in ['gender','car','reality','work_phone','phone','email','not_employed','begin_months','family_size']:\n",
        "    train_df[[col]] = le.fit_transform(train_df[[col]]).astype(np.int32)\n",
        "    train_df = pd.concat([train_df,pd.get_dummies(train_df[col],prefix=f'{col}')],axis=1)\n",
        "\n",
        "    test_df[[col]] = le.fit_transform(test_df[[col]]).astype(np.int32)\n",
        "    test_df = pd.concat([test_df,pd.get_dummies(test_df[col],prefix=f'{col}')],axis=1)"
      ],
      "execution_count": 704,
      "outputs": [
        {
          "output_type": "stream",
          "text": [
            "/usr/local/lib/python3.7/dist-packages/sklearn/preprocessing/_label.py:251: DataConversionWarning: A column-vector y was passed when a 1d array was expected. Please change the shape of y to (n_samples, ), for example using ravel().\n",
            "  y = column_or_1d(y, warn=True)\n"
          ],
          "name": "stderr"
        }
      ]
    },
    {
      "cell_type": "code",
      "metadata": {
        "id": "pGhXZjxa9s-p"
      },
      "source": [
        "for col in ['income_type','edu_type','family_type','house_type','occyp_type']:\n",
        "    train_df = pd.concat([train_df,pd.get_dummies(train_df[col],prefix=f'{col}')],axis=1)\n",
        "    test_df = pd.concat([test_df,pd.get_dummies(test_df[col],prefix=f'{col}')],axis=1)"
      ],
      "execution_count": 705,
      "outputs": []
    },
    {
      "cell_type": "code",
      "metadata": {
        "id": "NfjU2fIyJQPp"
      },
      "source": [
        "dummies_df = train_df.iloc[:,34:]\n",
        "train_df = train_df.iloc[:,:34]\n",
        "\n",
        "test_dummies_df = pd.DataFrame(columns=dummies_df.columns)\n",
        "for col in test_df.iloc[:,33:].columns:\n",
        "    test_dummies_df[col] = test_df[col]\n",
        "test_dummies_df.fillna(0,inplace=True)\n",
        "test_df = test_df.iloc[:,:33]"
      ],
      "execution_count": 706,
      "outputs": []
    },
    {
      "cell_type": "code",
      "metadata": {
        "id": "o9Nq2y8NWYtA"
      },
      "source": [
        "dummies_arr = dummies_df.values\n",
        "test_dummies_arr = test_dummies_df.values"
      ],
      "execution_count": 707,
      "outputs": []
    },
    {
      "cell_type": "code",
      "metadata": {
        "colab": {
          "base_uri": "https://localhost:8080/"
        },
        "id": "ySlhGRrwVR7r",
        "outputId": "f0ee2928-29ce-4910-b00b-7e66630f1152"
      },
      "source": [
        "dummies_arr.shape,test_dummies_arr.shape"
      ],
      "execution_count": 708,
      "outputs": [
        {
          "output_type": "execute_result",
          "data": {
            "text/plain": [
              "((26457, 62), (10000, 62))"
            ]
          },
          "metadata": {
            "tags": []
          },
          "execution_count": 708
        }
      ]
    },
    {
      "cell_type": "code",
      "metadata": {
        "id": "FHKJ3uXPI6hf"
      },
      "source": [
        "wide_arr = np.zeros((len(train_df),dummies_arr.shape[1]*(dummies_arr.shape[1]-1)//2),dtype=np.int32)\n",
        "test_wide_arr = np.zeros((len(test_df),test_dummies_arr.shape[1]*(test_dummies_arr.shape[1]-1)//2),dtype=np.int32)"
      ],
      "execution_count": 709,
      "outputs": []
    },
    {
      "cell_type": "code",
      "metadata": {
        "id": "_ss1ABbqI2P1"
      },
      "source": [
        "i=0\n",
        "for a,b in list(combinations(range(dummies_arr.shape[1]),2)):\n",
        "    wide_arr[:,i] = dummies_arr[:,a]*dummies_arr[:,b]\n",
        "    i+=1\n",
        "i=0\n",
        "for a,b in list(combinations(range(test_dummies_arr.shape[1]),2)):\n",
        "    test_wide_arr[:,i] = test_dummies_arr[:,a]*test_dummies_arr[:,b]\n",
        "    i+=1"
      ],
      "execution_count": 710,
      "outputs": []
    },
    {
      "cell_type": "code",
      "metadata": {
        "id": "HxtHHo7h9t5U"
      },
      "source": [
        "tokenizer = BertTokenizer.from_pretrained(\"bert-base-uncased\")"
      ],
      "execution_count": 711,
      "outputs": []
    },
    {
      "cell_type": "code",
      "metadata": {
        "colab": {
          "base_uri": "https://localhost:8080/"
        },
        "id": "v24NUx_fMmvQ",
        "outputId": "9bbddf8a-503c-4d81-b46f-5eb65ffaa810"
      },
      "source": [
        "print('----train----')\n",
        "for col in ['income_type','edu_type','family_type','house_type','occyp_type']:\n",
        "    print(col,max([len(tokenizer.encode(val)) for val in set(train_df[col].values)]))\n",
        "print('----test----')\n",
        "for col in ['income_type','edu_type','family_type','house_type','occyp_type']:\n",
        "    print(col,max([len(tokenizer.encode(val)) for val in set(test_df[col].values)]))"
      ],
      "execution_count": 712,
      "outputs": [
        {
          "output_type": "stream",
          "text": [
            "----train----\n",
            "income_type 4\n",
            "edu_type 6\n",
            "family_type 6\n",
            "house_type 6\n",
            "occyp_type 8\n",
            "----test----\n",
            "income_type 4\n",
            "edu_type 6\n",
            "family_type 6\n",
            "house_type 6\n",
            "occyp_type 8\n"
          ],
          "name": "stdout"
        }
      ]
    },
    {
      "cell_type": "code",
      "metadata": {
        "id": "2BFdgqOCCepa"
      },
      "source": [
        "emb_arr = np.zeros((len(train_df),3+5+5+5+7),np.int32)\n",
        "test_emb_arr = np.zeros((len(test_df),3+5+5+5+7),np.int32)"
      ],
      "execution_count": 713,
      "outputs": []
    },
    {
      "cell_type": "code",
      "metadata": {
        "id": "hGZ9CkQjZ1JG"
      },
      "source": [
        "last=0\n",
        "for col,max_length in zip(['income_type','edu_type','family_type','house_type','occyp_type'],[4,6,6,6,8]):\n",
        "    emb_arr[:,last:last+max_length-1] = np.array(train_df[col].apply(lambda x: tokenizer.encode_plus(x,padding='max_length',max_length=max_length)['input_ids'][1:]).values.tolist())\n",
        "    last+=max_length-1\n",
        "last=0\n",
        "for col,max_length in zip(['income_type','edu_type','family_type','house_type','occyp_type'],[4,6,6,6,8]):\n",
        "    test_emb_arr[:,last:last+max_length-1] = np.array(test_df[col].apply(lambda x: tokenizer.encode_plus(x,padding='max_length',max_length=max_length)['input_ids'][1:]).values.tolist())\n",
        "    last+=max_length-1"
      ],
      "execution_count": 714,
      "outputs": []
    },
    {
      "cell_type": "code",
      "metadata": {
        "id": "kQ-AlykeapB6"
      },
      "source": [
        "for col in ['income_total','DAYS_BIRTH','DAYS_EMPLOYED','family_size','begin_month']:\n",
        "    scaler = StandardScaler()\n",
        "    train_df[f'{col}_scaled'] = scaler.fit_transform(train_df[[col]])\n",
        "    test_df[f'{col}_scaled'] = scaler.transform(test_df[[col]])"
      ],
      "execution_count": 715,
      "outputs": []
    },
    {
      "cell_type": "code",
      "metadata": {
        "id": "ZbbrE8B9dFcm"
      },
      "source": [
        "deep_arr = train_df[['gender','car','reality','child_num','work_phone','phone','email',\n",
        "          'income_total_scaled','DAYS_BIRTH_scaled','DAYS_EMPLOYED_scaled','family_size_scaled','begin_month_scaled']].values\n",
        "test_deep_arr = test_df[['gender','car','reality','child_num','work_phone','phone','email',\n",
        "          'income_total_scaled','DAYS_BIRTH_scaled','DAYS_EMPLOYED_scaled','family_size_scaled','begin_month_scaled']].values"
      ],
      "execution_count": 716,
      "outputs": []
    },
    {
      "cell_type": "code",
      "metadata": {
        "id": "_82ulDmpixmi"
      },
      "source": [
        "deep_arr = np.concatenate((deep_arr,emb_arr),axis=1)\n",
        "test_deep_arr = np.concatenate((test_deep_arr,test_emb_arr),axis=1)"
      ],
      "execution_count": 717,
      "outputs": []
    },
    {
      "cell_type": "code",
      "metadata": {
        "colab": {
          "base_uri": "https://localhost:8080/"
        },
        "id": "OG0RMtfcmlHD",
        "outputId": "22e1b64c-9658-4ec9-edf3-fd7921699e2d"
      },
      "source": [
        "deep_arr.shape,wide_arr.shape,test_deep_arr.shape,test_wide_arr.shape,"
      ],
      "execution_count": 718,
      "outputs": [
        {
          "output_type": "execute_result",
          "data": {
            "text/plain": [
              "((26457, 37), (26457, 1891), (10000, 37), (10000, 1891))"
            ]
          },
          "metadata": {
            "tags": []
          },
          "execution_count": 718
        }
      ]
    },
    {
      "cell_type": "code",
      "metadata": {
        "id": "qHlJsKlnrJqR"
      },
      "source": [
        "dataset = tf.data.Dataset.from_tensor_slices(((np.concatenate((deep_arr,wide_arr),axis=1)),pd.get_dummies(train_df['credit'].astype(np.int32)).values)).shuffle(26457)\n",
        "test_dataset = tf.data.Dataset.from_tensor_slices(np.concatenate((test_deep_arr,test_wide_arr),axis=1)).batch(256)"
      ],
      "execution_count": 734,
      "outputs": []
    },
    {
      "cell_type": "code",
      "metadata": {
        "id": "XJoQr3nita1S"
      },
      "source": [
        "train_dataset, test_dataset = dataset.take(int(26457*0.9)).batch(256), dataset.skip(int(26457*0.9)).batch(256)"
      ],
      "execution_count": 725,
      "outputs": []
    },
    {
      "cell_type": "code",
      "metadata": {
        "id": "jZ45ZdlSjwXH"
      },
      "source": [
        "inputs = keras.Input(shape=(deep_arr.shape[1]+wide_arr.shape[1]))\n",
        "deep,wide = Lambda( lambda x: tf.split(x,num_or_size_splits=[deep_arr.shape[1],wide_arr.shape[1]],axis=1))(inputs)\n",
        "\n",
        "deep = layers.BatchNormalization()(deep)\n",
        "deep = layers.Dense(32,activation='relu')(deep)\n",
        "deep = layers.Dense(12,activation='relu')(deep)\n",
        "deep = layers.Dense(3,activation='relu')(deep)\n",
        "\n",
        "\n",
        "wide = layers.BatchNormalization()(wide)\n",
        "wide = layers.Dense(3,activation='relu')(wide)\n",
        "\n",
        "\n",
        "x = layers.Multiply()([deep,wide])\n",
        "outputs = layers.Dense(3,activation='softmax')(x)"
      ],
      "execution_count": 726,
      "outputs": []
    },
    {
      "cell_type": "code",
      "metadata": {
        "colab": {
          "base_uri": "https://localhost:8080/"
        },
        "id": "IM31zfW0qO0K",
        "outputId": "211c0bd7-7f27-49ae-e2c8-f9e17068749c"
      },
      "source": [
        "model = keras.Model(inputs, outputs, name=\"wide_deep_model\")\n",
        "model.summary()"
      ],
      "execution_count": 727,
      "outputs": [
        {
          "output_type": "stream",
          "text": [
            "Model: \"wide_deep_model\"\n",
            "__________________________________________________________________________________________________\n",
            "Layer (type)                    Output Shape         Param #     Connected to                     \n",
            "==================================================================================================\n",
            "input_55 (InputLayer)           [(None, 1928)]       0                                            \n",
            "__________________________________________________________________________________________________\n",
            "lambda_56 (Lambda)              [(None, 37), (None,  0           input_55[0][0]                   \n",
            "__________________________________________________________________________________________________\n",
            "batch_normalization_39 (BatchNo (None, 37)           148         lambda_56[0][0]                  \n",
            "__________________________________________________________________________________________________\n",
            "dense_204 (Dense)               (None, 32)           1216        batch_normalization_39[0][0]     \n",
            "__________________________________________________________________________________________________\n",
            "dense_205 (Dense)               (None, 12)           396         dense_204[0][0]                  \n",
            "__________________________________________________________________________________________________\n",
            "batch_normalization_40 (BatchNo (None, 1891)         7564        lambda_56[0][1]                  \n",
            "__________________________________________________________________________________________________\n",
            "dense_206 (Dense)               (None, 3)            39          dense_205[0][0]                  \n",
            "__________________________________________________________________________________________________\n",
            "dense_207 (Dense)               (None, 3)            5676        batch_normalization_40[0][0]     \n",
            "__________________________________________________________________________________________________\n",
            "multiply_4 (Multiply)           (None, 3)            0           dense_206[0][0]                  \n",
            "                                                                 dense_207[0][0]                  \n",
            "__________________________________________________________________________________________________\n",
            "dense_208 (Dense)               (None, 3)            12          multiply_4[0][0]                 \n",
            "==================================================================================================\n",
            "Total params: 15,051\n",
            "Trainable params: 11,195\n",
            "Non-trainable params: 3,856\n",
            "__________________________________________________________________________________________________\n"
          ],
          "name": "stdout"
        }
      ]
    },
    {
      "cell_type": "code",
      "metadata": {
        "colab": {
          "base_uri": "https://localhost:8080/"
        },
        "id": "dUM92zils08N",
        "outputId": "573f36d4-f20a-4f7d-f91d-0149f1d1eda6"
      },
      "source": [
        "model.compile(loss='categorical_crossentropy', optimizer='adam')\n",
        "early_stop = EarlyStopping(monitor='val_loss', patience=100,verbose=1)\n",
        "mc = ModelCheckpoint(PATH+'/model/wide_deep.h5', monitor='val_loss', mode='min', save_best_only=True)\n",
        "history = model.fit(train_dataset,\n",
        "                        epochs=1000,\n",
        "                        verbose=1,\n",
        "                    callbacks=[early_stop, mc],\n",
        "                    validation_data=test_dataset\n",
        "                    )"
      ],
      "execution_count": 728,
      "outputs": [
        {
          "output_type": "stream",
          "text": [
            "Epoch 1/1000\n",
            "94/94 [==============================] - 2s 15ms/step - loss: 1.0186 - val_loss: 0.9139\n",
            "Epoch 2/1000\n",
            "94/94 [==============================] - 1s 11ms/step - loss: 0.8803 - val_loss: 0.8669\n",
            "Epoch 3/1000\n",
            "94/94 [==============================] - 1s 12ms/step - loss: 0.8679 - val_loss: 0.8642\n",
            "Epoch 4/1000\n",
            "94/94 [==============================] - 1s 11ms/step - loss: 0.8542 - val_loss: 0.8573\n",
            "Epoch 5/1000\n",
            "94/94 [==============================] - 1s 11ms/step - loss: 0.8489 - val_loss: 0.8397\n",
            "Epoch 6/1000\n",
            "94/94 [==============================] - 1s 12ms/step - loss: 0.8416 - val_loss: 0.8268\n",
            "Epoch 7/1000\n",
            "94/94 [==============================] - 1s 11ms/step - loss: 0.8308 - val_loss: 0.8305\n",
            "Epoch 8/1000\n",
            "94/94 [==============================] - 1s 11ms/step - loss: 0.8378 - val_loss: 0.8250\n",
            "Epoch 9/1000\n",
            "94/94 [==============================] - 1s 11ms/step - loss: 0.8287 - val_loss: 0.8188\n",
            "Epoch 10/1000\n",
            "94/94 [==============================] - 1s 11ms/step - loss: 0.8217 - val_loss: 0.8010\n",
            "Epoch 11/1000\n",
            "94/94 [==============================] - 1s 11ms/step - loss: 0.8137 - val_loss: 0.8023\n",
            "Epoch 12/1000\n",
            "94/94 [==============================] - 1s 11ms/step - loss: 0.8048 - val_loss: 0.7760\n",
            "Epoch 13/1000\n",
            "94/94 [==============================] - 1s 11ms/step - loss: 0.8046 - val_loss: 0.8150\n",
            "Epoch 14/1000\n",
            "94/94 [==============================] - 1s 12ms/step - loss: 0.7879 - val_loss: 0.7893\n",
            "Epoch 15/1000\n",
            "94/94 [==============================] - 1s 11ms/step - loss: 0.7758 - val_loss: 0.7732\n",
            "Epoch 16/1000\n",
            "94/94 [==============================] - 1s 11ms/step - loss: 0.7785 - val_loss: 0.7600\n",
            "Epoch 17/1000\n",
            "94/94 [==============================] - 1s 11ms/step - loss: 0.7673 - val_loss: 0.7760\n",
            "Epoch 18/1000\n",
            "94/94 [==============================] - 1s 12ms/step - loss: 0.7671 - val_loss: 0.7561\n",
            "Epoch 19/1000\n",
            "94/94 [==============================] - 1s 12ms/step - loss: 0.7729 - val_loss: 0.7696\n",
            "Epoch 20/1000\n",
            "94/94 [==============================] - 1s 11ms/step - loss: 0.7653 - val_loss: 0.7409\n",
            "Epoch 21/1000\n",
            "94/94 [==============================] - 1s 12ms/step - loss: 0.7534 - val_loss: 0.7619\n",
            "Epoch 22/1000\n",
            "94/94 [==============================] - 1s 11ms/step - loss: 0.7634 - val_loss: 0.7277\n",
            "Epoch 23/1000\n",
            "94/94 [==============================] - 1s 11ms/step - loss: 0.7587 - val_loss: 0.7560\n",
            "Epoch 24/1000\n",
            "94/94 [==============================] - 1s 11ms/step - loss: 0.7626 - val_loss: 0.7194\n",
            "Epoch 25/1000\n",
            "94/94 [==============================] - 1s 11ms/step - loss: 0.7596 - val_loss: 0.7498\n",
            "Epoch 26/1000\n",
            "94/94 [==============================] - 1s 11ms/step - loss: 0.7611 - val_loss: 0.7363\n",
            "Epoch 27/1000\n",
            "94/94 [==============================] - 1s 11ms/step - loss: 0.7495 - val_loss: 0.7378\n",
            "Epoch 28/1000\n",
            "94/94 [==============================] - 1s 12ms/step - loss: 0.7596 - val_loss: 0.7526\n",
            "Epoch 29/1000\n",
            "94/94 [==============================] - 1s 11ms/step - loss: 0.7547 - val_loss: 0.7364\n",
            "Epoch 30/1000\n",
            "94/94 [==============================] - 1s 12ms/step - loss: 0.7426 - val_loss: 0.6993\n",
            "Epoch 31/1000\n",
            "94/94 [==============================] - 1s 12ms/step - loss: 0.7453 - val_loss: 0.7268\n",
            "Epoch 32/1000\n",
            "94/94 [==============================] - 1s 11ms/step - loss: 0.7432 - val_loss: 0.7291\n",
            "Epoch 33/1000\n",
            "94/94 [==============================] - 1s 11ms/step - loss: 0.7554 - val_loss: 0.7389\n",
            "Epoch 34/1000\n",
            "94/94 [==============================] - 1s 12ms/step - loss: 0.7433 - val_loss: 0.7517\n",
            "Epoch 35/1000\n",
            "94/94 [==============================] - 1s 11ms/step - loss: 0.7422 - val_loss: 0.7196\n",
            "Epoch 36/1000\n",
            "94/94 [==============================] - 1s 12ms/step - loss: 0.7457 - val_loss: 0.7189\n",
            "Epoch 37/1000\n",
            "94/94 [==============================] - 1s 11ms/step - loss: 0.7424 - val_loss: 0.7519\n",
            "Epoch 38/1000\n",
            "94/94 [==============================] - 1s 11ms/step - loss: 0.7424 - val_loss: 0.7354\n",
            "Epoch 39/1000\n",
            "94/94 [==============================] - 1s 12ms/step - loss: 0.7370 - val_loss: 0.7373\n",
            "Epoch 40/1000\n",
            "94/94 [==============================] - 1s 11ms/step - loss: 0.7365 - val_loss: 0.7481\n",
            "Epoch 41/1000\n",
            "94/94 [==============================] - 1s 12ms/step - loss: 0.7447 - val_loss: 0.7277\n",
            "Epoch 42/1000\n",
            "94/94 [==============================] - 1s 11ms/step - loss: 0.7311 - val_loss: 0.7302\n",
            "Epoch 43/1000\n",
            "94/94 [==============================] - 1s 11ms/step - loss: 0.7352 - val_loss: 0.7257\n",
            "Epoch 44/1000\n",
            "94/94 [==============================] - 1s 11ms/step - loss: 0.7461 - val_loss: 0.7203\n",
            "Epoch 45/1000\n",
            "94/94 [==============================] - 1s 12ms/step - loss: 0.7423 - val_loss: 0.7135\n",
            "Epoch 46/1000\n",
            "94/94 [==============================] - 1s 12ms/step - loss: 0.7391 - val_loss: 0.7356\n",
            "Epoch 47/1000\n",
            "94/94 [==============================] - 1s 11ms/step - loss: 0.7325 - val_loss: 0.7073\n",
            "Epoch 48/1000\n",
            "94/94 [==============================] - 1s 11ms/step - loss: 0.7345 - val_loss: 0.7191\n",
            "Epoch 49/1000\n",
            "94/94 [==============================] - 1s 11ms/step - loss: 0.7291 - val_loss: 0.7222\n",
            "Epoch 50/1000\n",
            "94/94 [==============================] - 1s 11ms/step - loss: 0.7278 - val_loss: 0.7180\n",
            "Epoch 51/1000\n",
            "94/94 [==============================] - 1s 11ms/step - loss: 0.7219 - val_loss: 0.7206\n",
            "Epoch 52/1000\n",
            "94/94 [==============================] - 1s 11ms/step - loss: 0.7290 - val_loss: 0.7426\n",
            "Epoch 53/1000\n",
            "94/94 [==============================] - 1s 11ms/step - loss: 0.7400 - val_loss: 0.7053\n",
            "Epoch 54/1000\n",
            "94/94 [==============================] - 1s 12ms/step - loss: 0.7291 - val_loss: 0.7089\n",
            "Epoch 55/1000\n",
            "94/94 [==============================] - 1s 12ms/step - loss: 0.7304 - val_loss: 0.6857\n",
            "Epoch 56/1000\n",
            "94/94 [==============================] - 1s 11ms/step - loss: 0.7316 - val_loss: 0.7305\n",
            "Epoch 57/1000\n",
            "94/94 [==============================] - 1s 11ms/step - loss: 0.7262 - val_loss: 0.7238\n",
            "Epoch 58/1000\n",
            "94/94 [==============================] - 1s 11ms/step - loss: 0.7277 - val_loss: 0.7111\n",
            "Epoch 59/1000\n",
            "94/94 [==============================] - 1s 11ms/step - loss: 0.7244 - val_loss: 0.7385\n",
            "Epoch 60/1000\n",
            "94/94 [==============================] - 1s 12ms/step - loss: 0.7233 - val_loss: 0.7073\n",
            "Epoch 61/1000\n",
            "94/94 [==============================] - 1s 12ms/step - loss: 0.7297 - val_loss: 0.7084\n",
            "Epoch 62/1000\n",
            "94/94 [==============================] - 1s 11ms/step - loss: 0.7280 - val_loss: 0.7173\n",
            "Epoch 63/1000\n",
            "94/94 [==============================] - 1s 11ms/step - loss: 0.7259 - val_loss: 0.7241\n",
            "Epoch 64/1000\n",
            "94/94 [==============================] - 1s 12ms/step - loss: 0.7249 - val_loss: 0.7164\n",
            "Epoch 65/1000\n",
            "94/94 [==============================] - 1s 11ms/step - loss: 0.7366 - val_loss: 0.7181\n",
            "Epoch 66/1000\n",
            "94/94 [==============================] - 1s 11ms/step - loss: 0.7259 - val_loss: 0.7161\n",
            "Epoch 67/1000\n",
            "94/94 [==============================] - 1s 11ms/step - loss: 0.7239 - val_loss: 0.6987\n",
            "Epoch 68/1000\n",
            "94/94 [==============================] - 1s 11ms/step - loss: 0.7290 - val_loss: 0.6955\n",
            "Epoch 69/1000\n",
            "94/94 [==============================] - 1s 11ms/step - loss: 0.7266 - val_loss: 0.7173\n",
            "Epoch 70/1000\n",
            "94/94 [==============================] - 1s 12ms/step - loss: 0.7231 - val_loss: 0.7087\n",
            "Epoch 71/1000\n",
            "94/94 [==============================] - 1s 11ms/step - loss: 0.7304 - val_loss: 0.7219\n",
            "Epoch 72/1000\n",
            "94/94 [==============================] - 1s 11ms/step - loss: 0.7234 - val_loss: 0.6896\n",
            "Epoch 73/1000\n",
            "94/94 [==============================] - 1s 12ms/step - loss: 0.7306 - val_loss: 0.7234\n",
            "Epoch 74/1000\n",
            "94/94 [==============================] - 1s 11ms/step - loss: 0.7148 - val_loss: 0.7365\n",
            "Epoch 75/1000\n",
            "94/94 [==============================] - 1s 11ms/step - loss: 0.7126 - val_loss: 0.7211\n",
            "Epoch 76/1000\n",
            "94/94 [==============================] - 1s 11ms/step - loss: 0.7176 - val_loss: 0.7043\n",
            "Epoch 77/1000\n",
            "94/94 [==============================] - 1s 12ms/step - loss: 0.7178 - val_loss: 0.7085\n",
            "Epoch 78/1000\n",
            "94/94 [==============================] - 1s 12ms/step - loss: 0.7161 - val_loss: 0.7055\n",
            "Epoch 79/1000\n",
            "94/94 [==============================] - 1s 11ms/step - loss: 0.7242 - val_loss: 0.7337\n",
            "Epoch 80/1000\n",
            "94/94 [==============================] - 1s 11ms/step - loss: 0.7277 - val_loss: 0.7243\n",
            "Epoch 81/1000\n",
            "94/94 [==============================] - 1s 11ms/step - loss: 0.7224 - val_loss: 0.7016\n",
            "Epoch 82/1000\n",
            "94/94 [==============================] - 1s 12ms/step - loss: 0.7147 - val_loss: 0.7036\n",
            "Epoch 83/1000\n",
            "94/94 [==============================] - 1s 11ms/step - loss: 0.7231 - val_loss: 0.6859\n",
            "Epoch 84/1000\n",
            "94/94 [==============================] - 1s 11ms/step - loss: 0.7231 - val_loss: 0.6974\n",
            "Epoch 85/1000\n",
            "94/94 [==============================] - 1s 12ms/step - loss: 0.7157 - val_loss: 0.6849\n",
            "Epoch 86/1000\n",
            "94/94 [==============================] - 1s 12ms/step - loss: 0.7190 - val_loss: 0.6924\n",
            "Epoch 87/1000\n",
            "94/94 [==============================] - 1s 12ms/step - loss: 0.7048 - val_loss: 0.6991\n",
            "Epoch 88/1000\n",
            "94/94 [==============================] - 1s 11ms/step - loss: 0.7085 - val_loss: 0.6971\n",
            "Epoch 89/1000\n",
            "94/94 [==============================] - 1s 11ms/step - loss: 0.7176 - val_loss: 0.7071\n",
            "Epoch 90/1000\n",
            "94/94 [==============================] - 1s 11ms/step - loss: 0.7167 - val_loss: 0.7023\n",
            "Epoch 91/1000\n",
            "94/94 [==============================] - 1s 12ms/step - loss: 0.7181 - val_loss: 0.6941\n",
            "Epoch 92/1000\n",
            "94/94 [==============================] - 1s 12ms/step - loss: 0.7266 - val_loss: 0.7040\n",
            "Epoch 93/1000\n",
            "94/94 [==============================] - 1s 12ms/step - loss: 0.7295 - val_loss: 0.7053\n",
            "Epoch 94/1000\n",
            "94/94 [==============================] - 1s 12ms/step - loss: 0.7124 - val_loss: 0.6859\n",
            "Epoch 95/1000\n",
            "94/94 [==============================] - 1s 12ms/step - loss: 0.7211 - val_loss: 0.6996\n",
            "Epoch 96/1000\n",
            "94/94 [==============================] - 1s 11ms/step - loss: 0.7131 - val_loss: 0.6861\n",
            "Epoch 97/1000\n",
            "94/94 [==============================] - 1s 11ms/step - loss: 0.7090 - val_loss: 0.6960\n",
            "Epoch 98/1000\n",
            "94/94 [==============================] - 1s 12ms/step - loss: 0.7238 - val_loss: 0.6947\n",
            "Epoch 99/1000\n",
            "94/94 [==============================] - 1s 11ms/step - loss: 0.7196 - val_loss: 0.7151\n",
            "Epoch 100/1000\n",
            "94/94 [==============================] - 1s 12ms/step - loss: 0.7126 - val_loss: 0.7085\n",
            "Epoch 101/1000\n",
            "94/94 [==============================] - 1s 11ms/step - loss: 0.7208 - val_loss: 0.7003\n",
            "Epoch 102/1000\n",
            "94/94 [==============================] - 1s 11ms/step - loss: 0.7204 - val_loss: 0.7003\n",
            "Epoch 103/1000\n",
            "94/94 [==============================] - 1s 11ms/step - loss: 0.7147 - val_loss: 0.6946\n",
            "Epoch 104/1000\n",
            "94/94 [==============================] - 1s 11ms/step - loss: 0.7155 - val_loss: 0.6682\n",
            "Epoch 105/1000\n",
            "94/94 [==============================] - 1s 11ms/step - loss: 0.7114 - val_loss: 0.6905\n",
            "Epoch 106/1000\n",
            "94/94 [==============================] - 1s 12ms/step - loss: 0.7131 - val_loss: 0.7029\n",
            "Epoch 107/1000\n",
            "94/94 [==============================] - 1s 12ms/step - loss: 0.7041 - val_loss: 0.7111\n",
            "Epoch 108/1000\n",
            "94/94 [==============================] - 1s 12ms/step - loss: 0.7111 - val_loss: 0.7387\n",
            "Epoch 109/1000\n",
            "94/94 [==============================] - 1s 12ms/step - loss: 0.7230 - val_loss: 0.7114\n",
            "Epoch 110/1000\n",
            "94/94 [==============================] - 1s 11ms/step - loss: 0.7083 - val_loss: 0.7009\n",
            "Epoch 111/1000\n",
            "94/94 [==============================] - 1s 11ms/step - loss: 0.7293 - val_loss: 0.7003\n",
            "Epoch 112/1000\n",
            "94/94 [==============================] - 1s 12ms/step - loss: 0.7144 - val_loss: 0.6954\n",
            "Epoch 113/1000\n",
            "94/94 [==============================] - 1s 12ms/step - loss: 0.7123 - val_loss: 0.6789\n",
            "Epoch 114/1000\n",
            "94/94 [==============================] - 1s 12ms/step - loss: 0.7095 - val_loss: 0.7053\n",
            "Epoch 115/1000\n",
            "94/94 [==============================] - 1s 12ms/step - loss: 0.7110 - val_loss: 0.6894\n",
            "Epoch 116/1000\n",
            "94/94 [==============================] - 1s 11ms/step - loss: 0.7181 - val_loss: 0.6794\n",
            "Epoch 117/1000\n",
            "94/94 [==============================] - 1s 11ms/step - loss: 0.7041 - val_loss: 0.6927\n",
            "Epoch 118/1000\n",
            "94/94 [==============================] - 1s 12ms/step - loss: 0.7115 - val_loss: 0.6879\n",
            "Epoch 119/1000\n",
            "94/94 [==============================] - 1s 12ms/step - loss: 0.7295 - val_loss: 0.7179\n",
            "Epoch 120/1000\n",
            "94/94 [==============================] - 1s 11ms/step - loss: 0.7182 - val_loss: 0.7180\n",
            "Epoch 121/1000\n",
            "94/94 [==============================] - 1s 11ms/step - loss: 0.7143 - val_loss: 0.6957\n",
            "Epoch 122/1000\n",
            "94/94 [==============================] - 1s 11ms/step - loss: 0.7084 - val_loss: 0.7038\n",
            "Epoch 123/1000\n",
            "94/94 [==============================] - 1s 11ms/step - loss: 0.7130 - val_loss: 0.7015\n",
            "Epoch 124/1000\n",
            "94/94 [==============================] - 1s 11ms/step - loss: 0.7086 - val_loss: 0.7102\n",
            "Epoch 125/1000\n",
            "94/94 [==============================] - 1s 11ms/step - loss: 0.7090 - val_loss: 0.7163\n",
            "Epoch 126/1000\n",
            "94/94 [==============================] - 1s 12ms/step - loss: 0.7034 - val_loss: 0.6819\n",
            "Epoch 127/1000\n",
            "94/94 [==============================] - 1s 12ms/step - loss: 0.7057 - val_loss: 0.6819\n",
            "Epoch 128/1000\n",
            "94/94 [==============================] - 1s 11ms/step - loss: 0.7095 - val_loss: 0.6924\n",
            "Epoch 129/1000\n",
            "94/94 [==============================] - 1s 11ms/step - loss: 0.7008 - val_loss: 0.7010\n",
            "Epoch 130/1000\n",
            "94/94 [==============================] - 1s 12ms/step - loss: 0.7212 - val_loss: 0.7040\n",
            "Epoch 131/1000\n",
            "94/94 [==============================] - 1s 12ms/step - loss: 0.6996 - val_loss: 0.6958\n",
            "Epoch 132/1000\n",
            "94/94 [==============================] - 1s 12ms/step - loss: 0.7062 - val_loss: 0.7188\n",
            "Epoch 133/1000\n",
            "94/94 [==============================] - 1s 11ms/step - loss: 0.7105 - val_loss: 0.6844\n",
            "Epoch 134/1000\n",
            "94/94 [==============================] - 1s 12ms/step - loss: 0.7080 - val_loss: 0.6826\n",
            "Epoch 135/1000\n",
            "94/94 [==============================] - 1s 12ms/step - loss: 0.7143 - val_loss: 0.7142\n",
            "Epoch 136/1000\n",
            "94/94 [==============================] - 1s 12ms/step - loss: 0.7100 - val_loss: 0.6724\n",
            "Epoch 137/1000\n",
            "94/94 [==============================] - 1s 11ms/step - loss: 0.7139 - val_loss: 0.7034\n",
            "Epoch 138/1000\n",
            "94/94 [==============================] - 1s 12ms/step - loss: 0.6991 - val_loss: 0.6859\n",
            "Epoch 139/1000\n",
            "94/94 [==============================] - 1s 11ms/step - loss: 0.7078 - val_loss: 0.6798\n",
            "Epoch 140/1000\n",
            "94/94 [==============================] - 1s 11ms/step - loss: 0.7044 - val_loss: 0.6991\n",
            "Epoch 141/1000\n",
            "94/94 [==============================] - 1s 12ms/step - loss: 0.7106 - val_loss: 0.7041\n",
            "Epoch 142/1000\n",
            "94/94 [==============================] - 1s 12ms/step - loss: 0.7082 - val_loss: 0.6874\n",
            "Epoch 143/1000\n",
            "94/94 [==============================] - 1s 12ms/step - loss: 0.7049 - val_loss: 0.6855\n",
            "Epoch 144/1000\n",
            "94/94 [==============================] - 1s 12ms/step - loss: 0.6991 - val_loss: 0.6999\n",
            "Epoch 145/1000\n",
            "94/94 [==============================] - 1s 11ms/step - loss: 0.7062 - val_loss: 0.6984\n",
            "Epoch 146/1000\n",
            "94/94 [==============================] - 1s 11ms/step - loss: 0.7033 - val_loss: 0.6923\n",
            "Epoch 147/1000\n",
            "94/94 [==============================] - 1s 11ms/step - loss: 0.7057 - val_loss: 0.6903\n",
            "Epoch 148/1000\n",
            "94/94 [==============================] - 1s 11ms/step - loss: 0.7012 - val_loss: 0.6877\n",
            "Epoch 149/1000\n",
            "94/94 [==============================] - 1s 11ms/step - loss: 0.6983 - val_loss: 0.6848\n",
            "Epoch 150/1000\n",
            "94/94 [==============================] - 1s 11ms/step - loss: 0.7068 - val_loss: 0.6653\n",
            "Epoch 151/1000\n",
            "94/94 [==============================] - 1s 12ms/step - loss: 0.7085 - val_loss: 0.6936\n",
            "Epoch 152/1000\n",
            "94/94 [==============================] - 1s 12ms/step - loss: 0.7087 - val_loss: 0.6881\n",
            "Epoch 153/1000\n",
            "94/94 [==============================] - 1s 12ms/step - loss: 0.6990 - val_loss: 0.6885\n",
            "Epoch 154/1000\n",
            "94/94 [==============================] - 1s 11ms/step - loss: 0.7043 - val_loss: 0.6797\n",
            "Epoch 155/1000\n",
            "94/94 [==============================] - 1s 11ms/step - loss: 0.7128 - val_loss: 0.6665\n",
            "Epoch 156/1000\n",
            "94/94 [==============================] - 1s 11ms/step - loss: 0.7109 - val_loss: 0.6635\n",
            "Epoch 157/1000\n",
            "94/94 [==============================] - 1s 11ms/step - loss: 0.7028 - val_loss: 0.6648\n",
            "Epoch 158/1000\n",
            "94/94 [==============================] - 1s 11ms/step - loss: 0.6960 - val_loss: 0.6895\n",
            "Epoch 159/1000\n",
            "94/94 [==============================] - 1s 11ms/step - loss: 0.7103 - val_loss: 0.6975\n",
            "Epoch 160/1000\n",
            "94/94 [==============================] - 1s 12ms/step - loss: 0.7004 - val_loss: 0.6854\n",
            "Epoch 161/1000\n",
            "94/94 [==============================] - 1s 12ms/step - loss: 0.7049 - val_loss: 0.6955\n",
            "Epoch 162/1000\n",
            "94/94 [==============================] - 1s 12ms/step - loss: 0.6961 - val_loss: 0.7094\n",
            "Epoch 163/1000\n",
            "94/94 [==============================] - 1s 11ms/step - loss: 0.6917 - val_loss: 0.6867\n",
            "Epoch 164/1000\n",
            "94/94 [==============================] - 1s 11ms/step - loss: 0.7011 - val_loss: 0.6823\n",
            "Epoch 165/1000\n",
            "94/94 [==============================] - 1s 11ms/step - loss: 0.7015 - val_loss: 0.6696\n",
            "Epoch 166/1000\n",
            "94/94 [==============================] - 1s 12ms/step - loss: 0.6979 - val_loss: 0.6978\n",
            "Epoch 167/1000\n",
            "94/94 [==============================] - 1s 12ms/step - loss: 0.7151 - val_loss: 0.6874\n",
            "Epoch 168/1000\n",
            "94/94 [==============================] - 1s 12ms/step - loss: 0.7168 - val_loss: 0.6920\n",
            "Epoch 169/1000\n",
            "94/94 [==============================] - 1s 12ms/step - loss: 0.7050 - val_loss: 0.6945\n",
            "Epoch 170/1000\n",
            "94/94 [==============================] - 1s 12ms/step - loss: 0.7021 - val_loss: 0.6984\n",
            "Epoch 171/1000\n",
            "94/94 [==============================] - 1s 11ms/step - loss: 0.7006 - val_loss: 0.7011\n",
            "Epoch 172/1000\n",
            "94/94 [==============================] - 1s 12ms/step - loss: 0.7048 - val_loss: 0.6920\n",
            "Epoch 173/1000\n",
            "94/94 [==============================] - 1s 12ms/step - loss: 0.7276 - val_loss: 0.7068\n",
            "Epoch 174/1000\n",
            "94/94 [==============================] - 1s 11ms/step - loss: 0.7017 - val_loss: 0.6769\n",
            "Epoch 175/1000\n",
            "94/94 [==============================] - 1s 11ms/step - loss: 0.6976 - val_loss: 0.7089\n",
            "Epoch 176/1000\n",
            "94/94 [==============================] - 1s 12ms/step - loss: 0.7052 - val_loss: 0.6958\n",
            "Epoch 177/1000\n",
            "94/94 [==============================] - 1s 12ms/step - loss: 0.6947 - val_loss: 0.6864\n",
            "Epoch 178/1000\n",
            "94/94 [==============================] - 1s 11ms/step - loss: 0.6926 - val_loss: 0.6833\n",
            "Epoch 179/1000\n",
            "94/94 [==============================] - 1s 12ms/step - loss: 0.7104 - val_loss: 0.6743\n",
            "Epoch 180/1000\n",
            "94/94 [==============================] - 1s 12ms/step - loss: 0.7064 - val_loss: 0.6835\n",
            "Epoch 181/1000\n",
            "94/94 [==============================] - 1s 11ms/step - loss: 0.6971 - val_loss: 0.6679\n",
            "Epoch 182/1000\n",
            "94/94 [==============================] - 1s 11ms/step - loss: 0.7017 - val_loss: 0.6937\n",
            "Epoch 183/1000\n",
            "94/94 [==============================] - 1s 12ms/step - loss: 0.7043 - val_loss: 0.6809\n",
            "Epoch 184/1000\n",
            "94/94 [==============================] - 1s 11ms/step - loss: 0.6976 - val_loss: 0.6821\n",
            "Epoch 185/1000\n",
            "94/94 [==============================] - 1s 12ms/step - loss: 0.7007 - val_loss: 0.7078\n",
            "Epoch 186/1000\n",
            "94/94 [==============================] - 1s 12ms/step - loss: 0.7257 - val_loss: 0.7166\n",
            "Epoch 187/1000\n",
            "94/94 [==============================] - 1s 11ms/step - loss: 0.6988 - val_loss: 0.6866\n",
            "Epoch 188/1000\n",
            "94/94 [==============================] - 1s 12ms/step - loss: 0.6995 - val_loss: 0.6905\n",
            "Epoch 189/1000\n",
            "94/94 [==============================] - 1s 12ms/step - loss: 0.6994 - val_loss: 0.6732\n",
            "Epoch 190/1000\n",
            "94/94 [==============================] - 1s 11ms/step - loss: 0.6928 - val_loss: 0.6989\n",
            "Epoch 191/1000\n",
            "94/94 [==============================] - 1s 12ms/step - loss: 0.6976 - val_loss: 0.6447\n",
            "Epoch 192/1000\n",
            "94/94 [==============================] - 1s 12ms/step - loss: 0.6899 - val_loss: 0.7006\n",
            "Epoch 193/1000\n",
            "94/94 [==============================] - 1s 11ms/step - loss: 0.7092 - val_loss: 0.6661\n",
            "Epoch 194/1000\n",
            "94/94 [==============================] - 1s 12ms/step - loss: 0.6999 - val_loss: 0.6770\n",
            "Epoch 195/1000\n",
            "94/94 [==============================] - 1s 12ms/step - loss: 0.6934 - val_loss: 0.6526\n",
            "Epoch 196/1000\n",
            "94/94 [==============================] - 1s 12ms/step - loss: 0.6998 - val_loss: 0.6730\n",
            "Epoch 197/1000\n",
            "94/94 [==============================] - 1s 12ms/step - loss: 0.7078 - val_loss: 0.6858\n",
            "Epoch 198/1000\n",
            "94/94 [==============================] - 1s 12ms/step - loss: 0.7113 - val_loss: 0.6662\n",
            "Epoch 199/1000\n",
            "94/94 [==============================] - 1s 11ms/step - loss: 0.7063 - val_loss: 0.6968\n",
            "Epoch 200/1000\n",
            "94/94 [==============================] - 1s 11ms/step - loss: 0.6961 - val_loss: 0.7071\n",
            "Epoch 201/1000\n",
            "94/94 [==============================] - 1s 11ms/step - loss: 0.7109 - val_loss: 0.6954\n",
            "Epoch 202/1000\n",
            "94/94 [==============================] - 1s 11ms/step - loss: 0.7023 - val_loss: 0.6938\n",
            "Epoch 203/1000\n",
            "94/94 [==============================] - 1s 12ms/step - loss: 0.6933 - val_loss: 0.6542\n",
            "Epoch 204/1000\n",
            "94/94 [==============================] - 1s 12ms/step - loss: 0.7026 - val_loss: 0.6711\n",
            "Epoch 205/1000\n",
            "94/94 [==============================] - 1s 12ms/step - loss: 0.6866 - val_loss: 0.6808\n",
            "Epoch 206/1000\n",
            "94/94 [==============================] - 1s 12ms/step - loss: 0.7028 - val_loss: 0.6807\n",
            "Epoch 207/1000\n",
            "94/94 [==============================] - 1s 12ms/step - loss: 0.7042 - val_loss: 0.6781\n",
            "Epoch 208/1000\n",
            "94/94 [==============================] - 1s 12ms/step - loss: 0.6987 - val_loss: 0.6687\n",
            "Epoch 209/1000\n",
            "94/94 [==============================] - 1s 12ms/step - loss: 0.6984 - val_loss: 0.6728\n",
            "Epoch 210/1000\n",
            "94/94 [==============================] - 1s 12ms/step - loss: 0.6936 - val_loss: 0.6797\n",
            "Epoch 211/1000\n",
            "94/94 [==============================] - 1s 12ms/step - loss: 0.6976 - val_loss: 0.6949\n",
            "Epoch 212/1000\n",
            "94/94 [==============================] - 1s 12ms/step - loss: 0.6896 - val_loss: 0.6700\n",
            "Epoch 213/1000\n",
            "94/94 [==============================] - 1s 12ms/step - loss: 0.6978 - val_loss: 0.6825\n",
            "Epoch 214/1000\n",
            "94/94 [==============================] - 1s 12ms/step - loss: 0.7019 - val_loss: 0.6960\n",
            "Epoch 215/1000\n",
            "94/94 [==============================] - 1s 12ms/step - loss: 0.7018 - val_loss: 0.7038\n",
            "Epoch 216/1000\n",
            "94/94 [==============================] - 1s 12ms/step - loss: 0.6982 - val_loss: 0.6984\n",
            "Epoch 217/1000\n",
            "94/94 [==============================] - 1s 12ms/step - loss: 0.6934 - val_loss: 0.6835\n",
            "Epoch 218/1000\n",
            "94/94 [==============================] - 1s 12ms/step - loss: 0.6889 - val_loss: 0.7009\n",
            "Epoch 219/1000\n",
            "94/94 [==============================] - 1s 12ms/step - loss: 0.7024 - val_loss: 0.6737\n",
            "Epoch 220/1000\n",
            "94/94 [==============================] - 1s 12ms/step - loss: 0.6953 - val_loss: 0.6595\n",
            "Epoch 221/1000\n",
            "94/94 [==============================] - 1s 12ms/step - loss: 0.6993 - val_loss: 0.6706\n",
            "Epoch 222/1000\n",
            "94/94 [==============================] - 1s 12ms/step - loss: 0.6981 - val_loss: 0.6828\n",
            "Epoch 223/1000\n",
            "94/94 [==============================] - 1s 12ms/step - loss: 0.7025 - val_loss: 0.7099\n",
            "Epoch 224/1000\n",
            "94/94 [==============================] - 1s 12ms/step - loss: 0.6943 - val_loss: 0.6885\n",
            "Epoch 225/1000\n",
            "94/94 [==============================] - 1s 12ms/step - loss: 0.6909 - val_loss: 0.6803\n",
            "Epoch 226/1000\n",
            "94/94 [==============================] - 1s 11ms/step - loss: 0.6941 - val_loss: 0.6876\n",
            "Epoch 227/1000\n",
            "94/94 [==============================] - 1s 11ms/step - loss: 0.6979 - val_loss: 0.6886\n",
            "Epoch 228/1000\n",
            "94/94 [==============================] - 1s 12ms/step - loss: 0.6976 - val_loss: 0.6975\n",
            "Epoch 229/1000\n",
            "94/94 [==============================] - 1s 12ms/step - loss: 0.6912 - val_loss: 0.6825\n",
            "Epoch 230/1000\n",
            "94/94 [==============================] - 1s 12ms/step - loss: 0.7021 - val_loss: 0.6803\n",
            "Epoch 231/1000\n",
            "94/94 [==============================] - 1s 12ms/step - loss: 0.7001 - val_loss: 0.6786\n",
            "Epoch 232/1000\n",
            "94/94 [==============================] - 1s 12ms/step - loss: 0.6927 - val_loss: 0.6683\n",
            "Epoch 233/1000\n",
            "94/94 [==============================] - 1s 12ms/step - loss: 0.6977 - val_loss: 0.6856\n",
            "Epoch 234/1000\n",
            "94/94 [==============================] - 1s 12ms/step - loss: 0.6931 - val_loss: 0.6648\n",
            "Epoch 235/1000\n",
            "94/94 [==============================] - 1s 11ms/step - loss: 0.6999 - val_loss: 0.6744\n",
            "Epoch 236/1000\n",
            "94/94 [==============================] - 1s 12ms/step - loss: 0.7119 - val_loss: 0.6927\n",
            "Epoch 237/1000\n",
            "94/94 [==============================] - 1s 12ms/step - loss: 0.7058 - val_loss: 0.6828\n",
            "Epoch 238/1000\n",
            "94/94 [==============================] - 1s 11ms/step - loss: 0.6896 - val_loss: 0.6726\n",
            "Epoch 239/1000\n",
            "94/94 [==============================] - 1s 12ms/step - loss: 0.6929 - val_loss: 0.6692\n",
            "Epoch 240/1000\n",
            "94/94 [==============================] - 1s 12ms/step - loss: 0.7160 - val_loss: 0.6911\n",
            "Epoch 241/1000\n",
            "94/94 [==============================] - 1s 12ms/step - loss: 0.6930 - val_loss: 0.7111\n",
            "Epoch 242/1000\n",
            "94/94 [==============================] - 1s 12ms/step - loss: 0.6990 - val_loss: 0.6733\n",
            "Epoch 243/1000\n",
            "94/94 [==============================] - 1s 12ms/step - loss: 0.6991 - val_loss: 0.6879\n",
            "Epoch 244/1000\n",
            "94/94 [==============================] - 1s 11ms/step - loss: 0.7135 - val_loss: 0.6526\n",
            "Epoch 245/1000\n",
            "94/94 [==============================] - 1s 12ms/step - loss: 0.7001 - val_loss: 0.6787\n",
            "Epoch 246/1000\n",
            "94/94 [==============================] - 1s 11ms/step - loss: 0.6845 - val_loss: 0.6958\n",
            "Epoch 247/1000\n",
            "94/94 [==============================] - 1s 12ms/step - loss: 0.6890 - val_loss: 0.6854\n",
            "Epoch 248/1000\n",
            "94/94 [==============================] - 1s 12ms/step - loss: 0.6981 - val_loss: 0.6917\n",
            "Epoch 249/1000\n",
            "94/94 [==============================] - 1s 11ms/step - loss: 0.6947 - val_loss: 0.6764\n",
            "Epoch 250/1000\n",
            "94/94 [==============================] - 1s 12ms/step - loss: 0.6858 - val_loss: 0.6723\n",
            "Epoch 251/1000\n",
            "94/94 [==============================] - 1s 12ms/step - loss: 0.7070 - val_loss: 0.6983\n",
            "Epoch 252/1000\n",
            "94/94 [==============================] - 1s 12ms/step - loss: 0.6933 - val_loss: 0.6571\n",
            "Epoch 253/1000\n",
            "94/94 [==============================] - 1s 12ms/step - loss: 0.6959 - val_loss: 0.6716\n",
            "Epoch 254/1000\n",
            "94/94 [==============================] - 1s 11ms/step - loss: 0.6921 - val_loss: 0.6987\n",
            "Epoch 255/1000\n",
            "94/94 [==============================] - 1s 11ms/step - loss: 0.6936 - val_loss: 0.6828\n",
            "Epoch 256/1000\n",
            "94/94 [==============================] - 1s 12ms/step - loss: 0.6999 - val_loss: 0.6825\n",
            "Epoch 257/1000\n",
            "94/94 [==============================] - 1s 12ms/step - loss: 0.6851 - val_loss: 0.6910\n",
            "Epoch 258/1000\n",
            "94/94 [==============================] - 1s 12ms/step - loss: 0.6994 - val_loss: 0.6676\n",
            "Epoch 259/1000\n",
            "94/94 [==============================] - 1s 12ms/step - loss: 0.6945 - val_loss: 0.6702\n",
            "Epoch 260/1000\n",
            "94/94 [==============================] - 1s 13ms/step - loss: 0.6951 - val_loss: 0.6891\n",
            "Epoch 261/1000\n",
            "94/94 [==============================] - 1s 12ms/step - loss: 0.6981 - val_loss: 0.6535\n",
            "Epoch 262/1000\n",
            "94/94 [==============================] - 1s 12ms/step - loss: 0.6910 - val_loss: 0.6723\n",
            "Epoch 263/1000\n",
            "94/94 [==============================] - 1s 12ms/step - loss: 0.7023 - val_loss: 0.6635\n",
            "Epoch 264/1000\n",
            "94/94 [==============================] - 1s 12ms/step - loss: 0.6994 - val_loss: 0.6719\n",
            "Epoch 265/1000\n",
            "94/94 [==============================] - 1s 13ms/step - loss: 0.6910 - val_loss: 0.6749\n",
            "Epoch 266/1000\n",
            "94/94 [==============================] - 1s 12ms/step - loss: 0.6956 - val_loss: 0.6494\n",
            "Epoch 267/1000\n",
            "94/94 [==============================] - 1s 13ms/step - loss: 0.6888 - val_loss: 0.6860\n",
            "Epoch 268/1000\n",
            "94/94 [==============================] - 1s 13ms/step - loss: 0.6894 - val_loss: 0.6826\n",
            "Epoch 269/1000\n",
            "94/94 [==============================] - 1s 12ms/step - loss: 0.6936 - val_loss: 0.6782\n",
            "Epoch 270/1000\n",
            "94/94 [==============================] - 1s 12ms/step - loss: 0.6808 - val_loss: 0.6777\n",
            "Epoch 271/1000\n",
            "94/94 [==============================] - 1s 12ms/step - loss: 0.6977 - val_loss: 0.6978\n",
            "Epoch 272/1000\n",
            "94/94 [==============================] - 1s 12ms/step - loss: 0.6954 - val_loss: 0.6569\n",
            "Epoch 273/1000\n",
            "94/94 [==============================] - 1s 12ms/step - loss: 0.6950 - val_loss: 0.6690\n",
            "Epoch 274/1000\n",
            "94/94 [==============================] - 1s 12ms/step - loss: 0.6891 - val_loss: 0.6474\n",
            "Epoch 275/1000\n",
            "94/94 [==============================] - 1s 12ms/step - loss: 0.6873 - val_loss: 0.6894\n",
            "Epoch 276/1000\n",
            "94/94 [==============================] - 1s 12ms/step - loss: 0.7032 - val_loss: 0.6720\n",
            "Epoch 277/1000\n",
            "94/94 [==============================] - 1s 12ms/step - loss: 0.6942 - val_loss: 0.6804\n",
            "Epoch 278/1000\n",
            "94/94 [==============================] - 1s 12ms/step - loss: 0.6988 - val_loss: 0.6967\n",
            "Epoch 279/1000\n",
            "94/94 [==============================] - 1s 12ms/step - loss: 0.7128 - val_loss: 0.6821\n",
            "Epoch 280/1000\n",
            "94/94 [==============================] - 1s 12ms/step - loss: 0.6891 - val_loss: 0.6583\n",
            "Epoch 281/1000\n",
            "94/94 [==============================] - 1s 12ms/step - loss: 0.6849 - val_loss: 0.6896\n",
            "Epoch 282/1000\n",
            "94/94 [==============================] - 1s 11ms/step - loss: 0.7046 - val_loss: 0.6784\n",
            "Epoch 283/1000\n",
            "94/94 [==============================] - 1s 12ms/step - loss: 0.6944 - val_loss: 0.6648\n",
            "Epoch 284/1000\n",
            "94/94 [==============================] - 1s 12ms/step - loss: 0.6932 - val_loss: 0.6930\n",
            "Epoch 285/1000\n",
            "94/94 [==============================] - 1s 12ms/step - loss: 0.6879 - val_loss: 0.6594\n",
            "Epoch 286/1000\n",
            "94/94 [==============================] - 1s 11ms/step - loss: 0.6995 - val_loss: 0.6654\n",
            "Epoch 287/1000\n",
            "94/94 [==============================] - 1s 12ms/step - loss: 0.6945 - val_loss: 0.6946\n",
            "Epoch 288/1000\n",
            "94/94 [==============================] - 1s 12ms/step - loss: 0.6853 - val_loss: 0.6704\n",
            "Epoch 289/1000\n",
            "94/94 [==============================] - 1s 12ms/step - loss: 0.7089 - val_loss: 0.6929\n",
            "Epoch 290/1000\n",
            "94/94 [==============================] - 1s 12ms/step - loss: 0.7141 - val_loss: 0.6740\n",
            "Epoch 291/1000\n",
            "94/94 [==============================] - 1s 12ms/step - loss: 0.7035 - val_loss: 0.6905\n",
            "Epoch 00291: early stopping\n"
          ],
          "name": "stdout"
        }
      ]
    },
    {
      "cell_type": "code",
      "metadata": {
        "colab": {
          "base_uri": "https://localhost:8080/",
          "height": 283
        },
        "id": "M1tC1qcYtrkk",
        "outputId": "66efe6ae-424f-4517-e81d-40dae4db34fb"
      },
      "source": [
        "plt.plot(history.history['val_loss'])"
      ],
      "execution_count": 729,
      "outputs": [
        {
          "output_type": "execute_result",
          "data": {
            "text/plain": [
              "[<matplotlib.lines.Line2D at 0x7fcb720d4c50>]"
            ]
          },
          "metadata": {
            "tags": []
          },
          "execution_count": 729
        },
        {
          "output_type": "display_data",
          "data": {
            "image/png": "[encoded data removed]",
            "text/plain": [
              "<Figure size 432x288 with 1 Axes>"
            ]
          },
          "metadata": {
            "tags": [],
            "needs_background": "light"
          }
        }
      ]
    },
    {
      "cell_type": "code",
      "metadata": {
        "id": "Xzd20AxsTPqm"
      },
      "source": [
        "saved_model = tf.keras.models.load_model(PATH+'/model/wide_deep.h5')"
      ],
      "execution_count": 730,
      "outputs": []
    },
    {
      "cell_type": "code",
      "metadata": {
        "id": "7yB1lZlfXRNN"
      },
      "source": [
        "submission = pd.read_csv(PATH+'/dataset/sample_submission.csv')"
      ],
      "execution_count": 731,
      "outputs": []
    },
    {
      "cell_type": "code",
      "metadata": {
        "id": "L1VThrg4XeD_"
      },
      "source": [
        "submission.iloc[:,1:] = saved_model.predict(test_dataset)"
      ],
      "execution_count": 735,
      "outputs": []
    },
    {
      "cell_type": "code",
      "metadata": {
        "colab": {
          "base_uri": "https://localhost:8080/",
          "height": 669
        },
        "id": "glBD0mmNaN8F",
        "outputId": "e9af347a-7844-4359-fb16-3acbed208aa3"
      },
      "source": [
        "submission.head(20)"
      ],
      "execution_count": 736,
      "outputs": [
        {
          "output_type": "execute_result",
          "data": {
            "text/html": [
              "<div>\n",
              "<style scoped>\n",
              "    .dataframe tbody tr th:only-of-type {\n",
              "        vertical-align: middle;\n",
              "    }\n",
              "\n",
              "    .dataframe tbody tr th {\n",
              "        vertical-align: top;\n",
              "    }\n",
              "\n",
              "    .dataframe thead th {\n",
              "        text-align: right;\n",
              "    }\n",
              "</style>\n",
              "<table border=\"1\" class=\"dataframe\">\n",
              "  <thead>\n",
              "    <tr style=\"text-align: right;\">\n",
              "      <th></th>\n",
              "      <th>index</th>\n",
              "      <th>0</th>\n",
              "      <th>1</th>\n",
              "      <th>2</th>\n",
              "    </tr>\n",
              "  </thead>\n",
              "  <tbody>\n",
              "    <tr>\n",
              "      <th>0</th>\n",
              "      <td>26457</td>\n",
              "      <td>5.802666e-02</td>\n",
              "      <td>8.018202e-02</td>\n",
              "      <td>0.861791</td>\n",
              "    </tr>\n",
              "    <tr>\n",
              "      <th>1</th>\n",
              "      <td>26458</td>\n",
              "      <td>4.024419e-02</td>\n",
              "      <td>3.384508e-02</td>\n",
              "      <td>0.925911</td>\n",
              "    </tr>\n",
              "    <tr>\n",
              "      <th>2</th>\n",
              "      <td>26459</td>\n",
              "      <td>1.405869e-01</td>\n",
              "      <td>1.648751e-01</td>\n",
              "      <td>0.694538</td>\n",
              "    </tr>\n",
              "    <tr>\n",
              "      <th>3</th>\n",
              "      <td>26460</td>\n",
              "      <td>1.296501e-01</td>\n",
              "      <td>1.374746e-01</td>\n",
              "      <td>0.732875</td>\n",
              "    </tr>\n",
              "    <tr>\n",
              "      <th>4</th>\n",
              "      <td>26461</td>\n",
              "      <td>2.760883e-02</td>\n",
              "      <td>1.055642e-01</td>\n",
              "      <td>0.866827</td>\n",
              "    </tr>\n",
              "    <tr>\n",
              "      <th>5</th>\n",
              "      <td>26462</td>\n",
              "      <td>5.673752e-02</td>\n",
              "      <td>1.077523e-01</td>\n",
              "      <td>0.835510</td>\n",
              "    </tr>\n",
              "    <tr>\n",
              "      <th>6</th>\n",
              "      <td>26463</td>\n",
              "      <td>3.536673e-01</td>\n",
              "      <td>6.455706e-01</td>\n",
              "      <td>0.000762</td>\n",
              "    </tr>\n",
              "    <tr>\n",
              "      <th>7</th>\n",
              "      <td>26464</td>\n",
              "      <td>1.104691e-01</td>\n",
              "      <td>1.948309e-01</td>\n",
              "      <td>0.694700</td>\n",
              "    </tr>\n",
              "    <tr>\n",
              "      <th>8</th>\n",
              "      <td>26465</td>\n",
              "      <td>7.400550e-02</td>\n",
              "      <td>2.069490e-01</td>\n",
              "      <td>0.719045</td>\n",
              "    </tr>\n",
              "    <tr>\n",
              "      <th>9</th>\n",
              "      <td>26466</td>\n",
              "      <td>2.590980e-01</td>\n",
              "      <td>3.224090e-01</td>\n",
              "      <td>0.418493</td>\n",
              "    </tr>\n",
              "    <tr>\n",
              "      <th>10</th>\n",
              "      <td>26467</td>\n",
              "      <td>9.462837e-02</td>\n",
              "      <td>1.307259e-01</td>\n",
              "      <td>0.774646</td>\n",
              "    </tr>\n",
              "    <tr>\n",
              "      <th>11</th>\n",
              "      <td>26468</td>\n",
              "      <td>8.245912e-02</td>\n",
              "      <td>1.036331e-01</td>\n",
              "      <td>0.813908</td>\n",
              "    </tr>\n",
              "    <tr>\n",
              "      <th>12</th>\n",
              "      <td>26469</td>\n",
              "      <td>4.303205e-01</td>\n",
              "      <td>5.432333e-01</td>\n",
              "      <td>0.026446</td>\n",
              "    </tr>\n",
              "    <tr>\n",
              "      <th>13</th>\n",
              "      <td>26470</td>\n",
              "      <td>9.987484e-02</td>\n",
              "      <td>1.167032e-01</td>\n",
              "      <td>0.783422</td>\n",
              "    </tr>\n",
              "    <tr>\n",
              "      <th>14</th>\n",
              "      <td>26471</td>\n",
              "      <td>1.016738e-01</td>\n",
              "      <td>2.371932e-01</td>\n",
              "      <td>0.661133</td>\n",
              "    </tr>\n",
              "    <tr>\n",
              "      <th>15</th>\n",
              "      <td>26472</td>\n",
              "      <td>7.491301e-02</td>\n",
              "      <td>7.468134e-02</td>\n",
              "      <td>0.850406</td>\n",
              "    </tr>\n",
              "    <tr>\n",
              "      <th>16</th>\n",
              "      <td>26473</td>\n",
              "      <td>1.364940e-01</td>\n",
              "      <td>2.662933e-01</td>\n",
              "      <td>0.597213</td>\n",
              "    </tr>\n",
              "    <tr>\n",
              "      <th>17</th>\n",
              "      <td>26474</td>\n",
              "      <td>3.243243e-01</td>\n",
              "      <td>6.754929e-01</td>\n",
              "      <td>0.000183</td>\n",
              "    </tr>\n",
              "    <tr>\n",
              "      <th>18</th>\n",
              "      <td>26475</td>\n",
              "      <td>3.489848e-01</td>\n",
              "      <td>3.346305e-01</td>\n",
              "      <td>0.316385</td>\n",
              "    </tr>\n",
              "    <tr>\n",
              "      <th>19</th>\n",
              "      <td>26476</td>\n",
              "      <td>1.048041e-12</td>\n",
              "      <td>8.766863e-14</td>\n",
              "      <td>1.000000</td>\n",
              "    </tr>\n",
              "  </tbody>\n",
              "</table>\n",
              "</div>"
            ],
            "text/plain": [
              "    index             0             1         2\n",
              "0   26457  5.802666e-02  8.018202e-02  0.861791\n",
              "1   26458  4.024419e-02  3.384508e-02  0.925911\n",
              "2   26459  1.405869e-01  1.648751e-01  0.694538\n",
              "3   26460  1.296501e-01  1.374746e-01  0.732875\n",
              "4   26461  2.760883e-02  1.055642e-01  0.866827\n",
              "5   26462  5.673752e-02  1.077523e-01  0.835510\n",
              "6   26463  3.536673e-01  6.455706e-01  0.000762\n",
              "7   26464  1.104691e-01  1.948309e-01  0.694700\n",
              "8   26465  7.400550e-02  2.069490e-01  0.719045\n",
              "9   26466  2.590980e-01  3.224090e-01  0.418493\n",
              "10  26467  9.462837e-02  1.307259e-01  0.774646\n",
              "11  26468  8.245912e-02  1.036331e-01  0.813908\n",
              "12  26469  4.303205e-01  5.432333e-01  0.026446\n",
              "13  26470  9.987484e-02  1.167032e-01  0.783422\n",
              "14  26471  1.016738e-01  2.371932e-01  0.661133\n",
              "15  26472  7.491301e-02  7.468134e-02  0.850406\n",
              "16  26473  1.364940e-01  2.662933e-01  0.597213\n",
              "17  26474  3.243243e-01  6.754929e-01  0.000183\n",
              "18  26475  3.489848e-01  3.346305e-01  0.316385\n",
              "19  26476  1.048041e-12  8.766863e-14  1.000000"
            ]
          },
          "metadata": {
            "tags": []
          },
          "execution_count": 736
        }
      ]
    },
    {
      "cell_type": "code",
      "metadata": {
        "id": "ytw_oizaXndc"
      },
      "source": [
        "submission.to_csv(PATH+'/result/wide-deep3.csv',index=False)"
      ],
      "execution_count": 737,
      "outputs": []
    },
    {
      "cell_type": "code",
      "metadata": {
        "id": "aeBsXRMRX2J5"
      },
      "source": [
        ""
      ],
      "execution_count": null,
      "outputs": []
    }
  ]
}