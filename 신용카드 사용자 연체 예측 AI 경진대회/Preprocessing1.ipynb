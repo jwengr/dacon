{
  "nbformat": 4,
  "nbformat_minor": 0,
  "metadata": {
    "colab": {
      "name": "Preprocessing1.ipynb",
      "provenance": [],
      "mount_file_id": "1cW-WSeu6y_wCTwrsoDT8uU4l0eV_iJCR",
      "authorship_tag": "ABX9TyOONbVO1mO4HsYEdbvW3BLh",
      "include_colab_link": true
    },
    "kernelspec": {
      "name": "python3",
      "display_name": "Python 3"
    },
    "language_info": {
      "name": "python"
    },
    "accelerator": "GPU"
  },
  "cells": [
    {
      "cell_type": "markdown",
      "metadata": {
        "id": "view-in-github",
        "colab_type": "text"
      },
      "source": [
        "<a href=\"https://colab.research.google.com/github/jwengr/dacon/blob/main/%EC%8B%A0%EC%9A%A9%EC%B9%B4%EB%93%9C%20%EC%82%AC%EC%9A%A9%EC%9E%90%20%EC%97%B0%EC%B2%B4%20%EC%98%88%EC%B8%A1%20AI%20%EA%B2%BD%EC%A7%84%EB%8C%80%ED%9A%8C/Preprocessing1.ipynb\" target=\"_parent\"><img src=\"https://colab.research.google.com/assets/colab-badge.svg\" alt=\"Open In Colab\"/></a>"
      ]
    },
    {
      "cell_type": "code",
      "metadata": {
        "id": "0AiD9a6ovTlc"
      },
      "source": [
        "from sklearn.metrics import log_loss\n",
        "from sklearn.preprocessing import MinMaxScaler, RobustScaler\n",
        "from sklearn.model_selection import StratifiedKFold, GridSearchCV\n",
        "from sklearn.manifold import TSNE\n",
        "\n",
        "import pandas as pd\n",
        "import numpy as np\n",
        "import pickle\n",
        "import os, sys\n",
        "import matplotlib.pyplot as plt\n",
        "import scipy.stats as stats"
      ],
      "execution_count": 232,
      "outputs": []
    },
    {
      "cell_type": "code",
      "metadata": {
        "id": "pZh70UAtvf0i"
      },
      "source": [
        "PATH = 'drive/My Drive/dacon/credit'"
      ],
      "execution_count": 188,
      "outputs": []
    },
    {
      "cell_type": "code",
      "metadata": {
        "id": "gnrumhLHvini"
      },
      "source": [
        "train_df = pd.read_csv(PATH+'/dataset/train.csv')"
      ],
      "execution_count": 189,
      "outputs": []
    },
    {
      "cell_type": "markdown",
      "metadata": {
        "id": "WzZ1WqsWiS-P"
      },
      "source": [
        "## Make Function"
      ]
    },
    {
      "cell_type": "code",
      "metadata": {
        "id": "LIvQE6G47ssG"
      },
      "source": [
        "def log(df):\n",
        "    result = np.log(np.abs(df)+1)\n",
        "    return pd.DataFrame(result,columns=df.columns)"
      ],
      "execution_count": 245,
      "outputs": []
    },
    {
      "cell_type": "code",
      "metadata": {
        "id": "dmwbExdc7xxo"
      },
      "source": [
        "def minmax(df):\n",
        "    result = MinMaxScaler().fit_transform(df)\n",
        "    return pd.DataFrame(result,columns=df.columns)"
      ],
      "execution_count": 191,
      "outputs": []
    },
    {
      "cell_type": "code",
      "metadata": {
        "id": "gXP3u581KK0D"
      },
      "source": [
        "def t(df,n):\n",
        "    result = np.reshape(stats.t(n).pdf(df),(-1,1))\n",
        "    return pd.DataFrame(result,columns=df.columns)"
      ],
      "execution_count": 192,
      "outputs": []
    },
    {
      "cell_type": "code",
      "metadata": {
        "id": "o8vsScoY7i50"
      },
      "source": [
        "def robust(df,i,j):\n",
        "    result = RobustScaler(quantile_range=(i, j)).fit_transform(df)\n",
        "    return pd.DataFrame(result,columns=df.columns)"
      ],
      "execution_count": 193,
      "outputs": []
    },
    {
      "cell_type": "code",
      "metadata": {
        "id": "XDyFyRId83kZ"
      },
      "source": [
        "def count(df):\n",
        "    d = {key :(df.iloc[:,0]==key).sum() for key in set(df.iloc[:,0].values)}\n",
        "    result = df.iloc[:,0].apply(lambda x: d[x]).values\n",
        "    return pd.DataFrame(result,columns=df.columns)"
      ],
      "execution_count": 205,
      "outputs": []
    },
    {
      "cell_type": "code",
      "metadata": {
        "id": "f9XdlF9v85GP"
      },
      "source": [
        "def group(df,n):\n",
        "    d = {key :(df.iloc[:,0]==key).sum() for key in set(df.iloc[:,0].values)}\n",
        "    d_items = sorted(d.items(), key=lambda x: -x[1])\n",
        "    key = [d_items[i][0] for i in range(len(d_items))]\n",
        "    val = [d_items[i][0] for i in range(n)]\n",
        "    val = val + [val[-1]]*(len(d_items)-n)\n",
        "    d = dict(zip(key,val))\n",
        "    result = df.iloc[:,0].apply(lambda x: d[x]).values\n",
        "    return pd.DataFrame(result,columns=df.columns)"
      ],
      "execution_count": 207,
      "outputs": []
    },
    {
      "cell_type": "code",
      "metadata": {
        "id": "rdws_W7jCxoA"
      },
      "source": [
        "def select(df,n):\n",
        "    d = {key :(df.iloc[:,0]==key).sum() for key in set(df.iloc[:,0].values)}\n",
        "    d_items = sorted(d.items(), key=lambda x: -x[1])\n",
        "    key = [d_items[i][0] for i in range(len(d_items))]\n",
        "    val = [d_items[i][0] for i in range(n)]\n",
        "    val = val + ['other']*(len(d_items)-n)\n",
        "    d = dict(zip(key,val))\n",
        "    result = df.iloc[:,0].apply(lambda x: d[x]).values\n",
        "    return pd.DataFrame(result,columns=df.columns)"
      ],
      "execution_count": 209,
      "outputs": []
    },
    {
      "cell_type": "code",
      "metadata": {
        "id": "-8WjgBrWD3se"
      },
      "source": [
        "def fillnafreq(df,n):\n",
        "    result = df.iloc[:,0].fillna(df.iloc[:,0].value_counts().index[n-1]).values\n",
        "    return pd.DataFrame(result,columns=df.columns)"
      ],
      "execution_count": 211,
      "outputs": []
    },
    {
      "cell_type": "code",
      "metadata": {
        "id": "QbBiR8TWGx_9"
      },
      "source": [
        "def tostr(df):\n",
        "    result = df.iloc[:,0].apply(lambda x: f'str_{x}').values\n",
        "    return pd.DataFrame(result,columns=df.columns)"
      ],
      "execution_count": 219,
      "outputs": []
    },
    {
      "cell_type": "code",
      "metadata": {
        "id": "OJjh6coqXB3M"
      },
      "source": [
        "def onehotenc(df):\n",
        "    result = pd.get_dummies(df.iloc[:,0],prefix=df.columns[0])\n",
        "    return result"
      ],
      "execution_count": 225,
      "outputs": []
    },
    {
      "cell_type": "markdown",
      "metadata": {
        "id": "IY616xtOiVuQ"
      },
      "source": [
        "## Make Pipeline"
      ]
    },
    {
      "cell_type": "code",
      "metadata": {
        "id": "5w2MvsHuLB9m"
      },
      "source": [
        "func_dict = {\n",
        "    'log':log,\n",
        "    'minmax':minmax,\n",
        "    't':t,\n",
        "    'robust':robust,\n",
        "    'count':count,\n",
        "    'group':group,\n",
        "    'select':select,\n",
        "    'fillnafreq':fillnafreq,\n",
        "    'tostr':tostr,\n",
        "    'onehotenc':onehotenc\n",
        "}"
      ],
      "execution_count": 246,
      "outputs": []
    },
    {
      "cell_type": "code",
      "metadata": {
        "id": "Kg1nPS6zMSHO"
      },
      "source": [
        "def preprocess(col,pipeline):\n",
        "    name = ','.join([col]+['-'.join([str(pp) for pp in p]) for p in pipeline])\n",
        "    result = train_df[[col]]\n",
        "    for pipe in pipeline:\n",
        "        func, *kwargs = pipe\n",
        "        result = func_dict[func](result,*kwargs)\n",
        "    if not os.path.exists(f'{PATH}/preproc/{col}') : os.mkdir(f'{PATH}/preproc/{col}')\n",
        "    result.to_csv(f'{PATH}/preproc/{col}/{name}.csv')\n",
        "    return result"
      ],
      "execution_count": 238,
      "outputs": []
    },
    {
      "cell_type": "code",
      "metadata": {
        "id": "IwCeh62sVDnO"
      },
      "source": [
        "cols = ['gender','car','reality','work_phone','phone','email']\n",
        "for col in cols:\n",
        "    preprocess(col,[])"
      ],
      "execution_count": 262,
      "outputs": []
    },
    {
      "cell_type": "code",
      "metadata": {
        "id": "LMpf5N89bouW"
      },
      "source": [
        "col = 'child_num'\n",
        "pipelines = [\n",
        "                [\n",
        "                    ['log'],\n",
        "                ],\n",
        "                [\n",
        "                    ['minmax'],\n",
        "                ],\n",
        "            ]\n",
        "for pipeline in pipelines:\n",
        "    preprocess(col,pipeline)\n",
        "for i in range(100,74,-5):\n",
        "    preprocess(col,[['robust',0,i]])"
      ],
      "execution_count": 263,
      "outputs": []
    },
    {
      "cell_type": "code",
      "metadata": {
        "id": "VNnLHQIBdC49"
      },
      "source": [
        "col = 'income_total'\n",
        "pipelines = [\n",
        "                [\n",
        "                    ['log'],\n",
        "                ],\n",
        "                [\n",
        "                    ['minmax'],\n",
        "                ],\n",
        "            ]\n",
        "for pipeline in pipelines:\n",
        "    preprocess(col,pipeline)\n",
        "for i in range(5):\n",
        "    for j in range(100,74,-5):\n",
        "        preprocess(col,[['robust',i,j]])\n",
        "for i in [2,3,4,5,7,9,11,13,15,20,25,30]:\n",
        "    preprocess(col,[['t',i]])"
      ],
      "execution_count": 264,
      "outputs": []
    },
    {
      "cell_type": "code",
      "metadata": {
        "id": "7rMROYEQeMyz"
      },
      "source": [
        "col = 'DAYS_BIRTH'\n",
        "pipelines = [\n",
        "                [\n",
        "                    ['log'],\n",
        "                ],\n",
        "                [\n",
        "                    ['minmax'],\n",
        "                ],\n",
        "                [],\n",
        "            ]\n",
        "for pipeline in pipelines:\n",
        "    preprocess(col,pipeline)"
      ],
      "execution_count": 265,
      "outputs": []
    },
    {
      "cell_type": "code",
      "metadata": {
        "id": "Kt95TkLzet8v"
      },
      "source": [
        "col = 'DAYS_EMPLOYED'\n",
        "pipelines = [\n",
        "                [\n",
        "                    ['minmax'],\n",
        "                ],\n",
        "            ]\n",
        "for pipeline in pipelines:\n",
        "    preprocess(col,pipeline)\n",
        "for i in range(5):\n",
        "    for j in range(100,74,-5):\n",
        "        preprocess(col,[['robust',i,j]])\n",
        "for i in [2,3,4,5,7,9,11,13,15,20,25,30]:\n",
        "    preprocess(col,[['t',i]])"
      ],
      "execution_count": 266,
      "outputs": []
    },
    {
      "cell_type": "code",
      "metadata": {
        "id": "eftuUYtlfkKy"
      },
      "source": [
        "col = 'income_type'\n",
        "pipelines = [\n",
        "                [],\n",
        "                [\n",
        "                    ['group',4]\n",
        "                ],\n",
        "                [\n",
        "                    ['group',3]\n",
        "                ],\n",
        "                [\n",
        "                    ['group',2]\n",
        "                ],\n",
        "            ]\n",
        "for pipeline in pipelines:\n",
        "    preprocess(col,pipeline)"
      ],
      "execution_count": 267,
      "outputs": []
    },
    {
      "cell_type": "code",
      "metadata": {
        "id": "3pHgtTPBgGc8"
      },
      "source": [
        "col = 'edu_type'\n",
        "pipelines = [\n",
        "                [],\n",
        "                [\n",
        "                    ['group',4]\n",
        "                ],\n",
        "                [\n",
        "                    ['group',3]\n",
        "                ],\n",
        "                [\n",
        "                    ['group',2]\n",
        "                ],\n",
        "            ]\n",
        "for pipeline in pipelines:\n",
        "    preprocess(col,pipeline)"
      ],
      "execution_count": 268,
      "outputs": []
    },
    {
      "cell_type": "code",
      "metadata": {
        "id": "wXStZ0v9gNAX"
      },
      "source": [
        "col = 'family_type'\n",
        "pipelines = [\n",
        "                [],\n",
        "                [\n",
        "                    ['group',4]\n",
        "                ],\n",
        "                [\n",
        "                    ['group',3]\n",
        "                ],\n",
        "                [\n",
        "                    ['group',2]\n",
        "                ],\n",
        "            ]\n",
        "for pipeline in pipelines:\n",
        "    preprocess(col,pipeline)"
      ],
      "execution_count": 269,
      "outputs": []
    },
    {
      "cell_type": "code",
      "metadata": {
        "id": "oxyZQBMzgQnH"
      },
      "source": [
        "col = 'house_type'\n",
        "pipelines = [\n",
        "                [],\n",
        "                [\n",
        "                    ['group',4]\n",
        "                ],\n",
        "                [\n",
        "                    ['group',3]\n",
        "                ],\n",
        "                [\n",
        "                    ['group',2]\n",
        "                ],\n",
        "            ]\n",
        "for pipeline in pipelines:\n",
        "    preprocess(col,pipeline)"
      ],
      "execution_count": 270,
      "outputs": []
    },
    {
      "cell_type": "code",
      "metadata": {
        "id": "yuIHIo3YgU6D"
      },
      "source": [
        "col = 'family_size'\n",
        "pipelines = [   [\n",
        "                    ['tostr']\n",
        "                ],\n",
        "                [\n",
        "                    ['tostr'],['group',2]\n",
        "                ],\n",
        "                [\n",
        "                    ['tostr'],['group',3]\n",
        "                ],\n",
        "                [\n",
        "                    ['tostr'],['group',4]\n",
        "                ],\n",
        "                [\n",
        "                    ['tostr'],['group',5]\n",
        "                ],\n",
        "                [\n",
        "                    ['tostr'],['group',6]\n",
        "                ],\n",
        "                [\n",
        "                    ['tostr'],['group',7]\n",
        "                ],\n",
        "                [\n",
        "                    ['tostr'],['group',8]\n",
        "                ],\n",
        "                [\n",
        "                    ['tostr'],['group',9]\n",
        "                ],\n",
        "            ]\n",
        "for pipeline in pipelines:\n",
        "    preprocess(col,pipeline)\n",
        "for j in range(100,74,-5):\n",
        "    preprocess(col,[['robust',0,j]])\n",
        "for i in [2,3,4,5,7,9,11,13,15,20,25,30]:\n",
        "    preprocess(col,[['t',i]])"
      ],
      "execution_count": 271,
      "outputs": []
    },
    {
      "cell_type": "markdown",
      "metadata": {
        "id": "M0FmObEpiYuL"
      },
      "source": [
        "## None Type(occpy_type)"
      ]
    },
    {
      "cell_type": "code",
      "metadata": {
        "id": "ddNXrE0oid3U"
      },
      "source": [
        ""
      ],
      "execution_count": null,
      "outputs": []
    },
    {
      "cell_type": "code",
      "metadata": {
        "id": "iCMjI6l8id1C"
      },
      "source": [
        ""
      ],
      "execution_count": null,
      "outputs": []
    },
    {
      "cell_type": "code",
      "metadata": {
        "id": "xTj6u7Mfidyt"
      },
      "source": [
        ""
      ],
      "execution_count": null,
      "outputs": []
    },
    {
      "cell_type": "code",
      "metadata": {
        "id": "XwAMJXyyidwQ"
      },
      "source": [
        ""
      ],
      "execution_count": null,
      "outputs": []
    },
    {
      "cell_type": "markdown",
      "metadata": {
        "id": "w7Cvj9_9ieKv"
      },
      "source": [
        "## Seasonal Data(begin_month)"
      ]
    },
    {
      "cell_type": "code",
      "metadata": {
        "id": "P5KkxynkiI5i"
      },
      "source": [
        ""
      ],
      "execution_count": null,
      "outputs": []
    },
    {
      "cell_type": "code",
      "metadata": {
        "id": "8oGCdRo9ijeU"
      },
      "source": [
        ""
      ],
      "execution_count": null,
      "outputs": []
    },
    {
      "cell_type": "code",
      "metadata": {
        "id": "ecPuILuiijcM"
      },
      "source": [
        ""
      ],
      "execution_count": null,
      "outputs": []
    },
    {
      "cell_type": "code",
      "metadata": {
        "id": "3y1FibGRijaH"
      },
      "source": [
        ""
      ],
      "execution_count": null,
      "outputs": []
    },
    {
      "cell_type": "code",
      "metadata": {
        "id": "LoV8sIVwijX3"
      },
      "source": [
        ""
      ],
      "execution_count": null,
      "outputs": []
    }
  ]
}