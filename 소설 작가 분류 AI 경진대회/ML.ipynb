{
  "nbformat": 4,
  "nbformat_minor": 0,
  "metadata": {
    "colab": {
      "name": "ML.ipynb",
      "provenance": [],
      "machine_shape": "hm",
      "mount_file_id": "1escBmOE3uPg2keHE49kAxu1-fUuatsaT",
      "authorship_tag": "ABX9TyPmSxCGy8ur4Vi0/7bL0CNb",
      "include_colab_link": true
    },
    "kernelspec": {
      "name": "python3",
      "display_name": "Python 3"
    },
    "accelerator": "GPU"
  },
  "cells": [
    {
      "cell_type": "markdown",
      "metadata": {
        "id": "view-in-github",
        "colab_type": "text"
      },
      "source": [
        "<a href=\"https://colab.research.google.com/github/jwengr/dacon/blob/main/%EC%86%8C%EC%84%A4%20%EC%9E%91%EA%B0%80%20%EB%B6%84%EB%A5%98%20AI%20%EA%B2%BD%EC%A7%84%EB%8C%80%ED%9A%8C/ML.ipynb\" target=\"_parent\"><img src=\"https://colab.research.google.com/assets/colab-badge.svg\" alt=\"Open In Colab\"/></a>"
      ]
    },
    {
      "cell_type": "markdown",
      "metadata": {
        "id": "6HrpV-gvxeKA"
      },
      "source": [
        "EDA에서 특수문자의 사용빈도나 프랑스문자의 사용빈도가 결과 예측에\r\n",
        "도움이 된 다는 것을 알 수 있었습니다.\r\n",
        "일반적인 딥러닝에서의 텍스트분석은 주로 특수문자들을 없애거나 최소화하여\r\n",
        "문장의 뜻을 맞춥니다.\r\n",
        "하지만 우리는 주어진 텍스트에서 작가를 분류해야하며\r\n",
        "주어진 텍스트는 서로 비슷합니다.\r\n",
        "즉 텍스트간의 미묘한 차이를 구분하는 모델을 만들어야 하며, 특수문자나 프랑스문자에도 집중해야 할 것 입니다."
      ]
    },
    {
      "cell_type": "code",
      "metadata": {
        "id": "taCgB-3xmzRA"
      },
      "source": [
        "!pip uninstall lightgbm"
      ],
      "execution_count": null,
      "outputs": []
    },
    {
      "cell_type": "code",
      "metadata": {
        "id": "ztsJLKoL9lOE"
      },
      "source": [
        "!git clone --recursive https://github.com/Microsoft/LightGBM"
      ],
      "execution_count": null,
      "outputs": []
    },
    {
      "cell_type": "code",
      "metadata": {
        "id": "LXDuq7OSAdUW"
      },
      "source": [
        "!cd LightGBM && rm -rf build && mkdir build && cd build && cmake -DUSE_GPU=1 ../../LightGBM && make -j4 && cd ../python-package && python3 setup.py install --precompile --gpu;"
      ],
      "execution_count": null,
      "outputs": []
    },
    {
      "cell_type": "code",
      "metadata": {
        "id": "C9Wpfdyu4GNv"
      },
      "source": [
        "!pip install catboost"
      ],
      "execution_count": null,
      "outputs": []
    },
    {
      "cell_type": "code",
      "metadata": {
        "id": "eleGxfBzykhr"
      },
      "source": [
        "import pandas as pd\r\n",
        "import numpy as np\r\n",
        "import re\r\n",
        "import xgboost as xgb\r\n",
        "import catboost as ctb\r\n",
        "import lightgbm as lgb\r\n",
        "from sklearn.model_selection import train_test_split"
      ],
      "execution_count": 5,
      "outputs": []
    },
    {
      "cell_type": "code",
      "metadata": {
        "id": "u30611Qb1LpD"
      },
      "source": [
        "defaultpath = 'drive/My Drive/dacon/sosul/dataset'"
      ],
      "execution_count": 6,
      "outputs": []
    },
    {
      "cell_type": "code",
      "metadata": {
        "id": "MQ9s3j1L23px"
      },
      "source": [
        "train_df = pd.read_csv(defaultpath+'/train.csv',encoding='utf-8')"
      ],
      "execution_count": 7,
      "outputs": []
    },
    {
      "cell_type": "markdown",
      "metadata": {
        "id": "w2A2Y1y_25Op"
      },
      "source": [
        "기본 전처리"
      ]
    },
    {
      "cell_type": "code",
      "metadata": {
        "id": "Jz1m9aJuKsPx"
      },
      "source": [
        "train_df = train_df[train_df['text'].str.contains('\\* \\*')==False]"
      ],
      "execution_count": 8,
      "outputs": []
    },
    {
      "cell_type": "code",
      "metadata": {
        "id": "XL41T-rpKxRB"
      },
      "source": [
        "train_df['sentencelen'] = train_df['text'].apply(lambda x: len(x.split('.')))"
      ],
      "execution_count": 9,
      "outputs": []
    },
    {
      "cell_type": "code",
      "metadata": {
        "id": "BTIzDjzHMly9"
      },
      "source": [
        "train_df['charlen'] = train_df['text'].apply(lambda x: len(x))"
      ],
      "execution_count": 10,
      "outputs": []
    },
    {
      "cell_type": "code",
      "metadata": {
        "id": "sP1imdN-MnOO"
      },
      "source": [
        "train_df['c/s'] = train_df['charlen']/(train_df['sentencelen']+1)  ## 0으로 나뉘는것을 방지"
      ],
      "execution_count": 11,
      "outputs": []
    },
    {
      "cell_type": "code",
      "metadata": {
        "id": "kNUVPBz-Mo7Z"
      },
      "source": [
        "train_df['upperlen'] = train_df['text'].apply(lambda x: len(re.findall('[A-Z]',x)))"
      ],
      "execution_count": 12,
      "outputs": []
    },
    {
      "cell_type": "code",
      "metadata": {
        "id": "VdQbawQcMsq7"
      },
      "source": [
        "train_df['u/s'] = train_df['upperlen']/(train_df['sentencelen']+1)  ## 0으로 나뉘는것을 방지"
      ],
      "execution_count": 13,
      "outputs": []
    },
    {
      "cell_type": "code",
      "metadata": {
        "id": "jOM2WodiMuJj"
      },
      "source": [
        "train_df['u/s'] = train_df['upperlen']/(train_df['charlen']+1)  ## 0으로 나뉘는것을 방지"
      ],
      "execution_count": 14,
      "outputs": []
    },
    {
      "cell_type": "markdown",
      "metadata": {
        "id": "HD0hT7Pi-jrH"
      },
      "source": [
        "char TF-IDF : 특수문자까지 포함하여"
      ]
    },
    {
      "cell_type": "code",
      "metadata": {
        "id": "giPFyFbi-tWG"
      },
      "source": [
        "from sklearn.feature_extraction.text import TfidfVectorizer"
      ],
      "execution_count": 15,
      "outputs": []
    },
    {
      "cell_type": "code",
      "metadata": {
        "id": "caA7spOmAlIv"
      },
      "source": [
        "char_tfidf_train_df = train_df.copy()"
      ],
      "execution_count": 16,
      "outputs": []
    },
    {
      "cell_type": "code",
      "metadata": {
        "id": "EVAV14Ss-0L8"
      },
      "source": [
        "char_tfidfv  = TfidfVectorizer(analyzer='char').fit(char_tfidf_train_df['text'])"
      ],
      "execution_count": 17,
      "outputs": []
    },
    {
      "cell_type": "code",
      "metadata": {
        "id": "7mKgbLxX-1oj"
      },
      "source": [
        "enc = char_tfidfv.transform(char_tfidf_train_df['text']).toarray()"
      ],
      "execution_count": 18,
      "outputs": []
    },
    {
      "cell_type": "code",
      "metadata": {
        "id": "Z6xbJGFp_Leo"
      },
      "source": [
        "char_tfidf_train_df = pd.concat([char_tfidf_train_df.reset_index(),pd.DataFrame(enc)],axis=1).drop(['level_0','index','text','sentencelen','charlen','upperlen'],axis=1)"
      ],
      "execution_count": 19,
      "outputs": []
    },
    {
      "cell_type": "code",
      "metadata": {
        "id": "dwiU6nB9Dofx"
      },
      "source": [
        "x_train, x_test, y_train, y_test = train_test_split(char_tfidf_train_df.drop('author',axis=1), char_tfidf_train_df['author'],\r\n",
        "                                                    test_size=0.2, random_state=2021,\r\n",
        "                                                    stratify=char_tfidf_train_df['author']) "
      ],
      "execution_count": 20,
      "outputs": []
    },
    {
      "cell_type": "code",
      "metadata": {
        "id": "GtFajVkCb-sb"
      },
      "source": [
        "xgb_model = xgb.XGBClassifier(num_class=5,objective='multi:softmax',tree_method='gpu_hist', gpu_id=0,n_estimators=10000)"
      ],
      "execution_count": 21,
      "outputs": []
    },
    {
      "cell_type": "code",
      "metadata": {
        "id": "Y7NcARSocIA_"
      },
      "source": [
        "xgb_model.fit(x_train, y_train, eval_set=[(x_test, y_test)], eval_metric=['merror','mlogloss'],early_stopping_rounds=500,verbose=False)"
      ],
      "execution_count": null,
      "outputs": []
    },
    {
      "cell_type": "code",
      "metadata": {
        "colab": {
          "base_uri": "https://localhost:8080/"
        },
        "id": "-2mJO2NckjAq",
        "outputId": "5f291582-4629-4dd8-b26b-95c9e1bd4d39"
      },
      "source": [
        "xgb_model.best_iteration,xgb_model.score(x_test,y_test)"
      ],
      "execution_count": 32,
      "outputs": [
        {
          "output_type": "execute_result",
          "data": {
            "text/plain": [
              "(1908, 0.5873985593143065)"
            ]
          },
          "metadata": {
            "tags": []
          },
          "execution_count": 32
        }
      ]
    },
    {
      "cell_type": "code",
      "metadata": {
        "id": "_Ry6rza8cnuL"
      },
      "source": [
        "lgb_model = lgb.LGBMClassifier(num_class=5,objective='multiclass',device_type='gpu',n_estimators=10000,early_stopping_round=500)"
      ],
      "execution_count": 24,
      "outputs": []
    },
    {
      "cell_type": "code",
      "metadata": {
        "id": "tnFn8NXClWvy"
      },
      "source": [
        "lgb_model.fit(x_train, y_train, eval_set=[(x_test, y_test)], eval_metric=['multi_error','multi_logloss'],verbose=False)"
      ],
      "execution_count": null,
      "outputs": []
    },
    {
      "cell_type": "code",
      "metadata": {
        "colab": {
          "base_uri": "https://localhost:8080/"
        },
        "id": "d0KFyWsJl-Fq",
        "outputId": "f5e673f8-ef1b-45f0-ae88-faa32db05d0d"
      },
      "source": [
        "lgb_model.score(x_test,y_test)"
      ],
      "execution_count": 39,
      "outputs": [
        {
          "output_type": "execute_result",
          "data": {
            "text/plain": [
              "0.5929607002826662"
            ]
          },
          "metadata": {
            "tags": []
          },
          "execution_count": 39
        }
      ]
    },
    {
      "cell_type": "code",
      "metadata": {
        "id": "m8RnF2IOBlWP"
      },
      "source": [
        "ctb_model = ctb.CatBoostClassifier(n_estimators=10000,early_stopping_rounds=500,task_type=\"GPU\",loss_function='MultiClass')"
      ],
      "execution_count": 29,
      "outputs": []
    },
    {
      "cell_type": "code",
      "metadata": {
        "id": "IyTi6zcMCOa-"
      },
      "source": [
        "ctb_model.fit(x_train,y_train,eval_set=[(x_test,y_test)],verbose=False)"
      ],
      "execution_count": null,
      "outputs": []
    },
    {
      "cell_type": "code",
      "metadata": {
        "colab": {
          "base_uri": "https://localhost:8080/"
        },
        "id": "YuiBXBkVDdIO",
        "outputId": "344766cb-45a5-43fc-d68a-0db2286d9c45"
      },
      "source": [
        "ctb_model.get_best_iteration(),ctb_model.get_best_score()"
      ],
      "execution_count": 40,
      "outputs": [
        {
          "output_type": "execute_result",
          "data": {
            "text/plain": [
              "(3694,\n",
              " {'learn': {'MultiClass': 0.5557529744774095},\n",
              "  'validation': {'MultiClass': 1.0115933738716147}})"
            ]
          },
          "metadata": {
            "tags": []
          },
          "execution_count": 40
        }
      ]
    },
    {
      "cell_type": "code",
      "metadata": {
        "id": "CFs81Ch3D2VD"
      },
      "source": [
        ""
      ],
      "execution_count": null,
      "outputs": []
    }
  ]
}