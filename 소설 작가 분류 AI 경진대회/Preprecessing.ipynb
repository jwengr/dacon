{
  "nbformat": 4,
  "nbformat_minor": 0,
  "metadata": {
    "colab": {
      "name": "Preprecessing.ipynb",
      "provenance": [],
      "mount_file_id": "1escBmOE3uPg2keHE49kAxu1-fUuatsaT",
      "authorship_tag": "ABX9TyNMASStdeEwFY9oyCPM7ZwE",
      "include_colab_link": true
    },
    "kernelspec": {
      "name": "python3",
      "display_name": "Python 3"
    }
  },
  "cells": [
    {
      "cell_type": "markdown",
      "metadata": {
        "id": "view-in-github",
        "colab_type": "text"
      },
      "source": [
        "<a href=\"https://colab.research.google.com/github/jwengr/dacon/blob/main/%EC%86%8C%EC%84%A4%20%EC%9E%91%EA%B0%80%20%EB%B6%84%EB%A5%98%20AI%20%EA%B2%BD%EC%A7%84%EB%8C%80%ED%9A%8C/Preprecessing.ipynb\" target=\"_parent\"><img src=\"https://colab.research.google.com/assets/colab-badge.svg\" alt=\"Open In Colab\"/></a>"
      ]
    },
    {
      "cell_type": "markdown",
      "metadata": {
        "id": "6HrpV-gvxeKA"
      },
      "source": [
        "EDA에서 특수문자의 사용빈도나 프랑스문자의 사용빈도가 결과 예측에\r\n",
        "도움이 된 다는 것을 알 수 있었습니다.\r\n",
        "일반적인 딥러닝에서의 텍스트분석은 주로 특수문자들을 없애거나 최소화하여\r\n",
        "문장의 뜻을 맞춥니다.\r\n",
        "하지만 우리는 주어진 텍스트에서 작가를 분류해야하며\r\n",
        "주어진 텍스트는 서로 비슷합니다.\r\n",
        "즉 텍스트간의 미묘한 차이를 구분하는 모델을 만들어야 하며, 특수문자나 프랑스문자에도 집중해야 할 것 입니다."
      ]
    },
    {
      "cell_type": "markdown",
      "metadata": {
        "id": "NRF5H3ZzyGo_"
      },
      "source": [
        "카운트기반의 단어표현\r\n",
        "TF-IDF"
      ]
    },
    {
      "cell_type": "code",
      "metadata": {
        "id": "eleGxfBzykhr"
      },
      "source": [
        "import pandas as pd\r\n",
        "import numpy as np\r\n",
        "import re"
      ],
      "execution_count": 1,
      "outputs": []
    },
    {
      "cell_type": "code",
      "metadata": {
        "id": "u30611Qb1LpD"
      },
      "source": [
        "defaultpath = 'drive/My Drive/dacon/sosul/dataset'"
      ],
      "execution_count": 2,
      "outputs": []
    },
    {
      "cell_type": "code",
      "metadata": {
        "id": "MQ9s3j1L23px"
      },
      "source": [
        "train_df = pd.read_csv(defaultpath+'/train.csv',encoding='utf-8')"
      ],
      "execution_count": 3,
      "outputs": []
    },
    {
      "cell_type": "code",
      "metadata": {
        "id": "w2A2Y1y_25Op"
      },
      "source": [
        ""
      ],
      "execution_count": null,
      "outputs": []
    }
  ]
}