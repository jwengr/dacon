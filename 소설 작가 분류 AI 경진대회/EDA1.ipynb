{
  "nbformat": 4,
  "nbformat_minor": 0,
  "metadata": {
    "colab": {
      "name": "EDA1.ipynb",
      "provenance": [],
      "collapsed_sections": [],
      "machine_shape": "hm",
      "mount_file_id": "1NGOwPnUh8_uNwtouDgnpb2-1LptHF2qE",
      "authorship_tag": "ABX9TyPEDFlToCsEraXZ+j+8mGre",
      "include_colab_link": true
    },
    "kernelspec": {
      "name": "python3",
      "display_name": "Python 3"
    }
  },
  "cells": [
    {
      "cell_type": "markdown",
      "metadata": {
        "id": "view-in-github",
        "colab_type": "text"
      },
      "source": [
        "<a href=\"https://colab.research.google.com/github/jwengr/dacon/blob/main/%EC%86%8C%EC%84%A4%20%EC%9E%91%EA%B0%80%20%EB%B6%84%EB%A5%98%20AI%20%EA%B2%BD%EC%A7%84%EB%8C%80%ED%9A%8C/EDA1.ipynb\" target=\"_parent\"><img src=\"https://colab.research.google.com/assets/colab-badge.svg\" alt=\"Open In Colab\"/></a>"
      ]
    },
    {
      "cell_type": "code",
      "metadata": {
        "id": "3A_4FcSqy3R5"
      },
      "source": [
        "#!unzip drive/My\\ Drive/dacon/lg/dataset/data.zip -d drive/My\\ Drive/dacon/lg/dataset"
      ],
      "execution_count": null,
      "outputs": []
    },
    {
      "cell_type": "code",
      "metadata": {
        "id": "2nrLxgfazXR6"
      },
      "source": [
        "!pip install pandas_profiling --upgrade"
      ],
      "execution_count": null,
      "outputs": []
    },
    {
      "cell_type": "code",
      "metadata": {
        "id": "oWia4eObzcC1"
      },
      "source": [
        "import pandas as pd\r\n",
        "import numpy as np\r\n",
        "import pandas_profiling as pp\r\n",
        "import matplotlib.pyplot as plt\r\n",
        "import seaborn as sns"
      ],
      "execution_count": null,
      "outputs": []
    },
    {
      "cell_type": "code",
      "metadata": {
        "id": "ldqvMGwbzgdR"
      },
      "source": [
        "#pd.options.mode.chained_assignment = None"
      ],
      "execution_count": null,
      "outputs": []
    },
    {
      "cell_type": "code",
      "metadata": {
        "id": "FJwWjvnZyw7L"
      },
      "source": [
        "defaultpath = 'drive/My Drive/dacon/lg'"
      ],
      "execution_count": null,
      "outputs": []
    },
    {
      "cell_type": "markdown",
      "metadata": {
        "id": "4DYqR9YrMYd7"
      },
      "source": [
        "그냥 csv를 읽을시 데이터 손실이 나기때문에(타입문제) str타입으로 읽어준다."
      ]
    },
    {
      "cell_type": "code",
      "metadata": {
        "id": "obMCaELqzM98"
      },
      "source": [
        "err_df= pd.read_csv(defaultpath+'/dataset/train_err_data.csv',encoding='utf-8',dtype=np.str)\r\n",
        "quality_df= pd.read_csv(defaultpath+'/dataset/train_quality_data.csv',encoding='utf-8',dtype=np.str)\r\n",
        "problem_df= pd.read_csv(defaultpath+'/dataset/train_problem_data.csv',encoding='utf-8',dtype=np.str)\r\n",
        "\r\n",
        "test_err_df= pd.read_csv(defaultpath+'/dataset/test_err_data.csv',encoding='utf-8',dtype=np.str)\r\n",
        "test_quality_df= pd.read_csv(defaultpath+'/dataset/test_quality_data.csv',encoding='utf-8',dtype=np.str)\r\n",
        "sample_submission= pd.read_csv(defaultpath+'/dataset/sample_submission.csv',encoding='utf-8',dtype=np.str)"
      ],
      "execution_count": null,
      "outputs": []
    },
    {
      "cell_type": "markdown",
      "metadata": {
        "id": "MjPXpyQOyvQf"
      },
      "source": [
        "pandas profiling이 메모리문제로 안됨-> 일단 데이터를 직접 확인하자"
      ]
    },
    {
      "cell_type": "code",
      "metadata": {
        "colab": {
          "base_uri": "https://localhost:8080/",
          "height": 195
        },
        "id": "hV5pzoda01pv",
        "outputId": "ca81e269-b0b0-4781-9c79-604619f5d5a2"
      },
      "source": [
        "problem_df.head()"
      ],
      "execution_count": null,
      "outputs": [
        {
          "output_type": "execute_result",
          "data": {
            "text/html": [
              "<div>\n",
              "<style scoped>\n",
              "    .dataframe tbody tr th:only-of-type {\n",
              "        vertical-align: middle;\n",
              "    }\n",
              "\n",
              "    .dataframe tbody tr th {\n",
              "        vertical-align: top;\n",
              "    }\n",
              "\n",
              "    .dataframe thead th {\n",
              "        text-align: right;\n",
              "    }\n",
              "</style>\n",
              "<table border=\"1\" class=\"dataframe\">\n",
              "  <thead>\n",
              "    <tr style=\"text-align: right;\">\n",
              "      <th></th>\n",
              "      <th>user_id</th>\n",
              "      <th>time</th>\n",
              "    </tr>\n",
              "  </thead>\n",
              "  <tbody>\n",
              "    <tr>\n",
              "      <th>0</th>\n",
              "      <td>19224</td>\n",
              "      <td>20201102200000</td>\n",
              "    </tr>\n",
              "    <tr>\n",
              "      <th>1</th>\n",
              "      <td>23664</td>\n",
              "      <td>20201116140000</td>\n",
              "    </tr>\n",
              "    <tr>\n",
              "      <th>2</th>\n",
              "      <td>15166</td>\n",
              "      <td>20201114130000</td>\n",
              "    </tr>\n",
              "    <tr>\n",
              "      <th>3</th>\n",
              "      <td>12590</td>\n",
              "      <td>20201108210000</td>\n",
              "    </tr>\n",
              "    <tr>\n",
              "      <th>4</th>\n",
              "      <td>15932</td>\n",
              "      <td>20201103210000</td>\n",
              "    </tr>\n",
              "  </tbody>\n",
              "</table>\n",
              "</div>"
            ],
            "text/plain": [
              "  user_id            time\n",
              "0   19224  20201102200000\n",
              "1   23664  20201116140000\n",
              "2   15166  20201114130000\n",
              "3   12590  20201108210000\n",
              "4   15932  20201103210000"
            ]
          },
          "metadata": {
            "tags": []
          },
          "execution_count": 141
        }
      ]
    },
    {
      "cell_type": "code",
      "metadata": {
        "colab": {
          "base_uri": "https://localhost:8080/",
          "height": 166
        },
        "id": "KdxYVjfk1Qao",
        "outputId": "3cc3c758-0f53-4434-a294-7880318a0ccf"
      },
      "source": [
        "problem_df.describe()"
      ],
      "execution_count": null,
      "outputs": [
        {
          "output_type": "execute_result",
          "data": {
            "text/html": [
              "<div>\n",
              "<style scoped>\n",
              "    .dataframe tbody tr th:only-of-type {\n",
              "        vertical-align: middle;\n",
              "    }\n",
              "\n",
              "    .dataframe tbody tr th {\n",
              "        vertical-align: top;\n",
              "    }\n",
              "\n",
              "    .dataframe thead th {\n",
              "        text-align: right;\n",
              "    }\n",
              "</style>\n",
              "<table border=\"1\" class=\"dataframe\">\n",
              "  <thead>\n",
              "    <tr style=\"text-align: right;\">\n",
              "      <th></th>\n",
              "      <th>user_id</th>\n",
              "      <th>time</th>\n",
              "    </tr>\n",
              "  </thead>\n",
              "  <tbody>\n",
              "    <tr>\n",
              "      <th>count</th>\n",
              "      <td>5429</td>\n",
              "      <td>5429</td>\n",
              "    </tr>\n",
              "    <tr>\n",
              "      <th>unique</th>\n",
              "      <td>5000</td>\n",
              "      <td>488</td>\n",
              "    </tr>\n",
              "    <tr>\n",
              "      <th>top</th>\n",
              "      <td>24407</td>\n",
              "      <td>20201130120000</td>\n",
              "    </tr>\n",
              "    <tr>\n",
              "      <th>freq</th>\n",
              "      <td>5</td>\n",
              "      <td>42</td>\n",
              "    </tr>\n",
              "  </tbody>\n",
              "</table>\n",
              "</div>"
            ],
            "text/plain": [
              "       user_id            time\n",
              "count     5429            5429\n",
              "unique    5000             488\n",
              "top      24407  20201130120000\n",
              "freq         5              42"
            ]
          },
          "metadata": {
            "tags": []
          },
          "execution_count": 142
        }
      ]
    },
    {
      "cell_type": "code",
      "metadata": {
        "colab": {
          "base_uri": "https://localhost:8080/"
        },
        "id": "d7_gUmobWhCt",
        "outputId": "d905396b-57e0-438e-8e4a-e48953d2f127"
      },
      "source": [
        "problem_df.isna().sum()"
      ],
      "execution_count": null,
      "outputs": [
        {
          "output_type": "execute_result",
          "data": {
            "text/plain": [
              "user_id    0\n",
              "time       0\n",
              "dtype: int64"
            ]
          },
          "metadata": {
            "tags": []
          },
          "execution_count": 143
        }
      ]
    },
    {
      "cell_type": "code",
      "metadata": {
        "colab": {
          "base_uri": "https://localhost:8080/",
          "height": 195
        },
        "id": "VCJ_1Pvb1oSU",
        "outputId": "93f053cf-ef17-4017-8bc4-a22eb1ac5635"
      },
      "source": [
        "sample_submission.head()"
      ],
      "execution_count": null,
      "outputs": [
        {
          "output_type": "execute_result",
          "data": {
            "text/html": [
              "<div>\n",
              "<style scoped>\n",
              "    .dataframe tbody tr th:only-of-type {\n",
              "        vertical-align: middle;\n",
              "    }\n",
              "\n",
              "    .dataframe tbody tr th {\n",
              "        vertical-align: top;\n",
              "    }\n",
              "\n",
              "    .dataframe thead th {\n",
              "        text-align: right;\n",
              "    }\n",
              "</style>\n",
              "<table border=\"1\" class=\"dataframe\">\n",
              "  <thead>\n",
              "    <tr style=\"text-align: right;\">\n",
              "      <th></th>\n",
              "      <th>user_id</th>\n",
              "      <th>problem</th>\n",
              "    </tr>\n",
              "  </thead>\n",
              "  <tbody>\n",
              "    <tr>\n",
              "      <th>0</th>\n",
              "      <td>30000</td>\n",
              "      <td>0</td>\n",
              "    </tr>\n",
              "    <tr>\n",
              "      <th>1</th>\n",
              "      <td>30001</td>\n",
              "      <td>0</td>\n",
              "    </tr>\n",
              "    <tr>\n",
              "      <th>2</th>\n",
              "      <td>30002</td>\n",
              "      <td>0</td>\n",
              "    </tr>\n",
              "    <tr>\n",
              "      <th>3</th>\n",
              "      <td>30003</td>\n",
              "      <td>0</td>\n",
              "    </tr>\n",
              "    <tr>\n",
              "      <th>4</th>\n",
              "      <td>30004</td>\n",
              "      <td>0</td>\n",
              "    </tr>\n",
              "  </tbody>\n",
              "</table>\n",
              "</div>"
            ],
            "text/plain": [
              "  user_id problem\n",
              "0   30000       0\n",
              "1   30001       0\n",
              "2   30002       0\n",
              "3   30003       0\n",
              "4   30004       0"
            ]
          },
          "metadata": {
            "tags": []
          },
          "execution_count": 144
        }
      ]
    },
    {
      "cell_type": "code",
      "metadata": {
        "colab": {
          "base_uri": "https://localhost:8080/",
          "height": 166
        },
        "id": "hwp3Rv151rGa",
        "outputId": "5528ff4a-58b5-41fd-df85-9abfc01a09c5"
      },
      "source": [
        "sample_submission.describe()"
      ],
      "execution_count": null,
      "outputs": [
        {
          "output_type": "execute_result",
          "data": {
            "text/html": [
              "<div>\n",
              "<style scoped>\n",
              "    .dataframe tbody tr th:only-of-type {\n",
              "        vertical-align: middle;\n",
              "    }\n",
              "\n",
              "    .dataframe tbody tr th {\n",
              "        vertical-align: top;\n",
              "    }\n",
              "\n",
              "    .dataframe thead th {\n",
              "        text-align: right;\n",
              "    }\n",
              "</style>\n",
              "<table border=\"1\" class=\"dataframe\">\n",
              "  <thead>\n",
              "    <tr style=\"text-align: right;\">\n",
              "      <th></th>\n",
              "      <th>user_id</th>\n",
              "      <th>problem</th>\n",
              "    </tr>\n",
              "  </thead>\n",
              "  <tbody>\n",
              "    <tr>\n",
              "      <th>count</th>\n",
              "      <td>14999</td>\n",
              "      <td>14999</td>\n",
              "    </tr>\n",
              "    <tr>\n",
              "      <th>unique</th>\n",
              "      <td>14999</td>\n",
              "      <td>1</td>\n",
              "    </tr>\n",
              "    <tr>\n",
              "      <th>top</th>\n",
              "      <td>36567</td>\n",
              "      <td>0</td>\n",
              "    </tr>\n",
              "    <tr>\n",
              "      <th>freq</th>\n",
              "      <td>1</td>\n",
              "      <td>14999</td>\n",
              "    </tr>\n",
              "  </tbody>\n",
              "</table>\n",
              "</div>"
            ],
            "text/plain": [
              "       user_id problem\n",
              "count    14999   14999\n",
              "unique   14999       1\n",
              "top      36567       0\n",
              "freq         1   14999"
            ]
          },
          "metadata": {
            "tags": []
          },
          "execution_count": 145
        }
      ]
    },
    {
      "cell_type": "code",
      "metadata": {
        "colab": {
          "base_uri": "https://localhost:8080/",
          "height": 166
        },
        "id": "QHsMQspRY5PK",
        "outputId": "b15dc381-75a3-47b8-cdbe-c579f447b4dc"
      },
      "source": [
        "err_df.describe()"
      ],
      "execution_count": null,
      "outputs": [
        {
          "output_type": "execute_result",
          "data": {
            "text/html": [
              "<div>\n",
              "<style scoped>\n",
              "    .dataframe tbody tr th:only-of-type {\n",
              "        vertical-align: middle;\n",
              "    }\n",
              "\n",
              "    .dataframe tbody tr th {\n",
              "        vertical-align: top;\n",
              "    }\n",
              "\n",
              "    .dataframe thead th {\n",
              "        text-align: right;\n",
              "    }\n",
              "</style>\n",
              "<table border=\"1\" class=\"dataframe\">\n",
              "  <thead>\n",
              "    <tr style=\"text-align: right;\">\n",
              "      <th></th>\n",
              "      <th>user_id</th>\n",
              "      <th>time</th>\n",
              "      <th>model_nm</th>\n",
              "      <th>fwver</th>\n",
              "      <th>errtype</th>\n",
              "      <th>errcode</th>\n",
              "    </tr>\n",
              "  </thead>\n",
              "  <tbody>\n",
              "    <tr>\n",
              "      <th>count</th>\n",
              "      <td>16554663</td>\n",
              "      <td>16554663</td>\n",
              "      <td>16554663</td>\n",
              "      <td>16554663</td>\n",
              "      <td>16554663</td>\n",
              "      <td>16554662</td>\n",
              "    </tr>\n",
              "    <tr>\n",
              "      <th>unique</th>\n",
              "      <td>15000</td>\n",
              "      <td>2566163</td>\n",
              "      <td>9</td>\n",
              "      <td>37</td>\n",
              "      <td>41</td>\n",
              "      <td>2805</td>\n",
              "    </tr>\n",
              "    <tr>\n",
              "      <th>top</th>\n",
              "      <td>24934</td>\n",
              "      <td>20201108023257</td>\n",
              "      <td>model_1</td>\n",
              "      <td>04.16.3553</td>\n",
              "      <td>23</td>\n",
              "      <td>1</td>\n",
              "    </tr>\n",
              "    <tr>\n",
              "      <th>freq</th>\n",
              "      <td>222186</td>\n",
              "      <td>631</td>\n",
              "      <td>5384491</td>\n",
              "      <td>5237816</td>\n",
              "      <td>2276515</td>\n",
              "      <td>8906967</td>\n",
              "    </tr>\n",
              "  </tbody>\n",
              "</table>\n",
              "</div>"
            ],
            "text/plain": [
              "         user_id            time  model_nm       fwver   errtype   errcode\n",
              "count   16554663        16554663  16554663    16554663  16554663  16554662\n",
              "unique     15000         2566163         9          37        41      2805\n",
              "top        24934  20201108023257   model_1  04.16.3553        23         1\n",
              "freq      222186             631   5384491     5237816   2276515   8906967"
            ]
          },
          "metadata": {
            "tags": []
          },
          "execution_count": 146
        }
      ]
    },
    {
      "cell_type": "code",
      "metadata": {
        "colab": {
          "base_uri": "https://localhost:8080/",
          "height": 195
        },
        "id": "mF2kjkBWUvZS",
        "outputId": "5f5e7dfc-eef8-429f-db38-f387db02555d"
      },
      "source": [
        "err_df.head()"
      ],
      "execution_count": null,
      "outputs": [
        {
          "output_type": "execute_result",
          "data": {
            "text/html": [
              "<div>\n",
              "<style scoped>\n",
              "    .dataframe tbody tr th:only-of-type {\n",
              "        vertical-align: middle;\n",
              "    }\n",
              "\n",
              "    .dataframe tbody tr th {\n",
              "        vertical-align: top;\n",
              "    }\n",
              "\n",
              "    .dataframe thead th {\n",
              "        text-align: right;\n",
              "    }\n",
              "</style>\n",
              "<table border=\"1\" class=\"dataframe\">\n",
              "  <thead>\n",
              "    <tr style=\"text-align: right;\">\n",
              "      <th></th>\n",
              "      <th>user_id</th>\n",
              "      <th>time</th>\n",
              "      <th>model_nm</th>\n",
              "      <th>fwver</th>\n",
              "      <th>errtype</th>\n",
              "      <th>errcode</th>\n",
              "    </tr>\n",
              "  </thead>\n",
              "  <tbody>\n",
              "    <tr>\n",
              "      <th>0</th>\n",
              "      <td>10000</td>\n",
              "      <td>20201101025616</td>\n",
              "      <td>model_3</td>\n",
              "      <td>05.15.2138</td>\n",
              "      <td>15</td>\n",
              "      <td>1</td>\n",
              "    </tr>\n",
              "    <tr>\n",
              "      <th>1</th>\n",
              "      <td>10000</td>\n",
              "      <td>20201101030309</td>\n",
              "      <td>model_3</td>\n",
              "      <td>05.15.2138</td>\n",
              "      <td>12</td>\n",
              "      <td>1</td>\n",
              "    </tr>\n",
              "    <tr>\n",
              "      <th>2</th>\n",
              "      <td>10000</td>\n",
              "      <td>20201101030309</td>\n",
              "      <td>model_3</td>\n",
              "      <td>05.15.2138</td>\n",
              "      <td>11</td>\n",
              "      <td>1</td>\n",
              "    </tr>\n",
              "    <tr>\n",
              "      <th>3</th>\n",
              "      <td>10000</td>\n",
              "      <td>20201101050514</td>\n",
              "      <td>model_3</td>\n",
              "      <td>05.15.2138</td>\n",
              "      <td>16</td>\n",
              "      <td>1</td>\n",
              "    </tr>\n",
              "    <tr>\n",
              "      <th>4</th>\n",
              "      <td>10000</td>\n",
              "      <td>20201101050515</td>\n",
              "      <td>model_3</td>\n",
              "      <td>05.15.2138</td>\n",
              "      <td>4</td>\n",
              "      <td>0</td>\n",
              "    </tr>\n",
              "  </tbody>\n",
              "</table>\n",
              "</div>"
            ],
            "text/plain": [
              "  user_id            time model_nm       fwver errtype errcode\n",
              "0   10000  20201101025616  model_3  05.15.2138      15       1\n",
              "1   10000  20201101030309  model_3  05.15.2138      12       1\n",
              "2   10000  20201101030309  model_3  05.15.2138      11       1\n",
              "3   10000  20201101050514  model_3  05.15.2138      16       1\n",
              "4   10000  20201101050515  model_3  05.15.2138       4       0"
            ]
          },
          "metadata": {
            "tags": []
          },
          "execution_count": 147
        }
      ]
    },
    {
      "cell_type": "code",
      "metadata": {
        "colab": {
          "base_uri": "https://localhost:8080/"
        },
        "id": "ozMaZsiGW5dj",
        "outputId": "5aa22315-fc2a-422a-a62f-c331490314ca"
      },
      "source": [
        "err_df.isna().sum()"
      ],
      "execution_count": null,
      "outputs": [
        {
          "output_type": "execute_result",
          "data": {
            "text/plain": [
              "user_id     0\n",
              "time        0\n",
              "model_nm    0\n",
              "fwver       0\n",
              "errtype     0\n",
              "errcode     1\n",
              "dtype: int64"
            ]
          },
          "metadata": {
            "tags": []
          },
          "execution_count": 148
        }
      ]
    },
    {
      "cell_type": "code",
      "metadata": {
        "colab": {
          "base_uri": "https://localhost:8080/",
          "height": 186
        },
        "id": "rfscbjUQ6jTY",
        "outputId": "1a38aba4-0d9d-46ba-9ea5-dff47a5ac5fb"
      },
      "source": [
        "quality_df.describe()"
      ],
      "execution_count": null,
      "outputs": [
        {
          "output_type": "execute_result",
          "data": {
            "text/html": [
              "<div>\n",
              "<style scoped>\n",
              "    .dataframe tbody tr th:only-of-type {\n",
              "        vertical-align: middle;\n",
              "    }\n",
              "\n",
              "    .dataframe tbody tr th {\n",
              "        vertical-align: top;\n",
              "    }\n",
              "\n",
              "    .dataframe thead th {\n",
              "        text-align: right;\n",
              "    }\n",
              "</style>\n",
              "<table border=\"1\" class=\"dataframe\">\n",
              "  <thead>\n",
              "    <tr style=\"text-align: right;\">\n",
              "      <th></th>\n",
              "      <th>time</th>\n",
              "      <th>user_id</th>\n",
              "      <th>fwver</th>\n",
              "      <th>quality_0</th>\n",
              "      <th>quality_1</th>\n",
              "      <th>quality_2</th>\n",
              "      <th>quality_3</th>\n",
              "      <th>quality_4</th>\n",
              "      <th>quality_5</th>\n",
              "      <th>quality_6</th>\n",
              "      <th>quality_7</th>\n",
              "      <th>quality_8</th>\n",
              "      <th>quality_9</th>\n",
              "      <th>quality_10</th>\n",
              "      <th>quality_11</th>\n",
              "      <th>quality_12</th>\n",
              "    </tr>\n",
              "  </thead>\n",
              "  <tbody>\n",
              "    <tr>\n",
              "      <th>count</th>\n",
              "      <td>828624</td>\n",
              "      <td>828624</td>\n",
              "      <td>788544</td>\n",
              "      <td>684192</td>\n",
              "      <td>828624</td>\n",
              "      <td>788511</td>\n",
              "      <td>828624</td>\n",
              "      <td>828624</td>\n",
              "      <td>828604</td>\n",
              "      <td>828624</td>\n",
              "      <td>828624</td>\n",
              "      <td>828624</td>\n",
              "      <td>828624</td>\n",
              "      <td>828624</td>\n",
              "      <td>828624</td>\n",
              "      <td>828624</td>\n",
              "    </tr>\n",
              "    <tr>\n",
              "      <th>unique</th>\n",
              "      <td>4319</td>\n",
              "      <td>8281</td>\n",
              "      <td>27</td>\n",
              "      <td>753</td>\n",
              "      <td>31</td>\n",
              "      <td>798</td>\n",
              "      <td>1</td>\n",
              "      <td>1</td>\n",
              "      <td>4744</td>\n",
              "      <td>549</td>\n",
              "      <td>884</td>\n",
              "      <td>42</td>\n",
              "      <td>523</td>\n",
              "      <td>4200</td>\n",
              "      <td>12</td>\n",
              "      <td>14</td>\n",
              "    </tr>\n",
              "    <tr>\n",
              "      <th>top</th>\n",
              "      <td>20201110143000</td>\n",
              "      <td>15357</td>\n",
              "      <td>05.15.2138</td>\n",
              "      <td>0.0</td>\n",
              "      <td>0</td>\n",
              "      <td>0.0</td>\n",
              "      <td>0</td>\n",
              "      <td>0</td>\n",
              "      <td>0</td>\n",
              "      <td>0</td>\n",
              "      <td>0</td>\n",
              "      <td>0</td>\n",
              "      <td>0</td>\n",
              "      <td>3</td>\n",
              "      <td>0</td>\n",
              "      <td>0</td>\n",
              "    </tr>\n",
              "    <tr>\n",
              "      <th>freq</th>\n",
              "      <td>948</td>\n",
              "      <td>4224</td>\n",
              "      <td>163236</td>\n",
              "      <td>542790</td>\n",
              "      <td>670270</td>\n",
              "      <td>632469</td>\n",
              "      <td>828624</td>\n",
              "      <td>828624</td>\n",
              "      <td>428096</td>\n",
              "      <td>662217</td>\n",
              "      <td>757788</td>\n",
              "      <td>787812</td>\n",
              "      <td>796284</td>\n",
              "      <td>99828</td>\n",
              "      <td>672229</td>\n",
              "      <td>801156</td>\n",
              "    </tr>\n",
              "  </tbody>\n",
              "</table>\n",
              "</div>"
            ],
            "text/plain": [
              "                  time user_id       fwver  ... quality_10 quality_11 quality_12\n",
              "count           828624  828624      788544  ...     828624     828624     828624\n",
              "unique            4319    8281          27  ...       4200         12         14\n",
              "top     20201110143000   15357  05.15.2138  ...          3          0          0\n",
              "freq               948    4224      163236  ...      99828     672229     801156\n",
              "\n",
              "[4 rows x 16 columns]"
            ]
          },
          "metadata": {
            "tags": []
          },
          "execution_count": 149
        }
      ]
    },
    {
      "cell_type": "code",
      "metadata": {
        "colab": {
          "base_uri": "https://localhost:8080/",
          "height": 215
        },
        "id": "CAvNM-8B6ml9",
        "outputId": "fa648501-3a57-41fc-9120-43cbfbcb9fe2"
      },
      "source": [
        "quality_df.head()"
      ],
      "execution_count": null,
      "outputs": [
        {
          "output_type": "execute_result",
          "data": {
            "text/html": [
              "<div>\n",
              "<style scoped>\n",
              "    .dataframe tbody tr th:only-of-type {\n",
              "        vertical-align: middle;\n",
              "    }\n",
              "\n",
              "    .dataframe tbody tr th {\n",
              "        vertical-align: top;\n",
              "    }\n",
              "\n",
              "    .dataframe thead th {\n",
              "        text-align: right;\n",
              "    }\n",
              "</style>\n",
              "<table border=\"1\" class=\"dataframe\">\n",
              "  <thead>\n",
              "    <tr style=\"text-align: right;\">\n",
              "      <th></th>\n",
              "      <th>time</th>\n",
              "      <th>user_id</th>\n",
              "      <th>fwver</th>\n",
              "      <th>quality_0</th>\n",
              "      <th>quality_1</th>\n",
              "      <th>quality_2</th>\n",
              "      <th>quality_3</th>\n",
              "      <th>quality_4</th>\n",
              "      <th>quality_5</th>\n",
              "      <th>quality_6</th>\n",
              "      <th>quality_7</th>\n",
              "      <th>quality_8</th>\n",
              "      <th>quality_9</th>\n",
              "      <th>quality_10</th>\n",
              "      <th>quality_11</th>\n",
              "      <th>quality_12</th>\n",
              "    </tr>\n",
              "  </thead>\n",
              "  <tbody>\n",
              "    <tr>\n",
              "      <th>0</th>\n",
              "      <td>20201129090000</td>\n",
              "      <td>10000</td>\n",
              "      <td>05.15.2138</td>\n",
              "      <td>0.0</td>\n",
              "      <td>0</td>\n",
              "      <td>0.0</td>\n",
              "      <td>0</td>\n",
              "      <td>0</td>\n",
              "      <td>0</td>\n",
              "      <td>0</td>\n",
              "      <td>0</td>\n",
              "      <td>0</td>\n",
              "      <td>0</td>\n",
              "      <td>4</td>\n",
              "      <td>0</td>\n",
              "      <td>0</td>\n",
              "    </tr>\n",
              "    <tr>\n",
              "      <th>1</th>\n",
              "      <td>20201129090000</td>\n",
              "      <td>10000</td>\n",
              "      <td>05.15.2138</td>\n",
              "      <td>0.0</td>\n",
              "      <td>0</td>\n",
              "      <td>0.0</td>\n",
              "      <td>0</td>\n",
              "      <td>0</td>\n",
              "      <td>0</td>\n",
              "      <td>0</td>\n",
              "      <td>0</td>\n",
              "      <td>0</td>\n",
              "      <td>0</td>\n",
              "      <td>4</td>\n",
              "      <td>0</td>\n",
              "      <td>0</td>\n",
              "    </tr>\n",
              "    <tr>\n",
              "      <th>2</th>\n",
              "      <td>20201129090000</td>\n",
              "      <td>10000</td>\n",
              "      <td>05.15.2138</td>\n",
              "      <td>0.0</td>\n",
              "      <td>0</td>\n",
              "      <td>0.0</td>\n",
              "      <td>0</td>\n",
              "      <td>0</td>\n",
              "      <td>0</td>\n",
              "      <td>0</td>\n",
              "      <td>0</td>\n",
              "      <td>0</td>\n",
              "      <td>0</td>\n",
              "      <td>4</td>\n",
              "      <td>0</td>\n",
              "      <td>0</td>\n",
              "    </tr>\n",
              "    <tr>\n",
              "      <th>3</th>\n",
              "      <td>20201129090000</td>\n",
              "      <td>10000</td>\n",
              "      <td>05.15.2138</td>\n",
              "      <td>0.0</td>\n",
              "      <td>0</td>\n",
              "      <td>0.0</td>\n",
              "      <td>0</td>\n",
              "      <td>0</td>\n",
              "      <td>0</td>\n",
              "      <td>0</td>\n",
              "      <td>0</td>\n",
              "      <td>0</td>\n",
              "      <td>0</td>\n",
              "      <td>4</td>\n",
              "      <td>0</td>\n",
              "      <td>0</td>\n",
              "    </tr>\n",
              "    <tr>\n",
              "      <th>4</th>\n",
              "      <td>20201129090000</td>\n",
              "      <td>10000</td>\n",
              "      <td>05.15.2138</td>\n",
              "      <td>0.0</td>\n",
              "      <td>0</td>\n",
              "      <td>0.0</td>\n",
              "      <td>0</td>\n",
              "      <td>0</td>\n",
              "      <td>0</td>\n",
              "      <td>0</td>\n",
              "      <td>0</td>\n",
              "      <td>0</td>\n",
              "      <td>0</td>\n",
              "      <td>4</td>\n",
              "      <td>0</td>\n",
              "      <td>0</td>\n",
              "    </tr>\n",
              "  </tbody>\n",
              "</table>\n",
              "</div>"
            ],
            "text/plain": [
              "             time user_id       fwver  ... quality_10 quality_11 quality_12\n",
              "0  20201129090000   10000  05.15.2138  ...          4          0          0\n",
              "1  20201129090000   10000  05.15.2138  ...          4          0          0\n",
              "2  20201129090000   10000  05.15.2138  ...          4          0          0\n",
              "3  20201129090000   10000  05.15.2138  ...          4          0          0\n",
              "4  20201129090000   10000  05.15.2138  ...          4          0          0\n",
              "\n",
              "[5 rows x 16 columns]"
            ]
          },
          "metadata": {
            "tags": []
          },
          "execution_count": 150
        }
      ]
    },
    {
      "cell_type": "code",
      "metadata": {
        "colab": {
          "base_uri": "https://localhost:8080/"
        },
        "id": "wF4pwZsbXDdi",
        "outputId": "6086b1a7-3fa6-4dce-ea05-3eeac0d03237"
      },
      "source": [
        "quality_df.isna().sum()"
      ],
      "execution_count": null,
      "outputs": [
        {
          "output_type": "execute_result",
          "data": {
            "text/plain": [
              "time               0\n",
              "user_id            0\n",
              "fwver          40080\n",
              "quality_0     144432\n",
              "quality_1          0\n",
              "quality_2      40113\n",
              "quality_3          0\n",
              "quality_4          0\n",
              "quality_5         20\n",
              "quality_6          0\n",
              "quality_7          0\n",
              "quality_8          0\n",
              "quality_9          0\n",
              "quality_10         0\n",
              "quality_11         0\n",
              "quality_12         0\n",
              "dtype: int64"
            ]
          },
          "metadata": {
            "tags": []
          },
          "execution_count": 151
        }
      ]
    },
    {
      "cell_type": "markdown",
      "metadata": {
        "id": "3hFaP5tGXNI6"
      },
      "source": [
        "quality data의 nan 값이 상당히 많기 때문에 이를 잘 처리해야한다."
      ]
    },
    {
      "cell_type": "markdown",
      "metadata": {
        "id": "kAj0D8TQ1EJY"
      },
      "source": [
        "problem data : 5000명의 유저가 에러를 신고한 시간이다. \r\n",
        "5000명의 유저가 신고했지만 기간은 480에 불과하다.\r\n",
        "즉 같은 시간대에 여러 유저들이 불편함을 느끼고 신고하였다.\r\n",
        "sample submission : 14999 유저의 에러신고여부를 예측해야한다\r\n",
        "err data : 15000명의 유저가 에러를 겪은 시간대와 그 에러종류, 모델, 버전정보가 있다. 한명의 유저가 여러시간대에 여러 에러를 겪는다.\r\n",
        "quality data : 4319의 시간기간에 시스템 퀄리티의 정보와 사용한 유저가 있다."
      ]
    },
    {
      "cell_type": "markdown",
      "metadata": {
        "id": "uOMasKfNQPCC"
      },
      "source": [
        "problem data 분석"
      ]
    },
    {
      "cell_type": "code",
      "metadata": {
        "id": "vdDqrvR8QRRr"
      },
      "source": [
        "problem_df['year'] = problem_df['time'].apply(lambda x: x[:4])\r\n",
        "problem_df['month'] = problem_df['time'].apply(lambda x:  x[4:6])\r\n",
        "problem_df['day'] = problem_df['time'].apply(lambda x: x[6:8])\r\n",
        "problem_df['hour'] = problem_df['time'].apply(lambda x: x[8:10])\r\n",
        "problem_df['mmss'] = problem_df['time'].apply(lambda x: x[10:]) "
      ],
      "execution_count": null,
      "outputs": []
    },
    {
      "cell_type": "code",
      "metadata": {
        "colab": {
          "base_uri": "https://localhost:8080/",
          "height": 166
        },
        "id": "yP8LzXDmROHA",
        "outputId": "fe7f5652-b8a8-4194-91aa-0c2c6a62cc22"
      },
      "source": [
        "problem_df.describe()"
      ],
      "execution_count": null,
      "outputs": [
        {
          "output_type": "execute_result",
          "data": {
            "text/html": [
              "<div>\n",
              "<style scoped>\n",
              "    .dataframe tbody tr th:only-of-type {\n",
              "        vertical-align: middle;\n",
              "    }\n",
              "\n",
              "    .dataframe tbody tr th {\n",
              "        vertical-align: top;\n",
              "    }\n",
              "\n",
              "    .dataframe thead th {\n",
              "        text-align: right;\n",
              "    }\n",
              "</style>\n",
              "<table border=\"1\" class=\"dataframe\">\n",
              "  <thead>\n",
              "    <tr style=\"text-align: right;\">\n",
              "      <th></th>\n",
              "      <th>user_id</th>\n",
              "      <th>time</th>\n",
              "      <th>year</th>\n",
              "      <th>month</th>\n",
              "      <th>day</th>\n",
              "      <th>hour</th>\n",
              "      <th>mmss</th>\n",
              "    </tr>\n",
              "  </thead>\n",
              "  <tbody>\n",
              "    <tr>\n",
              "      <th>count</th>\n",
              "      <td>5429</td>\n",
              "      <td>5429</td>\n",
              "      <td>5429</td>\n",
              "      <td>5429</td>\n",
              "      <td>5429</td>\n",
              "      <td>5429</td>\n",
              "      <td>5429</td>\n",
              "    </tr>\n",
              "    <tr>\n",
              "      <th>unique</th>\n",
              "      <td>5000</td>\n",
              "      <td>488</td>\n",
              "      <td>1</td>\n",
              "      <td>1</td>\n",
              "      <td>30</td>\n",
              "      <td>24</td>\n",
              "      <td>1</td>\n",
              "    </tr>\n",
              "    <tr>\n",
              "      <th>top</th>\n",
              "      <td>24407</td>\n",
              "      <td>20201130120000</td>\n",
              "      <td>2020</td>\n",
              "      <td>11</td>\n",
              "      <td>30</td>\n",
              "      <td>12</td>\n",
              "      <td>0000</td>\n",
              "    </tr>\n",
              "    <tr>\n",
              "      <th>freq</th>\n",
              "      <td>5</td>\n",
              "      <td>42</td>\n",
              "      <td>5429</td>\n",
              "      <td>5429</td>\n",
              "      <td>287</td>\n",
              "      <td>627</td>\n",
              "      <td>5429</td>\n",
              "    </tr>\n",
              "  </tbody>\n",
              "</table>\n",
              "</div>"
            ],
            "text/plain": [
              "       user_id            time  year month   day  hour  mmss\n",
              "count     5429            5429  5429  5429  5429  5429  5429\n",
              "unique    5000             488     1     1    30    24     1\n",
              "top      24407  20201130120000  2020    11    30    12  0000\n",
              "freq         5              42  5429  5429   287   627  5429"
            ]
          },
          "metadata": {
            "tags": []
          },
          "execution_count": 153
        }
      ]
    },
    {
      "cell_type": "markdown",
      "metadata": {
        "id": "VINp0iw1SAvX"
      },
      "source": [
        "problem data는 2020년 11월 한달동안의 에러를 겪은 유저이다.\r\n",
        "즉 11월 30일에 에러를 신고한 유저를 예측해야 한다.\r\n",
        "mmss는 기록되지 않는다.  유저의 id구간은 10001~24998이다"
      ]
    },
    {
      "cell_type": "markdown",
      "metadata": {
        "id": "aSYvz0UeStzO"
      },
      "source": [
        "err data 분석"
      ]
    },
    {
      "cell_type": "code",
      "metadata": {
        "id": "6JU5HEvaS2lB"
      },
      "source": [
        "err_df['year'] = err_df['time'].apply(lambda x: x[:4])\r\n",
        "err_df['month'] = err_df['time'].apply(lambda x:  x[4:6])\r\n",
        "err_df['day'] = err_df['time'].apply(lambda x: x[6:8])\r\n",
        "err_df['hour'] = err_df['time'].apply(lambda x: x[8:10])\r\n",
        "err_df['mmss'] = err_df['time'].apply(lambda x: x[10:]) "
      ],
      "execution_count": null,
      "outputs": []
    },
    {
      "cell_type": "code",
      "metadata": {
        "colab": {
          "base_uri": "https://localhost:8080/",
          "height": 166
        },
        "id": "b4qznsSSTdhV",
        "outputId": "720721a2-6bfb-4208-a205-8a319d667391"
      },
      "source": [
        "err_df.describe()"
      ],
      "execution_count": null,
      "outputs": [
        {
          "output_type": "execute_result",
          "data": {
            "text/html": [
              "<div>\n",
              "<style scoped>\n",
              "    .dataframe tbody tr th:only-of-type {\n",
              "        vertical-align: middle;\n",
              "    }\n",
              "\n",
              "    .dataframe tbody tr th {\n",
              "        vertical-align: top;\n",
              "    }\n",
              "\n",
              "    .dataframe thead th {\n",
              "        text-align: right;\n",
              "    }\n",
              "</style>\n",
              "<table border=\"1\" class=\"dataframe\">\n",
              "  <thead>\n",
              "    <tr style=\"text-align: right;\">\n",
              "      <th></th>\n",
              "      <th>user_id</th>\n",
              "      <th>time</th>\n",
              "      <th>model_nm</th>\n",
              "      <th>fwver</th>\n",
              "      <th>errtype</th>\n",
              "      <th>errcode</th>\n",
              "      <th>year</th>\n",
              "      <th>month</th>\n",
              "      <th>day</th>\n",
              "      <th>hour</th>\n",
              "      <th>mmss</th>\n",
              "    </tr>\n",
              "  </thead>\n",
              "  <tbody>\n",
              "    <tr>\n",
              "      <th>count</th>\n",
              "      <td>16554663</td>\n",
              "      <td>16554663</td>\n",
              "      <td>16554663</td>\n",
              "      <td>16554663</td>\n",
              "      <td>16554663</td>\n",
              "      <td>16554662</td>\n",
              "      <td>16554663</td>\n",
              "      <td>16554663</td>\n",
              "      <td>16554663</td>\n",
              "      <td>16554663</td>\n",
              "      <td>16554663</td>\n",
              "    </tr>\n",
              "    <tr>\n",
              "      <th>unique</th>\n",
              "      <td>15000</td>\n",
              "      <td>2566163</td>\n",
              "      <td>9</td>\n",
              "      <td>37</td>\n",
              "      <td>41</td>\n",
              "      <td>2805</td>\n",
              "      <td>1</td>\n",
              "      <td>3</td>\n",
              "      <td>31</td>\n",
              "      <td>24</td>\n",
              "      <td>3600</td>\n",
              "    </tr>\n",
              "    <tr>\n",
              "      <th>top</th>\n",
              "      <td>24934</td>\n",
              "      <td>20201108023257</td>\n",
              "      <td>model_1</td>\n",
              "      <td>04.16.3553</td>\n",
              "      <td>23</td>\n",
              "      <td>1</td>\n",
              "      <td>2020</td>\n",
              "      <td>11</td>\n",
              "      <td>21</td>\n",
              "      <td>19</td>\n",
              "      <td>0008</td>\n",
              "    </tr>\n",
              "    <tr>\n",
              "      <th>freq</th>\n",
              "      <td>222186</td>\n",
              "      <td>631</td>\n",
              "      <td>5384491</td>\n",
              "      <td>5237816</td>\n",
              "      <td>2276515</td>\n",
              "      <td>8906967</td>\n",
              "      <td>16554663</td>\n",
              "      <td>16554577</td>\n",
              "      <td>649909</td>\n",
              "      <td>899350</td>\n",
              "      <td>5377</td>\n",
              "    </tr>\n",
              "  </tbody>\n",
              "</table>\n",
              "</div>"
            ],
            "text/plain": [
              "         user_id            time  model_nm  ...       day      hour      mmss\n",
              "count   16554663        16554663  16554663  ...  16554663  16554663  16554663\n",
              "unique     15000         2566163         9  ...        31        24      3600\n",
              "top        24934  20201108023257   model_1  ...        21        19      0008\n",
              "freq      222186             631   5384491  ...    649909    899350      5377\n",
              "\n",
              "[4 rows x 11 columns]"
            ]
          },
          "metadata": {
            "tags": []
          },
          "execution_count": 155
        }
      ]
    },
    {
      "cell_type": "markdown",
      "metadata": {
        "id": "Dmnx3YdNT8Hr"
      },
      "source": [
        "err data 도 2020년인건 동일하지만 11월을 포함하여 3달간의 데이터입니다."
      ]
    },
    {
      "cell_type": "code",
      "metadata": {
        "colab": {
          "base_uri": "https://localhost:8080/"
        },
        "id": "pKg0zIpIXvnr",
        "outputId": "e7c15932-401f-4277-bca5-6b25d3a80a2b"
      },
      "source": [
        "err_df['time'].astype(int).describe()"
      ],
      "execution_count": null,
      "outputs": [
        {
          "output_type": "execute_result",
          "data": {
            "text/plain": [
              "count    1.655466e+07\n",
              "mean     2.020112e+13\n",
              "std      8.664375e+06\n",
              "min      2.020103e+13\n",
              "25%      2.020111e+13\n",
              "50%      2.020112e+13\n",
              "75%      2.020112e+13\n",
              "max      2.020120e+13\n",
              "Name: time, dtype: float64"
            ]
          },
          "metadata": {
            "tags": []
          },
          "execution_count": 156
        }
      ]
    },
    {
      "cell_type": "markdown",
      "metadata": {
        "id": "r-D3wKD-VbF0"
      },
      "source": [
        "err data는 10월부터 12월까지의 데이터 입니다.\r\n",
        "11월 30일의 결과를 예측해야 하고 에러신고데이터도 11월 30일밖에 존재하지 않습니다.\r\n",
        "다른 날짜들의 데이터가 도움이 될까요?\r\n",
        "일단 11월30일의 데이터만 살펴보겠습니다."
      ]
    },
    {
      "cell_type": "code",
      "metadata": {
        "colab": {
          "base_uri": "https://localhost:8080/",
          "height": 166
        },
        "id": "XjngH-apSwrc",
        "outputId": "75de9c24-5afb-4aa0-9ab0-894da38c8e8c"
      },
      "source": [
        "err_df[err_df['time'].str.contains('20201130.{6}')].describe()"
      ],
      "execution_count": null,
      "outputs": [
        {
          "output_type": "execute_result",
          "data": {
            "text/html": [
              "<div>\n",
              "<style scoped>\n",
              "    .dataframe tbody tr th:only-of-type {\n",
              "        vertical-align: middle;\n",
              "    }\n",
              "\n",
              "    .dataframe tbody tr th {\n",
              "        vertical-align: top;\n",
              "    }\n",
              "\n",
              "    .dataframe thead th {\n",
              "        text-align: right;\n",
              "    }\n",
              "</style>\n",
              "<table border=\"1\" class=\"dataframe\">\n",
              "  <thead>\n",
              "    <tr style=\"text-align: right;\">\n",
              "      <th></th>\n",
              "      <th>user_id</th>\n",
              "      <th>time</th>\n",
              "      <th>model_nm</th>\n",
              "      <th>fwver</th>\n",
              "      <th>errtype</th>\n",
              "      <th>errcode</th>\n",
              "      <th>year</th>\n",
              "      <th>month</th>\n",
              "      <th>day</th>\n",
              "      <th>hour</th>\n",
              "      <th>mmss</th>\n",
              "    </tr>\n",
              "  </thead>\n",
              "  <tbody>\n",
              "    <tr>\n",
              "      <th>count</th>\n",
              "      <td>512635</td>\n",
              "      <td>512635</td>\n",
              "      <td>512635</td>\n",
              "      <td>512635</td>\n",
              "      <td>512635</td>\n",
              "      <td>512635</td>\n",
              "      <td>512635</td>\n",
              "      <td>512635</td>\n",
              "      <td>512635</td>\n",
              "      <td>512635</td>\n",
              "      <td>512635</td>\n",
              "    </tr>\n",
              "    <tr>\n",
              "      <th>unique</th>\n",
              "      <td>13884</td>\n",
              "      <td>85404</td>\n",
              "      <td>9</td>\n",
              "      <td>20</td>\n",
              "      <td>41</td>\n",
              "      <td>196</td>\n",
              "      <td>1</td>\n",
              "      <td>1</td>\n",
              "      <td>1</td>\n",
              "      <td>24</td>\n",
              "      <td>3600</td>\n",
              "    </tr>\n",
              "    <tr>\n",
              "      <th>top</th>\n",
              "      <td>16089</td>\n",
              "      <td>20201130093608</td>\n",
              "      <td>model_1</td>\n",
              "      <td>04.16.3553</td>\n",
              "      <td>31</td>\n",
              "      <td>1</td>\n",
              "      <td>2020</td>\n",
              "      <td>11</td>\n",
              "      <td>30</td>\n",
              "      <td>20</td>\n",
              "      <td>2501</td>\n",
              "    </tr>\n",
              "    <tr>\n",
              "      <th>freq</th>\n",
              "      <td>8393</td>\n",
              "      <td>45</td>\n",
              "      <td>143445</td>\n",
              "      <td>143289</td>\n",
              "      <td>68093</td>\n",
              "      <td>285740</td>\n",
              "      <td>512635</td>\n",
              "      <td>512635</td>\n",
              "      <td>512635</td>\n",
              "      <td>27856</td>\n",
              "      <td>219</td>\n",
              "    </tr>\n",
              "  </tbody>\n",
              "</table>\n",
              "</div>"
            ],
            "text/plain": [
              "       user_id            time model_nm  ...     day    hour    mmss\n",
              "count   512635          512635   512635  ...  512635  512635  512635\n",
              "unique   13884           85404        9  ...       1      24    3600\n",
              "top      16089  20201130093608  model_1  ...      30      20    2501\n",
              "freq      8393              45   143445  ...  512635   27856     219\n",
              "\n",
              "[4 rows x 11 columns]"
            ]
          },
          "metadata": {
            "tags": []
          },
          "execution_count": 157
        }
      ]
    },
    {
      "cell_type": "markdown",
      "metadata": {
        "id": "nNQym9ttgCsr"
      },
      "source": [
        "err_df에서\r\n",
        "11월 30일의 총 유저는 512535 이고 중복을 제거하면\r\n",
        "13884명의 유저가 에러를 겪었다. 유저의 범위는 10000~24999이다. "
      ]
    },
    {
      "cell_type": "markdown",
      "metadata": {
        "id": "XyVv2CzzhzgA"
      },
      "source": [
        "조사대상은 10000~24999 총 15000명의 유저입니다.\r\n",
        "그 중 11월 30일에 사용한 유저는 13884명입니다.\r\n",
        "11월 30일 에러를 신고한 유저는 5000명입니다. 딱 떨어지는게 이상합니다."
      ]
    },
    {
      "cell_type": "markdown",
      "metadata": {
        "id": "2XysKym9oa_R"
      },
      "source": [
        "각 유저들의 에러 경험 수를 컬럼으로 만들고 완전중복인 행을 제거합니다."
      ]
    },
    {
      "cell_type": "code",
      "metadata": {
        "id": "NTAfFc66uNHT"
      },
      "source": [
        "err_ppdf = err_df[err_df['time'].str.contains('20201130.{6}')].drop_duplicates()"
      ],
      "execution_count": null,
      "outputs": []
    },
    {
      "cell_type": "code",
      "metadata": {
        "id": "HOP5EPknos12"
      },
      "source": [
        "err_ppdf = err_ppdf.drop(['year','month','day','hour','time','mmss','hour'],axis=1)"
      ],
      "execution_count": null,
      "outputs": []
    },
    {
      "cell_type": "code",
      "metadata": {
        "id": "Xa5y_-4Jw4h5"
      },
      "source": [
        "err_ppdf = err_ppdf.groupby(err_ppdf.columns.tolist()).size().reset_index().rename(columns={0:'duplicated'})"
      ],
      "execution_count": null,
      "outputs": []
    },
    {
      "cell_type": "code",
      "metadata": {
        "id": "a42nksBmtrs_"
      },
      "source": [
        "oh = pd.get_dummies"
      ],
      "execution_count": null,
      "outputs": []
    },
    {
      "cell_type": "code",
      "metadata": {
        "id": "AcPkAAgIs676"
      },
      "source": [
        "err_ppdf = pd.concat([err_ppdf['user_id'],\r\n",
        "                      pd.concat([oh(err_ppdf['model_nm']),oh(err_ppdf['fwver']),oh(err_ppdf['errtype']),oh(err_ppdf['errcode'])\r\n",
        "                      ],\r\n",
        "                      axis=1\r\n",
        "                      ).multiply(err_ppdf['duplicated'],axis='index')],axis=1)"
      ],
      "execution_count": null,
      "outputs": []
    },
    {
      "cell_type": "code",
      "metadata": {
        "id": "KRzOryKuv8L0"
      },
      "source": [
        "err_ppdf = err_ppdf.groupby('user_id').sum().reset_index()"
      ],
      "execution_count": null,
      "outputs": []
    },
    {
      "cell_type": "markdown",
      "metadata": {
        "id": "FivVObj3_sTY"
      },
      "source": [
        "quality data 분석"
      ]
    },
    {
      "cell_type": "code",
      "metadata": {
        "id": "zyzAGbGAAFbc"
      },
      "source": [
        "quality_df['year'] = quality_df['time'].apply(lambda x: x[:4])\r\n",
        "quality_df['month'] = quality_df['time'].apply(lambda x:  x[4:6])\r\n",
        "quality_df['day'] = quality_df['time'].apply(lambda x: x[6:8])\r\n",
        "quality_df['hour'] = quality_df['time'].apply(lambda x: x[8:10])\r\n",
        "quality_df['mmss'] = quality_df['time'].apply(lambda x: x[10:]) "
      ],
      "execution_count": null,
      "outputs": []
    },
    {
      "cell_type": "code",
      "metadata": {
        "colab": {
          "base_uri": "https://localhost:8080/",
          "height": 186
        },
        "id": "Pj3B5oo-AVDz",
        "outputId": "408990de-68af-474b-bf79-7eb274f3fef3"
      },
      "source": [
        "quality_df.describe()"
      ],
      "execution_count": null,
      "outputs": [
        {
          "output_type": "execute_result",
          "data": {
            "text/html": [
              "<div>\n",
              "<style scoped>\n",
              "    .dataframe tbody tr th:only-of-type {\n",
              "        vertical-align: middle;\n",
              "    }\n",
              "\n",
              "    .dataframe tbody tr th {\n",
              "        vertical-align: top;\n",
              "    }\n",
              "\n",
              "    .dataframe thead th {\n",
              "        text-align: right;\n",
              "    }\n",
              "</style>\n",
              "<table border=\"1\" class=\"dataframe\">\n",
              "  <thead>\n",
              "    <tr style=\"text-align: right;\">\n",
              "      <th></th>\n",
              "      <th>time</th>\n",
              "      <th>user_id</th>\n",
              "      <th>fwver</th>\n",
              "      <th>quality_0</th>\n",
              "      <th>quality_1</th>\n",
              "      <th>quality_2</th>\n",
              "      <th>quality_3</th>\n",
              "      <th>quality_4</th>\n",
              "      <th>quality_5</th>\n",
              "      <th>quality_6</th>\n",
              "      <th>quality_7</th>\n",
              "      <th>quality_8</th>\n",
              "      <th>quality_9</th>\n",
              "      <th>quality_10</th>\n",
              "      <th>quality_11</th>\n",
              "      <th>quality_12</th>\n",
              "      <th>year</th>\n",
              "      <th>month</th>\n",
              "      <th>day</th>\n",
              "      <th>hour</th>\n",
              "      <th>mmss</th>\n",
              "    </tr>\n",
              "  </thead>\n",
              "  <tbody>\n",
              "    <tr>\n",
              "      <th>count</th>\n",
              "      <td>828624</td>\n",
              "      <td>828624</td>\n",
              "      <td>788544</td>\n",
              "      <td>684192</td>\n",
              "      <td>828624</td>\n",
              "      <td>788511</td>\n",
              "      <td>828624</td>\n",
              "      <td>828624</td>\n",
              "      <td>828604</td>\n",
              "      <td>828624</td>\n",
              "      <td>828624</td>\n",
              "      <td>828624</td>\n",
              "      <td>828624</td>\n",
              "      <td>828624</td>\n",
              "      <td>828624</td>\n",
              "      <td>828624</td>\n",
              "      <td>828624</td>\n",
              "      <td>828624</td>\n",
              "      <td>828624</td>\n",
              "      <td>828624</td>\n",
              "      <td>828624</td>\n",
              "    </tr>\n",
              "    <tr>\n",
              "      <th>unique</th>\n",
              "      <td>4319</td>\n",
              "      <td>8281</td>\n",
              "      <td>27</td>\n",
              "      <td>753</td>\n",
              "      <td>31</td>\n",
              "      <td>798</td>\n",
              "      <td>1</td>\n",
              "      <td>1</td>\n",
              "      <td>4744</td>\n",
              "      <td>549</td>\n",
              "      <td>884</td>\n",
              "      <td>42</td>\n",
              "      <td>523</td>\n",
              "      <td>4200</td>\n",
              "      <td>12</td>\n",
              "      <td>14</td>\n",
              "      <td>1</td>\n",
              "      <td>2</td>\n",
              "      <td>31</td>\n",
              "      <td>24</td>\n",
              "      <td>6</td>\n",
              "    </tr>\n",
              "    <tr>\n",
              "      <th>top</th>\n",
              "      <td>20201110143000</td>\n",
              "      <td>15357</td>\n",
              "      <td>05.15.2138</td>\n",
              "      <td>0.0</td>\n",
              "      <td>0</td>\n",
              "      <td>0.0</td>\n",
              "      <td>0</td>\n",
              "      <td>0</td>\n",
              "      <td>0</td>\n",
              "      <td>0</td>\n",
              "      <td>0</td>\n",
              "      <td>0</td>\n",
              "      <td>0</td>\n",
              "      <td>3</td>\n",
              "      <td>0</td>\n",
              "      <td>0</td>\n",
              "      <td>2020</td>\n",
              "      <td>11</td>\n",
              "      <td>08</td>\n",
              "      <td>22</td>\n",
              "      <td>2000</td>\n",
              "    </tr>\n",
              "    <tr>\n",
              "      <th>freq</th>\n",
              "      <td>948</td>\n",
              "      <td>4224</td>\n",
              "      <td>163236</td>\n",
              "      <td>542790</td>\n",
              "      <td>670270</td>\n",
              "      <td>632469</td>\n",
              "      <td>828624</td>\n",
              "      <td>828624</td>\n",
              "      <td>428096</td>\n",
              "      <td>662217</td>\n",
              "      <td>757788</td>\n",
              "      <td>787812</td>\n",
              "      <td>796284</td>\n",
              "      <td>99828</td>\n",
              "      <td>672229</td>\n",
              "      <td>801156</td>\n",
              "      <td>828624</td>\n",
              "      <td>828408</td>\n",
              "      <td>33996</td>\n",
              "      <td>59352</td>\n",
              "      <td>151224</td>\n",
              "    </tr>\n",
              "  </tbody>\n",
              "</table>\n",
              "</div>"
            ],
            "text/plain": [
              "                  time user_id       fwver  ...     day    hour    mmss\n",
              "count           828624  828624      788544  ...  828624  828624  828624\n",
              "unique            4319    8281          27  ...      31      24       6\n",
              "top     20201110143000   15357  05.15.2138  ...      08      22    2000\n",
              "freq               948    4224      163236  ...   33996   59352  151224\n",
              "\n",
              "[4 rows x 21 columns]"
            ]
          },
          "metadata": {
            "tags": []
          },
          "execution_count": 165
        }
      ]
    },
    {
      "cell_type": "code",
      "metadata": {
        "colab": {
          "base_uri": "https://localhost:8080/"
        },
        "id": "ppNyDg14AfPv",
        "outputId": "fdab2314-8faf-4f9a-e750-b1c256168cf6"
      },
      "source": [
        "quality_df['time'].astype(int).describe().astype(int)"
      ],
      "execution_count": null,
      "outputs": [
        {
          "output_type": "execute_result",
          "data": {
            "text/plain": [
              "count            828624\n",
              "mean     20201115421121\n",
              "std             8863638\n",
              "min      20201031235000\n",
              "25%      20201108102750\n",
              "50%      20201115182500\n",
              "75%      20201123131000\n",
              "max      20201130234000\n",
              "Name: time, dtype: int64"
            ]
          },
          "metadata": {
            "tags": []
          },
          "execution_count": 166
        }
      ]
    },
    {
      "cell_type": "markdown",
      "metadata": {
        "id": "McfReeCzAixi"
      },
      "source": [
        "quality data는 2020년 10월 11일부터 2020년 11월 30일 23시까지의 로그를 가지고 있다."
      ]
    },
    {
      "cell_type": "code",
      "metadata": {
        "id": "oNk7hLB0UAOv"
      },
      "source": [
        "quality_ppdf = quality_df[quality_df['time'].str.contains('20201130.{6}')].drop(['time','year','month','day','mmss'],axis=1)"
      ],
      "execution_count": null,
      "outputs": []
    },
    {
      "cell_type": "code",
      "metadata": {
        "colab": {
          "base_uri": "https://localhost:8080/"
        },
        "id": "aHEyOTtaWKJF",
        "outputId": "60b546cb-e2ed-44e8-944d-dede608f8331"
      },
      "source": [
        "quality_ppdf.isna().sum()"
      ],
      "execution_count": null,
      "outputs": [
        {
          "output_type": "execute_result",
          "data": {
            "text/plain": [
              "user_id          0\n",
              "fwver         1308\n",
              "quality_0     4788\n",
              "quality_1        0\n",
              "quality_2     1308\n",
              "quality_3        0\n",
              "quality_4        0\n",
              "quality_5        0\n",
              "quality_6        0\n",
              "quality_7        0\n",
              "quality_8        0\n",
              "quality_9        0\n",
              "quality_10       0\n",
              "quality_11       0\n",
              "quality_12       0\n",
              "hour             0\n",
              "dtype: int64"
            ]
          },
          "metadata": {
            "tags": []
          },
          "execution_count": 168
        }
      ]
    },
    {
      "cell_type": "code",
      "metadata": {
        "colab": {
          "base_uri": "https://localhost:8080/"
        },
        "id": "1DlHwlDhBAtc",
        "outputId": "777ed51f-ab4a-4e54-ad2d-73229aea61cc"
      },
      "source": [
        "for i in range(13):\r\n",
        "    print('quality_'+str(i),set(quality_ppdf[quality_ppdf.notna()].drop(['user_id','fwver'],axis=1).iloc[:,i].values))"
      ],
      "execution_count": null,
      "outputs": [
        {
          "output_type": "stream",
          "text": [
            "quality_0 {nan, '7.0', '11.0', '10.0', '3.0', '9.0', '24.0', '17.0', '1.0', '29.0', '14.0', '5.0', '4.0', '25.0', '19.0', '37.0', '20.0', '12.0', '-1.0', '57.0', '18.0', '0.0', '2.0', '21.0', '64928.0', '6.0', '121.0', '13.0', '8.0', '16.0'}\n",
            "quality_1 {'5', '1', '18', '-1', '2', '0', '7', '3', '9', '21', '6', '4', '13', '8'}\n",
            "quality_2 {nan, '7.0', '11.0', '10.0', '3.0', '9.0', '24.0', '17.0', '1.0', '29.0', '14.0', '5.0', '4.0', '30.0', '23.0', '25.0', '19.0', '37.0', '20.0', '12.0', '-1.0', '57.0', '18.0', '0.0', '2.0', '21.0', '64928.0', '6.0', '22.0', '121.0', '13.0', '8.0', '16.0'}\n",
            "quality_3 {'0'}\n",
            "quality_4 {'0'}\n",
            "quality_5 {'1,858', '1,143', '1,463', '174', '155', '104', '524', '373', '469', '219', '8,895', '8', '434', '124', '462', '441', '1,222', '44', '1,580', '1,341', '4,931', '69', '23', '1,168', '396', '490', '6,945', '1,975', '1,830', '26', '5,483', '5,214', '858', '316', '2,008', '6,317', '372', '129', '161', '529', '60', '261', '3,130', '451', '248', '999', '6', '521', '169', '4,834', '1,052', '1,770', '377', '967', '197', '275', '13,892', '2,862', '767', '221', '508', '84', '90', '2,195', '1,135', '8,035', '65', '3,600', '366', '827', '1,223', '2,542', '2,603', '1,354', '1,327', '536', '994', '152', '74', '429', '877', '569', '17,770', '78', '1,658', '386', '419', '42', '1,276', '464', '220', '180', '1,044', '561', '742', '160', '1,564', '10', '2,984', '188', '32', '55', '114', '61', '555', '73', '3,077', '440', '1,891', '552', '1,646', '120', '894', '82', '201', '91', '3,095', '39', '37', '7,544', '495', '663', '745', '1,771', '1,478', '466', '225', '523', '1,225', '2,212', '2,438', '300', '1,285', '57', '400', '1,319', '139', '184', '497', '1,659', '43', '380', '1,021', '312', '1,865', '549', '10,447', '1,369', '403', '117', '1,468', '1,917', '88', '1,114', '49', '2,566', '1,939', '238', '227', '4,674', '454', '226', '118', '1,860', '122', '5', '1,216', '1,337', '168', '66', '1,197', '686', '335', '128', '108', '1,763', '48', '110', '1,372', '63', '4', '81', '1,240', '1,597', '12', '352', '111', '23,972', '125', '363', '21', '1,966', '252', '14', '101', '98', '262', '100', '2,971', '930', '217', '9,293', '6,272', '2,920', '1,042', '1,950', '18,743', '1,701', '87', '99', '627', '714', '171', '484', '1,434', '193', '67', '41', '481', '1,384', '2,546', '191', '338', '1,045', '876', '4,479', '36', '1,787', '458', '1,910', '1,461', '298', '68', '1,859', '11', '34', '170', '1,466', '92', '94', '29', '15', '148', '2,030', '360', '163', '80', '378', '58', '86', '455', '1,159', '406', '56', '189', '177', '70', '156', '133', '1,654', '210', '50', '38', '460', '511', '568', '733', '18', '496', '3,054', '1,016', '176', '240', '0', '436', '556', '1,878', '267', '2,036', '7,077', '62', '234', '28', '413', '153', '296', '45', '1,716', '428', '182', '83', '59', '113', '2,129', '307', '3', '1,471', '47', '449', '1,338', '97', '1,754', '131', '19', '141', '106', '134', '1,872', '960', '781', '642', '1,256', '546', '354', '103', '1,628', '687', '589', '2,466', '554', '123', '713', '22', '1,366', '1,895', '678', '136', '1,356', '105', '181', '138', '815', '2,490', '1,889', '1,513', '1,270', '71', '573', '245', '1,179', '772', '1,574', '405', '565', '1,494', '194', '514', '530', '31', '102', '1', '1,970', '801', '24', '2,117', '95', '1,421', '518', '294', '984', '198', '1,316', '504', '950', '505', '1,560', '985', '528', '-1', '838', '4,216', '610', '33', '269', '1,902', '3,065', '16', '222', '1,940', '1,480', '259', '4,379', '235', '1,482', '260', '25', '35', '1,752', '473', '7', '1,266', '319', '611', '425', '2,968', '1,431', '8,156', '5,303', '532', '1,617', '1,612', '116', '142', '1,837', '196', '1,909', '1,440', '539', '206', '534', '115', '1,068', '3,110', '1,191', '20', '46', '93', '89', '1,212', '150', '424', '175', '911', '79', '51', '901', '107', '1,241', '582', '64', '584', '223', '1,661', '54', '1,170', '4,053', '164', '1,379', '535', '127', '305', '1,842', '1,328', '241', '266', '258', '1,590', '6,286', '1,404', '147', '32,427', '72', '167', '76', '1,149', '77', '52', '144', '158', '263', '401', '1,528', '1,007', '173', '112', '1,608', '1,511', '246', '650', '543', '1,142', '8,128', '746', '971', '27', '493', '1,567', '109', '2,534', '1,905', '214', '1,607', '470', '11,423', '1,519', '435', '13', '1,418', '172', '96', '1,990', '1,350', '17', '209', '503', '5,965', '119', '53', '1,555', '10,973', '399', '40', '30', '903', '1,048', '157', '1,033', '468', '1,326', '1,853', '1,074', '216', '9', '791', '166', '1,593', '85', '431', '4,522', '779', '75', '683', '2', '452', '1,370', '165', '3,133'}\n",
            "quality_6 {'35', '225', '18', '174', '7', '205', '104', '57', '139', '184', '0', '436', '600', '547', '267', '8', '142', '154', '62', '28', '196', '44', '206', '539', '587', '117', '23', '396', '88', '45', '46', '145', '49', '89', '93', '238', '51', '187', '26', '3', '64', '54', '47', '135', '5', '168', '19', '106', '325', '128', '218', '60', '437', '599', '162', '167', '76', '6', '4', '81', '77', '52', '12', '158', '197', '123', '275', '21', '22', '112', '84', '14', '136', '27', '65', '105', '207', '479', '314', '438', '245', '67', '41', '567', '214', '195', '74', '13', '297', '78', '36', '42', '102', '17', '1', '119', '53', '24', '208', '11', '160', '170', '95', '10', '92', '294', '15', '29', '32', '114', '237', '61', '251', '360', '-1', '140', '572', '80', '58', '216', '120', '33', '291', '9', '477', '82', '91', '185', '56', '16', '308', '39', '133', '37', '2'}\n",
            "quality_7 {'199', '943', '7', '1,615', '205', '747', '104', '57', '5,560', '176', '1,614', '0', '600', '43', '267', '648', '309', '8', '4,395', '142', '154', '44', '153', '117', '23', '444', '20', '46', '49', '93', '150', '51', '26', '3', '64', '465', '226', '47', '5', '66', '19', '106', '162', '48', '167', '6', '875', '4', '81', '77', '52', '12', '123', '5,266', '21', '112', '22', '767', '221', '14', '27', '65', '1,373', '213', '314', '215', '67', '41', '137', '2,298', '3,479', '36', '42', '1', '53', '11', '34', '170', '10', '30', '294', '15', '32', '29', '114', '505', '58', '6,296', '33', '9', '477', '91', '56', '16', '133', '2', '5,270', '326', '50', '38'}\n",
            "quality_8 {'12', '5', '1', '20', '37', '2', '0', '7', '3', '26', '9', '6', '4', '13', '8'}\n",
            "quality_9 {'25', '1', '35', '107', '7', '26', '136', '3', '24', '178', '11', '64,928', '183', '5', '0', '29', '106', '108', '73', '132', '41', '152', '58', '6', '4', '74', '39', '2', '21', '36', '22', '93'}\n",
            "quality_10 {'174', '155', '6,402', '3,655', '104', '2,442', '373', '430', '789', '247', '8', '417', '124', '5,411', '44', '69', '23', '1,006', '16,666', '398', '463', '26', '316', '6,317', '15,827', '529', '60', '3,148', '2,905', '261', '6', '377', '1,198', '197', '221', '1,078', '2,930', '229', '84', '90', '4,849', '332', '65', '631', '271', '239', '74', '429', '877', '78', '3,266', '42', '464', '220', '10,988', '302', '180', '1,044', '23,776', '585', '423', '10', '32', '55', '114', '448', '61', '151', '555', '73', '923', '257', '1,951', '201', '91', '39', '37', '523', '8,531', '57', '10,268', '139', '715', '43', '24,120', '24,022', '3,522', '1,432', '1,454', '117', '10,427', '88', '1,452', '49', '693', '21,135', '454', '1,704', '226', '323', '122', '5', '168', '128', '1,157', '108', '437', '735', '48', '110', '1,372', '4', '81', '764', '392', '12', '541', '352', '111', '179', '125', '21', '12,340', '446', '303', '1,688', '14', '101', '98', '5,481', '262', '100', '4,344', '207', '5,439', '17,785', '1,362', '438', '87', '171', '193', '67', '41', '228', '137', '1,092', '17,531', '6,199', '2,879', '2,546', '409', '432', '338', '36', '402', '9,263', '68', '651', '11', '10,595', '34', '170', '592', '1,161', '1,466', '94', '865', '29', '15', '148', '256', '310', '140', '467', '80', '378', '1,085', '86', '1,028', '455', '56', '30,517', '189', '133', '70', '301', '210', '50', '38', '1,121', '568', '18', '1,834', '694', '2,941', '832', '14,286', '2,664', '240', '0', '293', '591', '154', '62', '1,220', '234', '28', '153', '296', '364', '45', '385', '18,401', '2,241', '8,029', '428', '83', '113', '59', '304', '307', '575', '3', '178', '47', '653', '97', '131', '19', '141', '106', '134', '162', '599', '3,139', '103', '7,845', '1,232', '1,786', '22', '442', '136', '3,200', '754', '412', '149', '2,490', '71', '245', '825', '557', '29,204', '31', '2,731', '102', '1', '801', '24', '1,000', '95', '237', '1,316', '504', '528', '1,188', '610', '33', '291', '553', '299', '16', '222', '1,480', '326', '2,191', '235', '889', '25', '35', '21,853', '473', '7', '319', '765', '8,156', '116', '142', '17,265', '688', '1,287', '796', '389', '539', '206', '277', '5,661', '1,191', '444', '20', '145', '46', '93', '89', '150', '175', '79', '51', '107', '64', '54', '2,394', '7,545', '164', '127', '13,773', '368', '576', '147', '32,427', '15,133', '1,184', '72', '167', '76', '77', '144', '52', '5,169', '158', '5,342', '173', '112', '1,507', '382', '420', '27', '361', '109', '190', '121', '327', '475', '214', '11,423', '195', '21,846', '1,034', '13', '1,418', '96', '297', '581', '2,004', '17', '209', '340', '143', '872', '119', '399', '211', '1,019', '40', '30', '157', '251', '216', '9', '410', '166', '85', '431', '75', '2', '15,662'}\n",
            "quality_11 {'1', '-1', '2', '0', '3'}\n",
            "quality_12 {'1', '2', '0', '3', '4'}\n"
          ],
          "name": "stdout"
        }
      ]
    },
    {
      "cell_type": "markdown",
      "metadata": {
        "id": "7PQAQe9-RdHG"
      },
      "source": [
        "quality data는 ,가 포함된 숫자이므로 숫자형으로 바꿔주어야한다."
      ]
    },
    {
      "cell_type": "code",
      "metadata": {
        "id": "H5gfbzm5RjVx"
      },
      "source": [
        "quality_df[quality_df['time'].str.contains('20201130.{6}')].drop(['fwver','user_id'],axis=1).astype(float).describe()"
      ],
      "execution_count": null,
      "outputs": []
    },
    {
      "cell_type": "code",
      "metadata": {
        "id": "1JeDDxXy_LC-"
      },
      "source": [
        "quality_ppdf = quality_df[quality_df['time'].str.contains('20201130.{6}')].drop_duplicates()"
      ],
      "execution_count": null,
      "outputs": []
    },
    {
      "cell_type": "code",
      "metadata": {
        "id": "n_mhMx4N_xsL"
      },
      "source": [
        ""
      ],
      "execution_count": null,
      "outputs": []
    }
  ]
}